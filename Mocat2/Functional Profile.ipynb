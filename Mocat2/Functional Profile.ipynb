{
 "cells": [
  {
   "cell_type": "markdown",
   "metadata": {},
   "source": [
    "#### Prepare"
   ]
  },
  {
   "cell_type": "code",
   "execution_count": null,
   "metadata": {},
   "outputs": [],
   "source": [
    "# Download and install package\n",
    "cd ~/software/\n",
    "git clone https://github.com/mocat2/mocat2.git\n",
    "cd mocat2/stable/2.1.3\n",
    "perl setup.MOCAT2.pl\n",
    "source ~/.bashrc\n",
    "source ~/.bash_profile"
   ]
  },
  {
   "cell_type": "markdown",
   "metadata": {},
   "source": [
    "#### Enter the project"
   ]
  },
  {
   "cell_type": "code",
   "execution_count": null,
   "metadata": {},
   "outputs": [],
   "source": [
    "cd ~/software/mocat2/stable/2.1.3/article_datasets/make_and_annotate_gene_catalog"
   ]
  },
  {
   "cell_type": "markdown",
   "metadata": {},
   "source": [
    "##### 1) We need have the following files in the working directoy:"
   ]
  },
  {
   "cell_type": "markdown",
   "metadata": {},
   "source": [
    "##### i. a sample file containing names of folders:  2samples"
   ]
  },
  {
   "cell_type": "markdown",
   "metadata": {},
   "source": [
    "##### ii. folders containing samples: MH0002 and MH0009\n",
    "##### The sample files must end with .1.fq or .1.fq.gz for the 1st pair of paired end reads, and .2.fq or .2.fq.gz for the second paired end reads."
   ]
  },
  {
   "cell_type": "markdown",
   "metadata": {},
   "source": [
    "##### iii. a MOCAT.cfg\n",
    "##### We can copy it from example folders and modify the parameters to meet your specific requiement."
   ]
  },
  {
   "cell_type": "markdown",
   "metadata": {},
   "source": [
    "##### 2) We assume these have already been executed."
   ]
  },
  {
   "cell_type": "code",
   "execution_count": null,
   "metadata": {},
   "outputs": [],
   "source": [
    "# Initial sample processing\n",
    "# MOCAT.pl -sf 2samples -rtf\n",
    "\n",
    "# High quality reads\n",
    "# In the tutorial, it is 'MOCAT.pl -sf 2samples -s hg19 -screened_files -identity 90',\n",
    "# but actually, it should be 'MOCAT.pl -sf 2samples -soap hg19 -screened_files -identity 90'.\n",
    "\n",
    "# Assemble\n",
    "# MOCAT.pl -sf 2sample2 -a hg19\n",
    "\n",
    "# Predict genes\n",
    "# MOCAT.pl -sf 2samples -gp assembly"
   ]
  },
  {
   "cell_type": "markdown",
   "metadata": {},
   "source": [
    "#### Run"
   ]
  },
  {
   "cell_type": "markdown",
   "metadata": {},
   "source": [
    "##### Don't run the demo sh directly!!!! Too much bugs!!!"
   ]
  },
  {
   "cell_type": "code",
   "execution_count": null,
   "metadata": {},
   "outputs": [],
   "source": [
    "# MAKE GENE CATALOG \n",
    "MOCAT.pl -sf 2samples -make_gene_catalog -r hg19 -assembly_type assembly -cpu 10 "
   ]
  },
  {
   "cell_type": "code",
   "execution_count": null,
   "metadata": {},
   "outputs": [],
   "source": [
    "# ANNOTATE GENE CATALOG      \n",
    "# In tutorial, it's 'MOCAT.pl -sf 2samples -annotate_gene_catalog_or_file -blasttype blastp -cpu 10',\n",
    "# but actually, it should be\n",
    "MOCAT.pl -sf 2samples -annotate_gene_catalog -blasttype blastp -cpu 10"
   ]
  },
  {
   "cell_type": "code",
   "execution_count": null,
   "metadata": {},
   "outputs": [],
   "source": [
    "# CREATE FUNCITONAL PROFILES BASED ON CATALOG \n",
    "# In tutorial, it's 'MOCAT.pl -sf 2samples -s 2samples.padded -r hg19 -identity 95',\n",
    "# but actually, it should be\n",
    "MOCAT.pl -sf 2samples -soap 2samples.padded -r hg19 -identity 95\n",
    "# In tutorial, it's 'MOCAT.pl -sf 2samples -f 2samples.padded -r hg19 -identity 95',\n",
    "# but actually, it should be\n",
    "MOCAT.pl -sf 2samples -fsoap 2samples.padded -r hg19 -identity 95\n",
    "\n",
    "# !!!! This command failes, and I can not solve it. !!!\n",
    "MOCAT.pl -sf 2samples -p 2samples.padded -r hg19 -identity 95 -mode functional "
   ]
  },
  {
   "cell_type": "markdown",
   "metadata": {},
   "source": [
    "#### If the arguments are wrong, check the GetOptions in the MOCAT.pl!"
   ]
  }
 ],
 "metadata": {
  "kernelspec": {
   "display_name": "Python 3",
   "language": "python",
   "name": "python3"
  },
  "language_info": {
   "codemirror_mode": {
    "name": "ipython",
    "version": 3
   },
   "file_extension": ".py",
   "mimetype": "text/x-python",
   "name": "python",
   "nbconvert_exporter": "python",
   "pygments_lexer": "ipython3",
   "version": "3.7.4"
  }
 },
 "nbformat": 4,
 "nbformat_minor": 2
}
