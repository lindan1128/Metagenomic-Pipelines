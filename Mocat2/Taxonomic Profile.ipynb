{
 "cells": [
  {
   "cell_type": "markdown",
   "metadata": {},
   "source": [
    "#### The file format is the same as ‘Functional Profile'."
   ]
  },
  {
   "cell_type": "markdown",
   "metadata": {},
   "source": [
    "#### Enter the project"
   ]
  },
  {
   "cell_type": "code",
   "execution_count": null,
   "metadata": {},
   "outputs": [],
   "source": [
    "cd ~/software/mocat2/stable/2.1.3/article_datasets/simulated_metagenome_100strains"
   ]
  },
  {
   "cell_type": "markdown",
   "metadata": {},
   "source": [
    "#### Run"
   ]
  },
  {
   "cell_type": "code",
   "execution_count": null,
   "metadata": {},
   "outputs": [],
   "source": [
    "# Initial sample processing \n",
    "MOCAT.pl -sf sample -rtf"
   ]
  },
  {
   "cell_type": "code",
   "execution_count": null,
   "metadata": {},
   "outputs": [],
   "source": [
    "# Generate mOTU profiles\n",
    "# In tutorial, it's 'MOCAT.pl -sf sample -s mOTU.v1.padded -r reads.processed -identity 97 -extracted_files',\n",
    "# but actually, it should be\n",
    "MOCAT.pl -sf sample -soap mOTU.v1.padded -r reads.processed -identity 97 -extracted_files\n",
    "# In tutorial, it's 'MOCAT.pl -sf sample -f mOTU.v1.padded -r reads.processed -identity 97',\n",
    "# but actually, it should be\n",
    "MOCAT.pl -sf sample -fsoap mOTU.v1.padded -r reads.processed -identity 97\n",
    "\n",
    "# !!!! This command failes, and I can not solve it. !!!\n",
    "MOCAT.pl -sf sample -p mOTU.v1.padded -r reads.processed -identity 97 -mode mOTU -o RESULT"
   ]
  },
  {
   "cell_type": "code",
   "execution_count": null,
   "metadata": {},
   "outputs": [],
   "source": [
    "# Generate taxonomic profiles \n",
    "# In tutorial, it's 'MOCAT.pl -sf sample -s RefMG.v1.padded -r mOTU.v1.padded -e -identity 97',\n",
    "# but actually, it should be\n",
    "MOCAT.pl -sf sample -soap RefMG.v1.padded -r mOTU.v1.padded -e -identity 97\n",
    "# In tutorial, it's 'MOCAT.pl -sf sample -f RefMG.v1.padded -r mOTU.v1.padded -e -identity 97',\n",
    "# but actually, it should be\n",
    "MOCAT.pl -sf sample -fsoap RefMG.v1.padded -r mOTU.v1.padded -e -identity 97\n",
    "\n",
    "# !!!! This command failes, and I can not solve it. !!!\n",
    "MOCAT.pl -sf sample -p RefMG.v1.padded -r mOTU.v1.padded -e -identity 97 -mode RefMG -previous_db_calc_tax_stats_file -o RESULT"
   ]
  }
 ],
 "metadata": {
  "kernelspec": {
   "display_name": "Python 3",
   "language": "python",
   "name": "python3"
  },
  "language_info": {
   "codemirror_mode": {
    "name": "ipython",
    "version": 3
   },
   "file_extension": ".py",
   "mimetype": "text/x-python",
   "name": "python",
   "nbconvert_exporter": "python",
   "pygments_lexer": "ipython3",
   "version": "3.7.4"
  }
 },
 "nbformat": 4,
 "nbformat_minor": 2
}
