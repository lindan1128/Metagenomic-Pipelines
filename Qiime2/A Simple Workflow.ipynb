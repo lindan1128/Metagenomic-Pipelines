{
 "cells": [
  {
   "cell_type": "markdown",
   "metadata": {},
   "source": [
    "### This workflow comes from the 'Moving Pictures' tutorial."
   ]
  },
  {
   "cell_type": "markdown",
   "metadata": {},
   "source": [
    "#### Prepare"
   ]
  },
  {
   "cell_type": "code",
   "execution_count": null,
   "metadata": {},
   "outputs": [],
   "source": [
    "# Create qiime2 virtual env\n",
    "wget https://data.qiime2.org/distro/core/qiime2-2020.2-py36-linux-conda.yml\n",
    "conda env create -n qiime2-2020.2 --file qiime2-2020.2-py36-linux-conda.yml\n",
    "rm qiime2-2020.2-py36-linux-conda.yml"
   ]
  },
  {
   "cell_type": "code",
   "execution_count": null,
   "metadata": {},
   "outputs": [],
   "source": [
    "# Activate qiime2 virtual env\n",
    "source activate qiime2-2020.2"
   ]
  },
  {
   "cell_type": "code",
   "execution_count": null,
   "metadata": {},
   "outputs": [],
   "source": [
    "# Create working directory\n",
    "mkdir qiime2-moving-pictures-tutorial\n",
    "cd qiime2-moving-pictures-tutorial"
   ]
  },
  {
   "cell_type": "code",
   "execution_count": null,
   "metadata": {},
   "outputs": [],
   "source": [
    "# Download metadata \n",
    "wget -O \"sample-metadata.tsv\" \"https://data.qiime2.org/2019.7/tutorials/moving-pictures/sample_metadata.tsv\""
   ]
  },
  {
   "cell_type": "code",
   "execution_count": null,
   "metadata": {},
   "outputs": [],
   "source": [
    "# Download seq data\n",
    "mkdir -p emp-single-end-sequences\n",
    "wget -O \"emp-single-end-sequences/barcodes.fastq.gz\" \"https://data.qiime2.org/2019.7/tutorials/moving-pictures/emp-single-end-sequences/barcodes.fastq.gz\"\n",
    "wget -O \"emp-single-end-sequences/sequences.fastq.gz\" \"https://data.qiime2.org/2019.7/tutorials/moving-pictures/emp-single-end-sequences/sequences.fastq.gz\""
   ]
  },
  {
   "cell_type": "code",
   "execution_count": null,
   "metadata": {},
   "outputs": [],
   "source": [
    "# Generate qiime2 required artifact\n",
    "# The semantic type of this QIIME 2 artifact is EMPSingleEndSequences.\n",
    "# EMPSingleEndSequences QIIME 2 artifacts contain sequences that are multiplexed, meaning that the sequences have not yet been assigned to samples (hence the inclusion of both sequences.fastq.gz and barcodes.fastq.gz files, where the barcodes.fastq.gz contains the barcode read associated with each sequence in sequences.fastq.gz.) \n",
    "qiime tools import \\\n",
    "  --type EMPSingleEndSequences \\\n",
    "  --input-path emp-single-end-sequences \\\n",
    "  --output-path emp-single-end-sequences.qza"
   ]
  },
  {
   "cell_type": "markdown",
   "metadata": {},
   "source": [
    "#### Demultiplexing sequences"
   ]
  },
  {
   "cell_type": "markdown",
   "metadata": {},
   "source": [
    "#### Essentially, this step is 'QC'."
   ]
  },
  {
   "cell_type": "code",
   "execution_count": null,
   "metadata": {},
   "outputs": [],
   "source": [
    "# To know which barcode sequence is associated with each sample\n",
    "# This information is contained in the sample metadata file.\n",
    "qiime demux emp-single \\\n",
    "  --i-seqs emp-single-end-sequences.qza \\\n",
    "  --m-barcodes-file sample-metadata.tsv \\\n",
    "  --m-barcodes-column barcode-sequence \\\n",
    "  --o-per-sample-sequences demux.qza \\\n",
    "  --o-error-correction-details demux-details.qza\n",
    "# The demux.qza QIIME 2 artifact will contain the demultiplexed sequences. \n",
    "# The second output (demux-details.qza) presents Golay error correction details."
   ]
  },
  {
   "cell_type": "code",
   "execution_count": null,
   "metadata": {},
   "outputs": [],
   "source": [
    "# To generate a summary of the demultiplexing results.\n",
    "# To determine how many sequences were obtained per sample.\n",
    "# To get a summary of the distribution of sequence qualities at each position in your sequence data.\n",
    "qiime demux summarize \\\n",
    "  --i-data demux.qza \\\n",
    "  --o-visualization demux.qzv"
   ]
  },
  {
   "cell_type": "markdown",
   "metadata": {},
   "source": [
    "#### Sequence quality control and feature table construction"
   ]
  },
  {
   "cell_type": "markdown",
   "metadata": {},
   "source": [
    "##### QIIME 2 plugins are available for several quality control methods, including DADA2 and Deblur."
   ]
  },
  {
   "cell_type": "markdown",
   "metadata": {},
   "source": [
    "##### The result of both of these methods will be a FeatureTable[Frequency] QIIME 2 artifact, which contains counts (frequencies) of each unique sequence in each sample in the dataset, and a FeatureData[Sequence] QIIME 2 artifact, which maps feature identifiers in the FeatureTable to the sequences they represent.."
   ]
  },
  {
   "cell_type": "markdown",
   "metadata": {},
   "source": [
    "##### First, we try DADA2.\n",
    "##### DADA2 is a pipeline for detecting and correcting (where possible) Illumina amplicon sequence data. "
   ]
  },
  {
   "cell_type": "code",
   "execution_count": null,
   "metadata": {},
   "outputs": [],
   "source": [
    "qiime dada2 denoise-single \\\n",
    "  --i-demultiplexed-seqs demux.qza \\\n",
    "  --p-trim-left 0 \\\n",
    "  --p-trunc-len 120 \\\n",
    "  --o-representative-sequences rep-seqs-dada2.qza \\\n",
    "  --o-table table-dada2.qza \\\n",
    "  --o-denoising-stats stats-dada2.qza\n",
    "\n",
    "# For qiime2-view\n",
    "qiime metadata tabulate \\\n",
    "  --m-input-file stats-dada2.qza \\\n",
    "  --o-visualization stats-dada2.qzv\n",
    "\n",
    "# If you’d like to continue the tutorial using this FeatureTable (opposed to the Deblur feature table), run the following commands.\n",
    "mv rep-seqs-dada2.qza rep-seqs.qza\n",
    "mv table-dada2.qza table.qza"
   ]
  },
  {
   "cell_type": "markdown",
   "metadata": {},
   "source": [
    "##### Then, we try Deblur.\n",
    "##### Deblur uses sequence error profiles to associate erroneous sequence reads with the true biological sequence from which they are derived, resulting in high quality sequence variant data."
   ]
  },
  {
   "cell_type": "code",
   "execution_count": null,
   "metadata": {},
   "outputs": [],
   "source": [
    "qiime quality-filter q-score \\\n",
    " --i-demux demux.qza \\\n",
    " --o-filtered-sequences demux-filtered.qza \\\n",
    " --o-filter-stats demux-filter-stats.qza\n",
    "\n",
    "qiime deblur denoise-16S \\\n",
    "  --i-demultiplexed-seqs demux-filtered.qza \\\n",
    "  --p-trim-length 120 \\\n",
    "  --o-representative-sequences rep-seqs-deblur.qza \\\n",
    "  --o-table table-deblur.qza \\\n",
    "  --p-sample-stats \\\n",
    "  --o-stats deblur-stats.qza\n",
    "\n",
    "# For qiime2-view\n",
    "qiime metadata tabulate \\\n",
    "  --m-input-file demux-filter-stats.qza \\\n",
    "  --o-visualization demux-filter-stats.qzv\n",
    "\n",
    "qiime deblur visualize-stats \\\n",
    "  --i-deblur-stats deblur-stats.qza \\\n",
    "  --o-visualization deblur-stats.qzv\n",
    "\n",
    "# If you’d like to continue the tutorial using this FeatureTable (opposed to the DADA2 feature table), run the following commands.\n",
    "mv rep-seqs-deblur.qza rep-seqs.qza\n",
    "mv table-deblur.qza table.qza"
   ]
  },
  {
   "cell_type": "markdown",
   "metadata": {},
   "source": [
    "#### FeatureTable and FeatureData summaries"
   ]
  },
  {
   "cell_type": "markdown",
   "metadata": {},
   "source": [
    "#### Essentitally, this step is 'summary'."
   ]
  },
  {
   "cell_type": "code",
   "execution_count": null,
   "metadata": {},
   "outputs": [],
   "source": [
    "# To give you information on how many sequences are associated with each sample and with each feature, histograms of those distributions, and some related summary statistics.\n",
    "qiime feature-table summarize \\\n",
    "  --i-table table.qza \\\n",
    "  --o-visualization table.qzv \\\n",
    "  --m-sample-metadata-file sample-metadata.tsv\n",
    "\n",
    "# To give you information on how many sequences are associated with each sample and with each feature, histograms of those distributions, and some related summary statistics.\n",
    "qiime feature-table tabulate-seqs \\\n",
    "  --i-data rep-seqs.qza \\\n",
    "  --o-visualization rep-seqs.qzv"
   ]
  },
  {
   "cell_type": "markdown",
   "metadata": {},
   "source": [
    "#### Generate a tree for phylogenetic diversity analyses"
   ]
  },
  {
   "cell_type": "code",
   "execution_count": null,
   "metadata": {},
   "outputs": [],
   "source": [
    "qiime phylogeny align-to-tree-mafft-fasttree \\\n",
    "  --i-sequences rep-seqs.qza \\\n",
    "  --o-alignment aligned-rep-seqs.qza \\\n",
    "  --o-masked-alignment masked-aligned-rep-seqs.qza \\\n",
    "  --o-tree unrooted-tree.qza \\\n",
    "  --o-rooted-tree rooted-tree.qza"
   ]
  },
  {
   "cell_type": "markdown",
   "metadata": {},
   "source": [
    "#### Alpha and beta diversity analysis"
   ]
  },
  {
   "cell_type": "code",
   "execution_count": null,
   "metadata": {},
   "outputs": [],
   "source": [
    "# To rarefy a FeatureTable[Frequency] to a user-specified depth, computes several alpha and beta diversity metrics, and generates principle coordinates analysis (PCoA) plots using Emperor for each of the beta diversity metrics.\n",
    "# The metrics computed by default are:\n",
    "# Alpha diversity:\n",
    "# Shannon’s diversity index (a quantitative measure of community richness)\n",
    "# Observed OTUs (a qualitative measure of community richness)\n",
    "# Faith’s Phylogenetic Diversity (a qualitiative measure of community richness that  incorporates phylogenetic relationships between the features)\n",
    "# Evenness (or Pielou’s Evenness; a measure of community evenness)\n",
    "# Beta diversity\n",
    "# Jaccard distance (a qualitative measure of community dissimilarity)\n",
    "# Bray-Curtis distance (a quantitative measure of community dissimilarity)\n",
    "# unweighted UniFrac distance (a qualitative measure of community dissimilarity that incorporates phylogenetic relationships between the features)\n",
    "# weighted UniFrac distance (a quantitative measure of community dissimilarity that incorporates phylogenetic relationships between the features)\n",
    "\n",
    "qiime diversity core-metrics-phylogenetic \\\n",
    "  --i-phylogeny rooted-tree.qza \\\n",
    "  --i-table table.qza \\\n",
    "  --p-sampling-depth 1103 \\\n",
    "  --m-metadata-file sample-metadata.tsv \\\n",
    "  --output-dir core-metrics-results\n",
    "\n",
    "# Output artifacts:\n",
    "# core-metrics-results/faith_pd_vector.qza\n",
    "# core-metrics-results/unweighted_unifrac_distance_matrix.qza\n",
    "# core-metrics-results/bray_curtis_pcoa_results.qza\n",
    "# core-metrics-results/shannon_vector.qza\n",
    "# core-metrics-results/rarefied_table.qza\n",
    "# core-metrics-results/weighted_unifrac_distance_matrix.qza\n",
    "# core-metrics-results/jaccard_pcoa_results.qza\n",
    "# core-metrics-results/observed_otus_vector.qza\n",
    "# core-metrics-results/weighted_unifrac_pcoa_results.qza\n",
    "# core-metrics-results/jaccard_distance_matrix.qza\n",
    "# core-metrics-results/evenness_vector.qza\n",
    "# core-metrics-results/bray_curtis_distance_matrix.qza\n",
    "# core-metrics-results/unweighted_unifrac_pcoa_results.qza\n",
    "# Output visualizations:\n",
    "# core-metrics-results/unweighted_unifrac_emperor.qzv\n",
    "# core-metrics-results/jaccard_emperor.qzv\n",
    "# core-metrics-results/bray_curtis_emperor.qzv\n",
    "# core-metrics-results/weighted_unifrac_emperor.qzv"
   ]
  },
  {
   "cell_type": "code",
   "execution_count": null,
   "metadata": {},
   "outputs": [],
   "source": [
    "# To perform perform pair-wise comparison for alpha diversity\n",
    "qiime diversity alpha-group-significance \\\n",
    "  --i-alpha-diversity core-metrics-results/faith_pd_vector.qza \\\n",
    "  --m-metadata-file sample-metadata.tsv \\\n",
    "  --o-visualization core-metrics-results/faith-pd-group-significance.qzv\n",
    "\n",
    "qiime diversity alpha-group-significance \\\n",
    "  --i-alpha-diversity core-metrics-results/evenness_vector.qza \\\n",
    "  --m-metadata-file sample-metadata.tsv \\\n",
    "  --o-visualization core-metrics-results/evenness-group-significance.qzv"
   ]
  },
  {
   "cell_type": "code",
   "execution_count": null,
   "metadata": {},
   "outputs": [],
   "source": [
    "# To perform pair-wise comparison for beta diversity\n",
    "qiime diversity beta-group-significance \\\n",
    "  --i-distance-matrix core-metrics-results/unweighted_unifrac_distance_matrix.qza \\\n",
    "  --m-metadata-file sample-metadata.tsv \\\n",
    "  --m-metadata-column body-site \\\n",
    "  --o-visualization core-metrics-results/unweighted-unifrac-body-site-significance.qzv \\\n",
    "  --p-pairwise\n",
    "\n",
    "qiime diversity beta-group-significance \\\n",
    "  --i-distance-matrix core-metrics-results/unweighted_unifrac_distance_matrix.qza \\\n",
    "  --m-metadata-file sample-metadata.tsv \\\n",
    "  --m-metadata-column subject \\\n",
    "  --o-visualization core-metrics-results/unweighted-unifrac-subject-group-significance.qzv \\\n",
    "  --p-pairwise"
   ]
  },
  {
   "cell_type": "code",
   "execution_count": null,
   "metadata": {},
   "outputs": [],
   "source": [
    "# To explore how these samples changed over time.\n",
    "qiime emperor plot \\\n",
    "  --i-pcoa core-metrics-results/unweighted_unifrac_pcoa_results.qza \\\n",
    "  --m-metadata-file sample-metadata.tsv \\\n",
    "  --p-custom-axes days-since-experiment-start \\\n",
    "  --o-visualization core-metrics-results/unweighted-unifrac-emperor-days-since-experiment-start.qzv\n",
    "\n",
    "qiime emperor plot \\\n",
    "  --i-pcoa core-metrics-results/bray_curtis_pcoa_results.qza \\\n",
    "  --m-metadata-file sample-metadata.tsv \\\n",
    "  --p-custom-axes days-since-experiment-start \\\n",
    "  --o-visualization core-metrics-results/bray-curtis-emperor-days-since-experiment-start.qzv"
   ]
  },
  {
   "cell_type": "markdown",
   "metadata": {},
   "source": [
    "#### Alpha rarefaction plotting"
   ]
  },
  {
   "cell_type": "code",
   "execution_count": null,
   "metadata": {},
   "outputs": [],
   "source": [
    "qiime diversity alpha-rarefaction \\\n",
    "  --i-table table.qza \\\n",
    "  --i-phylogeny rooted-tree.qza \\\n",
    "  --p-max-depth 4000 \\\n",
    "  --m-metadata-file sample-metadata.tsv \\\n",
    "  --o-visualization alpha-rarefaction.qzv"
   ]
  },
  {
   "cell_type": "markdown",
   "metadata": {},
   "source": [
    "#### Taxonomic analysis"
   ]
  },
  {
   "cell_type": "code",
   "execution_count": null,
   "metadata": {},
   "outputs": [],
   "source": [
    "# To explore the taxonomic composition of the samples, and again relate that to sample metadata. \n",
    "# The first step in this process is to assign taxonomy to the sequences in our FeatureData[Sequence] QIIME 2 artifact by using a pre-trained Naive Bayes classifier and the q2-feature-classifier plugin\n",
    "# This classifier was trained on the Greengenes 13_8 99% OTUs, where the sequences have been trimmed to only include 250 bases from the region of the 16S that was sequenced in this analysis (the V4 region, bound by the 515F/806R primer pair)..\n",
    "\n",
    "# Download classifier\n",
    "wget \\\n",
    "  -O \"gg-13-8-99-515-806-nb-classifier.qza\" \\\n",
    "  \"https://data.qiime2.org/2020.2/common/gg-13-8-99-515-806-nb-classifier.qza\"\n",
    "\n",
    "qiime feature-classifier classify-sklearn \\\n",
    "  --i-classifier gg-13-8-99-515-806-nb-classifier.qza \\\n",
    "  --i-reads rep-seqs.qza \\\n",
    "  --o-classification taxonomy.qza\n",
    "\n",
    "qiime metadata tabulate \\\n",
    "  --m-input-file taxonomy.qza \\\n",
    "  --o-visualization taxonomy.qzv\n",
    "\n",
    "# For qiime2-view\n",
    "qiime taxa barplot \\\n",
    "  --i-table table.qza \\\n",
    "  --i-taxonomy taxonomy.qza \\\n",
    "  --m-metadata-file sample-metadata.tsv \\\n",
    "  --o-visualization taxa-bar-plots.qzv"
   ]
  },
  {
   "cell_type": "markdown",
   "metadata": {},
   "source": [
    "#### Differential abundance testing with ANCOM"
   ]
  },
  {
   "cell_type": "markdown",
   "metadata": {},
   "source": [
    "##### ANCOM can be applied to identify features that are differentially abundant (i.e. present in different abundances) across sample groups."
   ]
  },
  {
   "cell_type": "code",
   "execution_count": null,
   "metadata": {},
   "outputs": [],
   "source": [
    "# To create a feature table that contains only the gut samples.\n",
    "qiime feature-table filter-samples \\\n",
    "  --i-table table.qza \\\n",
    "  --m-metadata-file sample-metadata.tsv \\\n",
    "  --p-where \"[body-site]='gut'\" \\\n",
    "  --o-filtered-table gut-table.qza\n",
    "\n",
    "# To aviod frequencies of zero in FeatureTable[Composition].\n",
    "qiime composition add-pseudocount \\\n",
    "  --i-table gut-table.qza \\\n",
    "  --o-composition-table comp-gut-table.qza\n",
    "\n",
    "# Run ANCOM on the subject column to determine what features differ in abundance across the gut samples of the two subjects.\n",
    "qiime composition ancom \\\n",
    "  --i-table comp-gut-table.qza \\\n",
    "  --m-metadata-file sample-metadata.tsv \\\n",
    "  --m-metadata-column subject \\\n",
    "  --o-visualization ancom-subject.qzv"
   ]
  },
  {
   "cell_type": "code",
   "execution_count": null,
   "metadata": {},
   "outputs": [],
   "source": [
    "# To performe a differential abundance test at a specific taxonomic level. \n",
    "# To do this, we can collapse the features in our FeatureTable[Frequency] at the taxonomic level of interest, and then re-run the above steps.\n",
    "qiime taxa collapse \\\n",
    "  --i-table gut-table.qza \\\n",
    "  --i-taxonomy taxonomy.qza \\\n",
    "  --p-level 6 \\\n",
    "  --o-collapsed-table gut-table-l6.qza\n",
    "\n",
    "qiime composition add-pseudocount \\\n",
    "  --i-table gut-table-l6.qza \\\n",
    "  --o-composition-table comp-gut-table-l6.qza\n",
    "\n",
    "qiime composition ancom \\\n",
    "  --i-table comp-gut-table-l6.qza \\\n",
    "  --m-metadata-file sample-metadata.tsv \\\n",
    "  --m-metadata-column subject \\\n",
    "  --o-visualization l6-ancom-subject.qzv"
   ]
  }
 ],
 "metadata": {
  "kernelspec": {
   "display_name": "R",
   "language": "R",
   "name": "ir"
  },
  "language_info": {
   "codemirror_mode": "r",
   "file_extension": ".r",
   "mimetype": "text/x-r-source",
   "name": "R",
   "pygments_lexer": "r",
   "version": "3.6.1"
  }
 },
 "nbformat": 4,
 "nbformat_minor": 2
}
