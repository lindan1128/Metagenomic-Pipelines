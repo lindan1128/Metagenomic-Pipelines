{
 "cells": [
  {
   "cell_type": "markdown",
   "metadata": {},
   "source": [
    "### Prepare"
   ]
  },
  {
   "cell_type": "code",
   "execution_count": null,
   "metadata": {},
   "outputs": [],
   "source": [
    "# Create anvio232 virtual env\n",
    "conda create -n anvio232 -c bioconda -c conda-forge gsl anvio=2.3.2\n",
    "# Activate anvio232 virtual env\n",
    "source activate anvio232"
   ]
  },
  {
   "cell_type": "code",
   "execution_count": null,
   "metadata": {},
   "outputs": [],
   "source": [
    "# Create working directory\n",
    "mkdir anvio-work\n",
    "cd anvio-work"
   ]
  },
  {
   "cell_type": "markdown",
   "metadata": {},
   "source": [
    "### Co-assembly"
   ]
  },
  {
   "cell_type": "code",
   "execution_count": null,
   "metadata": {},
   "outputs": [],
   "source": [
    "# prepare reads\n",
    "cp /d5/lin/Bee_microbiome/Fq/HN1.nobee_qc_1.fastq ./\n",
    "cp /d5/lin/Bee_microbiome/Fq/HN1.nobee_qc_2.fastq ./\n",
    "cp /d5/lin/Bee_microbiome/Fq/SX2.nobee_qc_1.fastq ./\n",
    "cp /d5/lin/Bee_microbiome/Fq/SX2.nobee_qc_2.fastq ./"
   ]
  },
  {
   "cell_type": "code",
   "execution_count": null,
   "metadata": {},
   "outputs": [],
   "source": [
    "# Co-assembly (use metahit)\n",
    "/home/lin/software/megahit/bin/megahit -1 AB1.nobee_qc_1.fastq -2 AB1.nobee_qc_2.fastq -o assembly\n",
    "/home/lin/software/megahit/bin/megahit -1 HN1.nobee_qc_1.fastq,SX3.nobee_qc_1.fastq -2 HN1.nobee_qc_2.fastq,SX3.nobee_qc_2.fastq --min-contig-len 100 -o assembly -t 10\n",
    "# --min-contig-len 1000 (usually)"
   ]
  },
  {
   "cell_type": "code",
   "execution_count": null,
   "metadata": {},
   "outputs": [],
   "source": [
    "# Convert format\n",
    "# Simplify contig names and eliminate the short contigs--min-len 2500\n",
    "anvi-script-reformat-fasta assembly/final.contigs.fa -o contigs.fa  --simplify-names --report name_conversions.txt"
   ]
  },
  {
   "cell_type": "markdown",
   "metadata": {},
   "source": [
    "### Map"
   ]
  },
  {
   "cell_type": "code",
   "execution_count": null,
   "metadata": {},
   "outputs": [],
   "source": [
    "# Build an index for our contigs\n",
    "bowtie2-build contigs.fa contigs\n",
    "\n",
    "# Map reads to the co-assembly\n",
    "mkdir map\n",
    "# For HN sample\n",
    "bowtie2 --threads 10 -x contigs -1 HN1.nobee_qc_1.fastq -2 HN1.nobee_qc_2.fastq -S map/sample_HN.sam\n",
    "samtools view -F 4 -bS map/sample_HN.sam > map/sample_HN-raw.bam\n",
    "anvi-init-bam map/sample_HN-raw.bam -o map/sample_HN.bam\n",
    "# For SX sample\n",
    "bowtie2 --threads 10 -x contigs -1 SX3.nobee_qc_1.fastq -2 SX3.nobee_qc_2.fastq -S map/sample_SX.sam\n",
    "samtools view -F 4 -bS map/sample_SX.sam > map/sample_SX-raw.bam\n",
    "anvi-init-bam map/sample_SX-raw.bam -o map/sample_SX.bam"
   ]
  },
  {
   "cell_type": "markdown",
   "metadata": {},
   "source": [
    "#### Until now, we already have our contigs.fa (from co-assembly), and our BAM files (from map).\n",
    "#### Therefore, we can start our Anvi'o journey."
   ]
  },
  {
   "cell_type": "markdown",
   "metadata": {},
   "source": [
    "### Create an anvi’o contigs database"
   ]
  },
  {
   "cell_type": "code",
   "execution_count": null,
   "metadata": {},
   "outputs": [],
   "source": [
    "anvi-gen-contigs-database -f contigs.fa -o contigs.db \n",
    "# When running this command, anvi-gen-contigs-database will,\n",
    "# 1. Compute k-mer frequencies for each contig (the default is 4, but you can change it using --kmer-size parameter if you feel adventurous).\n",
    "# 2. Soft-split contigs longer than 20,000 bp into smaller ones (you can change the split size using the --split-length). When the gene calling step is not skipped, the process of splitting contigs will consider where genes are and avoid cutting genes in the middle. For very very large assemblies this process can take a while, and you can skip it with --skip-mindful-splitting flag.\n",
    "# 3. Identify open reading frames using Prodigal, the bacterial and archaeal gene finding program developed at Oak Ridge National Laboratory and the University of Tennessee. If you don’t want gene calling to be done, you can use the flag --skip-gene-calling to skip it. If you have your own gene calls, you can provide them to be used to identify where genes are in your contigs. All you need to do is to use the parameter --external-gene-calls ."
   ]
  },
  {
   "cell_type": "markdown",
   "metadata": {},
   "source": [
    "### Identify single-copy genes (optional)"
   ]
  },
  {
   "cell_type": "code",
   "execution_count": null,
   "metadata": {},
   "outputs": [],
   "source": [
    "anvi-run-hmms -c contigs.db --num-threads 10\n",
    "# When running this command, anvi-gen-contigs-database will,\n",
    "# Utilize multiple default bacterial single-copy core gene collections and identify hits among your genes to those collections using HMMER"
   ]
  },
  {
   "cell_type": "markdown",
   "metadata": {},
   "source": [
    "### Create an anvi’o profile database stores sample-specific information about contigs"
   ]
  },
  {
   "cell_type": "code",
   "execution_count": null,
   "metadata": {},
   "outputs": [],
   "source": [
    "# Each sample should have a profile database.\n",
    "# For HN sample\n",
    "anvi-profile -i map/sample_HN.bam -c contigs.db --min-contig-length 10000 --output-dir profiledb_HN\n",
    "# For SX sample\n",
    "anvi-profile -i map/sample_SX.bam -c contigs.db --min-contig-length 10000 --output-dir profiledb_SX"
   ]
  },
  {
   "cell_type": "markdown",
   "metadata": {},
   "source": [
    "### Binning"
   ]
  },
  {
   "cell_type": "markdown",
   "metadata": {},
   "source": [
    "#### As of version 6+, anvi’o no longer runs a default binning program with anvi-merge. Binning within anvi’o is now handled with anvi-cluster-contigs, and/or external binning results can be imported as described in the next section.\n",
    "#### But here, we use version 2.3.2."
   ]
  },
  {
   "cell_type": "code",
   "execution_count": null,
   "metadata": {},
   "outputs": [],
   "source": [
    "# Use default concoct for binning\n",
    "anvi-merge */PROFILE.db -o bin -c contigs.db --enforce-hierarchical-clustering\n",
    "# anvi-cluster-contigs -p */PROFILE.db  -c contigs.db --driver concoct\n",
    "# --driver DRIVER 'concoct, metabat2, maxbin2, dastool, binsanity'."
   ]
  },
  {
   "cell_type": "code",
   "execution_count": null,
   "metadata": {},
   "outputs": [],
   "source": [
    "# See how many collections have been clustered\n",
    "anvi-script-get-collection-info -p bin/PROFILE.db -c contigs.db --list-collections\n",
    "# or\n",
    "anvi-show-collections-and-bins -p bin/PROFILE.db"
   ]
  },
  {
   "cell_type": "markdown",
   "metadata": {},
   "source": [
    "##### However, no collection has been clustered in this demo...."
   ]
  },
  {
   "cell_type": "markdown",
   "metadata": {},
   "source": [
    "### Visualization"
   ]
  },
  {
   "cell_type": "markdown",
   "metadata": {},
   "source": [
    "#### The interactive interface allows us to browse data in an intuitive way as it shows multiple aspects of data, visualize the results of unsupervised binning, perform supervised binning, or refine existing bins."
   ]
  },
  {
   "cell_type": "markdown",
   "metadata": {},
   "source": [
    "####  In fact, we can use the interactive interface in every step."
   ]
  },
  {
   "cell_type": "code",
   "execution_count": null,
   "metadata": {},
   "outputs": [],
   "source": [
    "# For all collections\n",
    "anvi-interactive -p bin/PROFILE.db -c contigs.db\n",
    "# For a specific collection\n",
    "anvi-interactive -p bin/PROFILE.db -c contigs.db -C CONCOCT"
   ]
  },
  {
   "cell_type": "markdown",
   "metadata": {},
   "source": [
    "### Summary"
   ]
  },
  {
   "cell_type": "code",
   "execution_count": null,
   "metadata": {},
   "outputs": [],
   "source": [
    "# For all collections\n",
    "anvi-summarize -p bin/PROFILE.db -c contigs.db -o summary --list-collections\n",
    "# For a specific collection\n",
    "anvi-summarize -p bin/PROFILE.db -c contigs.db -o summary -C CONCOCT\n",
    "# When running this command, anvi-summarize will,\n",
    "# Compute completion and redundancy estimated for each bin in a collection and stored them in the output."
   ]
  },
  {
   "cell_type": "markdown",
   "metadata": {},
   "source": [
    "### Refine bin"
   ]
  },
  {
   "cell_type": "code",
   "execution_count": null,
   "metadata": {},
   "outputs": [],
   "source": [
    "anvi-refine -p bin/PROFILE.db -c contigs.db -b Bin_4 -C CONCOCT"
   ]
  }
 ],
 "metadata": {
  "kernelspec": {
   "display_name": "Python 3",
   "language": "python",
   "name": "python3"
  },
  "language_info": {
   "codemirror_mode": {
    "name": "ipython",
    "version": 3
   },
   "file_extension": ".py",
   "mimetype": "text/x-python",
   "name": "python",
   "nbconvert_exporter": "python",
   "pygments_lexer": "ipython3",
   "version": "3.7.4"
  }
 },
 "nbformat": 4,
 "nbformat_minor": 2
}
