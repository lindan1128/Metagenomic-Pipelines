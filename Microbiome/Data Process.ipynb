{
 "cells": [
  {
   "cell_type": "markdown",
   "metadata": {},
   "source": [
    "#### Prepare"
   ]
  },
  {
   "cell_type": "code",
   "execution_count": null,
   "metadata": {},
   "outputs": [],
   "source": [
    "# Install microbiome\n",
    "library(\"devtools\") \n",
    "install_github(\"microbiome/microbiome\") \n",
    "\n",
    "# Import packages\n",
    "library(\"phyloseq\")\n",
    "library(\"microbiome\")\n",
    "library(\"knitr\")"
   ]
  },
  {
   "cell_type": "code",
   "execution_count": 2,
   "metadata": {},
   "outputs": [
    {
     "data": {
      "text/html": [
       "<table>\n",
       "<caption>A otu_table: 6 × 1151 of type dbl</caption>\n",
       "<thead>\n",
       "\t<tr><th></th><th scope=col>Sample-1</th><th scope=col>Sample-2</th><th scope=col>Sample-3</th><th scope=col>Sample-4</th><th scope=col>Sample-5</th><th scope=col>Sample-6</th><th scope=col>Sample-7</th><th scope=col>Sample-8</th><th scope=col>Sample-9</th><th scope=col>Sample-10</th><th scope=col>⋯</th><th scope=col>Sample-1162</th><th scope=col>Sample-1163</th><th scope=col>Sample-1165</th><th scope=col>Sample-1166</th><th scope=col>Sample-1167</th><th scope=col>Sample-1168</th><th scope=col>Sample-1169</th><th scope=col>Sample-1170</th><th scope=col>Sample-1171</th><th scope=col>Sample-1172</th></tr>\n",
       "</thead>\n",
       "<tbody>\n",
       "\t<tr><th scope=row>Actinomycetaceae</th><td> 0</td><td>  0</td><td>  0</td><td>  0</td><td> 0</td><td> 0</td><td> 0</td><td> 0</td><td> 0</td><td>  0</td><td>⋯</td><td>  0</td><td> 0</td><td>  0</td><td> 0</td><td> 0</td><td> 0</td><td> 0</td><td> 1</td><td>  0</td><td> 0</td></tr>\n",
       "\t<tr><th scope=row>Aerococcus</th><td> 0</td><td>  0</td><td>  0</td><td>  0</td><td> 0</td><td> 0</td><td> 0</td><td> 0</td><td> 0</td><td>  0</td><td>⋯</td><td>  0</td><td> 0</td><td>  0</td><td> 0</td><td> 0</td><td> 0</td><td> 0</td><td> 0</td><td>  0</td><td> 0</td></tr>\n",
       "\t<tr><th scope=row>Aeromonas</th><td> 0</td><td>  0</td><td>  0</td><td>  0</td><td> 0</td><td> 0</td><td> 0</td><td> 0</td><td> 0</td><td>  0</td><td>⋯</td><td>  0</td><td> 0</td><td>  0</td><td> 0</td><td> 0</td><td> 0</td><td> 0</td><td> 0</td><td>  0</td><td> 0</td></tr>\n",
       "\t<tr><th scope=row>Akkermansia</th><td>21</td><td> 36</td><td>475</td><td> 61</td><td>34</td><td>14</td><td>27</td><td>21</td><td>78</td><td>169</td><td>⋯</td><td> 66</td><td>26</td><td>346</td><td>45</td><td>24</td><td>55</td><td>24</td><td>23</td><td>536</td><td>33</td></tr>\n",
       "\t<tr><th scope=row>Alcaligenes faecalis et rel.</th><td> 1</td><td>  1</td><td>  1</td><td>  2</td><td> 1</td><td> 1</td><td> 1</td><td> 1</td><td> 1</td><td>  1</td><td>⋯</td><td>  2</td><td> 1</td><td>  1</td><td> 1</td><td> 1</td><td> 2</td><td> 1</td><td> 1</td><td>  1</td><td> 1</td></tr>\n",
       "\t<tr><th scope=row>Allistipes et rel.</th><td>72</td><td>127</td><td> 34</td><td>344</td><td>50</td><td>57</td><td>21</td><td> 9</td><td> 9</td><td> 23</td><td>⋯</td><td>106</td><td>29</td><td>568</td><td>25</td><td>17</td><td>37</td><td>69</td><td>60</td><td>134</td><td>28</td></tr>\n",
       "</tbody>\n",
       "</table>\n"
      ],
      "text/latex": [
       "A otu_table: 6 × 1151 of type dbl\n",
       "\\begin{tabular}{r|lllllllllllllllllllllllllllllllllllllllllllllllllllllllllllllllllllllllllllllllllllllllllllllllllllllllllllllllllllllllllllllllllllllllllllllllllllllllllllllllllllllllllllllllllllllllllllllllllllllllllllllllllllllllllllllllllllllllllllllllllllllllllllllllllllllllllllllllllllllllllllllllllllllllllllllllllllllllllllllllllllllllllllllllllllllllllllllllllllllllllllllllllllllllllllllllllllllllllllllllllllllllllllllllllllllllllllllllllllllllllllllllllllllllllllllllllllllllllllllllllllllllllllllllllllllllllllllllllllllllllllllllllllllllllllllllllllllllllllllllllllllllllllllllllllllllllllllllllllllllllllllllllllllllllllllllllllllllllllllllllllllllllllllllllllllllllllllllllllllllllllllllllllllllllllllllllllllllllllllllllllllllllllllllllllllllllllllllllllllllllllllllllllllllllllllllllllllllllllllllllllllllllllllllllllllllllllllllllllllllllllllllllllllllllllllllllllllllllllllllllllllllllllllllllllllllllllllllllllllllllllllllllllllllllllllllllllllllllllllllllllllllllllllllllllllllllllllllllllllllllllllllllllllllllllllllllllllllllllllllllllllllllllllllllllllllllllllllllllllllllllllllllllllllllllllllllllllllllllllllllllllllllllllllllllllllllllllll}\n",
       "  & Sample-1 & Sample-2 & Sample-3 & Sample-4 & Sample-5 & Sample-6 & Sample-7 & Sample-8 & Sample-9 & Sample-10 & Sample-11 & Sample-12 & Sample-13 & Sample-14 & Sample-15 & Sample-16 & Sample-17 & Sample-18 & Sample-19 & Sample-20 & Sample-21 & Sample-22 & Sample-23 & Sample-24 & Sample-25 & Sample-26 & Sample-27 & Sample-28 & Sample-29 & Sample-30 & Sample-31 & Sample-32 & Sample-33 & Sample-34 & Sample-35 & Sample-36 & Sample-37 & Sample-38 & Sample-39 & Sample-40 & Sample-41 & Sample-42 & Sample-43 & Sample-44 & Sample-45 & Sample-46 & Sample-47 & Sample-48 & Sample-49 & Sample-50 & Sample-51 & Sample-52 & Sample-53 & Sample-54 & Sample-55 & Sample-56 & Sample-57 & Sample-58 & Sample-59 & Sample-60 & Sample-61 & Sample-62 & Sample-63 & Sample-64 & Sample-65 & Sample-66 & Sample-67 & Sample-68 & Sample-69 & Sample-70 & Sample-71 & Sample-72 & Sample-73 & Sample-74 & Sample-75 & Sample-76 & Sample-77 & Sample-78 & Sample-79 & Sample-80 & Sample-81 & Sample-82 & Sample-83 & Sample-84 & Sample-85 & Sample-86 & Sample-87 & Sample-88 & Sample-89 & Sample-90 & Sample-91 & Sample-92 & Sample-93 & Sample-94 & Sample-95 & Sample-96 & Sample-97 & Sample-98 & Sample-99 & Sample-100 & Sample-101 & Sample-102 & Sample-103 & Sample-104 & Sample-105 & Sample-106 & Sample-107 & Sample-108 & Sample-109 & Sample-110 & Sample-111 & Sample-112 & Sample-113 & Sample-114 & Sample-115 & Sample-116 & Sample-117 & Sample-118 & Sample-119 & Sample-120 & Sample-121 & Sample-122 & Sample-123 & Sample-124 & Sample-125 & Sample-126 & Sample-127 & Sample-128 & Sample-129 & Sample-130 & Sample-131 & Sample-132 & Sample-133 & Sample-134 & Sample-135 & Sample-136 & Sample-137 & Sample-138 & Sample-139 & Sample-140 & Sample-141 & Sample-142 & Sample-143 & Sample-144 & Sample-145 & Sample-146 & Sample-147 & Sample-148 & Sample-149 & Sample-150 & Sample-151 & Sample-152 & Sample-153 & Sample-154 & Sample-155 & Sample-156 & Sample-157 & Sample-158 & Sample-159 & Sample-160 & Sample-161 & Sample-162 & Sample-163 & Sample-164 & Sample-165 & Sample-166 & Sample-167 & Sample-168 & Sample-169 & Sample-170 & Sample-171 & Sample-172 & Sample-173 & Sample-174 & Sample-175 & Sample-176 & Sample-177 & Sample-178 & Sample-179 & Sample-180 & Sample-181 & Sample-182 & Sample-183 & Sample-184 & Sample-185 & Sample-186 & Sample-187 & Sample-188 & Sample-189 & Sample-190 & Sample-191 & Sample-192 & Sample-193 & Sample-194 & Sample-195 & Sample-196 & Sample-197 & Sample-198 & Sample-199 & Sample-200 & Sample-201 & Sample-202 & Sample-203 & Sample-204 & Sample-205 & Sample-206 & Sample-207 & Sample-208 & Sample-209 & Sample-210 & Sample-211 & Sample-212 & Sample-213 & Sample-214 & Sample-215 & Sample-216 & Sample-217 & Sample-218 & Sample-219 & Sample-220 & Sample-221 & Sample-222 & Sample-223 & Sample-224 & Sample-225 & Sample-226 & Sample-227 & Sample-228 & Sample-229 & Sample-230 & Sample-231 & Sample-232 & Sample-233 & Sample-234 & Sample-235 & Sample-236 & Sample-237 & Sample-238 & Sample-239 & Sample-240 & Sample-241 & Sample-242 & Sample-243 & Sample-244 & Sample-245 & Sample-246 & Sample-247 & Sample-248 & Sample-249 & Sample-250 & Sample-251 & Sample-252 & Sample-253 & Sample-254 & Sample-255 & Sample-256 & Sample-257 & Sample-258 & Sample-259 & Sample-260 & Sample-261 & Sample-262 & Sample-263 & Sample-264 & Sample-265 & Sample-266 & Sample-267 & Sample-268 & Sample-269 & Sample-270 & Sample-271 & Sample-272 & Sample-273 & Sample-274 & Sample-275 & Sample-276 & Sample-277 & Sample-278 & Sample-279 & Sample-280 & Sample-281 & Sample-282 & Sample-283 & Sample-284 & Sample-285 & Sample-286 & Sample-287 & Sample-288 & Sample-289 & Sample-290 & Sample-291 & Sample-292 & Sample-293 & Sample-294 & Sample-295 & Sample-296 & Sample-297 & Sample-298 & Sample-299 & Sample-300 & Sample-301 & Sample-302 & Sample-303 & Sample-304 & Sample-305 & Sample-306 & Sample-307 & Sample-308 & Sample-309 & Sample-310 & Sample-311 & Sample-312 & Sample-313 & Sample-314 & Sample-315 & Sample-316 & Sample-317 & Sample-318 & Sample-319 & Sample-320 & Sample-321 & Sample-322 & Sample-323 & Sample-324 & Sample-325 & Sample-326 & Sample-327 & Sample-328 & Sample-329 & Sample-330 & Sample-331 & Sample-332 & Sample-333 & Sample-334 & Sample-335 & Sample-336 & Sample-337 & Sample-338 & Sample-339 & Sample-340 & Sample-341 & Sample-342 & Sample-343 & Sample-344 & Sample-345 & Sample-346 & Sample-347 & Sample-348 & Sample-349 & Sample-350 & Sample-351 & Sample-352 & Sample-353 & Sample-354 & Sample-355 & Sample-356 & Sample-357 & Sample-358 & Sample-359 & Sample-360 & Sample-361 & Sample-362 & Sample-363 & Sample-364 & Sample-365 & Sample-366 & Sample-367 & Sample-368 & Sample-369 & Sample-370 & Sample-371 & Sample-372 & Sample-373 & Sample-374 & Sample-375 & Sample-376 & Sample-377 & Sample-378 & Sample-379 & Sample-380 & Sample-381 & Sample-382 & Sample-383 & Sample-384 & Sample-385 & Sample-386 & Sample-387 & Sample-388 & Sample-389 & Sample-390 & Sample-391 & Sample-392 & Sample-393 & Sample-394 & Sample-395 & Sample-396 & Sample-397 & Sample-398 & Sample-399 & Sample-400 & Sample-401 & Sample-402 & Sample-403 & Sample-404 & Sample-405 & Sample-406 & Sample-407 & Sample-408 & Sample-409 & Sample-410 & Sample-411 & Sample-412 & Sample-413 & Sample-414 & Sample-415 & Sample-416 & Sample-417 & Sample-418 & Sample-419 & Sample-420 & Sample-421 & Sample-422 & Sample-423 & Sample-424 & Sample-425 & Sample-426 & Sample-427 & Sample-428 & Sample-429 & Sample-430 & Sample-431 & Sample-432 & Sample-433 & Sample-434 & Sample-435 & Sample-436 & Sample-437 & Sample-438 & Sample-439 & Sample-440 & Sample-441 & Sample-442 & Sample-443 & Sample-444 & Sample-445 & Sample-446 & Sample-447 & Sample-448 & Sample-449 & Sample-450 & Sample-451 & Sample-452 & Sample-453 & Sample-454 & Sample-455 & Sample-456 & Sample-457 & Sample-458 & Sample-459 & Sample-460 & Sample-461 & Sample-462 & Sample-463 & Sample-464 & Sample-465 & Sample-466 & Sample-467 & Sample-468 & Sample-469 & Sample-470 & Sample-471 & Sample-472 & Sample-473 & Sample-474 & Sample-475 & Sample-476 & Sample-477 & Sample-478 & Sample-479 & Sample-480 & Sample-481 & Sample-482 & Sample-483 & Sample-484 & Sample-485 & Sample-486 & Sample-487 & Sample-488 & Sample-489 & Sample-490 & Sample-491 & Sample-492 & Sample-493 & Sample-494 & Sample-495 & Sample-496 & Sample-497 & Sample-498 & Sample-499 & Sample-500 & Sample-501 & Sample-502 & Sample-503 & Sample-504 & Sample-505 & Sample-506 & Sample-507 & Sample-508 & Sample-509 & Sample-510 & Sample-511 & Sample-512 & Sample-513 & Sample-514 & Sample-515 & Sample-516 & Sample-517 & Sample-518 & Sample-519 & Sample-520 & Sample-521 & Sample-522 & Sample-523 & Sample-524 & Sample-525 & Sample-526 & Sample-527 & Sample-528 & Sample-529 & Sample-530 & Sample-531 & Sample-532 & Sample-533 & Sample-534 & Sample-535 & Sample-536 & Sample-537 & Sample-538 & Sample-539 & Sample-540 & Sample-541 & Sample-542 & Sample-543 & Sample-544 & Sample-545 & Sample-546 & Sample-547 & Sample-548 & Sample-549 & Sample-550 & Sample-551 & Sample-552 & Sample-553 & Sample-554 & Sample-555 & Sample-556 & Sample-557 & Sample-558 & Sample-559 & Sample-560 & Sample-561 & Sample-562 & Sample-563 & Sample-564 & Sample-565 & Sample-566 & Sample-567 & Sample-568 & Sample-569 & Sample-570 & Sample-571 & Sample-572 & Sample-573 & Sample-574 & Sample-575 & Sample-576 & Sample-577 & Sample-578 & Sample-579 & Sample-580 & Sample-581 & Sample-582 & Sample-583 & Sample-584 & Sample-585 & Sample-586 & Sample-587 & Sample-588 & Sample-589 & Sample-590 & Sample-591 & Sample-592 & Sample-593 & Sample-594 & Sample-595 & Sample-596 & Sample-597 & Sample-598 & Sample-599 & Sample-600 & Sample-601 & Sample-602 & Sample-603 & Sample-604 & Sample-605 & Sample-606 & Sample-607 & Sample-608 & Sample-609 & Sample-610 & Sample-611 & Sample-612 & Sample-613 & Sample-614 & Sample-615 & Sample-616 & Sample-617 & Sample-618 & Sample-619 & Sample-620 & Sample-621 & Sample-622 & Sample-623 & Sample-624 & Sample-625 & Sample-626 & Sample-627 & Sample-628 & Sample-629 & Sample-630 & Sample-631 & Sample-632 & Sample-633 & Sample-634 & Sample-635 & Sample-636 & Sample-637 & Sample-638 & Sample-639 & Sample-640 & Sample-641 & Sample-642 & Sample-643 & Sample-644 & Sample-645 & Sample-646 & Sample-647 & Sample-648 & Sample-649 & Sample-650 & Sample-651 & Sample-652 & Sample-653 & Sample-654 & Sample-655 & Sample-656 & Sample-657 & Sample-658 & Sample-659 & Sample-660 & Sample-661 & Sample-662 & Sample-663 & Sample-664 & Sample-665 & Sample-666 & Sample-667 & Sample-668 & Sample-669 & Sample-670 & Sample-671 & Sample-672 & Sample-673 & Sample-674 & Sample-675 & Sample-676 & Sample-677 & Sample-678 & Sample-679 & Sample-680 & Sample-681 & Sample-682 & Sample-683 & Sample-684 & Sample-685 & Sample-686 & Sample-687 & Sample-688 & Sample-689 & Sample-690 & Sample-691 & Sample-692 & Sample-693 & Sample-694 & Sample-695 & Sample-696 & Sample-697 & Sample-698 & Sample-699 & Sample-700 & Sample-701 & Sample-702 & Sample-703 & Sample-704 & Sample-705 & Sample-706 & Sample-707 & Sample-708 & Sample-709 & Sample-710 & Sample-711 & Sample-712 & Sample-713 & Sample-714 & Sample-715 & Sample-716 & Sample-717 & Sample-718 & Sample-719 & Sample-720 & Sample-721 & Sample-722 & Sample-723 & Sample-724 & Sample-725 & Sample-726 & Sample-727 & Sample-728 & Sample-729 & Sample-730 & Sample-731 & Sample-732 & Sample-733 & Sample-734 & Sample-735 & Sample-736 & Sample-737 & Sample-738 & Sample-739 & Sample-740 & Sample-741 & Sample-742 & Sample-743 & Sample-744 & Sample-745 & Sample-746 & Sample-747 & Sample-748 & Sample-749 & Sample-750 & Sample-751 & Sample-752 & Sample-753 & Sample-754 & Sample-755 & Sample-756 & Sample-757 & Sample-758 & Sample-759 & Sample-760 & Sample-761 & Sample-762 & Sample-763 & Sample-764 & Sample-765 & Sample-766 & Sample-767 & Sample-768 & Sample-769 & Sample-770 & Sample-771 & Sample-772 & Sample-773 & Sample-774 & Sample-775 & Sample-776 & Sample-777 & Sample-778 & Sample-779 & Sample-780 & Sample-781 & Sample-782 & Sample-783 & Sample-784 & Sample-785 & Sample-786 & Sample-787 & Sample-788 & Sample-789 & Sample-790 & Sample-791 & Sample-792 & Sample-793 & Sample-794 & Sample-795 & Sample-796 & Sample-797 & Sample-798 & Sample-799 & Sample-800 & Sample-801 & Sample-802 & Sample-803 & Sample-804 & Sample-805 & Sample-806 & Sample-807 & Sample-808 & Sample-809 & Sample-810 & Sample-811 & Sample-812 & Sample-813 & Sample-814 & Sample-815 & Sample-816 & Sample-817 & Sample-818 & Sample-819 & Sample-820 & Sample-821 & Sample-822 & Sample-823 & Sample-824 & Sample-825 & Sample-826 & Sample-827 & Sample-828 & Sample-829 & Sample-830 & Sample-831 & Sample-832 & Sample-833 & Sample-834 & Sample-835 & Sample-836 & Sample-837 & Sample-838 & Sample-839 & Sample-840 & Sample-841 & Sample-842 & Sample-843 & Sample-844 & Sample-845 & Sample-846 & Sample-847 & Sample-848 & Sample-849 & Sample-850 & Sample-851 & Sample-852 & Sample-853 & Sample-854 & Sample-855 & Sample-856 & Sample-857 & Sample-858 & Sample-859 & Sample-860 & Sample-861 & Sample-862 & Sample-863 & Sample-864 & Sample-865 & Sample-866 & Sample-867 & Sample-868 & Sample-869 & Sample-870 & Sample-871 & Sample-872 & Sample-873 & Sample-874 & Sample-875 & Sample-876 & Sample-877 & Sample-878 & Sample-879 & Sample-880 & Sample-881 & Sample-882 & Sample-883 & Sample-884 & Sample-885 & Sample-886 & Sample-887 & Sample-888 & Sample-889 & Sample-890 & Sample-891 & Sample-892 & Sample-893 & Sample-894 & Sample-895 & Sample-896 & Sample-897 & Sample-898 & Sample-899 & Sample-900 & Sample-901 & Sample-902 & Sample-903 & Sample-904 & Sample-905 & Sample-906 & Sample-907 & Sample-908 & Sample-909 & Sample-910 & Sample-911 & Sample-912 & Sample-913 & Sample-914 & Sample-915 & Sample-916 & Sample-917 & Sample-918 & Sample-919 & Sample-920 & Sample-921 & Sample-922 & Sample-923 & Sample-924 & Sample-925 & Sample-926 & Sample-927 & Sample-928 & Sample-929 & Sample-930 & Sample-931 & Sample-932 & Sample-933 & Sample-934 & Sample-935 & Sample-936 & Sample-937 & Sample-938 & Sample-939 & Sample-940 & Sample-941 & Sample-942 & Sample-943 & Sample-944 & Sample-945 & Sample-946 & Sample-947 & Sample-948 & Sample-949 & Sample-950 & Sample-951 & Sample-952 & Sample-953 & Sample-954 & Sample-955 & Sample-956 & Sample-957 & Sample-958 & Sample-959 & Sample-960 & Sample-961 & Sample-962 & Sample-963 & Sample-964 & Sample-965 & Sample-966 & Sample-967 & Sample-968 & Sample-969 & Sample-970 & Sample-971 & Sample-972 & Sample-973 & Sample-974 & Sample-975 & Sample-976 & Sample-977 & Sample-978 & Sample-979 & Sample-980 & Sample-981 & Sample-982 & Sample-983 & Sample-984 & Sample-985 & Sample-986 & Sample-987 & Sample-988 & Sample-989 & Sample-990 & Sample-991 & Sample-992 & Sample-993 & Sample-994 & Sample-995 & Sample-996 & Sample-997 & Sample-998 & Sample-999 & Sample-1000 & Sample-1001 & Sample-1002 & Sample-1003 & Sample-1004 & Sample-1005 & Sample-1006 & Sample-1007 & Sample-1008 & Sample-1009 & Sample-1011 & Sample-1012 & Sample-1014 & Sample-1015 & Sample-1016 & Sample-1019 & Sample-1020 & Sample-1021 & Sample-1022 & Sample-1024 & Sample-1025 & Sample-1026 & Sample-1027 & Sample-1028 & Sample-1030 & Sample-1031 & Sample-1032 & Sample-1034 & Sample-1035 & Sample-1036 & Sample-1037 & Sample-1038 & Sample-1040 & Sample-1041 & Sample-1042 & Sample-1043 & Sample-1045 & Sample-1046 & Sample-1047 & Sample-1048 & Sample-1050 & Sample-1051 & Sample-1052 & Sample-1053 & Sample-1055 & Sample-1056 & Sample-1057 & Sample-1058 & Sample-1060 & Sample-1061 & Sample-1062 & Sample-1064 & Sample-1065 & Sample-1066 & Sample-1067 & Sample-1069 & Sample-1070 & Sample-1071 & Sample-1072 & Sample-1073 & Sample-1075 & Sample-1076 & Sample-1077 & Sample-1078 & Sample-1080 & Sample-1081 & Sample-1082 & Sample-1083 & Sample-1085 & Sample-1086 & Sample-1087 & Sample-1088 & Sample-1089 & Sample-1090 & Sample-1091 & Sample-1092 & Sample-1093 & Sample-1094 & Sample-1095 & Sample-1096 & Sample-1097 & Sample-1098 & Sample-1099 & Sample-1100 & Sample-1101 & Sample-1102 & Sample-1103 & Sample-1104 & Sample-1105 & Sample-1106 & Sample-1107 & Sample-1108 & Sample-1109 & Sample-1110 & Sample-1111 & Sample-1112 & Sample-1113 & Sample-1114 & Sample-1115 & Sample-1116 & Sample-1117 & Sample-1118 & Sample-1119 & Sample-1120 & Sample-1122 & Sample-1123 & Sample-1124 & Sample-1125 & Sample-1126 & Sample-1127 & Sample-1128 & Sample-1129 & Sample-1130 & Sample-1131 & Sample-1132 & Sample-1133 & Sample-1134 & Sample-1135 & Sample-1136 & Sample-1137 & Sample-1138 & Sample-1139 & Sample-1140 & Sample-1141 & Sample-1142 & Sample-1143 & Sample-1144 & Sample-1145 & Sample-1146 & Sample-1147 & Sample-1148 & Sample-1149 & Sample-1150 & Sample-1151 & Sample-1152 & Sample-1153 & Sample-1154 & Sample-1155 & Sample-1157 & Sample-1158 & Sample-1159 & Sample-1161 & Sample-1162 & Sample-1163 & Sample-1165 & Sample-1166 & Sample-1167 & Sample-1168 & Sample-1169 & Sample-1170 & Sample-1171 & Sample-1172\\\\\n",
       "\\hline\n",
       "\tActinomycetaceae &  0 &   0 &   0 &   0 &  0 &  0 &  0 &  0 &  0 &   0 &   0 &  0 &   0 &  0 &   0 &   0 &   0 &  0 &  0 &  0 &  0 &   0 &   0 &   0 &   0 &   0 &  1 &  2 &  0 &  1 &  2 &  1 &    1 &  1 &  0 &  0 &   1 &   1 &  0 &   0 &   0 &   0 &   0 &  0 &  0 &  0 &  0 &  0 &  0 &   0 &  0 &  0 &  1 &  0 &  0 &  1 &   0 &  0 &   0 &  0 &  2 &  0 &  0 &  0 &  0 &   0 &   1 &   0 &   3 &   1 &   1 &  0 &   0 &  0 &  0 &  1 &  1 &  1 &   0 &  0 &   1 &  1 &  0 &  1 &  0 &   0 &  0 &   1 &  0 &   0 &  0 &  0 &  0 &   1 &  0 &  0 &  1 &   0 &   1 &  1 &   1 &  0 &  1 &   1 &   1 &   0 &  1 &  1 &  1 &  1 &  0 &   0 &  0 &  0 &  0 &   0 &  1 &   1 &  0 &   0 &   0 &  0 &  0 &  0 &  0 &  0 &   0 &  0 &   0 &  0 &  0 &  0 &  0 &   0 &  0 &   1 &   0 &   0 &  0 &   0 &  0 &   0 &  1 &  0 &  0 &   0 &  0 &   0 &  0 &  0 &  0 &  0 &   0 &  0 &  0 &  1 &  0 & 0 &  0 &  0 &   0 &  0 &  0 &   0 &  0 &   0 &  0 &   0 &  1 &   0 &  0 &  0 &  0 &  0 &  1 &   0 &  0 &   0 &   1 &   1 &   0 &   1 &   0 &   0 &  1 &  0 &   1 &   1 &   0 &  1 &  0 &  0 &   0 &  0 &   0 &  0 &  0 &  0 &   0 &   0 &  0 &  0 &  0 &  0 &  0 &  0 &   0 &  1 &  0 &  0 &  0 &   0 &   0 &   0 &   0 &   1 &  0 &  0 &   0 &  0 &  0 &   1 &  0 &   0 &  0 &  0 &  0 &  0 &  0 &   0 &  0 &  1 &   1 &  0 &  0 &  0 &   0 &  0 &  0 &   0 &   0 &   0 &  0 &  0 &  0 &   0 &  2 &   1 &   1 &  1 &   0 &  1 &  1 &   0 &  0 &   1 &   1 &   0 &  0 &   1 &   0 &   0 &   0 &  0 &   1 &  1 &  1 &   1 &   2 &   1 &   0 &  1 &  1 &   1 &  0 &  0 &  1 &  0 &  1 &  1 &  0 &  0 &  0 &   1 &  1 &   0 &  1 &  0 &   1 &   1 &  0 &   0 &  0 &   1 &  1 &  1 &  0 &  0 &  0 &  1 &  1 &  0 &  1 &   1 &   1 &   1 &  0 &  1 &  1 &   2 &  0 &   0 &   0 &   0 &  0 &  0 &  0 &  0 &  1 &  1 &  1 &   2 &  1 &   0 &  1 &   1 &  1 &  3 &  1 &   1 &   1 &  1 &  2 &   1 &   1 &   1 &  0 &   0 &   0 &   0 &  0 &   0 &  0 &  0 &  0 &  0 &   0 &   0 &  0 &   0 &  0 &  0 &  0 &   0 &   0 &    0 &  0 &   0 &   0 &   0 &   0 &   0 &   1 &   1 &    0 &  1 &   0 &  0 &   1 &  0 &   0 &   0 &   0 &  0 &   0 &  0 &   0 &    0 &   0 &    0 &   0 &   1 &   0 &   0 &  0 &   1 &    0 &   1 &   0 &   0 &   0 &  0 &   1 &   1 &   0 &   0 &   0 &   0 &   1 &   0 &   0 &   0 &   0 &   0 &   1 &   0 &   0 &   0 &   0 &   0 &   0 &  1 &    0 &  1 &   1 &   1 &   1 &   1 &   1 &   0 &   0 &  1 &   1 &   0 &   1 &  1 &  0 &   0 &   0 &   0 &   0 &   1 &   0 &   0 &  1 &   0 &   0 &   1 &   0 &   0 &   1 &   0 &   0 &   0 &   1 &   0 &  0 &   0 &   1 &   1 &   0 &   1 &   1 &   0 &   0 &  1 &  0 &   0 &   0 &   0 &   0 &  0 &   1 &   0 &   0 &   0 &  0 &   0 &   0 &  0 &   0 &   0 &   0 &   0 &   0 &   0 &   0 &    0 &  0 &   0 &   0 &   0 &   0 &   0 &   0 &   0 &   0 &   0 &   0 &   0 &   0 &   0 &   0 &   0 &   0 &   0 &   0 &   0 &   0 &   0 &   0 &   0 &   0 &   0 &  0 &   0 &   0 &  0 &  0 &  0 &   0 &   0 &   0 &   0 &   0 &  0 &   0 &   0 &   0 &   0 &   0 &   0 &   0 &   0 &   0 &   0 &    0 &   0 &   0 &   0 &   0 &   0 &   0 &   0 &   0 &   0 &   0 &   0 &   0 &   0 &   0 &   0 &  0 &   0 &   0 &   0 &   0 &   0 &   0 &    0 &  0 &   0 &   0 &   0 &   0 &   0 &   0 &   0 &   0 &   0 &   0 &   0 &   0 &   0 &  0 &   0 &   0 &   0 &   0 &   0 &    0 &   0 &   0 &   0 &   0 &   0 &   0 &   0 &   0 &  0 &   0 &   0 &   0 &  0 &   0 &   0 &   0 &   0 &   0 &   0 &   0 &   0 &   0 &   0 &   0 &   0 &   0 &  0 &  0 &   0 &   0 &   0 &  0 &   0 &   0 &   0 &  0 &   0 &   0 &   1 &   1 &  0 &   0 &   0 &   0 &   0 &   0 &   0 &   0 &   0 &   0 &   0 &   0 &   0 &   0 &   0 &   1 &   0 &   0 &   0 &   0 &  0 &   0 &   0 &   0 &   0 &   0 &   0 &   0 &   0 &   0 &  0 &   0 &   0 &   0 &    0 &   0 &   0 &   0 &   0 &   0 &   0 &   0 &   0 &   0 &   0 &    0 &   0 &   0 &  0 &   0 &   0 &   0 &  0 &   0 &   0 &  0 &  0 &   0 &   0 &   0 &   1 &    0 &   0 &   0 &   0 &   0 &   0 &   0 &   0 &   0 &  0 &   0 &   0 &   0 &   0 &   0 &   0 &   0 &   0 &   0 &   0 &   0 &   0 &   0 &   0 &   1 &   0 &  0 &  1 &   0 &   1 &   0 &   0 &  0 &  0 &   0 &   1 &   0 &   0 &   1 &   1 &   1 &  0 &   0 &   0 &  1 &  0 &  0 &  0 &  0 &  0 &   1 &  1 &  0 &  0 &   1 &  0 &  0 &  0 &  0 &  0 &   0 &  0 &  0 &  0 &    0 &   0 &   0 &   0 &   0 &   0 &   0 &   0 &   0 &   0 &   0 &    0 &  1 &   0 &   0 &  0 &   0 &  0 &   1 &  1 &   1 &   1 &  1 &   0 &  0 &  0 &  0 &  0 &  1 &  1 &   1 &   0 &  0 &  1 &  1 &   1 &  1 &   0 &   0 &  1 &  1 &   1 &   1 &  1 &  0 &  1 &   1 &  0 &  1 &  1 &   1 &   1 &   0 &  1 &   1 &   1 &  1 &  1 &  0 &  1 &   0 &   0 &   1 &   1 &  0 &  1 &   1 &   1 &   1 &   1 &   1 &   0 &   0 &  1 &   1 &   1 &   0 &   0 &  0 &  1 &   1 &  1 &   0 &   0 &   0 &  0 &   0 &   1 &   0 &   0 &   1 &   0 &   1 &   1 &  1 &  1 &   1 &  2 &   2 &   0 &   1 &  0 &  1 &  2 &  1 &  1 &  0 &  1 &  1 &   0 &   0 &   0 &   0 &   0 &   0 &  0 &   0 &   0 &   0 &  0 &   0 &  0 &   0 &  0 &   0 &  0 &    0 &   0 &  0 &   0 &  0 &   1 &   1 &  0 &  1 &  0 &  0 &  0 &   1 &   1 &   0 &   0 &   0 &   0 &   0 &    0 &    0 &   0 &   0 &  0 &  0 &  1 &  0 &   0 &  0 &    0 &  0 &  0 &   1 &  0 &  0 &   0 &   1 &  0 &   0 &   0 &   0 &   0 &   1 &   1 &   1 &  1 &  1 &  1 &  0 &  1 &  0 &  1 &  1 &  0 &  1 &  1 &  1 &   1 &  1 &  1 &  1 &  1 &  1 &  0 &  0 &  1 &  1 &  1 &  0 &  0 &  0 &  1 &   1 &  2 &  8 &  1 &  2 &  1 &   1 &  1 &  0 &  0 &  1 &  0 &  0 &  0 &   0 &  0 &  1 &  1 &  0 &  1 &   1 &  1 &  1 &  1 &  1 &  1 &  1 &   2 &  0 &  0 &  1 &  0 &   1 &   1 &  1 &  1 &  0 &   1 &  1 &  1 &  0 &  0 &  0 &  0 &   0 &   0 &   1 &  1 &  1 &   0 &   1 &   1 &   1 &   1 &  1 &    0 &   1 &  0 &  1 &  0 &  0 &  0 &  1 &  0 &   0 &  1 &   1 &  1 &  2 &  1 &  1 &  0 &   1 &   0 &   1 &   2 &  1 &  0 &  1 &  0 &   1 &  0 &  0 &  1 &  1 &  1 &  1 &  1 &  2 &  1 &  1 &  1 &   3 &   2 &  20 &  11 &   0 &   1 &  1 &   1 &   1 &   1 &   1 &  1 &  0 &   1 &   1 &  0 &  1 &  0 &  1 &  1 &  2 &   0 &   1 &   0 &  1 &  3 &  1 &  1 &  1 &   2 &   1 &  1 &  0 &   0 &  1 &  0 &  1 &  1 &  1 &  1 &  1 &  1 &  1 &   0 &    0 &   0 &   1 &   0 &   0 &   1 &   0 &   1 &   1 &   1 &    1 &   1 &   0 &  0 &  0 &  0 &   0 &   0 &   0 &   0 &   1 &   0 &    0 &    0 &   1 &   0 &   0 &   1 &   0 &   0 &  1 &   0 &  0 &  0 &  0 &   0 &   0 &   1 &  0 &   1 &  0 &   0 &  0 &   0 &   0 &   0 &  1 &  1 &  0 &   0 &  0 &  0 &  0 &  0 &  0 &  1 &  0 &   1 &  0 &  0 &   0 &   0 &  0 &  0 &  0 &  0 &  0 &   0 &  0 &  0 &   0 &   0 &  0 &   0 &  0 &  0 &  0 &  0 &  1 &   0 &  0\\\\\n",
       "\tAerococcus &  0 &   0 &   0 &   0 &  0 &  0 &  0 &  0 &  0 &   0 &   0 &  0 &   0 &  0 &   0 &   0 &   0 &  0 &  0 &  0 &  0 &   0 &   0 &   0 &   0 &   0 &  0 &  0 &  0 &  0 &  0 &  0 &    0 &  0 &  0 &  0 &   0 &   0 &  0 &   0 &   0 &   0 &   0 &  0 &  0 &  0 &  0 &  0 &  0 &   0 &  0 &  0 &  0 &  0 &  0 &  0 &   0 &  0 &   0 &  0 &  0 &  0 &  0 &  0 &  0 &   0 &   0 &   0 &   0 &   0 &   0 &  0 &   0 &  0 &  0 &  0 &  0 &  0 &   0 &  0 &   0 &  0 &  0 &  0 &  0 &   0 &  0 &   0 &  0 &   0 &  0 &  0 &  0 &   0 &  0 &  0 &  0 &   0 &   0 &  0 &   0 &  0 &  0 &   0 &   0 &   0 &  0 &  0 &  0 &  0 &  0 &   0 &  0 &  0 &  0 &   0 &  0 &   0 &  0 &   0 &   0 &  0 &  0 &  0 &  0 &  0 &   0 &  0 &   0 &  0 &  0 &  0 &  0 &   0 &  0 &   0 &   0 &   0 &  0 &   0 &  0 &   0 &  0 &  0 &  0 &   0 &  0 &   0 &  0 &  0 &  0 &  0 &   0 &  0 &  0 &  0 &  0 & 0 &  0 &  0 &   0 &  0 &  0 &   0 &  0 &   0 &  0 &   0 &  0 &   0 &  0 &  0 &  0 &  0 &  0 &   0 &  0 &   0 &   0 &   0 &   0 &   0 &   0 &   0 &  0 &  0 &   0 &   0 &   0 &  0 &  0 &  0 &   0 &  0 &   0 &  0 &  0 &  0 &   0 &   0 &  0 &  0 &  0 &  0 &  0 &  0 &   0 &  0 &  0 &  0 &  0 &   0 &   0 &   0 &   0 &   0 &  0 &  0 &   0 &  0 &  0 &   0 &  0 &   0 &  0 &  0 &  0 &  0 &  0 &   0 &  0 &  0 &   0 &  0 &  0 &  0 &   0 &  0 &  0 &   0 &   0 &   0 &  0 &  0 &  0 &   0 &  0 &   0 &   0 &  0 &   0 &  0 &  0 &   0 &  0 &   0 &   0 &   0 &  0 &   0 &   0 &   0 &   0 &  0 &   0 &  0 &  0 &   0 &   0 &   0 &   0 &  0 &  0 &   0 &  0 &  0 &  0 &  0 &  0 &  0 &  0 &  0 &  0 &   0 &  0 &   0 &  0 &  0 &   0 &   0 &  0 &   0 &  0 &   0 &  0 &  0 &  0 &  0 &  0 &  0 &  0 &  0 &  0 &   0 &   0 &   0 &  0 &  0 &  0 &   0 &  0 &   0 &   0 &   0 &  0 &  0 &  0 &  0 &  0 &  0 &  0 &   0 &  0 &   0 &  0 &   0 &  0 &  0 &  0 &   0 &   0 &  0 &  0 &   0 &   0 &   0 &  0 &   0 &   0 &   0 &  0 &   0 &  0 &  0 &  0 &  0 &   0 &   0 &  0 &   0 &  0 &  0 &  0 &   0 &   0 &    0 &  0 &   0 &   0 &   0 &   0 &   0 &   0 &   0 &    0 &  0 &   0 &  0 &   0 &  0 &   0 &   0 &   0 &  0 &   0 &  0 &   0 &    0 &   0 &    0 &   0 &   0 &   0 &   0 &  0 &   0 &    0 &   0 &   0 &   0 &   0 &  0 &   0 &   0 &   0 &   0 &   0 &   0 &   0 &   0 &   0 &   0 &   0 &   0 &   0 &   0 &   0 &   0 &   0 &   0 &   0 &  0 &    0 &  0 &   0 &   0 &   0 &   0 &   0 &   0 &   0 &  0 &   0 &   0 &   0 &  0 &  0 &   0 &   0 &   0 &   0 &   0 &   0 &   0 &  0 &   0 &   0 &   0 &   0 &   0 &   0 &   0 &   0 &   0 &   0 &   0 &  0 &   0 &   0 &   0 &   0 &   0 &   0 &   0 &   0 &  0 &  0 &   0 &   0 &   0 &   0 &  0 &   0 &   0 &   0 &   0 &  0 &   0 &   0 &  0 &   0 &   0 &   0 &   0 &   0 &   0 &   0 &    0 &  0 &   0 &   0 &   0 &   0 &   0 &   0 &   0 &   0 &   0 &   0 &   0 &   0 &   0 &   0 &   0 &   0 &   0 &   0 &   0 &   0 &   0 &   0 &   0 &   0 &   0 &  0 &   0 &   0 &  0 &  0 &  0 &   0 &   0 &   0 &   0 &   0 &  0 &   0 &   0 &   0 &   0 &   0 &   0 &   0 &   0 &   0 &   0 &    0 &   0 &   0 &   0 &   0 &   0 &   0 &   0 &   0 &   0 &   0 &   0 &   0 &   0 &   0 &   0 &  0 &   0 &   0 &   0 &   0 &   0 &   0 &    0 &  0 &   0 &   0 &   0 &   0 &   0 &   0 &   0 &   0 &   0 &   0 &   0 &   0 &   0 &  0 &   0 &   0 &   0 &   0 &   0 &    0 &   0 &   0 &   0 &   0 &   0 &   0 &   0 &   0 &  0 &   0 &   0 &   0 &  0 &   0 &   0 &   0 &   0 &   0 &   0 &   0 &   0 &   0 &   0 &   0 &   0 &   0 &  0 &  0 &   0 &   0 &   0 &  0 &   0 &   0 &   0 &  0 &   0 &   0 &   0 &   0 &  0 &   0 &   0 &   0 &   0 &   0 &   0 &   0 &   0 &   0 &   0 &   0 &   0 &   0 &   0 &   0 &   0 &   0 &   0 &   0 &  0 &   0 &   0 &   0 &   0 &   0 &   0 &   0 &   0 &   0 &  0 &   0 &   0 &   0 &    0 &   0 &   0 &   0 &   0 &   0 &   0 &   0 &   0 &   0 &   0 &    0 &   0 &   0 &  0 &   0 &   0 &   0 &  0 &   0 &   0 &  0 &  0 &   0 &   0 &   0 &   0 &    0 &   0 &   0 &   0 &   0 &   0 &   0 &   0 &   0 &  0 &   0 &   0 &   0 &   0 &   0 &   0 &   0 &   0 &   0 &   0 &   0 &   0 &   0 &   0 &   0 &   0 &  0 &  0 &   0 &   0 &   0 &   0 &  0 &  0 &   0 &   0 &   0 &   0 &   0 &   0 &   0 &  0 &   0 &   0 &  0 &  0 &  0 &  0 &  0 &  0 &   0 &  0 &  0 &  0 &   0 &  0 &  0 &  0 &  0 &  0 &   0 &  0 &  0 &  0 &    0 &   0 &   0 &   0 &   0 &   0 &   0 &   0 &   0 &   0 &   0 &    0 &  0 &   0 &   0 &  0 &   0 &  0 &   0 &  0 &   0 &   0 &  0 &   0 &  0 &  0 &  0 &  0 &  0 &  0 &   0 &   0 &  0 &  0 &  0 &   0 &  0 &   0 &   0 &  0 &  0 &   0 &   0 &  0 &  0 &  0 &   0 &  0 &  0 &  0 &   0 &   0 &   0 &  0 &   0 &   0 &  0 &  0 &  0 &  0 &   0 &   0 &   0 &   0 &  0 &  0 &   0 &   0 &   0 &   0 &   0 &   0 &   0 &  0 &   0 &   0 &   0 &   0 &  0 &  0 &   0 &  0 &   0 &   0 &   0 &  0 &   0 &   0 &   0 &   0 &   0 &   0 &   0 &   0 &  0 &  0 &   0 &  0 &   0 &   0 &   0 &  0 &  0 &  0 &  0 &  0 &  0 &  0 &  0 &   0 &   0 &   0 &   0 &   0 &   0 &  0 &   0 &   0 &   0 &  0 &   0 &  0 &   0 &  0 &   0 &  0 &    0 &   0 &  0 &   0 &  0 &   0 &   0 &  0 &  0 &  0 &  0 &  0 &   0 &   0 &   0 &   0 &   0 &   0 &   0 &    0 &    0 &   0 &   0 &  0 &  0 &  0 &  0 &   0 &  0 &    0 &  0 &  2 &   0 &  0 &  0 &   0 &   0 &  0 &   0 &   0 &   0 &   0 &   0 &   0 &   0 &  0 &  0 &  0 &  0 &  0 &  0 &  0 &  0 &  0 &  0 &  0 &  0 &   0 &  0 &  0 &  0 &  0 &  0 &  0 &  0 &  0 &  0 &  0 &  0 &  0 &  0 &  0 &   0 &  1 &  0 &  0 &  0 &  0 &   0 &  0 &  0 &  0 &  0 &  0 &  0 &  0 &   0 &  0 &  0 &  0 &  0 &  0 &   0 &  0 &  0 &  0 &  0 &  0 &  0 &   0 &  0 &  0 &  0 &  0 &   0 &   0 &  0 &  0 &  0 &   0 &  0 &  0 &  0 &  0 &  0 &  0 &   0 &   0 &   0 &  0 &  0 &   0 &   0 &   0 &   0 &   0 &  0 &    0 &   0 &  0 &  0 &  0 &  0 &  1 &  0 &  0 &   0 &  0 &   0 &  0 &  0 &  0 &  0 &  0 &   0 &   0 &   0 &   0 &  0 &  0 &  0 &  0 &   0 &  0 &  0 &  0 &  0 &  0 &  0 &  0 &  0 &  0 &  0 &  0 &   0 &   0 &   0 &   0 &   0 &   0 &  0 &   0 &   0 &   0 &   0 &  0 &  0 &   0 &   0 &  0 &  0 &  0 &  0 &  0 &  0 &   0 &   0 &   0 &  0 &  1 &  0 &  0 &  0 &   1 &   0 &  0 &  0 &   0 &  0 &  0 &  0 &  0 &  0 &  0 &  0 &  0 &  0 &   0 &    0 &   0 &   0 &   0 &   0 &   0 &   0 &   0 &   0 &   0 &    0 &   0 &   0 &  0 &  0 &  0 &   0 &   0 &   0 &   0 &   0 &   0 &    0 &    0 &   0 &   0 &   0 &   0 &   0 &   0 &  0 &   0 &  0 &  0 &  0 &   0 &   0 &   0 &  0 &   0 &  0 &   0 &  0 &   0 &   0 &   0 &  0 &  0 &  0 &   0 &  0 &  0 &  0 &  0 &  0 &  0 &  0 &   0 &  0 &  0 &   0 &   0 &  0 &  0 &  0 &  0 &  0 &   0 &  0 &  0 &   0 &   0 &  0 &   0 &  0 &  0 &  0 &  0 &  0 &   0 &  0\\\\\n",
       "\tAeromonas &  0 &   0 &   0 &   0 &  0 &  0 &  0 &  0 &  0 &   0 &   0 &  0 &   0 &  0 &   0 &   0 &   0 &  0 &  0 &  0 &  0 &   0 &   0 &   0 &   0 &   0 &  0 &  0 &  0 &  0 &  0 &  0 &    0 &  0 &  0 &  0 &   0 &   0 &  0 &   0 &   0 &   0 &   0 &  0 &  0 &  0 &  0 &  0 &  0 &   0 &  0 &  0 &  0 &  0 &  0 &  0 &   0 &  0 &   0 &  0 &  0 &  0 &  0 &  0 &  0 &   0 &   0 &   0 &   0 &   0 &   0 &  0 &   0 &  0 &  0 &  0 &  0 &  0 &   0 &  0 &   0 &  0 &  0 &  0 &  0 &   0 &  0 &   0 &  0 &   0 &  0 &  0 &  0 &   0 &  0 &  0 &  0 &   0 &   0 &  0 &   0 &  0 &  0 &   0 &   0 &   0 &  0 &  0 &  0 &  0 &  0 &   0 &  0 &  0 &  0 &   0 &  0 &   0 &  0 &   0 &   0 &  0 &  0 &  0 &  0 &  0 &   0 &  0 &   0 &  0 &  0 &  0 &  0 &   0 &  0 &   0 &   0 &   0 &  0 &   0 &  0 &   0 &  0 &  0 &  0 &   0 &  0 &   0 &  0 &  0 &  0 &  0 &   0 &  0 &  0 &  0 &  0 & 0 &  0 &  0 &   0 &  0 &  0 &   0 &  0 &   0 &  0 &   0 &  0 &   0 &  0 &  0 &  0 &  0 &  0 &   0 &  0 &   0 &   0 &   0 &   0 &   0 &   0 &   0 &  0 &  0 &   0 &   0 &   0 &  0 &  0 &  0 &   0 &  0 &   0 &  0 &  0 &  0 &   0 &   0 &  0 &  0 &  0 &  0 &  0 &  0 &   0 &  0 &  0 &  0 &  0 &   0 &   0 &   0 &   0 &   0 &  0 &  0 &   0 &  0 &  0 &   0 &  0 &   0 &  0 &  0 &  0 &  0 &  0 &   0 &  0 &  0 &   0 &  0 &  0 &  0 &   0 &  0 &  0 &   0 &   0 &   0 &  0 &  0 &  0 &   0 &  0 &   0 &   0 &  0 &   0 &  0 &  0 &   0 &  0 &   0 &   0 &   0 &  0 &   0 &   0 &   0 &   0 &  0 &   0 &  0 &  0 &   0 &   0 &   0 &   0 &  0 &  0 &   0 &  0 &  0 &  0 &  0 &  0 &  0 &  0 &  0 &  0 &   0 &  0 &   0 &  0 &  0 &   0 &   0 &  0 &   0 &  0 &   0 &  0 &  0 &  0 &  0 &  0 &  0 &  0 &  0 &  0 &   0 &   0 &   0 &  0 &  0 &  0 &   0 &  0 &   0 &   0 &   0 &  0 &  0 &  0 &  0 &  0 &  0 &  0 &   0 &  0 &   0 &  0 &   0 &  0 &  0 &  0 &   0 &   0 &  0 &  0 &   0 &   0 &   0 &  0 &   0 &   0 &   0 &  0 &   0 &  0 &  0 &  0 &  0 &   0 &   0 &  0 &   0 &  0 &  0 &  0 &   0 &   0 &    0 &  0 &   0 &   0 &   0 &   0 &   0 &   0 &   0 &    0 &  0 &   0 &  0 &   0 &  0 &   0 &   0 &   0 &  0 &   0 &  0 &   0 &    0 &   0 &    0 &   0 &   0 &   0 &   0 &  0 &   0 &    0 &   0 &   0 &   0 &   0 &  0 &   0 &   0 &   0 &   0 &   0 &   0 &   0 &   0 &   0 &   0 &   0 &   0 &   0 &   0 &   0 &   0 &   0 &   0 &   0 &  0 &    0 &  0 &   0 &   0 &   0 &   0 &   0 &   0 &   0 &  0 &   0 &   0 &   0 &  0 &  0 &   0 &   0 &   0 &   0 &   0 &   0 &   0 &  0 &   0 &   0 &   0 &   0 &   0 &   0 &   0 &   0 &   0 &   0 &   0 &  0 &   0 &   0 &   0 &   0 &   0 &   0 &   0 &   0 &  0 &  0 &   0 &   0 &   0 &   0 &  0 &   0 &   0 &   0 &   0 &  0 &   0 &   0 &  0 &   0 &   0 &   0 &   0 &   0 &   0 &   0 &    0 &  0 &   0 &   0 &   0 &   0 &   0 &   0 &   0 &   0 &   0 &   0 &   0 &   0 &   0 &   0 &   0 &   0 &   0 &   0 &   0 &   0 &   0 &   0 &   0 &   0 &   0 &  0 &   0 &   0 &  0 &  0 &  0 &   0 &   0 &   0 &   0 &   0 &  0 &   0 &   0 &   0 &   0 &   0 &   0 &   0 &   0 &   0 &   0 &    0 &   0 &   0 &   0 &   0 &   0 &   0 &   0 &   0 &   0 &   0 &   0 &   0 &   0 &   0 &   0 &  0 &   0 &   0 &   0 &   0 &   0 &   0 &    0 &  0 &   0 &   0 &   0 &   0 &   0 &   0 &   0 &   0 &   0 &   0 &   0 &   0 &   0 &  0 &   0 &   0 &   0 &   0 &   0 &    0 &   0 &   0 &   0 &   0 &   0 &   0 &   0 &   0 &  0 &   0 &   0 &   0 &  0 &   0 &   0 &   0 &   0 &   0 &   0 &   0 &   0 &   0 &   0 &   0 &   0 &   0 &  0 &  0 &   0 &   0 &   0 &  0 &   0 &   0 &   0 &  0 &   0 &   0 &   0 &   0 &  0 &   0 &   0 &   0 &   0 &   0 &   0 &   0 &   0 &   0 &   0 &   0 &   0 &   0 &   0 &   0 &   0 &   0 &   0 &   0 &  0 &   0 &   0 &   0 &   0 &   0 &   0 &   0 &   0 &   0 &  0 &   0 &   0 &   0 &    0 &   0 &   0 &   0 &   0 &   0 &   0 &   0 &   0 &   0 &   0 &    0 &   0 &   0 &  0 &   0 &   0 &   0 &  0 &   0 &   0 &  0 &  0 &   0 &   0 &   0 &   0 &    0 &   0 &   0 &   0 &   0 &   0 &   0 &   0 &   0 &  0 &   0 &   0 &   0 &   0 &   0 &   0 &   0 &   0 &   0 &   0 &   0 &   0 &   0 &   0 &   0 &   0 &  0 &  0 &   0 &   0 &   0 &   0 &  0 &  0 &   0 &   0 &   0 &   0 &   0 &   0 &   0 &  0 &   0 &   0 &  0 &  0 &  0 &  0 &  0 &  0 &   0 &  0 &  0 &  0 &   0 &  0 &  0 &  0 &  0 &  0 &   0 &  0 &  0 &  0 &    0 &   0 &   0 &   0 &   0 &   0 &   0 &   0 &   0 &   0 &   0 &    0 &  0 &   0 &   0 &  0 &   0 &  0 &   0 &  0 &   0 &   0 &  0 &   0 &  0 &  0 &  0 &  0 &  0 &  0 &   0 &   0 &  0 &  0 &  0 &   0 &  0 &   0 &   0 &  0 &  0 &   0 &   0 &  0 &  0 &  0 &   0 &  0 &  0 &  0 &   0 &   0 &   0 &  0 &   0 &   0 &  0 &  0 &  0 &  0 &   0 &   0 &   0 &   0 &  0 &  0 &   0 &   0 &   0 &   0 &   0 &   0 &   0 &  0 &   0 &   0 &   0 &   0 &  0 &  0 &   0 &  0 &   0 &   0 &   0 &  0 &   0 &   0 &   0 &   0 &   0 &   0 &   0 &   0 &  0 &  0 &   0 &  0 &   0 &   0 &   0 &  0 &  0 &  0 &  0 &  0 &  0 &  0 &  0 &   0 &   0 &   0 &   0 &   0 &   0 &  0 &   0 &   0 &   0 &  0 &   0 &  0 &   0 &  0 &   0 &  0 &    0 &   0 &  0 &   0 &  0 &   0 &   0 &  0 &  0 &  0 &  0 &  0 &   0 &   0 &   0 &   0 &   0 &   0 &   0 &    0 &    0 &   0 &   0 &  0 &  0 &  0 &  0 &   0 &  0 &    0 &  0 &  0 &   0 &  0 &  0 &   0 &   0 &  0 &   0 &   0 &   0 &   0 &   0 &   0 &   0 &  0 &  0 &  0 &  0 &  0 &  0 &  0 &  0 &  0 &  0 &  0 &  0 &   0 &  0 &  0 &  0 &  0 &  0 &  0 &  0 &  0 &  0 &  0 &  0 &  0 &  0 &  0 &   0 &  0 &  0 &  0 &  0 &  0 &   0 &  0 &  0 &  0 &  0 &  0 &  0 &  0 &   0 &  0 &  0 &  0 &  0 &  0 &   0 &  0 &  0 &  0 &  0 &  0 &  0 &   0 &  0 &  0 &  0 &  0 &   0 &   0 &  0 &  0 &  0 &   0 &  0 &  0 &  0 &  0 &  0 &  0 &   0 &   0 &   0 &  0 &  0 &   0 &   0 &   0 &   0 &   0 &  0 &    0 &   0 &  0 &  0 &  0 &  0 &  0 &  0 &  0 &   0 &  0 &   0 &  0 &  0 &  0 &  0 &  0 &   0 &   0 &   0 &   0 &  0 &  0 &  0 &  0 &   0 &  0 &  0 &  0 &  0 &  0 &  0 &  0 &  0 &  0 &  0 &  0 &   0 &   0 &   0 &   0 &   0 &   0 &  0 &   0 &   0 &   0 &   0 &  0 &  0 &   0 &   0 &  0 &  0 &  0 &  0 &  0 &  0 &   0 &   0 &   0 &  0 &  1 &  0 &  0 &  0 &   1 &   0 &  0 &  0 &   0 &  0 &  0 &  0 &  0 &  0 &  0 &  0 &  0 &  0 &   0 &    0 &   0 &   0 &   0 &   0 &   0 &   0 &   0 &   0 &   0 &    0 &   0 &   0 &  0 &  0 &  0 &   0 &   0 &   0 &   0 &   0 &   0 &    0 &    0 &   0 &   0 &   0 &   0 &   0 &   0 &  0 &   0 &  0 &  0 &  0 &   0 &   0 &   0 &  0 &   0 &  0 &   0 &  0 &   0 &   0 &   0 &  0 &  0 &  0 &   0 &  0 &  0 &  0 &  0 &  0 &  0 &  0 &   0 &  0 &  0 &   0 &   0 &  0 &  0 &  0 &  0 &  0 &   0 &  0 &  0 &   0 &   0 &  0 &   0 &  0 &  0 &  0 &  0 &  0 &   0 &  0\\\\\n",
       "\tAkkermansia & 21 &  36 & 475 &  61 & 34 & 14 & 27 & 21 & 78 & 169 & 438 & 31 &  27 & 38 & 100 & 164 & 128 & 41 & 95 & 75 & 54 & 346 &  27 & 164 & 203 & 193 & 12 &  8 & 23 & 33 & 88 & 46 &   57 & 53 & 16 & 35 &  40 &  18 & 29 &  14 & 723 &  39 &  76 & 14 & 28 & 33 & 34 & 44 & 61 & 247 & 24 & 50 & 27 & 28 & 18 & 53 &  31 & 24 &   9 & 41 & 34 & 36 & 53 & 26 & 41 &  80 &  16 & 111 & 300 &  73 &  55 & 42 & 155 & 90 & 25 & 38 & 54 & 51 &  71 & 28 & 569 & 93 & 27 & 19 & 19 & 139 & 87 &  71 & 16 &  67 & 27 & 63 & 40 & 132 & 57 & 60 & 61 & 192 &  72 & 50 &  95 & 22 & 41 &  74 & 534 &  55 & 97 & 41 & 33 & 80 & 51 &  92 & 43 & 25 & 44 &  63 & 27 &  30 & 33 & 139 & 198 & 44 & 41 & 24 & 51 & 50 & 323 & 74 &  51 & 28 & 32 & 35 & 26 &  67 & 84 &  93 &  84 & 190 & 78 & 326 & 18 & 378 & 49 & 40 & 73 &  64 & 23 &  85 & 17 & 17 & 86 & 18 &  16 & 21 & 13 & 31 & 11 & 3 & 15 & 42 & 106 & 82 & 17 &  81 & 27 &  43 & 22 & 131 & 94 &  20 & 19 & 29 & 25 & 46 & 32 &  52 & 23 &  84 & 100 &  45 &  45 &  80 &  32 & 109 & 40 & 72 & 127 & 100 &  58 & 17 & 10 & 22 &  11 &  6 &  53 & 21 & 32 & 42 & 248 &  24 & 24 & 30 & 44 & 21 & 28 & 32 &  76 & 43 & 30 & 33 & 37 &  28 &  43 &   9 & 108 &  53 & 41 & 40 & 157 & 92 & 36 & 164 & 24 &   6 & 40 & 35 & 35 & 10 & 18 &  27 & 75 & 34 &  41 & 23 & 12 & 34 &  44 & 10 & 94 &  28 &  18 &  35 & 23 & 69 & 40 & 101 & 22 &  47 &  48 &  8 &  10 & 62 & 25 &  21 & 48 &  23 &  29 &  24 & 89 &  23 &  52 &  37 &  50 & 38 &  46 & 25 & 34 &  23 &  34 &  24 &  15 & 44 & 42 &  34 &  6 & 21 & 22 & 45 & 41 & 17 & 11 & 13 &  3 & 501 &  9 &  31 & 30 & 11 &  21 &  84 &  7 &  36 &  3 & 154 & 89 & 15 &  6 & 11 & 14 & 37 & 19 & 14 & 16 &  37 &  24 &  37 &  7 & 15 & 23 & 307 & 33 &  58 &  30 &  87 & 92 & 88 & 11 & 27 & 22 & 18 & 39 & 140 & 94 & 146 & 61 & 178 & 36 & 78 & 19 & 133 & 196 & 17 & 46 &  53 & 119 & 108 & 11 &  27 &  28 &  40 & 34 &  28 & 16 &  7 & 97 &  6 & 153 &  14 & 27 &  23 & 12 & 14 &  1 &  50 &  10 &   45 & 16 & 324 &  16 &  23 & 191 &  15 &   3 &  79 &    5 & 23 &  10 &  5 &  11 & 12 &  41 &  11 & 107 & 12 & 127 & 62 &  97 &  136 &  81 &   17 & 129 &  47 &   8 &  13 & 21 &  30 &   10 &  21 &  48 & 138 &  60 & 31 &  27 & 168 &  39 &  30 &  39 &  40 &  45 &  34 &  81 &  30 &  37 & 134 &  43 &  39 &  28 &  61 &  84 & 158 & 131 &  7 &  437 & 83 &   8 &  31 &   8 &   4 &  28 &  30 &   7 & 66 &  17 &  38 &  27 & 57 &  5 &  92 &  54 & 308 & 724 &  11 &  32 &  26 &  8 & 123 &  34 & 113 &  86 &  40 &  33 &  37 & 124 & 128 &   3 &  55 & 21 &  49 &  17 &  90 &  18 &  19 &  21 & 106 & 130 &  7 & 18 &   3 &  24 &  29 &  78 & 18 &  82 &  65 & 151 &  17 & 24 &  11 &  67 & 25 &  42 & 162 &  34 &  19 & 187 &  23 &  13 &   36 & 14 &  79 &  22 &  34 & 114 &  34 &  65 &  10 &  50 &  70 &  39 &  71 & 258 &  88 & 107 &  19 &  11 &  21 & 215 &  32 &  49 &  96 &  21 & 193 & 335 &  34 & 17 &  37 &  61 &  7 & 77 & 31 &  10 &  37 &  45 &   9 &  31 &  6 &  34 &  55 & 158 &   7 & 325 &  28 &  93 &   9 &  79 & 139 &   80 &  51 &  18 &  96 &  13 &  39 &  14 &  26 &  18 &  31 &  18 &  14 &  13 &  38 &   6 &  27 & 11 &   9 &  29 &   9 & 107 &  24 &  42 &   22 & 48 &  19 &  28 &  17 & 170 &  26 &  28 & 214 & 102 &  12 &  25 &   4 &  19 &  50 &  6 & 206 &  15 &  24 &  38 & 264 &  126 &  24 &  47 &  94 &  34 &  25 &  26 &  46 & 115 & 11 &   8 &  33 &  17 & 11 &  99 &  55 &  28 &   9 &  70 &  16 &  17 &  28 &  13 &  14 &  32 &  20 &  67 & 26 & 15 &  28 & 135 &  10 & 29 &   8 &  28 &  41 & 11 &  68 &  47 &  37 & 141 & 10 &  52 &   9 &  29 &  67 &  26 &   9 &   9 &  37 &  42 &  51 & 113 &  50 &  18 &  55 &  15 &  21 &  95 &  12 &  26 &  7 &  12 & 240 &   9 &  58 &  35 &  10 & 146 &  26 & 223 & 23 &  43 &  11 &  11 &  121 &  19 &  95 & 428 &  18 &  14 &  62 &  51 &  11 &  17 &  80 &  152 &  50 &  13 & 51 &  21 &  29 &  30 & 24 &  68 &  30 & 10 & 12 & 153 & 231 &  45 &  52 &   72 &  35 &  90 &  14 &  14 &  76 &  22 & 193 &  29 & 28 &  12 &   9 &  20 &  26 &  16 &  28 &  17 &  17 &  48 &  94 & 102 &  23 & 317 &  54 &  41 &  31 & 43 & 79 & 147 &   5 &   7 &   3 &  9 & 25 & 121 &  37 &  83 & 144 &   5 &  24 &  33 &  4 & 252 & 196 & 97 & 31 & 36 & 67 & 30 & 10 & 256 & 18 &  7 & 21 & 114 & 92 & 16 & 38 & 10 & 26 & 152 & 30 & 44 & 19 & 1068 &  65 & 909 &  20 &  40 &  78 & 265 & 477 &  77 &  25 & 180 &   57 & 13 & 229 & 101 & 18 & 828 & 68 & 149 & 90 & 127 & 214 & 14 &  23 & 23 & 59 & 93 & 84 & 21 & 80 & 103 &  15 & 10 & 37 & 79 &  52 &  9 &  37 & 100 & 55 & 27 & 136 &  80 & 15 & 21 & 20 & 139 & 72 &  7 & 23 & 150 & 122 & 138 & 12 &  76 & 118 & 25 & 18 & 33 & 53 &  11 &  12 &  44 &  22 &  8 & 83 &  35 &  55 & 217 &  24 &  85 & 284 & 178 & 38 & 116 & 113 &  38 &  51 & 39 & 18 & 164 & 42 &  86 &  34 & 188 & 21 & 190 &  45 &  22 &  21 &  32 & 148 &  67 &  42 & 39 & 30 &  19 & 16 &  34 &  12 &  25 & 21 & 45 & 56 & 18 & 53 & 45 & 39 & 44 &  72 & 215 &  98 &  70 & 107 &  74 &  7 &  61 &  16 &  37 & 36 &  20 & 37 &  47 & 15 &  20 & 30 &   62 & 368 & 14 & 209 & 62 & 724 &  75 & 22 & 36 & 67 & 28 & 32 &  52 &  79 &  26 &  17 &  50 &  13 & 142 &   30 &  268 & 133 &   8 & 23 & 23 & 28 & 14 & 145 &  8 &   33 & 35 & 14 &  73 & 33 & 29 &  60 & 114 & 59 & 275 &  21 & 255 &  55 & 175 & 271 & 118 & 23 & 42 & 17 & 32 & 38 & 76 & 18 & 22 & 29 & 19 & 12 & 24 & 185 & 18 & 33 & 51 & 13 & 21 & 16 & 27 & 34 & 20 & 15 & 47 & 10 & 10 & 35 & 192 & 25 & 62 & 63 & 57 & 30 &  21 & 30 & 72 & 60 & 57 & 20 & 81 & 34 &  67 & 14 & 50 & 45 & 14 & 65 &  45 & 69 & 18 & 32 & 27 & 19 & 21 & 227 & 37 & 20 & 22 & 20 & 433 & 356 & 24 & 32 & 28 & 256 & 41 & 22 &  5 & 15 & 13 & 34 &  46 &  10 &  96 & 13 & 24 &   5 &  39 &  57 &  13 &  22 & 11 &   10 & 121 & 32 & 49 & 14 & 16 & 26 &  8 & 60 & 272 &  5 &  76 & 17 & 65 & 22 & 33 & 86 & 110 &  95 &  20 &  86 & 39 & 21 & 32 &  8 &  28 & 15 & 19 & 50 & 29 & 39 &  7 & 19 & 16 & 11 & 28 & 18 &  40 &  30 &  82 &  43 &  12 &  16 & 22 &  23 &  25 &  17 &  27 & 15 & 21 & 103 &  17 & 20 & 45 & 22 & 56 & 26 & 56 &  93 &  87 &  50 & 20 & 20 & 68 & 23 & 55 &  63 &  48 & 35 & 45 &  33 & 39 & 28 & 39 & 46 & 19 & 45 & 44 & 35 & 48 &  23 &   35 &  19 & 207 &  82 &  36 &  21 & 183 &  32 &  14 &  73 &   18 &  24 &  14 &  6 & 12 & 15 &   7 &  17 &  19 &  24 &  86 &  22 & 1103 &   84 & 183 &   2 &  72 &  47 &  41 &   9 & 44 &  50 & 91 & 38 & 46 &  75 & 131 &   6 & 48 &  63 & 49 & 226 & 22 & 296 &  13 &  14 & 44 & 17 & 30 & 107 & 32 & 70 & 15 & 92 & 17 & 64 & 91 & 114 & 59 & 94 &  36 & 802 & 35 & 50 & 70 & 94 & 29 &  27 & 25 & 11 &  12 &  66 & 26 & 346 & 45 & 24 & 55 & 24 & 23 & 536 & 33\\\\\n",
       "\tAlcaligenes faecalis et rel. &  1 &   1 &   1 &   2 &  1 &  1 &  1 &  1 &  1 &   1 &   1 &  1 &   1 &  1 &   1 &   2 &   1 &  1 &  1 &  4 &  1 &   1 &   2 &   2 &   2 &   1 &  2 &  1 &  2 &  1 &  1 &  2 &    2 &  4 &  2 &  2 &   2 &   3 &  1 &   1 &   1 &   1 &   1 &  2 &  1 &  1 &  1 &  1 &  1 &   1 &  1 &  3 &  1 &  1 &  1 &  2 &   5 &  1 &   1 &  2 &  2 &  2 &  1 &  2 &  2 &   2 &   3 &   1 &   2 &   2 &   2 &  2 &   3 &  2 &  1 &  2 &  1 &  2 &   1 &  3 &   2 &  1 &  2 &  2 &  2 &   1 &  2 &   3 &  1 &   6 &  1 &  5 &  1 &   2 &  2 &  1 &  2 &   1 &   2 &  2 &   2 &  2 &  2 &   5 &   2 &   4 &  2 &  2 &  2 &  2 &  2 &   1 &  2 &  3 &  4 &   2 &  2 &   3 &  2 &   2 &   2 &  2 &  1 &  1 &  1 &  1 &   1 &  2 &   1 &  2 &  2 &  1 &  2 &   1 &  2 &   2 &   2 &   2 &  1 &   2 &  2 &   1 &  3 &  1 &  2 &   2 &  1 &   2 &  1 &  2 &  5 &  1 &   1 &  1 &  1 &  2 &  2 & 1 &  1 &  2 &   3 &  1 &  1 &   2 &  1 &   2 &  1 &   2 &  2 &   2 &  2 &  1 &  2 &  1 &  2 &   6 &  2 &   2 &   3 &   2 &   2 &   2 &   2 &   3 &  1 &  2 &  15 &   2 &   2 &  4 &  2 &  1 &   3 &  1 &   2 &  1 &  1 &  1 &   1 &   1 &  1 &  1 &  2 &  2 &  2 &  2 &   2 &  2 &  1 &  8 &  2 &   2 &   2 &   1 &   2 &   2 &  1 &  2 &   1 &  2 &  2 &   1 &  1 &   1 &  2 &  1 &  2 &  1 &  1 &   1 &  1 &  2 &   4 &  1 &  1 &  2 &   2 &  1 &  2 &   2 &   1 &   1 &  1 &  1 &  1 &   1 &  2 &   4 &   2 &  2 &   2 &  2 &  2 &   1 &  1 &   1 &   2 &   2 &  1 &   2 &   1 &   1 &   1 &  1 &   2 &  2 &  2 &   2 &   3 &   2 &   2 &  2 &  2 &   2 &  1 &  2 &  2 &  2 &  2 &  2 & 14 &  2 &  1 &   5 &  2 &   2 & 11 &  1 &   2 &   3 &  3 &   3 &  2 &   2 &  2 &  2 &  2 &  2 &  1 &  2 &  4 &  2 &  4 &   2 &   2 &   2 &  2 &  3 &  3 &   2 &  1 &   2 &   2 &   1 &  1 &  1 &  1 &  2 &  2 &  1 &  2 &   2 &  2 &   2 &  1 &   2 &  2 &  4 &  2 &   2 &   2 &  2 &  2 &   2 &   2 &   2 &  2 &   1 &   1 &   2 &  2 &   2 &  3 &  1 &  3 &  1 &   1 &   1 &  1 &   3 &  1 &  1 &  2 &   2 &   1 &    2 &  2 &   4 &   2 &  18 & 209 &   3 &   4 &   4 &    3 & 46 &   4 & 11 &   3 &  1 &   2 &   1 &   3 &  2 &   2 &  2 &   4 &   77 &   4 &    2 &   3 &   2 &   2 &   1 &  1 &   2 &    2 &   2 &  11 &   2 &   2 &  2 &   2 &   2 &   3 &   2 &   2 &   4 &   2 &   1 &   2 &   3 &   2 &   2 &   8 &   2 &   2 &   2 &   2 &   2 &   2 &  2 &    8 &  3 &   3 &   4 &   3 &   2 &   3 &   3 &   2 &  3 &   3 &   2 &  10 &  2 &  1 &   7 &   2 &   2 &  20 &   3 &   2 &   4 &  2 &   5 &   4 &   3 &   2 &   2 &   3 &  11 &   8 &  24 &   2 &   2 & 12 &   2 &   3 &   3 &   2 &   2 &   3 &   3 &   3 &  2 &  2 &   1 &   3 &   7 &   3 &  1 &   9 &   2 &  20 &   3 &  1 &   2 &   5 &  1 &   1 &   2 &   4 &   2 &   4 &   8 &   2 &    2 &  1 &   2 &   2 &   2 &   7 &   2 &   2 &   2 &   5 &   2 &   2 &   4 &   6 &   4 &  17 &   2 &   1 &   7 &   2 &   4 &   2 &   2 &   2 &   5 &   9 &   4 &  2 &  20 &  10 &  9 &  1 &  2 &   1 &   2 &   6 &   3 &   2 &  2 &   2 &   2 &   4 &   2 &   4 &   2 &   3 &   2 &   1 &   2 &    2 &   2 &   2 &   2 &   2 &   1 &   2 &   1 &   2 &   3 &   2 &   1 &   1 &   3 &   2 &   3 &  1 &   2 &   2 &   1 &   2 &   2 &   2 &    2 &  3 &   1 &   2 &   2 &   1 &   1 &   1 &   2 &   2 &   1 &   2 &   1 &   2 &   3 &  1 &   1 &   1 &   2 &   3 &   2 &    2 &   1 &   2 &   1 &   1 &   3 &   1 &   1 &   1 &  2 &   1 &   1 &   1 &  1 &   1 &   1 &   1 &   1 &   1 &   1 &   3 &   2 &   1 &   1 &   1 &   1 &   1 &  5 &  2 &   2 &   2 &   1 &  1 &   1 &   1 &   2 &  1 &   2 &   4 &   6 &   8 &  1 &   2 &   2 &   4 &   2 &   3 &   1 &   1 &   1 &   2 &   2 &   2 &   3 &   2 &   2 &   4 &   2 &   2 &   4 &   2 &  1 &   2 &   2 &   2 &   2 &   2 &   2 &   3 &   2 &   3 &  2 &   3 &   2 &   2 &    1 &   2 &   2 &   3 &   1 &   2 &   3 &   2 &   2 &   3 &   2 &    2 &   2 &   2 &  2 &   3 &   7 &   2 &  2 &   2 &   2 &  2 &  3 &   2 &   5 &   2 &   3 &   13 &   2 &   2 &   2 &   2 &   2 &   3 &   5 &   2 &  1 &   2 &   1 &   1 &   1 &   1 &   1 &   1 &   2 &   1 &   2 &   2 &   2 &   2 &   2 &   3 &   2 &  2 &  2 &   2 &   3 &   1 &   2 &  2 &  2 &   2 &   8 &   3 &   2 &   2 &   2 &   4 &  1 &  11 &   7 &  2 &  4 &  6 &  3 & 12 &  2 &   2 &  4 &  1 &  2 &   2 &  1 &  2 &  2 &  1 &  2 &   2 &  2 &  2 &  2 &    2 &   2 &   2 &   2 &   2 &   2 &   3 &   2 &   2 &   2 &   3 &    4 &  2 &   2 &   2 &  1 &   2 &  2 &   2 &  2 &   2 &   2 &  2 &   2 &  6 &  2 &  2 &  3 &  3 &  2 &   3 &   2 &  7 &  3 &  2 &   4 &  3 &   2 &   2 &  2 &  2 &   2 &   3 &  2 &  1 &  2 &   2 &  2 &  3 &  3 &   3 &   3 &   3 &  2 &   2 &   3 &  2 &  2 &  1 &  2 &   1 &   2 &   2 &   3 &  1 &  2 &   2 &   2 &   3 &   3 &   2 &   2 &   1 &  3 &   2 &   3 &   1 &   2 &  2 &  3 &   3 &  2 &   2 &   2 &   2 &  2 &   2 &   2 &   1 &   1 &   2 &   1 &   2 &   2 &  3 &  3 &   3 &  3 &   2 &   2 &   4 &  2 &  3 &  4 &  2 &  2 &  2 &  3 &  3 &   1 &   1 &   1 &   1 &   2 &   2 &  2 &   2 &   1 &   1 &  2 &   1 &  1 &   2 &  2 &   1 &  1 &    2 &   2 &  1 &   2 &  4 &   2 &   2 &  2 &  3 &  1 &  2 &  1 &   3 &   3 &   2 &   2 &   1 &   1 &   2 &    2 &    2 &   3 &   2 &  2 &  2 &  2 &  1 &   1 &  1 &    1 &  3 &  5 &  83 &  1 &  1 &   1 &   2 &  2 &   2 &   2 &   2 &   2 &   3 &   3 &   2 &  3 &  2 &  2 &  2 &  2 &  1 &  2 &  2 &  1 &  2 &  2 &  2 &   3 &  3 &  3 &  3 &  3 &  2 &  2 &  2 &  2 & 11 &  2 &  2 &  2 &  2 &  4 &   3 &  9 & 21 &  6 &  4 &  3 &   2 &  3 &  2 &  4 &  8 &  2 &  3 &  3 &   2 &  2 &  2 &  3 &  2 &  2 &   2 &  6 &  2 &  2 &  2 &  3 &  2 &   4 &  2 &  2 &  2 &  2 &   3 &   4 &  3 &  2 &  2 &   2 &  6 &  7 &  2 &  2 &  2 &  3 &   5 &   3 &   4 &  3 &  2 &   2 &   4 &   3 &   3 &   3 &  2 &    2 &   2 &  2 &  2 &  2 &  1 &  3 &  4 &  2 &   4 &  3 &   4 &  2 &  4 &  4 &  3 &  3 &   2 &   3 &   2 &   2 &  3 &  2 &  2 &  2 &   2 &  2 &  2 &  3 &  2 &  3 &  2 &  2 &  3 &  3 &  2 &  2 &   3 &   2 &   3 &   3 &   2 &   3 &  2 &   2 &   4 &   3 &   2 &  2 &  2 &   3 &   3 &  1 &  3 &  1 &  3 &  2 &  4 &   2 &   3 &   2 &  3 &  6 &  3 &  2 &  4 &   6 &   3 &  3 &  2 &   4 &  3 &  2 &  3 &  2 &  3 &  2 &  3 &  2 &  3 &   2 &    2 &   2 &   3 &   2 &   5 &   7 & 185 &   3 &   3 &   3 &    3 &  41 &   6 &  5 &  2 &  2 &   2 &   1 &   2 &   2 &   3 &   2 &   11 &   90 &   4 &   2 &   2 &   2 &   2 &   1 &  3 &   1 &  1 &  2 &  1 &   1 &   1 &   2 &  2 &   3 &  1 &   1 &  1 &   1 &   1 &   1 &  2 &  2 &  2 &   1 &  1 &  1 &  1 &  2 &  1 &  2 &  2 &   2 &  1 &  1 &   2 &   1 &  1 &  1 &  2 &  1 &  1 &   1 &  1 &  1 &   1 &   2 &  1 &   1 &  1 &  1 &  2 &  1 &  1 &   1 &  1\\\\\n",
       "\tAllistipes et rel. & 72 & 127 &  34 & 344 & 50 & 57 & 21 &  9 &  9 &  23 &  12 & 12 & 208 & 14 &  13 &  45 &  14 & 15 & 92 & 36 & 14 &   9 & 317 & 232 &  86 & 282 & 69 & 27 & 30 & 11 & 41 & 28 & 1086 & 85 & 94 & 37 & 422 & 411 & 25 & 110 &  58 & 444 & 147 & 21 & 20 & 75 & 64 & 46 & 14 &  21 & 10 & 19 & 11 & 54 & 57 & 10 & 117 & 11 & 124 & 24 & 47 & 19 & 25 & 75 & 23 & 276 & 328 & 111 &  77 & 159 & 134 & 84 & 124 & 54 & 57 & 27 & 63 & 92 & 211 & 91 &  81 & 28 & 97 & 77 & 35 &  21 & 70 & 176 & 27 & 100 & 42 & 29 & 55 & 178 & 53 & 39 & 17 &  45 & 370 & 89 & 140 & 68 & 36 & 147 & 189 & 202 & 86 & 50 & 96 & 23 & 31 & 120 & 69 & 54 & 32 & 127 & 42 & 102 & 49 &  34 &  78 & 66 &  8 & 15 & 83 & 14 &  87 & 55 & 154 & 27 & 18 & 23 & 23 & 138 & 74 & 211 & 403 & 183 & 76 & 258 & 47 & 203 & 45 & 11 & 37 & 249 & 67 & 216 & 16 & 69 & 52 & 19 & 103 & 37 & 21 & 31 & 37 & 9 & 41 & 73 & 203 & 90 & 43 & 183 & 17 & 105 & 41 & 134 & 14 & 144 & 16 & 81 & 46 & 21 & 48 & 289 & 23 & 203 & 183 & 172 & 170 & 143 & 170 & 178 & 65 & 40 & 139 &  30 & 117 & 31 & 69 & 88 & 133 & 13 & 164 & 59 & 38 & 25 &  89 & 143 & 29 & 23 & 78 & 91 & 14 & 50 & 161 & 39 & 32 & 59 & 76 & 119 & 557 & 236 & 421 & 228 & 41 & 48 & 680 & 90 & 66 &  34 & 28 & 540 & 24 & 71 & 92 & 21 & 18 & 198 & 12 & 41 & 149 & 14 & 73 & 81 & 328 & 42 & 23 & 139 & 135 & 187 & 32 & 16 & 38 & 230 & 58 & 283 & 132 & 16 & 148 & 94 & 49 & 142 & 12 & 209 & 240 & 180 & 85 & 117 & 120 & 197 & 183 & 23 & 223 & 36 & 40 & 167 & 167 & 230 & 119 & 31 & 29 & 147 & 12 & 41 & 55 & 95 & 52 & 55 & 22 & 15 & 11 & 151 & 13 & 110 & 34 &  9 & 123 & 224 & 14 & 111 & 12 & 120 & 22 & 29 & 17 & 45 & 18 & 70 & 66 & 55 & 31 & 309 & 119 & 177 & 19 & 19 & 57 & 196 & 28 & 145 & 126 & 104 & 15 & 31 & 10 & 11 & 13 &  9 & 14 &  22 & 12 &  29 & 33 &  11 & 12 & 26 & 15 &  14 &  13 & 20 & 22 & 127 &  12 &  16 & 48 & 284 & 132 & 137 & 74 & 170 & 90 & 29 & 85 & 63 &  60 & 117 & 22 & 179 & 38 & 27 & 49 & 829 & 140 & 1232 & 79 & 312 & 839 & 202 & 666 & 583 & 113 & 236 & 1364 & 61 & 156 & 27 & 178 & 55 & 363 & 269 & 458 & 76 & 226 & 14 & 536 & 1022 & 662 & 1051 & 174 & 175 & 212 & 338 & 61 & 328 & 1858 & 607 & 207 & 836 & 397 & 29 & 150 &  33 & 114 & 323 & 129 & 197 & 418 & 329 & 784 & 268 & 460 & 290 & 526 & 526 & 180 & 303 & 318 & 521 & 173 & 58 & 1064 & 98 & 251 & 164 & 196 & 138 & 124 & 366 & 366 & 51 & 541 & 216 & 721 & 50 & 72 & 212 & 108 & 237 & 392 & 206 & 137 & 228 & 61 & 374 & 316 &  32 & 255 & 237 & 428 & 346 & 250 & 240 & 109 & 174 & 45 & 404 & 223 & 641 & 262 & 250 & 446 & 615 & 618 & 84 & 68 & 165 & 237 & 168 & 325 & 21 & 191 & 356 & 455 & 438 & 91 & 275 & 813 & 72 & 236 & 722 & 857 & 454 & 483 & 171 & 560 & 1017 & 48 & 527 & 307 & 589 & 313 & 141 & 516 & 250 & 393 & 673 & 448 & 216 & 624 & 412 & 662 & 144 & 384 & 231 & 149 & 492 & 651 & 497 & 228 & 693 & 454 & 476 & 66 & 634 & 478 & 60 & 87 & 82 & 275 & 718 & 438 & 505 & 177 & 34 & 567 & 576 & 223 & 534 & 170 & 230 & 322 & 147 & 447 & 519 & 1136 & 220 & 128 & 362 & 182 & 843 & 226 & 214 & 914 & 258 & 114 & 337 & 699 & 185 & 109 & 240 & 47 & 534 & 201 & 334 & 577 & 472 & 186 & 1013 & 87 & 367 & 747 & 502 & 206 & 444 & 202 & 734 & 395 & 904 & 764 & 448 & 442 & 746 & 47 & 442 & 402 & 439 & 242 & 261 & 1171 & 269 & 444 & 765 & 217 & 734 & 548 & 455 &  85 & 75 & 130 & 223 & 433 & 69 & 722 & 195 & 615 & 282 & 336 & 389 & 282 & 169 & 494 & 458 & 258 & 345 & 198 & 34 & 89 & 199 & 138 & 330 & 82 & 380 & 336 & 579 & 43 & 356 & 156 & 348 & 722 & 99 & 360 & 297 & 105 & 555 & 161 & 302 & 181 & 137 & 275 & 642 &  65 & 530 & 129 & 171 & 380 & 125 & 259 & 185 & 344 & 94 & 584 &  98 & 291 & 391 & 105 & 172 & 199 & 307 & 316 & 61 & 380 & 172 & 244 & 1205 & 152 & 438 & 237 & 198 & 257 & 250 & 497 & 158 & 525 & 433 & 1073 & 695 & 793 & 39 & 250 & 273 & 195 & 56 & 364 & 273 & 38 & 38 & 567 & 170 & 951 & 292 & 1321 & 282 & 171 & 296 & 104 & 298 & 276 & 744 & 412 & 54 & 208 & 181 & 343 & 929 & 181 & 124 & 147 & 743 & 297 & 792 & 639 & 260 & 128 & 600 & 832 & 561 & 29 & 94 & 595 & 100 & 184 & 696 & 74 & 11 &  42 & 140 & 312 & 623 & 272 & 158 & 224 & 50 & 114 &  75 & 63 & 68 & 74 & 36 & 60 & 18 &  96 & 70 & 45 & 49 & 105 & 18 & 17 & 52 & 50 & 47 & 112 & 49 & 26 & 14 &  209 & 219 &  50 & 504 & 725 & 328 &  52 &  40 & 877 & 527 & 747 & 1620 & 37 &  85 & 111 & 16 &  99 & 15 &  37 & 75 & 710 & 108 & 19 & 194 & 17 & 20 & 23 & 19 & 69 & 92 &  18 & 286 & 19 & 94 & 90 & 118 & 45 & 210 & 154 & 63 & 21 & 101 & 131 & 57 & 24 & 74 & 105 & 48 & 70 & 64 &  89 &  36 & 119 & 77 & 144 &  65 & 51 & 36 & 69 & 48 & 166 & 124 & 134 & 220 & 12 & 81 & 104 & 185 &  82 & 494 & 274 & 186 & 246 & 39 & 105 & 113 & 155 & 100 & 68 & 65 & 139 & 47 & 352 & 134 & 196 & 14 &  51 & 100 & 223 & 115 & 180 & 184 & 151 & 107 & 45 & 40 & 122 & 36 & 272 & 107 & 124 & 80 & 46 & 50 & 30 & 61 & 76 & 26 & 60 & 101 &  74 & 554 & 289 & 155 & 315 & 39 & 250 & 255 & 143 & 83 & 225 & 54 & 425 & 67 & 176 & 84 & 1044 & 685 & 44 & 381 & 39 &  33 & 154 & 93 & 96 & 91 & 57 & 32 & 545 & 424 & 155 & 111 & 522 & 125 & 131 & 1354 & 1222 & 575 & 210 & 64 & 68 & 20 & 84 & 119 & 69 & 1345 & 78 & 18 & 469 & 93 & 19 & 168 & 162 & 18 & 127 & 376 & 565 & 122 & 161 & 493 &  26 & 18 & 18 & 32 & 20 & 65 & 30 & 12 & 11 & 25 & 87 & 22 & 12 & 257 & 64 & 32 & 64 & 15 & 23 & 37 & 76 & 87 & 18 & 12 & 11 & 18 & 56 & 75 & 369 & 27 & 48 & 64 & 33 & 29 & 301 & 22 & 98 & 30 & 23 & 22 & 73 & 49 & 148 & 82 & 41 & 26 & 52 & 23 & 174 & 38 & 22 & 12 & 15 & 14 & 21 & 110 & 54 & 98 & 12 & 13 & 326 &  49 & 29 & 28 & 66 & 134 & 27 & 64 & 10 & 11 & 38 & 69 & 401 & 104 & 203 & 23 & 41 & 337 & 779 & 812 & 115 & 557 & 63 & 1036 & 171 & 32 & 42 & 74 & 18 & 12 & 40 & 88 &  44 & 67 & 115 & 61 & 20 & 15 & 28 & 55 & 833 & 441 & 499 & 288 & 45 & 58 & 49 & 37 & 100 & 51 & 60 & 23 & 48 & 60 & 39 & 57 & 36 & 25 & 39 & 26 & 277 & 277 & 584 & 367 & 107 & 232 & 41 & 164 & 124 & 144 & 143 & 71 & 80 & 110 & 116 & 99 & 46 & 49 & 56 & 33 & 50 & 148 & 258 & 211 & 60 & 89 & 93 & 90 & 79 & 145 & 104 & 63 & 76 & 115 & 96 & 87 & 26 & 22 & 24 & 30 & 60 & 61 & 85 & 357 & 1027 & 162 & 884 & 463 & 436 & 183 & 349 & 755 & 169 & 191 & 1925 & 115 & 126 & 34 & 43 & 69 & 116 & 514 & 329 & 241 & 251 & 543 &  597 & 1051 & 863 & 217 & 335 & 175 & 328 & 292 & 59 & 387 & 37 & 63 & 19 & 371 & 139 & 112 & 15 & 370 & 43 &  15 & 53 &  20 & 108 & 516 & 43 & 24 & 19 &  70 & 26 & 14 & 59 & 87 & 22 & 75 & 84 &  17 & 26 & 25 & 113 & 218 & 10 & 10 & 23 & 65 & 30 & 172 & 93 & 26 & 108 & 106 & 29 & 568 & 25 & 17 & 37 & 69 & 60 & 134 & 28\\\\\n",
       "\\end{tabular}\n"
      ],
      "text/markdown": [
       "\n",
       "A otu_table: 6 × 1151 of type dbl\n",
       "\n",
       "| <!--/--> | Sample-1 | Sample-2 | Sample-3 | Sample-4 | Sample-5 | Sample-6 | Sample-7 | Sample-8 | Sample-9 | Sample-10 | ⋯ | Sample-1162 | Sample-1163 | Sample-1165 | Sample-1166 | Sample-1167 | Sample-1168 | Sample-1169 | Sample-1170 | Sample-1171 | Sample-1172 |\n",
       "|---|---|---|---|---|---|---|---|---|---|---|---|---|---|---|---|---|---|---|---|---|---|\n",
       "| Actinomycetaceae |  0 |   0 |   0 |   0 |  0 |  0 |  0 |  0 |  0 |   0 | ⋯ |   0 |  0 |   0 |  0 |  0 |  0 |  0 |  1 |   0 |  0 |\n",
       "| Aerococcus |  0 |   0 |   0 |   0 |  0 |  0 |  0 |  0 |  0 |   0 | ⋯ |   0 |  0 |   0 |  0 |  0 |  0 |  0 |  0 |   0 |  0 |\n",
       "| Aeromonas |  0 |   0 |   0 |   0 |  0 |  0 |  0 |  0 |  0 |   0 | ⋯ |   0 |  0 |   0 |  0 |  0 |  0 |  0 |  0 |   0 |  0 |\n",
       "| Akkermansia | 21 |  36 | 475 |  61 | 34 | 14 | 27 | 21 | 78 | 169 | ⋯ |  66 | 26 | 346 | 45 | 24 | 55 | 24 | 23 | 536 | 33 |\n",
       "| Alcaligenes faecalis et rel. |  1 |   1 |   1 |   2 |  1 |  1 |  1 |  1 |  1 |   1 | ⋯ |   2 |  1 |   1 |  1 |  1 |  2 |  1 |  1 |   1 |  1 |\n",
       "| Allistipes et rel. | 72 | 127 |  34 | 344 | 50 | 57 | 21 |  9 |  9 |  23 | ⋯ | 106 | 29 | 568 | 25 | 17 | 37 | 69 | 60 | 134 | 28 |\n",
       "\n"
      ],
      "text/plain": [
       "                             Sample-1 Sample-2 Sample-3 Sample-4 Sample-5\n",
       "Actinomycetaceae              0         0        0        0       0      \n",
       "Aerococcus                    0         0        0        0       0      \n",
       "Aeromonas                     0         0        0        0       0      \n",
       "Akkermansia                  21        36      475       61      34      \n",
       "Alcaligenes faecalis et rel.  1         1        1        2       1      \n",
       "Allistipes et rel.           72       127       34      344      50      \n",
       "                             Sample-6 Sample-7 Sample-8 Sample-9 Sample-10 ⋯\n",
       "Actinomycetaceae              0        0        0        0         0       ⋯\n",
       "Aerococcus                    0        0        0        0         0       ⋯\n",
       "Aeromonas                     0        0        0        0         0       ⋯\n",
       "Akkermansia                  14       27       21       78       169       ⋯\n",
       "Alcaligenes faecalis et rel.  1        1        1        1         1       ⋯\n",
       "Allistipes et rel.           57       21        9        9        23       ⋯\n",
       "                             Sample-1162 Sample-1163 Sample-1165 Sample-1166\n",
       "Actinomycetaceae               0          0            0          0         \n",
       "Aerococcus                     0          0            0          0         \n",
       "Aeromonas                      0          0            0          0         \n",
       "Akkermansia                   66         26          346         45         \n",
       "Alcaligenes faecalis et rel.   2          1            1          1         \n",
       "Allistipes et rel.           106         29          568         25         \n",
       "                             Sample-1167 Sample-1168 Sample-1169 Sample-1170\n",
       "Actinomycetaceae              0           0           0           1         \n",
       "Aerococcus                    0           0           0           0         \n",
       "Aeromonas                     0           0           0           0         \n",
       "Akkermansia                  24          55          24          23         \n",
       "Alcaligenes faecalis et rel.  1           2           1           1         \n",
       "Allistipes et rel.           17          37          69          60         \n",
       "                             Sample-1171 Sample-1172\n",
       "Actinomycetaceae               0          0         \n",
       "Aerococcus                     0          0         \n",
       "Aeromonas                      0          0         \n",
       "Akkermansia                  536         33         \n",
       "Alcaligenes faecalis et rel.   1          1         \n",
       "Allistipes et rel.           134         28         "
      ]
     },
     "metadata": {},
     "output_type": "display_data"
    },
    {
     "data": {
      "text/html": [
       "<table>\n",
       "<caption>A sample_data: 6 × 10</caption>\n",
       "<thead>\n",
       "\t<tr><th></th><th scope=col>age</th><th scope=col>sex</th><th scope=col>nationality</th><th scope=col>DNA_extraction_method</th><th scope=col>project</th><th scope=col>diversity</th><th scope=col>bmi_group</th><th scope=col>subject</th><th scope=col>time</th><th scope=col>sample</th></tr>\n",
       "\t<tr><th></th><th scope=col>&lt;int&gt;</th><th scope=col>&lt;fct&gt;</th><th scope=col>&lt;fct&gt;</th><th scope=col>&lt;fct&gt;</th><th scope=col>&lt;fct&gt;</th><th scope=col>&lt;dbl&gt;</th><th scope=col>&lt;fct&gt;</th><th scope=col>&lt;fct&gt;</th><th scope=col>&lt;dbl&gt;</th><th scope=col>&lt;chr&gt;</th></tr>\n",
       "</thead>\n",
       "<tbody>\n",
       "\t<tr><th scope=row>Sample-1</th><td>28</td><td>male  </td><td>US</td><td>NA</td><td>1</td><td>5.76</td><td>severeobese</td><td>1</td><td>0</td><td>Sample-1</td></tr>\n",
       "\t<tr><th scope=row>Sample-2</th><td>24</td><td>female</td><td>US</td><td>NA</td><td>1</td><td>6.06</td><td>obese      </td><td>2</td><td>0</td><td>Sample-2</td></tr>\n",
       "\t<tr><th scope=row>Sample-3</th><td>52</td><td>male  </td><td>US</td><td>NA</td><td>1</td><td>5.50</td><td>lean       </td><td>3</td><td>0</td><td>Sample-3</td></tr>\n",
       "\t<tr><th scope=row>Sample-4</th><td>22</td><td>female</td><td>US</td><td>NA</td><td>1</td><td>5.87</td><td>underweight</td><td>4</td><td>0</td><td>Sample-4</td></tr>\n",
       "\t<tr><th scope=row>Sample-5</th><td>25</td><td>female</td><td>US</td><td>NA</td><td>1</td><td>5.89</td><td>lean       </td><td>5</td><td>0</td><td>Sample-5</td></tr>\n",
       "\t<tr><th scope=row>Sample-6</th><td>42</td><td>male  </td><td>US</td><td>NA</td><td>1</td><td>5.53</td><td>lean       </td><td>6</td><td>0</td><td>Sample-6</td></tr>\n",
       "</tbody>\n",
       "</table>\n"
      ],
      "text/latex": [
       "A sample_data: 6 × 10\n",
       "\\begin{tabular}{r|llllllllll}\n",
       "  & age & sex & nationality & DNA\\_extraction\\_method & project & diversity & bmi\\_group & subject & time & sample\\\\\n",
       "  & <int> & <fct> & <fct> & <fct> & <fct> & <dbl> & <fct> & <fct> & <dbl> & <chr>\\\\\n",
       "\\hline\n",
       "\tSample-1 & 28 & male   & US & NA & 1 & 5.76 & severeobese & 1 & 0 & Sample-1\\\\\n",
       "\tSample-2 & 24 & female & US & NA & 1 & 6.06 & obese       & 2 & 0 & Sample-2\\\\\n",
       "\tSample-3 & 52 & male   & US & NA & 1 & 5.50 & lean        & 3 & 0 & Sample-3\\\\\n",
       "\tSample-4 & 22 & female & US & NA & 1 & 5.87 & underweight & 4 & 0 & Sample-4\\\\\n",
       "\tSample-5 & 25 & female & US & NA & 1 & 5.89 & lean        & 5 & 0 & Sample-5\\\\\n",
       "\tSample-6 & 42 & male   & US & NA & 1 & 5.53 & lean        & 6 & 0 & Sample-6\\\\\n",
       "\\end{tabular}\n"
      ],
      "text/markdown": [
       "\n",
       "A sample_data: 6 × 10\n",
       "\n",
       "| <!--/--> | age &lt;int&gt; | sex &lt;fct&gt; | nationality &lt;fct&gt; | DNA_extraction_method &lt;fct&gt; | project &lt;fct&gt; | diversity &lt;dbl&gt; | bmi_group &lt;fct&gt; | subject &lt;fct&gt; | time &lt;dbl&gt; | sample &lt;chr&gt; |\n",
       "|---|---|---|---|---|---|---|---|---|---|---|\n",
       "| Sample-1 | 28 | male   | US | NA | 1 | 5.76 | severeobese | 1 | 0 | Sample-1 |\n",
       "| Sample-2 | 24 | female | US | NA | 1 | 6.06 | obese       | 2 | 0 | Sample-2 |\n",
       "| Sample-3 | 52 | male   | US | NA | 1 | 5.50 | lean        | 3 | 0 | Sample-3 |\n",
       "| Sample-4 | 22 | female | US | NA | 1 | 5.87 | underweight | 4 | 0 | Sample-4 |\n",
       "| Sample-5 | 25 | female | US | NA | 1 | 5.89 | lean        | 5 | 0 | Sample-5 |\n",
       "| Sample-6 | 42 | male   | US | NA | 1 | 5.53 | lean        | 6 | 0 | Sample-6 |\n",
       "\n"
      ],
      "text/plain": [
       "         age sex    nationality DNA_extraction_method project diversity\n",
       "Sample-1 28  male   US          NA                    1       5.76     \n",
       "Sample-2 24  female US          NA                    1       6.06     \n",
       "Sample-3 52  male   US          NA                    1       5.50     \n",
       "Sample-4 22  female US          NA                    1       5.87     \n",
       "Sample-5 25  female US          NA                    1       5.89     \n",
       "Sample-6 42  male   US          NA                    1       5.53     \n",
       "         bmi_group   subject time sample  \n",
       "Sample-1 severeobese 1       0    Sample-1\n",
       "Sample-2 obese       2       0    Sample-2\n",
       "Sample-3 lean        3       0    Sample-3\n",
       "Sample-4 underweight 4       0    Sample-4\n",
       "Sample-5 lean        5       0    Sample-5\n",
       "Sample-6 lean        6       0    Sample-6"
      ]
     },
     "metadata": {},
     "output_type": "display_data"
    },
    {
     "data": {
      "text/html": [
       "<table>\n",
       "<caption>A taxonomyTable: 6 × 3 of type chr</caption>\n",
       "<thead>\n",
       "\t<tr><th></th><th scope=col>Phylum</th><th scope=col>Family</th><th scope=col>Genus</th></tr>\n",
       "</thead>\n",
       "<tbody>\n",
       "\t<tr><th scope=row>Actinomycetaceae</th><td>Actinobacteria </td><td>Actinobacteria </td><td>Actinomycetaceae            </td></tr>\n",
       "\t<tr><th scope=row>Aerococcus</th><td>Firmicutes     </td><td>Bacilli        </td><td>Aerococcus                  </td></tr>\n",
       "\t<tr><th scope=row>Aeromonas</th><td>Proteobacteria </td><td>Proteobacteria </td><td>Aeromonas                   </td></tr>\n",
       "\t<tr><th scope=row>Akkermansia</th><td>Verrucomicrobia</td><td>Verrucomicrobia</td><td>Akkermansia                 </td></tr>\n",
       "\t<tr><th scope=row>Alcaligenes faecalis et rel.</th><td>Proteobacteria </td><td>Proteobacteria </td><td>Alcaligenes faecalis et rel.</td></tr>\n",
       "\t<tr><th scope=row>Allistipes et rel.</th><td>Bacteroidetes  </td><td>Bacteroidetes  </td><td>Allistipes et rel.          </td></tr>\n",
       "</tbody>\n",
       "</table>\n"
      ],
      "text/latex": [
       "A taxonomyTable: 6 × 3 of type chr\n",
       "\\begin{tabular}{r|lll}\n",
       "  & Phylum & Family & Genus\\\\\n",
       "\\hline\n",
       "\tActinomycetaceae & Actinobacteria  & Actinobacteria  & Actinomycetaceae            \\\\\n",
       "\tAerococcus & Firmicutes      & Bacilli         & Aerococcus                  \\\\\n",
       "\tAeromonas & Proteobacteria  & Proteobacteria  & Aeromonas                   \\\\\n",
       "\tAkkermansia & Verrucomicrobia & Verrucomicrobia & Akkermansia                 \\\\\n",
       "\tAlcaligenes faecalis et rel. & Proteobacteria  & Proteobacteria  & Alcaligenes faecalis et rel.\\\\\n",
       "\tAllistipes et rel. & Bacteroidetes   & Bacteroidetes   & Allistipes et rel.          \\\\\n",
       "\\end{tabular}\n"
      ],
      "text/markdown": [
       "\n",
       "A taxonomyTable: 6 × 3 of type chr\n",
       "\n",
       "| <!--/--> | Phylum | Family | Genus |\n",
       "|---|---|---|---|\n",
       "| Actinomycetaceae | Actinobacteria  | Actinobacteria  | Actinomycetaceae             |\n",
       "| Aerococcus | Firmicutes      | Bacilli         | Aerococcus                   |\n",
       "| Aeromonas | Proteobacteria  | Proteobacteria  | Aeromonas                    |\n",
       "| Akkermansia | Verrucomicrobia | Verrucomicrobia | Akkermansia                  |\n",
       "| Alcaligenes faecalis et rel. | Proteobacteria  | Proteobacteria  | Alcaligenes faecalis et rel. |\n",
       "| Allistipes et rel. | Bacteroidetes   | Bacteroidetes   | Allistipes et rel.           |\n",
       "\n"
      ],
      "text/plain": [
       "                             Phylum          Family         \n",
       "Actinomycetaceae             Actinobacteria  Actinobacteria \n",
       "Aerococcus                   Firmicutes      Bacilli        \n",
       "Aeromonas                    Proteobacteria  Proteobacteria \n",
       "Akkermansia                  Verrucomicrobia Verrucomicrobia\n",
       "Alcaligenes faecalis et rel. Proteobacteria  Proteobacteria \n",
       "Allistipes et rel.           Bacteroidetes   Bacteroidetes  \n",
       "                             Genus                       \n",
       "Actinomycetaceae             Actinomycetaceae            \n",
       "Aerococcus                   Aerococcus                  \n",
       "Aeromonas                    Aeromonas                   \n",
       "Akkermansia                  Akkermansia                 \n",
       "Alcaligenes faecalis et rel. Alcaligenes faecalis et rel.\n",
       "Allistipes et rel.           Allistipes et rel.          "
      ]
     },
     "metadata": {},
     "output_type": "display_data"
    }
   ],
   "source": [
    "# Import data\n",
    "data(atlas1006)   \n",
    "pseq <- atlas1006\n",
    "\n",
    "head(otu_table(pseq))\n",
    "head(sample_data(pseq))\n",
    "head(tax_table(pseq))"
   ]
  },
  {
   "cell_type": "markdown",
   "metadata": {},
   "source": [
    "#### Summarizing the contents of a phyloseq object"
   ]
  },
  {
   "cell_type": "code",
   "execution_count": 4,
   "metadata": {},
   "outputs": [
    {
     "name": "stdout",
     "output_type": "stream",
     "text": [
      "Compositional = NO\n",
      "1] Min. number of reads = 1900 \n",
      "2] Max. number of reads = 28883 \n",
      "3] Total number of reads = 13546564 \n",
      "4] Average number of reads = 11769.3866203301 \n",
      "5] Median number of reads = 11171 \n",
      "7] Sparsity = 0.209002205440086 \n",
      "6] Any OTU sum to 1 or less? NO \n",
      "8] Number of singletons = 0 \n",
      "9] Percent of OTUs that are singletons 0 \n",
      "10] Number of sample variables are: 10 \n",
      "age \n",
      "sex \n",
      "nationality \n",
      "DNA_extraction_method \n",
      "project \n",
      "diversity \n",
      "bmi_group \n",
      "subject \n",
      "time \n",
      "sample\n"
     ]
    }
   ],
   "source": [
    "summarize_phyloseq(pseq)"
   ]
  },
  {
   "cell_type": "code",
   "execution_count": 41,
   "metadata": {},
   "outputs": [
    {
     "data": {
      "text/plain": [
       "phyloseq-class experiment-level object\n",
       "otu_table()   OTU Table:         [ 130 taxa and 1151 samples ]\n",
       "sample_data() Sample Data:       [ 1151 samples by 10 sample variables ]\n",
       "tax_table()   Taxonomy Table:    [ 130 taxa by 3 taxonomic ranks ]"
      ]
     },
     "metadata": {},
     "output_type": "display_data"
    }
   ],
   "source": [
    "pseq"
   ]
  },
  {
   "cell_type": "markdown",
   "metadata": {},
   "source": [
    "#### Retrieving data elements from phyloseq object"
   ]
  },
  {
   "cell_type": "code",
   "execution_count": 13,
   "metadata": {},
   "outputs": [
    {
     "data": {
      "text/html": [
       "<table>\n",
       "<caption>A sample_data: 6 × 10</caption>\n",
       "<thead>\n",
       "\t<tr><th></th><th scope=col>age</th><th scope=col>sex</th><th scope=col>nationality</th><th scope=col>DNA_extraction_method</th><th scope=col>project</th><th scope=col>diversity</th><th scope=col>bmi_group</th><th scope=col>subject</th><th scope=col>time</th><th scope=col>sample</th></tr>\n",
       "\t<tr><th></th><th scope=col>&lt;int&gt;</th><th scope=col>&lt;fct&gt;</th><th scope=col>&lt;fct&gt;</th><th scope=col>&lt;fct&gt;</th><th scope=col>&lt;fct&gt;</th><th scope=col>&lt;dbl&gt;</th><th scope=col>&lt;fct&gt;</th><th scope=col>&lt;fct&gt;</th><th scope=col>&lt;dbl&gt;</th><th scope=col>&lt;chr&gt;</th></tr>\n",
       "</thead>\n",
       "<tbody>\n",
       "\t<tr><th scope=row>Sample-1</th><td>28</td><td>male  </td><td>US</td><td>NA</td><td>1</td><td>5.76</td><td>severeobese</td><td>1</td><td>0</td><td>Sample-1</td></tr>\n",
       "\t<tr><th scope=row>Sample-2</th><td>24</td><td>female</td><td>US</td><td>NA</td><td>1</td><td>6.06</td><td>obese      </td><td>2</td><td>0</td><td>Sample-2</td></tr>\n",
       "\t<tr><th scope=row>Sample-3</th><td>52</td><td>male  </td><td>US</td><td>NA</td><td>1</td><td>5.50</td><td>lean       </td><td>3</td><td>0</td><td>Sample-3</td></tr>\n",
       "\t<tr><th scope=row>Sample-4</th><td>22</td><td>female</td><td>US</td><td>NA</td><td>1</td><td>5.87</td><td>underweight</td><td>4</td><td>0</td><td>Sample-4</td></tr>\n",
       "\t<tr><th scope=row>Sample-5</th><td>25</td><td>female</td><td>US</td><td>NA</td><td>1</td><td>5.89</td><td>lean       </td><td>5</td><td>0</td><td>Sample-5</td></tr>\n",
       "\t<tr><th scope=row>Sample-6</th><td>42</td><td>male  </td><td>US</td><td>NA</td><td>1</td><td>5.53</td><td>lean       </td><td>6</td><td>0</td><td>Sample-6</td></tr>\n",
       "</tbody>\n",
       "</table>\n"
      ],
      "text/latex": [
       "A sample_data: 6 × 10\n",
       "\\begin{tabular}{r|llllllllll}\n",
       "  & age & sex & nationality & DNA\\_extraction\\_method & project & diversity & bmi\\_group & subject & time & sample\\\\\n",
       "  & <int> & <fct> & <fct> & <fct> & <fct> & <dbl> & <fct> & <fct> & <dbl> & <chr>\\\\\n",
       "\\hline\n",
       "\tSample-1 & 28 & male   & US & NA & 1 & 5.76 & severeobese & 1 & 0 & Sample-1\\\\\n",
       "\tSample-2 & 24 & female & US & NA & 1 & 6.06 & obese       & 2 & 0 & Sample-2\\\\\n",
       "\tSample-3 & 52 & male   & US & NA & 1 & 5.50 & lean        & 3 & 0 & Sample-3\\\\\n",
       "\tSample-4 & 22 & female & US & NA & 1 & 5.87 & underweight & 4 & 0 & Sample-4\\\\\n",
       "\tSample-5 & 25 & female & US & NA & 1 & 5.89 & lean        & 5 & 0 & Sample-5\\\\\n",
       "\tSample-6 & 42 & male   & US & NA & 1 & 5.53 & lean        & 6 & 0 & Sample-6\\\\\n",
       "\\end{tabular}\n"
      ],
      "text/markdown": [
       "\n",
       "A sample_data: 6 × 10\n",
       "\n",
       "| <!--/--> | age &lt;int&gt; | sex &lt;fct&gt; | nationality &lt;fct&gt; | DNA_extraction_method &lt;fct&gt; | project &lt;fct&gt; | diversity &lt;dbl&gt; | bmi_group &lt;fct&gt; | subject &lt;fct&gt; | time &lt;dbl&gt; | sample &lt;chr&gt; |\n",
       "|---|---|---|---|---|---|---|---|---|---|---|\n",
       "| Sample-1 | 28 | male   | US | NA | 1 | 5.76 | severeobese | 1 | 0 | Sample-1 |\n",
       "| Sample-2 | 24 | female | US | NA | 1 | 6.06 | obese       | 2 | 0 | Sample-2 |\n",
       "| Sample-3 | 52 | male   | US | NA | 1 | 5.50 | lean        | 3 | 0 | Sample-3 |\n",
       "| Sample-4 | 22 | female | US | NA | 1 | 5.87 | underweight | 4 | 0 | Sample-4 |\n",
       "| Sample-5 | 25 | female | US | NA | 1 | 5.89 | lean        | 5 | 0 | Sample-5 |\n",
       "| Sample-6 | 42 | male   | US | NA | 1 | 5.53 | lean        | 6 | 0 | Sample-6 |\n",
       "\n"
      ],
      "text/plain": [
       "         age sex    nationality DNA_extraction_method project diversity\n",
       "Sample-1 28  male   US          NA                    1       5.76     \n",
       "Sample-2 24  female US          NA                    1       6.06     \n",
       "Sample-3 52  male   US          NA                    1       5.50     \n",
       "Sample-4 22  female US          NA                    1       5.87     \n",
       "Sample-5 25  female US          NA                    1       5.89     \n",
       "Sample-6 42  male   US          NA                    1       5.53     \n",
       "         bmi_group   subject time sample  \n",
       "Sample-1 severeobese 1       0    Sample-1\n",
       "Sample-2 obese       2       0    Sample-2\n",
       "Sample-3 lean        3       0    Sample-3\n",
       "Sample-4 underweight 4       0    Sample-4\n",
       "Sample-5 lean        5       0    Sample-5\n",
       "Sample-6 lean        6       0    Sample-6"
      ]
     },
     "metadata": {},
     "output_type": "display_data"
    }
   ],
   "source": [
    "# Pick metadata as data.frame\n",
    "meta <- meta(pseq) \n",
    "# or \n",
    "meta <- sample_data(pseq)\n",
    "\n",
    "head(meta)"
   ]
  },
  {
   "cell_type": "code",
   "execution_count": 14,
   "metadata": {},
   "outputs": [
    {
     "data": {
      "text/html": [
       "<table>\n",
       "<caption>A taxonomyTable: 6 × 3 of type chr</caption>\n",
       "<thead>\n",
       "\t<tr><th></th><th scope=col>Phylum</th><th scope=col>Family</th><th scope=col>Genus</th></tr>\n",
       "</thead>\n",
       "<tbody>\n",
       "\t<tr><th scope=row>Actinomycetaceae</th><td>Actinobacteria </td><td>Actinobacteria </td><td>Actinomycetaceae            </td></tr>\n",
       "\t<tr><th scope=row>Aerococcus</th><td>Firmicutes     </td><td>Bacilli        </td><td>Aerococcus                  </td></tr>\n",
       "\t<tr><th scope=row>Aeromonas</th><td>Proteobacteria </td><td>Proteobacteria </td><td>Aeromonas                   </td></tr>\n",
       "\t<tr><th scope=row>Akkermansia</th><td>Verrucomicrobia</td><td>Verrucomicrobia</td><td>Akkermansia                 </td></tr>\n",
       "\t<tr><th scope=row>Alcaligenes faecalis et rel.</th><td>Proteobacteria </td><td>Proteobacteria </td><td>Alcaligenes faecalis et rel.</td></tr>\n",
       "\t<tr><th scope=row>Allistipes et rel.</th><td>Bacteroidetes  </td><td>Bacteroidetes  </td><td>Allistipes et rel.          </td></tr>\n",
       "</tbody>\n",
       "</table>\n"
      ],
      "text/latex": [
       "A taxonomyTable: 6 × 3 of type chr\n",
       "\\begin{tabular}{r|lll}\n",
       "  & Phylum & Family & Genus\\\\\n",
       "\\hline\n",
       "\tActinomycetaceae & Actinobacteria  & Actinobacteria  & Actinomycetaceae            \\\\\n",
       "\tAerococcus & Firmicutes      & Bacilli         & Aerococcus                  \\\\\n",
       "\tAeromonas & Proteobacteria  & Proteobacteria  & Aeromonas                   \\\\\n",
       "\tAkkermansia & Verrucomicrobia & Verrucomicrobia & Akkermansia                 \\\\\n",
       "\tAlcaligenes faecalis et rel. & Proteobacteria  & Proteobacteria  & Alcaligenes faecalis et rel.\\\\\n",
       "\tAllistipes et rel. & Bacteroidetes   & Bacteroidetes   & Allistipes et rel.          \\\\\n",
       "\\end{tabular}\n"
      ],
      "text/markdown": [
       "\n",
       "A taxonomyTable: 6 × 3 of type chr\n",
       "\n",
       "| <!--/--> | Phylum | Family | Genus |\n",
       "|---|---|---|---|\n",
       "| Actinomycetaceae | Actinobacteria  | Actinobacteria  | Actinomycetaceae             |\n",
       "| Aerococcus | Firmicutes      | Bacilli         | Aerococcus                   |\n",
       "| Aeromonas | Proteobacteria  | Proteobacteria  | Aeromonas                    |\n",
       "| Akkermansia | Verrucomicrobia | Verrucomicrobia | Akkermansia                  |\n",
       "| Alcaligenes faecalis et rel. | Proteobacteria  | Proteobacteria  | Alcaligenes faecalis et rel. |\n",
       "| Allistipes et rel. | Bacteroidetes   | Bacteroidetes   | Allistipes et rel.           |\n",
       "\n"
      ],
      "text/plain": [
       "                             Phylum          Family         \n",
       "Actinomycetaceae             Actinobacteria  Actinobacteria \n",
       "Aerococcus                   Firmicutes      Bacilli        \n",
       "Aeromonas                    Proteobacteria  Proteobacteria \n",
       "Akkermansia                  Verrucomicrobia Verrucomicrobia\n",
       "Alcaligenes faecalis et rel. Proteobacteria  Proteobacteria \n",
       "Allistipes et rel.           Bacteroidetes   Bacteroidetes  \n",
       "                             Genus                       \n",
       "Actinomycetaceae             Actinomycetaceae            \n",
       "Aerococcus                   Aerococcus                  \n",
       "Aeromonas                    Aeromonas                   \n",
       "Akkermansia                  Akkermansia                 \n",
       "Alcaligenes faecalis et rel. Alcaligenes faecalis et rel.\n",
       "Allistipes et rel.           Allistipes et rel.          "
      ]
     },
     "metadata": {},
     "output_type": "display_data"
    }
   ],
   "source": [
    "# Taxonomy table\n",
    "taxonomy <- tax_table(pseq)\n",
    "\n",
    "head(taxonomy)"
   ]
  },
  {
   "cell_type": "code",
   "execution_count": 42,
   "metadata": {},
   "outputs": [
    {
     "data": {
      "text/html": [
       "<table>\n",
       "<caption>A matrix: 6 × 1151 of type dbl</caption>\n",
       "<thead>\n",
       "\t<tr><th></th><th scope=col>Sample-1</th><th scope=col>Sample-2</th><th scope=col>Sample-3</th><th scope=col>Sample-4</th><th scope=col>Sample-5</th><th scope=col>Sample-6</th><th scope=col>Sample-7</th><th scope=col>Sample-8</th><th scope=col>Sample-9</th><th scope=col>Sample-10</th><th scope=col>⋯</th><th scope=col>Sample-1162</th><th scope=col>Sample-1163</th><th scope=col>Sample-1165</th><th scope=col>Sample-1166</th><th scope=col>Sample-1167</th><th scope=col>Sample-1168</th><th scope=col>Sample-1169</th><th scope=col>Sample-1170</th><th scope=col>Sample-1171</th><th scope=col>Sample-1172</th></tr>\n",
       "</thead>\n",
       "<tbody>\n",
       "\t<tr><th scope=row>Actinomycetaceae</th><td> 0</td><td>  0</td><td>  0</td><td>  0</td><td> 0</td><td> 0</td><td> 0</td><td> 0</td><td> 0</td><td>  0</td><td>⋯</td><td>  0</td><td> 0</td><td>  0</td><td> 0</td><td> 0</td><td> 0</td><td> 0</td><td> 1</td><td>  0</td><td> 0</td></tr>\n",
       "\t<tr><th scope=row>Aerococcus</th><td> 0</td><td>  0</td><td>  0</td><td>  0</td><td> 0</td><td> 0</td><td> 0</td><td> 0</td><td> 0</td><td>  0</td><td>⋯</td><td>  0</td><td> 0</td><td>  0</td><td> 0</td><td> 0</td><td> 0</td><td> 0</td><td> 0</td><td>  0</td><td> 0</td></tr>\n",
       "\t<tr><th scope=row>Aeromonas</th><td> 0</td><td>  0</td><td>  0</td><td>  0</td><td> 0</td><td> 0</td><td> 0</td><td> 0</td><td> 0</td><td>  0</td><td>⋯</td><td>  0</td><td> 0</td><td>  0</td><td> 0</td><td> 0</td><td> 0</td><td> 0</td><td> 0</td><td>  0</td><td> 0</td></tr>\n",
       "\t<tr><th scope=row>Akkermansia</th><td>21</td><td> 36</td><td>475</td><td> 61</td><td>34</td><td>14</td><td>27</td><td>21</td><td>78</td><td>169</td><td>⋯</td><td> 66</td><td>26</td><td>346</td><td>45</td><td>24</td><td>55</td><td>24</td><td>23</td><td>536</td><td>33</td></tr>\n",
       "\t<tr><th scope=row>Alcaligenes faecalis et rel.</th><td> 1</td><td>  1</td><td>  1</td><td>  2</td><td> 1</td><td> 1</td><td> 1</td><td> 1</td><td> 1</td><td>  1</td><td>⋯</td><td>  2</td><td> 1</td><td>  1</td><td> 1</td><td> 1</td><td> 2</td><td> 1</td><td> 1</td><td>  1</td><td> 1</td></tr>\n",
       "\t<tr><th scope=row>Allistipes et rel.</th><td>72</td><td>127</td><td> 34</td><td>344</td><td>50</td><td>57</td><td>21</td><td> 9</td><td> 9</td><td> 23</td><td>⋯</td><td>106</td><td>29</td><td>568</td><td>25</td><td>17</td><td>37</td><td>69</td><td>60</td><td>134</td><td>28</td></tr>\n",
       "</tbody>\n",
       "</table>\n"
      ],
      "text/latex": [
       "A matrix: 6 × 1151 of type dbl\n",
       "\\begin{tabular}{r|lllllllllllllllllllllllllllllllllllllllllllllllllllllllllllllllllllllllllllllllllllllllllllllllllllllllllllllllllllllllllllllllllllllllllllllllllllllllllllllllllllllllllllllllllllllllllllllllllllllllllllllllllllllllllllllllllllllllllllllllllllllllllllllllllllllllllllllllllllllllllllllllllllllllllllllllllllllllllllllllllllllllllllllllllllllllllllllllllllllllllllllllllllllllllllllllllllllllllllllllllllllllllllllllllllllllllllllllllllllllllllllllllllllllllllllllllllllllllllllllllllllllllllllllllllllllllllllllllllllllllllllllllllllllllllllllllllllllllllllllllllllllllllllllllllllllllllllllllllllllllllllllllllllllllllllllllllllllllllllllllllllllllllllllllllllllllllllllllllllllllllllllllllllllllllllllllllllllllllllllllllllllllllllllllllllllllllllllllllllllllllllllllllllllllllllllllllllllllllllllllllllllllllllllllllllllllllllllllllllllllllllllllllllllllllllllllllllllllllllllllllllllllllllllllllllllllllllllllllllllllllllllllllllllllllllllllllllllllllllllllllllllllllllllllllllllllllllllllllllllllllllllllllllllllllllllllllllllllllllllllllllllllllllllllllllllllllllllllllllllllllllllllllllllllllllllllllllllllllllllllllllllllllllllllllllllllllllll}\n",
       "  & Sample-1 & Sample-2 & Sample-3 & Sample-4 & Sample-5 & Sample-6 & Sample-7 & Sample-8 & Sample-9 & Sample-10 & Sample-11 & Sample-12 & Sample-13 & Sample-14 & Sample-15 & Sample-16 & Sample-17 & Sample-18 & Sample-19 & Sample-20 & Sample-21 & Sample-22 & Sample-23 & Sample-24 & Sample-25 & Sample-26 & Sample-27 & Sample-28 & Sample-29 & Sample-30 & Sample-31 & Sample-32 & Sample-33 & Sample-34 & Sample-35 & Sample-36 & Sample-37 & Sample-38 & Sample-39 & Sample-40 & Sample-41 & Sample-42 & Sample-43 & Sample-44 & Sample-45 & Sample-46 & Sample-47 & Sample-48 & Sample-49 & Sample-50 & Sample-51 & Sample-52 & Sample-53 & Sample-54 & Sample-55 & Sample-56 & Sample-57 & Sample-58 & Sample-59 & Sample-60 & Sample-61 & Sample-62 & Sample-63 & Sample-64 & Sample-65 & Sample-66 & Sample-67 & Sample-68 & Sample-69 & Sample-70 & Sample-71 & Sample-72 & Sample-73 & Sample-74 & Sample-75 & Sample-76 & Sample-77 & Sample-78 & Sample-79 & Sample-80 & Sample-81 & Sample-82 & Sample-83 & Sample-84 & Sample-85 & Sample-86 & Sample-87 & Sample-88 & Sample-89 & Sample-90 & Sample-91 & Sample-92 & Sample-93 & Sample-94 & Sample-95 & Sample-96 & Sample-97 & Sample-98 & Sample-99 & Sample-100 & Sample-101 & Sample-102 & Sample-103 & Sample-104 & Sample-105 & Sample-106 & Sample-107 & Sample-108 & Sample-109 & Sample-110 & Sample-111 & Sample-112 & Sample-113 & Sample-114 & Sample-115 & Sample-116 & Sample-117 & Sample-118 & Sample-119 & Sample-120 & Sample-121 & Sample-122 & Sample-123 & Sample-124 & Sample-125 & Sample-126 & Sample-127 & Sample-128 & Sample-129 & Sample-130 & Sample-131 & Sample-132 & Sample-133 & Sample-134 & Sample-135 & Sample-136 & Sample-137 & Sample-138 & Sample-139 & Sample-140 & Sample-141 & Sample-142 & Sample-143 & Sample-144 & Sample-145 & Sample-146 & Sample-147 & Sample-148 & Sample-149 & Sample-150 & Sample-151 & Sample-152 & Sample-153 & Sample-154 & Sample-155 & Sample-156 & Sample-157 & Sample-158 & Sample-159 & Sample-160 & Sample-161 & Sample-162 & Sample-163 & Sample-164 & Sample-165 & Sample-166 & Sample-167 & Sample-168 & Sample-169 & Sample-170 & Sample-171 & Sample-172 & Sample-173 & Sample-174 & Sample-175 & Sample-176 & Sample-177 & Sample-178 & Sample-179 & Sample-180 & Sample-181 & Sample-182 & Sample-183 & Sample-184 & Sample-185 & Sample-186 & Sample-187 & Sample-188 & Sample-189 & Sample-190 & Sample-191 & Sample-192 & Sample-193 & Sample-194 & Sample-195 & Sample-196 & Sample-197 & Sample-198 & Sample-199 & Sample-200 & Sample-201 & Sample-202 & Sample-203 & Sample-204 & Sample-205 & Sample-206 & Sample-207 & Sample-208 & Sample-209 & Sample-210 & Sample-211 & Sample-212 & Sample-213 & Sample-214 & Sample-215 & Sample-216 & Sample-217 & Sample-218 & Sample-219 & Sample-220 & Sample-221 & Sample-222 & Sample-223 & Sample-224 & Sample-225 & Sample-226 & Sample-227 & Sample-228 & Sample-229 & Sample-230 & Sample-231 & Sample-232 & Sample-233 & Sample-234 & Sample-235 & Sample-236 & Sample-237 & Sample-238 & Sample-239 & Sample-240 & Sample-241 & Sample-242 & Sample-243 & Sample-244 & Sample-245 & Sample-246 & Sample-247 & Sample-248 & Sample-249 & Sample-250 & Sample-251 & Sample-252 & Sample-253 & Sample-254 & Sample-255 & Sample-256 & Sample-257 & Sample-258 & Sample-259 & Sample-260 & Sample-261 & Sample-262 & Sample-263 & Sample-264 & Sample-265 & Sample-266 & Sample-267 & Sample-268 & Sample-269 & Sample-270 & Sample-271 & Sample-272 & Sample-273 & Sample-274 & Sample-275 & Sample-276 & Sample-277 & Sample-278 & Sample-279 & Sample-280 & Sample-281 & Sample-282 & Sample-283 & Sample-284 & Sample-285 & Sample-286 & Sample-287 & Sample-288 & Sample-289 & Sample-290 & Sample-291 & Sample-292 & Sample-293 & Sample-294 & Sample-295 & Sample-296 & Sample-297 & Sample-298 & Sample-299 & Sample-300 & Sample-301 & Sample-302 & Sample-303 & Sample-304 & Sample-305 & Sample-306 & Sample-307 & Sample-308 & Sample-309 & Sample-310 & Sample-311 & Sample-312 & Sample-313 & Sample-314 & Sample-315 & Sample-316 & Sample-317 & Sample-318 & Sample-319 & Sample-320 & Sample-321 & Sample-322 & Sample-323 & Sample-324 & Sample-325 & Sample-326 & Sample-327 & Sample-328 & Sample-329 & Sample-330 & Sample-331 & Sample-332 & Sample-333 & Sample-334 & Sample-335 & Sample-336 & Sample-337 & Sample-338 & Sample-339 & Sample-340 & Sample-341 & Sample-342 & Sample-343 & Sample-344 & Sample-345 & Sample-346 & Sample-347 & Sample-348 & Sample-349 & Sample-350 & Sample-351 & Sample-352 & Sample-353 & Sample-354 & Sample-355 & Sample-356 & Sample-357 & Sample-358 & Sample-359 & Sample-360 & Sample-361 & Sample-362 & Sample-363 & Sample-364 & Sample-365 & Sample-366 & Sample-367 & Sample-368 & Sample-369 & Sample-370 & Sample-371 & Sample-372 & Sample-373 & Sample-374 & Sample-375 & Sample-376 & Sample-377 & Sample-378 & Sample-379 & Sample-380 & Sample-381 & Sample-382 & Sample-383 & Sample-384 & Sample-385 & Sample-386 & Sample-387 & Sample-388 & Sample-389 & Sample-390 & Sample-391 & Sample-392 & Sample-393 & Sample-394 & Sample-395 & Sample-396 & Sample-397 & Sample-398 & Sample-399 & Sample-400 & Sample-401 & Sample-402 & Sample-403 & Sample-404 & Sample-405 & Sample-406 & Sample-407 & Sample-408 & Sample-409 & Sample-410 & Sample-411 & Sample-412 & Sample-413 & Sample-414 & Sample-415 & Sample-416 & Sample-417 & Sample-418 & Sample-419 & Sample-420 & Sample-421 & Sample-422 & Sample-423 & Sample-424 & Sample-425 & Sample-426 & Sample-427 & Sample-428 & Sample-429 & Sample-430 & Sample-431 & Sample-432 & Sample-433 & Sample-434 & Sample-435 & Sample-436 & Sample-437 & Sample-438 & Sample-439 & Sample-440 & Sample-441 & Sample-442 & Sample-443 & Sample-444 & Sample-445 & Sample-446 & Sample-447 & Sample-448 & Sample-449 & Sample-450 & Sample-451 & Sample-452 & Sample-453 & Sample-454 & Sample-455 & Sample-456 & Sample-457 & Sample-458 & Sample-459 & Sample-460 & Sample-461 & Sample-462 & Sample-463 & Sample-464 & Sample-465 & Sample-466 & Sample-467 & Sample-468 & Sample-469 & Sample-470 & Sample-471 & Sample-472 & Sample-473 & Sample-474 & Sample-475 & Sample-476 & Sample-477 & Sample-478 & Sample-479 & Sample-480 & Sample-481 & Sample-482 & Sample-483 & Sample-484 & Sample-485 & Sample-486 & Sample-487 & Sample-488 & Sample-489 & Sample-490 & Sample-491 & Sample-492 & Sample-493 & Sample-494 & Sample-495 & Sample-496 & Sample-497 & Sample-498 & Sample-499 & Sample-500 & Sample-501 & Sample-502 & Sample-503 & Sample-504 & Sample-505 & Sample-506 & Sample-507 & Sample-508 & Sample-509 & Sample-510 & Sample-511 & Sample-512 & Sample-513 & Sample-514 & Sample-515 & Sample-516 & Sample-517 & Sample-518 & Sample-519 & Sample-520 & Sample-521 & Sample-522 & Sample-523 & Sample-524 & Sample-525 & Sample-526 & Sample-527 & Sample-528 & Sample-529 & Sample-530 & Sample-531 & Sample-532 & Sample-533 & Sample-534 & Sample-535 & Sample-536 & Sample-537 & Sample-538 & Sample-539 & Sample-540 & Sample-541 & Sample-542 & Sample-543 & Sample-544 & Sample-545 & Sample-546 & Sample-547 & Sample-548 & Sample-549 & Sample-550 & Sample-551 & Sample-552 & Sample-553 & Sample-554 & Sample-555 & Sample-556 & Sample-557 & Sample-558 & Sample-559 & Sample-560 & Sample-561 & Sample-562 & Sample-563 & Sample-564 & Sample-565 & Sample-566 & Sample-567 & Sample-568 & Sample-569 & Sample-570 & Sample-571 & Sample-572 & Sample-573 & Sample-574 & Sample-575 & Sample-576 & Sample-577 & Sample-578 & Sample-579 & Sample-580 & Sample-581 & Sample-582 & Sample-583 & Sample-584 & Sample-585 & Sample-586 & Sample-587 & Sample-588 & Sample-589 & Sample-590 & Sample-591 & Sample-592 & Sample-593 & Sample-594 & Sample-595 & Sample-596 & Sample-597 & Sample-598 & Sample-599 & Sample-600 & Sample-601 & Sample-602 & Sample-603 & Sample-604 & Sample-605 & Sample-606 & Sample-607 & Sample-608 & Sample-609 & Sample-610 & Sample-611 & Sample-612 & Sample-613 & Sample-614 & Sample-615 & Sample-616 & Sample-617 & Sample-618 & Sample-619 & Sample-620 & Sample-621 & Sample-622 & Sample-623 & Sample-624 & Sample-625 & Sample-626 & Sample-627 & Sample-628 & Sample-629 & Sample-630 & Sample-631 & Sample-632 & Sample-633 & Sample-634 & Sample-635 & Sample-636 & Sample-637 & Sample-638 & Sample-639 & Sample-640 & Sample-641 & Sample-642 & Sample-643 & Sample-644 & Sample-645 & Sample-646 & Sample-647 & Sample-648 & Sample-649 & Sample-650 & Sample-651 & Sample-652 & Sample-653 & Sample-654 & Sample-655 & Sample-656 & Sample-657 & Sample-658 & Sample-659 & Sample-660 & Sample-661 & Sample-662 & Sample-663 & Sample-664 & Sample-665 & Sample-666 & Sample-667 & Sample-668 & Sample-669 & Sample-670 & Sample-671 & Sample-672 & Sample-673 & Sample-674 & Sample-675 & Sample-676 & Sample-677 & Sample-678 & Sample-679 & Sample-680 & Sample-681 & Sample-682 & Sample-683 & Sample-684 & Sample-685 & Sample-686 & Sample-687 & Sample-688 & Sample-689 & Sample-690 & Sample-691 & Sample-692 & Sample-693 & Sample-694 & Sample-695 & Sample-696 & Sample-697 & Sample-698 & Sample-699 & Sample-700 & Sample-701 & Sample-702 & Sample-703 & Sample-704 & Sample-705 & Sample-706 & Sample-707 & Sample-708 & Sample-709 & Sample-710 & Sample-711 & Sample-712 & Sample-713 & Sample-714 & Sample-715 & Sample-716 & Sample-717 & Sample-718 & Sample-719 & Sample-720 & Sample-721 & Sample-722 & Sample-723 & Sample-724 & Sample-725 & Sample-726 & Sample-727 & Sample-728 & Sample-729 & Sample-730 & Sample-731 & Sample-732 & Sample-733 & Sample-734 & Sample-735 & Sample-736 & Sample-737 & Sample-738 & Sample-739 & Sample-740 & Sample-741 & Sample-742 & Sample-743 & Sample-744 & Sample-745 & Sample-746 & Sample-747 & Sample-748 & Sample-749 & Sample-750 & Sample-751 & Sample-752 & Sample-753 & Sample-754 & Sample-755 & Sample-756 & Sample-757 & Sample-758 & Sample-759 & Sample-760 & Sample-761 & Sample-762 & Sample-763 & Sample-764 & Sample-765 & Sample-766 & Sample-767 & Sample-768 & Sample-769 & Sample-770 & Sample-771 & Sample-772 & Sample-773 & Sample-774 & Sample-775 & Sample-776 & Sample-777 & Sample-778 & Sample-779 & Sample-780 & Sample-781 & Sample-782 & Sample-783 & Sample-784 & Sample-785 & Sample-786 & Sample-787 & Sample-788 & Sample-789 & Sample-790 & Sample-791 & Sample-792 & Sample-793 & Sample-794 & Sample-795 & Sample-796 & Sample-797 & Sample-798 & Sample-799 & Sample-800 & Sample-801 & Sample-802 & Sample-803 & Sample-804 & Sample-805 & Sample-806 & Sample-807 & Sample-808 & Sample-809 & Sample-810 & Sample-811 & Sample-812 & Sample-813 & Sample-814 & Sample-815 & Sample-816 & Sample-817 & Sample-818 & Sample-819 & Sample-820 & Sample-821 & Sample-822 & Sample-823 & Sample-824 & Sample-825 & Sample-826 & Sample-827 & Sample-828 & Sample-829 & Sample-830 & Sample-831 & Sample-832 & Sample-833 & Sample-834 & Sample-835 & Sample-836 & Sample-837 & Sample-838 & Sample-839 & Sample-840 & Sample-841 & Sample-842 & Sample-843 & Sample-844 & Sample-845 & Sample-846 & Sample-847 & Sample-848 & Sample-849 & Sample-850 & Sample-851 & Sample-852 & Sample-853 & Sample-854 & Sample-855 & Sample-856 & Sample-857 & Sample-858 & Sample-859 & Sample-860 & Sample-861 & Sample-862 & Sample-863 & Sample-864 & Sample-865 & Sample-866 & Sample-867 & Sample-868 & Sample-869 & Sample-870 & Sample-871 & Sample-872 & Sample-873 & Sample-874 & Sample-875 & Sample-876 & Sample-877 & Sample-878 & Sample-879 & Sample-880 & Sample-881 & Sample-882 & Sample-883 & Sample-884 & Sample-885 & Sample-886 & Sample-887 & Sample-888 & Sample-889 & Sample-890 & Sample-891 & Sample-892 & Sample-893 & Sample-894 & Sample-895 & Sample-896 & Sample-897 & Sample-898 & Sample-899 & Sample-900 & Sample-901 & Sample-902 & Sample-903 & Sample-904 & Sample-905 & Sample-906 & Sample-907 & Sample-908 & Sample-909 & Sample-910 & Sample-911 & Sample-912 & Sample-913 & Sample-914 & Sample-915 & Sample-916 & Sample-917 & Sample-918 & Sample-919 & Sample-920 & Sample-921 & Sample-922 & Sample-923 & Sample-924 & Sample-925 & Sample-926 & Sample-927 & Sample-928 & Sample-929 & Sample-930 & Sample-931 & Sample-932 & Sample-933 & Sample-934 & Sample-935 & Sample-936 & Sample-937 & Sample-938 & Sample-939 & Sample-940 & Sample-941 & Sample-942 & Sample-943 & Sample-944 & Sample-945 & Sample-946 & Sample-947 & Sample-948 & Sample-949 & Sample-950 & Sample-951 & Sample-952 & Sample-953 & Sample-954 & Sample-955 & Sample-956 & Sample-957 & Sample-958 & Sample-959 & Sample-960 & Sample-961 & Sample-962 & Sample-963 & Sample-964 & Sample-965 & Sample-966 & Sample-967 & Sample-968 & Sample-969 & Sample-970 & Sample-971 & Sample-972 & Sample-973 & Sample-974 & Sample-975 & Sample-976 & Sample-977 & Sample-978 & Sample-979 & Sample-980 & Sample-981 & Sample-982 & Sample-983 & Sample-984 & Sample-985 & Sample-986 & Sample-987 & Sample-988 & Sample-989 & Sample-990 & Sample-991 & Sample-992 & Sample-993 & Sample-994 & Sample-995 & Sample-996 & Sample-997 & Sample-998 & Sample-999 & Sample-1000 & Sample-1001 & Sample-1002 & Sample-1003 & Sample-1004 & Sample-1005 & Sample-1006 & Sample-1007 & Sample-1008 & Sample-1009 & Sample-1011 & Sample-1012 & Sample-1014 & Sample-1015 & Sample-1016 & Sample-1019 & Sample-1020 & Sample-1021 & Sample-1022 & Sample-1024 & Sample-1025 & Sample-1026 & Sample-1027 & Sample-1028 & Sample-1030 & Sample-1031 & Sample-1032 & Sample-1034 & Sample-1035 & Sample-1036 & Sample-1037 & Sample-1038 & Sample-1040 & Sample-1041 & Sample-1042 & Sample-1043 & Sample-1045 & Sample-1046 & Sample-1047 & Sample-1048 & Sample-1050 & Sample-1051 & Sample-1052 & Sample-1053 & Sample-1055 & Sample-1056 & Sample-1057 & Sample-1058 & Sample-1060 & Sample-1061 & Sample-1062 & Sample-1064 & Sample-1065 & Sample-1066 & Sample-1067 & Sample-1069 & Sample-1070 & Sample-1071 & Sample-1072 & Sample-1073 & Sample-1075 & Sample-1076 & Sample-1077 & Sample-1078 & Sample-1080 & Sample-1081 & Sample-1082 & Sample-1083 & Sample-1085 & Sample-1086 & Sample-1087 & Sample-1088 & Sample-1089 & Sample-1090 & Sample-1091 & Sample-1092 & Sample-1093 & Sample-1094 & Sample-1095 & Sample-1096 & Sample-1097 & Sample-1098 & Sample-1099 & Sample-1100 & Sample-1101 & Sample-1102 & Sample-1103 & Sample-1104 & Sample-1105 & Sample-1106 & Sample-1107 & Sample-1108 & Sample-1109 & Sample-1110 & Sample-1111 & Sample-1112 & Sample-1113 & Sample-1114 & Sample-1115 & Sample-1116 & Sample-1117 & Sample-1118 & Sample-1119 & Sample-1120 & Sample-1122 & Sample-1123 & Sample-1124 & Sample-1125 & Sample-1126 & Sample-1127 & Sample-1128 & Sample-1129 & Sample-1130 & Sample-1131 & Sample-1132 & Sample-1133 & Sample-1134 & Sample-1135 & Sample-1136 & Sample-1137 & Sample-1138 & Sample-1139 & Sample-1140 & Sample-1141 & Sample-1142 & Sample-1143 & Sample-1144 & Sample-1145 & Sample-1146 & Sample-1147 & Sample-1148 & Sample-1149 & Sample-1150 & Sample-1151 & Sample-1152 & Sample-1153 & Sample-1154 & Sample-1155 & Sample-1157 & Sample-1158 & Sample-1159 & Sample-1161 & Sample-1162 & Sample-1163 & Sample-1165 & Sample-1166 & Sample-1167 & Sample-1168 & Sample-1169 & Sample-1170 & Sample-1171 & Sample-1172\\\\\n",
       "\\hline\n",
       "\tActinomycetaceae &  0 &   0 &   0 &   0 &  0 &  0 &  0 &  0 &  0 &   0 &   0 &  0 &   0 &  0 &   0 &   0 &   0 &  0 &  0 &  0 &  0 &   0 &   0 &   0 &   0 &   0 &  1 &  2 &  0 &  1 &  2 &  1 &    1 &  1 &  0 &  0 &   1 &   1 &  0 &   0 &   0 &   0 &   0 &  0 &  0 &  0 &  0 &  0 &  0 &   0 &  0 &  0 &  1 &  0 &  0 &  1 &   0 &  0 &   0 &  0 &  2 &  0 &  0 &  0 &  0 &   0 &   1 &   0 &   3 &   1 &   1 &  0 &   0 &  0 &  0 &  1 &  1 &  1 &   0 &  0 &   1 &  1 &  0 &  1 &  0 &   0 &  0 &   1 &  0 &   0 &  0 &  0 &  0 &   1 &  0 &  0 &  1 &   0 &   1 &  1 &   1 &  0 &  1 &   1 &   1 &   0 &  1 &  1 &  1 &  1 &  0 &   0 &  0 &  0 &  0 &   0 &  1 &   1 &  0 &   0 &   0 &  0 &  0 &  0 &  0 &  0 &   0 &  0 &   0 &  0 &  0 &  0 &  0 &   0 &  0 &   1 &   0 &   0 &  0 &   0 &  0 &   0 &  1 &  0 &  0 &   0 &  0 &   0 &  0 &  0 &  0 &  0 &   0 &  0 &  0 &  1 &  0 & 0 &  0 &  0 &   0 &  0 &  0 &   0 &  0 &   0 &  0 &   0 &  1 &   0 &  0 &  0 &  0 &  0 &  1 &   0 &  0 &   0 &   1 &   1 &   0 &   1 &   0 &   0 &  1 &  0 &   1 &   1 &   0 &  1 &  0 &  0 &   0 &  0 &   0 &  0 &  0 &  0 &   0 &   0 &  0 &  0 &  0 &  0 &  0 &  0 &   0 &  1 &  0 &  0 &  0 &   0 &   0 &   0 &   0 &   1 &  0 &  0 &   0 &  0 &  0 &   1 &  0 &   0 &  0 &  0 &  0 &  0 &  0 &   0 &  0 &  1 &   1 &  0 &  0 &  0 &   0 &  0 &  0 &   0 &   0 &   0 &  0 &  0 &  0 &   0 &  2 &   1 &   1 &  1 &   0 &  1 &  1 &   0 &  0 &   1 &   1 &   0 &  0 &   1 &   0 &   0 &   0 &  0 &   1 &  1 &  1 &   1 &   2 &   1 &   0 &  1 &  1 &   1 &  0 &  0 &  1 &  0 &  1 &  1 &  0 &  0 &  0 &   1 &  1 &   0 &  1 &  0 &   1 &   1 &  0 &   0 &  0 &   1 &  1 &  1 &  0 &  0 &  0 &  1 &  1 &  0 &  1 &   1 &   1 &   1 &  0 &  1 &  1 &   2 &  0 &   0 &   0 &   0 &  0 &  0 &  0 &  0 &  1 &  1 &  1 &   2 &  1 &   0 &  1 &   1 &  1 &  3 &  1 &   1 &   1 &  1 &  2 &   1 &   1 &   1 &  0 &   0 &   0 &   0 &  0 &   0 &  0 &  0 &  0 &  0 &   0 &   0 &  0 &   0 &  0 &  0 &  0 &   0 &   0 &    0 &  0 &   0 &   0 &   0 &   0 &   0 &   1 &   1 &    0 &  1 &   0 &  0 &   1 &  0 &   0 &   0 &   0 &  0 &   0 &  0 &   0 &    0 &   0 &    0 &   0 &   1 &   0 &   0 &  0 &   1 &    0 &   1 &   0 &   0 &   0 &  0 &   1 &   1 &   0 &   0 &   0 &   0 &   1 &   0 &   0 &   0 &   0 &   0 &   1 &   0 &   0 &   0 &   0 &   0 &   0 &  1 &    0 &  1 &   1 &   1 &   1 &   1 &   1 &   0 &   0 &  1 &   1 &   0 &   1 &  1 &  0 &   0 &   0 &   0 &   0 &   1 &   0 &   0 &  1 &   0 &   0 &   1 &   0 &   0 &   1 &   0 &   0 &   0 &   1 &   0 &  0 &   0 &   1 &   1 &   0 &   1 &   1 &   0 &   0 &  1 &  0 &   0 &   0 &   0 &   0 &  0 &   1 &   0 &   0 &   0 &  0 &   0 &   0 &  0 &   0 &   0 &   0 &   0 &   0 &   0 &   0 &    0 &  0 &   0 &   0 &   0 &   0 &   0 &   0 &   0 &   0 &   0 &   0 &   0 &   0 &   0 &   0 &   0 &   0 &   0 &   0 &   0 &   0 &   0 &   0 &   0 &   0 &   0 &  0 &   0 &   0 &  0 &  0 &  0 &   0 &   0 &   0 &   0 &   0 &  0 &   0 &   0 &   0 &   0 &   0 &   0 &   0 &   0 &   0 &   0 &    0 &   0 &   0 &   0 &   0 &   0 &   0 &   0 &   0 &   0 &   0 &   0 &   0 &   0 &   0 &   0 &  0 &   0 &   0 &   0 &   0 &   0 &   0 &    0 &  0 &   0 &   0 &   0 &   0 &   0 &   0 &   0 &   0 &   0 &   0 &   0 &   0 &   0 &  0 &   0 &   0 &   0 &   0 &   0 &    0 &   0 &   0 &   0 &   0 &   0 &   0 &   0 &   0 &  0 &   0 &   0 &   0 &  0 &   0 &   0 &   0 &   0 &   0 &   0 &   0 &   0 &   0 &   0 &   0 &   0 &   0 &  0 &  0 &   0 &   0 &   0 &  0 &   0 &   0 &   0 &  0 &   0 &   0 &   1 &   1 &  0 &   0 &   0 &   0 &   0 &   0 &   0 &   0 &   0 &   0 &   0 &   0 &   0 &   0 &   0 &   1 &   0 &   0 &   0 &   0 &  0 &   0 &   0 &   0 &   0 &   0 &   0 &   0 &   0 &   0 &  0 &   0 &   0 &   0 &    0 &   0 &   0 &   0 &   0 &   0 &   0 &   0 &   0 &   0 &   0 &    0 &   0 &   0 &  0 &   0 &   0 &   0 &  0 &   0 &   0 &  0 &  0 &   0 &   0 &   0 &   1 &    0 &   0 &   0 &   0 &   0 &   0 &   0 &   0 &   0 &  0 &   0 &   0 &   0 &   0 &   0 &   0 &   0 &   0 &   0 &   0 &   0 &   0 &   0 &   0 &   1 &   0 &  0 &  1 &   0 &   1 &   0 &   0 &  0 &  0 &   0 &   1 &   0 &   0 &   1 &   1 &   1 &  0 &   0 &   0 &  1 &  0 &  0 &  0 &  0 &  0 &   1 &  1 &  0 &  0 &   1 &  0 &  0 &  0 &  0 &  0 &   0 &  0 &  0 &  0 &    0 &   0 &   0 &   0 &   0 &   0 &   0 &   0 &   0 &   0 &   0 &    0 &  1 &   0 &   0 &  0 &   0 &  0 &   1 &  1 &   1 &   1 &  1 &   0 &  0 &  0 &  0 &  0 &  1 &  1 &   1 &   0 &  0 &  1 &  1 &   1 &  1 &   0 &   0 &  1 &  1 &   1 &   1 &  1 &  0 &  1 &   1 &  0 &  1 &  1 &   1 &   1 &   0 &  1 &   1 &   1 &  1 &  1 &  0 &  1 &   0 &   0 &   1 &   1 &  0 &  1 &   1 &   1 &   1 &   1 &   1 &   0 &   0 &  1 &   1 &   1 &   0 &   0 &  0 &  1 &   1 &  1 &   0 &   0 &   0 &  0 &   0 &   1 &   0 &   0 &   1 &   0 &   1 &   1 &  1 &  1 &   1 &  2 &   2 &   0 &   1 &  0 &  1 &  2 &  1 &  1 &  0 &  1 &  1 &   0 &   0 &   0 &   0 &   0 &   0 &  0 &   0 &   0 &   0 &  0 &   0 &  0 &   0 &  0 &   0 &  0 &    0 &   0 &  0 &   0 &  0 &   1 &   1 &  0 &  1 &  0 &  0 &  0 &   1 &   1 &   0 &   0 &   0 &   0 &   0 &    0 &    0 &   0 &   0 &  0 &  0 &  1 &  0 &   0 &  0 &    0 &  0 &  0 &   1 &  0 &  0 &   0 &   1 &  0 &   0 &   0 &   0 &   0 &   1 &   1 &   1 &  1 &  1 &  1 &  0 &  1 &  0 &  1 &  1 &  0 &  1 &  1 &  1 &   1 &  1 &  1 &  1 &  1 &  1 &  0 &  0 &  1 &  1 &  1 &  0 &  0 &  0 &  1 &   1 &  2 &  8 &  1 &  2 &  1 &   1 &  1 &  0 &  0 &  1 &  0 &  0 &  0 &   0 &  0 &  1 &  1 &  0 &  1 &   1 &  1 &  1 &  1 &  1 &  1 &  1 &   2 &  0 &  0 &  1 &  0 &   1 &   1 &  1 &  1 &  0 &   1 &  1 &  1 &  0 &  0 &  0 &  0 &   0 &   0 &   1 &  1 &  1 &   0 &   1 &   1 &   1 &   1 &  1 &    0 &   1 &  0 &  1 &  0 &  0 &  0 &  1 &  0 &   0 &  1 &   1 &  1 &  2 &  1 &  1 &  0 &   1 &   0 &   1 &   2 &  1 &  0 &  1 &  0 &   1 &  0 &  0 &  1 &  1 &  1 &  1 &  1 &  2 &  1 &  1 &  1 &   3 &   2 &  20 &  11 &   0 &   1 &  1 &   1 &   1 &   1 &   1 &  1 &  0 &   1 &   1 &  0 &  1 &  0 &  1 &  1 &  2 &   0 &   1 &   0 &  1 &  3 &  1 &  1 &  1 &   2 &   1 &  1 &  0 &   0 &  1 &  0 &  1 &  1 &  1 &  1 &  1 &  1 &  1 &   0 &    0 &   0 &   1 &   0 &   0 &   1 &   0 &   1 &   1 &   1 &    1 &   1 &   0 &  0 &  0 &  0 &   0 &   0 &   0 &   0 &   1 &   0 &    0 &    0 &   1 &   0 &   0 &   1 &   0 &   0 &  1 &   0 &  0 &  0 &  0 &   0 &   0 &   1 &  0 &   1 &  0 &   0 &  0 &   0 &   0 &   0 &  1 &  1 &  0 &   0 &  0 &  0 &  0 &  0 &  0 &  1 &  0 &   1 &  0 &  0 &   0 &   0 &  0 &  0 &  0 &  0 &  0 &   0 &  0 &  0 &   0 &   0 &  0 &   0 &  0 &  0 &  0 &  0 &  1 &   0 &  0\\\\\n",
       "\tAerococcus &  0 &   0 &   0 &   0 &  0 &  0 &  0 &  0 &  0 &   0 &   0 &  0 &   0 &  0 &   0 &   0 &   0 &  0 &  0 &  0 &  0 &   0 &   0 &   0 &   0 &   0 &  0 &  0 &  0 &  0 &  0 &  0 &    0 &  0 &  0 &  0 &   0 &   0 &  0 &   0 &   0 &   0 &   0 &  0 &  0 &  0 &  0 &  0 &  0 &   0 &  0 &  0 &  0 &  0 &  0 &  0 &   0 &  0 &   0 &  0 &  0 &  0 &  0 &  0 &  0 &   0 &   0 &   0 &   0 &   0 &   0 &  0 &   0 &  0 &  0 &  0 &  0 &  0 &   0 &  0 &   0 &  0 &  0 &  0 &  0 &   0 &  0 &   0 &  0 &   0 &  0 &  0 &  0 &   0 &  0 &  0 &  0 &   0 &   0 &  0 &   0 &  0 &  0 &   0 &   0 &   0 &  0 &  0 &  0 &  0 &  0 &   0 &  0 &  0 &  0 &   0 &  0 &   0 &  0 &   0 &   0 &  0 &  0 &  0 &  0 &  0 &   0 &  0 &   0 &  0 &  0 &  0 &  0 &   0 &  0 &   0 &   0 &   0 &  0 &   0 &  0 &   0 &  0 &  0 &  0 &   0 &  0 &   0 &  0 &  0 &  0 &  0 &   0 &  0 &  0 &  0 &  0 & 0 &  0 &  0 &   0 &  0 &  0 &   0 &  0 &   0 &  0 &   0 &  0 &   0 &  0 &  0 &  0 &  0 &  0 &   0 &  0 &   0 &   0 &   0 &   0 &   0 &   0 &   0 &  0 &  0 &   0 &   0 &   0 &  0 &  0 &  0 &   0 &  0 &   0 &  0 &  0 &  0 &   0 &   0 &  0 &  0 &  0 &  0 &  0 &  0 &   0 &  0 &  0 &  0 &  0 &   0 &   0 &   0 &   0 &   0 &  0 &  0 &   0 &  0 &  0 &   0 &  0 &   0 &  0 &  0 &  0 &  0 &  0 &   0 &  0 &  0 &   0 &  0 &  0 &  0 &   0 &  0 &  0 &   0 &   0 &   0 &  0 &  0 &  0 &   0 &  0 &   0 &   0 &  0 &   0 &  0 &  0 &   0 &  0 &   0 &   0 &   0 &  0 &   0 &   0 &   0 &   0 &  0 &   0 &  0 &  0 &   0 &   0 &   0 &   0 &  0 &  0 &   0 &  0 &  0 &  0 &  0 &  0 &  0 &  0 &  0 &  0 &   0 &  0 &   0 &  0 &  0 &   0 &   0 &  0 &   0 &  0 &   0 &  0 &  0 &  0 &  0 &  0 &  0 &  0 &  0 &  0 &   0 &   0 &   0 &  0 &  0 &  0 &   0 &  0 &   0 &   0 &   0 &  0 &  0 &  0 &  0 &  0 &  0 &  0 &   0 &  0 &   0 &  0 &   0 &  0 &  0 &  0 &   0 &   0 &  0 &  0 &   0 &   0 &   0 &  0 &   0 &   0 &   0 &  0 &   0 &  0 &  0 &  0 &  0 &   0 &   0 &  0 &   0 &  0 &  0 &  0 &   0 &   0 &    0 &  0 &   0 &   0 &   0 &   0 &   0 &   0 &   0 &    0 &  0 &   0 &  0 &   0 &  0 &   0 &   0 &   0 &  0 &   0 &  0 &   0 &    0 &   0 &    0 &   0 &   0 &   0 &   0 &  0 &   0 &    0 &   0 &   0 &   0 &   0 &  0 &   0 &   0 &   0 &   0 &   0 &   0 &   0 &   0 &   0 &   0 &   0 &   0 &   0 &   0 &   0 &   0 &   0 &   0 &   0 &  0 &    0 &  0 &   0 &   0 &   0 &   0 &   0 &   0 &   0 &  0 &   0 &   0 &   0 &  0 &  0 &   0 &   0 &   0 &   0 &   0 &   0 &   0 &  0 &   0 &   0 &   0 &   0 &   0 &   0 &   0 &   0 &   0 &   0 &   0 &  0 &   0 &   0 &   0 &   0 &   0 &   0 &   0 &   0 &  0 &  0 &   0 &   0 &   0 &   0 &  0 &   0 &   0 &   0 &   0 &  0 &   0 &   0 &  0 &   0 &   0 &   0 &   0 &   0 &   0 &   0 &    0 &  0 &   0 &   0 &   0 &   0 &   0 &   0 &   0 &   0 &   0 &   0 &   0 &   0 &   0 &   0 &   0 &   0 &   0 &   0 &   0 &   0 &   0 &   0 &   0 &   0 &   0 &  0 &   0 &   0 &  0 &  0 &  0 &   0 &   0 &   0 &   0 &   0 &  0 &   0 &   0 &   0 &   0 &   0 &   0 &   0 &   0 &   0 &   0 &    0 &   0 &   0 &   0 &   0 &   0 &   0 &   0 &   0 &   0 &   0 &   0 &   0 &   0 &   0 &   0 &  0 &   0 &   0 &   0 &   0 &   0 &   0 &    0 &  0 &   0 &   0 &   0 &   0 &   0 &   0 &   0 &   0 &   0 &   0 &   0 &   0 &   0 &  0 &   0 &   0 &   0 &   0 &   0 &    0 &   0 &   0 &   0 &   0 &   0 &   0 &   0 &   0 &  0 &   0 &   0 &   0 &  0 &   0 &   0 &   0 &   0 &   0 &   0 &   0 &   0 &   0 &   0 &   0 &   0 &   0 &  0 &  0 &   0 &   0 &   0 &  0 &   0 &   0 &   0 &  0 &   0 &   0 &   0 &   0 &  0 &   0 &   0 &   0 &   0 &   0 &   0 &   0 &   0 &   0 &   0 &   0 &   0 &   0 &   0 &   0 &   0 &   0 &   0 &   0 &  0 &   0 &   0 &   0 &   0 &   0 &   0 &   0 &   0 &   0 &  0 &   0 &   0 &   0 &    0 &   0 &   0 &   0 &   0 &   0 &   0 &   0 &   0 &   0 &   0 &    0 &   0 &   0 &  0 &   0 &   0 &   0 &  0 &   0 &   0 &  0 &  0 &   0 &   0 &   0 &   0 &    0 &   0 &   0 &   0 &   0 &   0 &   0 &   0 &   0 &  0 &   0 &   0 &   0 &   0 &   0 &   0 &   0 &   0 &   0 &   0 &   0 &   0 &   0 &   0 &   0 &   0 &  0 &  0 &   0 &   0 &   0 &   0 &  0 &  0 &   0 &   0 &   0 &   0 &   0 &   0 &   0 &  0 &   0 &   0 &  0 &  0 &  0 &  0 &  0 &  0 &   0 &  0 &  0 &  0 &   0 &  0 &  0 &  0 &  0 &  0 &   0 &  0 &  0 &  0 &    0 &   0 &   0 &   0 &   0 &   0 &   0 &   0 &   0 &   0 &   0 &    0 &  0 &   0 &   0 &  0 &   0 &  0 &   0 &  0 &   0 &   0 &  0 &   0 &  0 &  0 &  0 &  0 &  0 &  0 &   0 &   0 &  0 &  0 &  0 &   0 &  0 &   0 &   0 &  0 &  0 &   0 &   0 &  0 &  0 &  0 &   0 &  0 &  0 &  0 &   0 &   0 &   0 &  0 &   0 &   0 &  0 &  0 &  0 &  0 &   0 &   0 &   0 &   0 &  0 &  0 &   0 &   0 &   0 &   0 &   0 &   0 &   0 &  0 &   0 &   0 &   0 &   0 &  0 &  0 &   0 &  0 &   0 &   0 &   0 &  0 &   0 &   0 &   0 &   0 &   0 &   0 &   0 &   0 &  0 &  0 &   0 &  0 &   0 &   0 &   0 &  0 &  0 &  0 &  0 &  0 &  0 &  0 &  0 &   0 &   0 &   0 &   0 &   0 &   0 &  0 &   0 &   0 &   0 &  0 &   0 &  0 &   0 &  0 &   0 &  0 &    0 &   0 &  0 &   0 &  0 &   0 &   0 &  0 &  0 &  0 &  0 &  0 &   0 &   0 &   0 &   0 &   0 &   0 &   0 &    0 &    0 &   0 &   0 &  0 &  0 &  0 &  0 &   0 &  0 &    0 &  0 &  2 &   0 &  0 &  0 &   0 &   0 &  0 &   0 &   0 &   0 &   0 &   0 &   0 &   0 &  0 &  0 &  0 &  0 &  0 &  0 &  0 &  0 &  0 &  0 &  0 &  0 &   0 &  0 &  0 &  0 &  0 &  0 &  0 &  0 &  0 &  0 &  0 &  0 &  0 &  0 &  0 &   0 &  1 &  0 &  0 &  0 &  0 &   0 &  0 &  0 &  0 &  0 &  0 &  0 &  0 &   0 &  0 &  0 &  0 &  0 &  0 &   0 &  0 &  0 &  0 &  0 &  0 &  0 &   0 &  0 &  0 &  0 &  0 &   0 &   0 &  0 &  0 &  0 &   0 &  0 &  0 &  0 &  0 &  0 &  0 &   0 &   0 &   0 &  0 &  0 &   0 &   0 &   0 &   0 &   0 &  0 &    0 &   0 &  0 &  0 &  0 &  0 &  1 &  0 &  0 &   0 &  0 &   0 &  0 &  0 &  0 &  0 &  0 &   0 &   0 &   0 &   0 &  0 &  0 &  0 &  0 &   0 &  0 &  0 &  0 &  0 &  0 &  0 &  0 &  0 &  0 &  0 &  0 &   0 &   0 &   0 &   0 &   0 &   0 &  0 &   0 &   0 &   0 &   0 &  0 &  0 &   0 &   0 &  0 &  0 &  0 &  0 &  0 &  0 &   0 &   0 &   0 &  0 &  1 &  0 &  0 &  0 &   1 &   0 &  0 &  0 &   0 &  0 &  0 &  0 &  0 &  0 &  0 &  0 &  0 &  0 &   0 &    0 &   0 &   0 &   0 &   0 &   0 &   0 &   0 &   0 &   0 &    0 &   0 &   0 &  0 &  0 &  0 &   0 &   0 &   0 &   0 &   0 &   0 &    0 &    0 &   0 &   0 &   0 &   0 &   0 &   0 &  0 &   0 &  0 &  0 &  0 &   0 &   0 &   0 &  0 &   0 &  0 &   0 &  0 &   0 &   0 &   0 &  0 &  0 &  0 &   0 &  0 &  0 &  0 &  0 &  0 &  0 &  0 &   0 &  0 &  0 &   0 &   0 &  0 &  0 &  0 &  0 &  0 &   0 &  0 &  0 &   0 &   0 &  0 &   0 &  0 &  0 &  0 &  0 &  0 &   0 &  0\\\\\n",
       "\tAeromonas &  0 &   0 &   0 &   0 &  0 &  0 &  0 &  0 &  0 &   0 &   0 &  0 &   0 &  0 &   0 &   0 &   0 &  0 &  0 &  0 &  0 &   0 &   0 &   0 &   0 &   0 &  0 &  0 &  0 &  0 &  0 &  0 &    0 &  0 &  0 &  0 &   0 &   0 &  0 &   0 &   0 &   0 &   0 &  0 &  0 &  0 &  0 &  0 &  0 &   0 &  0 &  0 &  0 &  0 &  0 &  0 &   0 &  0 &   0 &  0 &  0 &  0 &  0 &  0 &  0 &   0 &   0 &   0 &   0 &   0 &   0 &  0 &   0 &  0 &  0 &  0 &  0 &  0 &   0 &  0 &   0 &  0 &  0 &  0 &  0 &   0 &  0 &   0 &  0 &   0 &  0 &  0 &  0 &   0 &  0 &  0 &  0 &   0 &   0 &  0 &   0 &  0 &  0 &   0 &   0 &   0 &  0 &  0 &  0 &  0 &  0 &   0 &  0 &  0 &  0 &   0 &  0 &   0 &  0 &   0 &   0 &  0 &  0 &  0 &  0 &  0 &   0 &  0 &   0 &  0 &  0 &  0 &  0 &   0 &  0 &   0 &   0 &   0 &  0 &   0 &  0 &   0 &  0 &  0 &  0 &   0 &  0 &   0 &  0 &  0 &  0 &  0 &   0 &  0 &  0 &  0 &  0 & 0 &  0 &  0 &   0 &  0 &  0 &   0 &  0 &   0 &  0 &   0 &  0 &   0 &  0 &  0 &  0 &  0 &  0 &   0 &  0 &   0 &   0 &   0 &   0 &   0 &   0 &   0 &  0 &  0 &   0 &   0 &   0 &  0 &  0 &  0 &   0 &  0 &   0 &  0 &  0 &  0 &   0 &   0 &  0 &  0 &  0 &  0 &  0 &  0 &   0 &  0 &  0 &  0 &  0 &   0 &   0 &   0 &   0 &   0 &  0 &  0 &   0 &  0 &  0 &   0 &  0 &   0 &  0 &  0 &  0 &  0 &  0 &   0 &  0 &  0 &   0 &  0 &  0 &  0 &   0 &  0 &  0 &   0 &   0 &   0 &  0 &  0 &  0 &   0 &  0 &   0 &   0 &  0 &   0 &  0 &  0 &   0 &  0 &   0 &   0 &   0 &  0 &   0 &   0 &   0 &   0 &  0 &   0 &  0 &  0 &   0 &   0 &   0 &   0 &  0 &  0 &   0 &  0 &  0 &  0 &  0 &  0 &  0 &  0 &  0 &  0 &   0 &  0 &   0 &  0 &  0 &   0 &   0 &  0 &   0 &  0 &   0 &  0 &  0 &  0 &  0 &  0 &  0 &  0 &  0 &  0 &   0 &   0 &   0 &  0 &  0 &  0 &   0 &  0 &   0 &   0 &   0 &  0 &  0 &  0 &  0 &  0 &  0 &  0 &   0 &  0 &   0 &  0 &   0 &  0 &  0 &  0 &   0 &   0 &  0 &  0 &   0 &   0 &   0 &  0 &   0 &   0 &   0 &  0 &   0 &  0 &  0 &  0 &  0 &   0 &   0 &  0 &   0 &  0 &  0 &  0 &   0 &   0 &    0 &  0 &   0 &   0 &   0 &   0 &   0 &   0 &   0 &    0 &  0 &   0 &  0 &   0 &  0 &   0 &   0 &   0 &  0 &   0 &  0 &   0 &    0 &   0 &    0 &   0 &   0 &   0 &   0 &  0 &   0 &    0 &   0 &   0 &   0 &   0 &  0 &   0 &   0 &   0 &   0 &   0 &   0 &   0 &   0 &   0 &   0 &   0 &   0 &   0 &   0 &   0 &   0 &   0 &   0 &   0 &  0 &    0 &  0 &   0 &   0 &   0 &   0 &   0 &   0 &   0 &  0 &   0 &   0 &   0 &  0 &  0 &   0 &   0 &   0 &   0 &   0 &   0 &   0 &  0 &   0 &   0 &   0 &   0 &   0 &   0 &   0 &   0 &   0 &   0 &   0 &  0 &   0 &   0 &   0 &   0 &   0 &   0 &   0 &   0 &  0 &  0 &   0 &   0 &   0 &   0 &  0 &   0 &   0 &   0 &   0 &  0 &   0 &   0 &  0 &   0 &   0 &   0 &   0 &   0 &   0 &   0 &    0 &  0 &   0 &   0 &   0 &   0 &   0 &   0 &   0 &   0 &   0 &   0 &   0 &   0 &   0 &   0 &   0 &   0 &   0 &   0 &   0 &   0 &   0 &   0 &   0 &   0 &   0 &  0 &   0 &   0 &  0 &  0 &  0 &   0 &   0 &   0 &   0 &   0 &  0 &   0 &   0 &   0 &   0 &   0 &   0 &   0 &   0 &   0 &   0 &    0 &   0 &   0 &   0 &   0 &   0 &   0 &   0 &   0 &   0 &   0 &   0 &   0 &   0 &   0 &   0 &  0 &   0 &   0 &   0 &   0 &   0 &   0 &    0 &  0 &   0 &   0 &   0 &   0 &   0 &   0 &   0 &   0 &   0 &   0 &   0 &   0 &   0 &  0 &   0 &   0 &   0 &   0 &   0 &    0 &   0 &   0 &   0 &   0 &   0 &   0 &   0 &   0 &  0 &   0 &   0 &   0 &  0 &   0 &   0 &   0 &   0 &   0 &   0 &   0 &   0 &   0 &   0 &   0 &   0 &   0 &  0 &  0 &   0 &   0 &   0 &  0 &   0 &   0 &   0 &  0 &   0 &   0 &   0 &   0 &  0 &   0 &   0 &   0 &   0 &   0 &   0 &   0 &   0 &   0 &   0 &   0 &   0 &   0 &   0 &   0 &   0 &   0 &   0 &   0 &  0 &   0 &   0 &   0 &   0 &   0 &   0 &   0 &   0 &   0 &  0 &   0 &   0 &   0 &    0 &   0 &   0 &   0 &   0 &   0 &   0 &   0 &   0 &   0 &   0 &    0 &   0 &   0 &  0 &   0 &   0 &   0 &  0 &   0 &   0 &  0 &  0 &   0 &   0 &   0 &   0 &    0 &   0 &   0 &   0 &   0 &   0 &   0 &   0 &   0 &  0 &   0 &   0 &   0 &   0 &   0 &   0 &   0 &   0 &   0 &   0 &   0 &   0 &   0 &   0 &   0 &   0 &  0 &  0 &   0 &   0 &   0 &   0 &  0 &  0 &   0 &   0 &   0 &   0 &   0 &   0 &   0 &  0 &   0 &   0 &  0 &  0 &  0 &  0 &  0 &  0 &   0 &  0 &  0 &  0 &   0 &  0 &  0 &  0 &  0 &  0 &   0 &  0 &  0 &  0 &    0 &   0 &   0 &   0 &   0 &   0 &   0 &   0 &   0 &   0 &   0 &    0 &  0 &   0 &   0 &  0 &   0 &  0 &   0 &  0 &   0 &   0 &  0 &   0 &  0 &  0 &  0 &  0 &  0 &  0 &   0 &   0 &  0 &  0 &  0 &   0 &  0 &   0 &   0 &  0 &  0 &   0 &   0 &  0 &  0 &  0 &   0 &  0 &  0 &  0 &   0 &   0 &   0 &  0 &   0 &   0 &  0 &  0 &  0 &  0 &   0 &   0 &   0 &   0 &  0 &  0 &   0 &   0 &   0 &   0 &   0 &   0 &   0 &  0 &   0 &   0 &   0 &   0 &  0 &  0 &   0 &  0 &   0 &   0 &   0 &  0 &   0 &   0 &   0 &   0 &   0 &   0 &   0 &   0 &  0 &  0 &   0 &  0 &   0 &   0 &   0 &  0 &  0 &  0 &  0 &  0 &  0 &  0 &  0 &   0 &   0 &   0 &   0 &   0 &   0 &  0 &   0 &   0 &   0 &  0 &   0 &  0 &   0 &  0 &   0 &  0 &    0 &   0 &  0 &   0 &  0 &   0 &   0 &  0 &  0 &  0 &  0 &  0 &   0 &   0 &   0 &   0 &   0 &   0 &   0 &    0 &    0 &   0 &   0 &  0 &  0 &  0 &  0 &   0 &  0 &    0 &  0 &  0 &   0 &  0 &  0 &   0 &   0 &  0 &   0 &   0 &   0 &   0 &   0 &   0 &   0 &  0 &  0 &  0 &  0 &  0 &  0 &  0 &  0 &  0 &  0 &  0 &  0 &   0 &  0 &  0 &  0 &  0 &  0 &  0 &  0 &  0 &  0 &  0 &  0 &  0 &  0 &  0 &   0 &  0 &  0 &  0 &  0 &  0 &   0 &  0 &  0 &  0 &  0 &  0 &  0 &  0 &   0 &  0 &  0 &  0 &  0 &  0 &   0 &  0 &  0 &  0 &  0 &  0 &  0 &   0 &  0 &  0 &  0 &  0 &   0 &   0 &  0 &  0 &  0 &   0 &  0 &  0 &  0 &  0 &  0 &  0 &   0 &   0 &   0 &  0 &  0 &   0 &   0 &   0 &   0 &   0 &  0 &    0 &   0 &  0 &  0 &  0 &  0 &  0 &  0 &  0 &   0 &  0 &   0 &  0 &  0 &  0 &  0 &  0 &   0 &   0 &   0 &   0 &  0 &  0 &  0 &  0 &   0 &  0 &  0 &  0 &  0 &  0 &  0 &  0 &  0 &  0 &  0 &  0 &   0 &   0 &   0 &   0 &   0 &   0 &  0 &   0 &   0 &   0 &   0 &  0 &  0 &   0 &   0 &  0 &  0 &  0 &  0 &  0 &  0 &   0 &   0 &   0 &  0 &  1 &  0 &  0 &  0 &   1 &   0 &  0 &  0 &   0 &  0 &  0 &  0 &  0 &  0 &  0 &  0 &  0 &  0 &   0 &    0 &   0 &   0 &   0 &   0 &   0 &   0 &   0 &   0 &   0 &    0 &   0 &   0 &  0 &  0 &  0 &   0 &   0 &   0 &   0 &   0 &   0 &    0 &    0 &   0 &   0 &   0 &   0 &   0 &   0 &  0 &   0 &  0 &  0 &  0 &   0 &   0 &   0 &  0 &   0 &  0 &   0 &  0 &   0 &   0 &   0 &  0 &  0 &  0 &   0 &  0 &  0 &  0 &  0 &  0 &  0 &  0 &   0 &  0 &  0 &   0 &   0 &  0 &  0 &  0 &  0 &  0 &   0 &  0 &  0 &   0 &   0 &  0 &   0 &  0 &  0 &  0 &  0 &  0 &   0 &  0\\\\\n",
       "\tAkkermansia & 21 &  36 & 475 &  61 & 34 & 14 & 27 & 21 & 78 & 169 & 438 & 31 &  27 & 38 & 100 & 164 & 128 & 41 & 95 & 75 & 54 & 346 &  27 & 164 & 203 & 193 & 12 &  8 & 23 & 33 & 88 & 46 &   57 & 53 & 16 & 35 &  40 &  18 & 29 &  14 & 723 &  39 &  76 & 14 & 28 & 33 & 34 & 44 & 61 & 247 & 24 & 50 & 27 & 28 & 18 & 53 &  31 & 24 &   9 & 41 & 34 & 36 & 53 & 26 & 41 &  80 &  16 & 111 & 300 &  73 &  55 & 42 & 155 & 90 & 25 & 38 & 54 & 51 &  71 & 28 & 569 & 93 & 27 & 19 & 19 & 139 & 87 &  71 & 16 &  67 & 27 & 63 & 40 & 132 & 57 & 60 & 61 & 192 &  72 & 50 &  95 & 22 & 41 &  74 & 534 &  55 & 97 & 41 & 33 & 80 & 51 &  92 & 43 & 25 & 44 &  63 & 27 &  30 & 33 & 139 & 198 & 44 & 41 & 24 & 51 & 50 & 323 & 74 &  51 & 28 & 32 & 35 & 26 &  67 & 84 &  93 &  84 & 190 & 78 & 326 & 18 & 378 & 49 & 40 & 73 &  64 & 23 &  85 & 17 & 17 & 86 & 18 &  16 & 21 & 13 & 31 & 11 & 3 & 15 & 42 & 106 & 82 & 17 &  81 & 27 &  43 & 22 & 131 & 94 &  20 & 19 & 29 & 25 & 46 & 32 &  52 & 23 &  84 & 100 &  45 &  45 &  80 &  32 & 109 & 40 & 72 & 127 & 100 &  58 & 17 & 10 & 22 &  11 &  6 &  53 & 21 & 32 & 42 & 248 &  24 & 24 & 30 & 44 & 21 & 28 & 32 &  76 & 43 & 30 & 33 & 37 &  28 &  43 &   9 & 108 &  53 & 41 & 40 & 157 & 92 & 36 & 164 & 24 &   6 & 40 & 35 & 35 & 10 & 18 &  27 & 75 & 34 &  41 & 23 & 12 & 34 &  44 & 10 & 94 &  28 &  18 &  35 & 23 & 69 & 40 & 101 & 22 &  47 &  48 &  8 &  10 & 62 & 25 &  21 & 48 &  23 &  29 &  24 & 89 &  23 &  52 &  37 &  50 & 38 &  46 & 25 & 34 &  23 &  34 &  24 &  15 & 44 & 42 &  34 &  6 & 21 & 22 & 45 & 41 & 17 & 11 & 13 &  3 & 501 &  9 &  31 & 30 & 11 &  21 &  84 &  7 &  36 &  3 & 154 & 89 & 15 &  6 & 11 & 14 & 37 & 19 & 14 & 16 &  37 &  24 &  37 &  7 & 15 & 23 & 307 & 33 &  58 &  30 &  87 & 92 & 88 & 11 & 27 & 22 & 18 & 39 & 140 & 94 & 146 & 61 & 178 & 36 & 78 & 19 & 133 & 196 & 17 & 46 &  53 & 119 & 108 & 11 &  27 &  28 &  40 & 34 &  28 & 16 &  7 & 97 &  6 & 153 &  14 & 27 &  23 & 12 & 14 &  1 &  50 &  10 &   45 & 16 & 324 &  16 &  23 & 191 &  15 &   3 &  79 &    5 & 23 &  10 &  5 &  11 & 12 &  41 &  11 & 107 & 12 & 127 & 62 &  97 &  136 &  81 &   17 & 129 &  47 &   8 &  13 & 21 &  30 &   10 &  21 &  48 & 138 &  60 & 31 &  27 & 168 &  39 &  30 &  39 &  40 &  45 &  34 &  81 &  30 &  37 & 134 &  43 &  39 &  28 &  61 &  84 & 158 & 131 &  7 &  437 & 83 &   8 &  31 &   8 &   4 &  28 &  30 &   7 & 66 &  17 &  38 &  27 & 57 &  5 &  92 &  54 & 308 & 724 &  11 &  32 &  26 &  8 & 123 &  34 & 113 &  86 &  40 &  33 &  37 & 124 & 128 &   3 &  55 & 21 &  49 &  17 &  90 &  18 &  19 &  21 & 106 & 130 &  7 & 18 &   3 &  24 &  29 &  78 & 18 &  82 &  65 & 151 &  17 & 24 &  11 &  67 & 25 &  42 & 162 &  34 &  19 & 187 &  23 &  13 &   36 & 14 &  79 &  22 &  34 & 114 &  34 &  65 &  10 &  50 &  70 &  39 &  71 & 258 &  88 & 107 &  19 &  11 &  21 & 215 &  32 &  49 &  96 &  21 & 193 & 335 &  34 & 17 &  37 &  61 &  7 & 77 & 31 &  10 &  37 &  45 &   9 &  31 &  6 &  34 &  55 & 158 &   7 & 325 &  28 &  93 &   9 &  79 & 139 &   80 &  51 &  18 &  96 &  13 &  39 &  14 &  26 &  18 &  31 &  18 &  14 &  13 &  38 &   6 &  27 & 11 &   9 &  29 &   9 & 107 &  24 &  42 &   22 & 48 &  19 &  28 &  17 & 170 &  26 &  28 & 214 & 102 &  12 &  25 &   4 &  19 &  50 &  6 & 206 &  15 &  24 &  38 & 264 &  126 &  24 &  47 &  94 &  34 &  25 &  26 &  46 & 115 & 11 &   8 &  33 &  17 & 11 &  99 &  55 &  28 &   9 &  70 &  16 &  17 &  28 &  13 &  14 &  32 &  20 &  67 & 26 & 15 &  28 & 135 &  10 & 29 &   8 &  28 &  41 & 11 &  68 &  47 &  37 & 141 & 10 &  52 &   9 &  29 &  67 &  26 &   9 &   9 &  37 &  42 &  51 & 113 &  50 &  18 &  55 &  15 &  21 &  95 &  12 &  26 &  7 &  12 & 240 &   9 &  58 &  35 &  10 & 146 &  26 & 223 & 23 &  43 &  11 &  11 &  121 &  19 &  95 & 428 &  18 &  14 &  62 &  51 &  11 &  17 &  80 &  152 &  50 &  13 & 51 &  21 &  29 &  30 & 24 &  68 &  30 & 10 & 12 & 153 & 231 &  45 &  52 &   72 &  35 &  90 &  14 &  14 &  76 &  22 & 193 &  29 & 28 &  12 &   9 &  20 &  26 &  16 &  28 &  17 &  17 &  48 &  94 & 102 &  23 & 317 &  54 &  41 &  31 & 43 & 79 & 147 &   5 &   7 &   3 &  9 & 25 & 121 &  37 &  83 & 144 &   5 &  24 &  33 &  4 & 252 & 196 & 97 & 31 & 36 & 67 & 30 & 10 & 256 & 18 &  7 & 21 & 114 & 92 & 16 & 38 & 10 & 26 & 152 & 30 & 44 & 19 & 1068 &  65 & 909 &  20 &  40 &  78 & 265 & 477 &  77 &  25 & 180 &   57 & 13 & 229 & 101 & 18 & 828 & 68 & 149 & 90 & 127 & 214 & 14 &  23 & 23 & 59 & 93 & 84 & 21 & 80 & 103 &  15 & 10 & 37 & 79 &  52 &  9 &  37 & 100 & 55 & 27 & 136 &  80 & 15 & 21 & 20 & 139 & 72 &  7 & 23 & 150 & 122 & 138 & 12 &  76 & 118 & 25 & 18 & 33 & 53 &  11 &  12 &  44 &  22 &  8 & 83 &  35 &  55 & 217 &  24 &  85 & 284 & 178 & 38 & 116 & 113 &  38 &  51 & 39 & 18 & 164 & 42 &  86 &  34 & 188 & 21 & 190 &  45 &  22 &  21 &  32 & 148 &  67 &  42 & 39 & 30 &  19 & 16 &  34 &  12 &  25 & 21 & 45 & 56 & 18 & 53 & 45 & 39 & 44 &  72 & 215 &  98 &  70 & 107 &  74 &  7 &  61 &  16 &  37 & 36 &  20 & 37 &  47 & 15 &  20 & 30 &   62 & 368 & 14 & 209 & 62 & 724 &  75 & 22 & 36 & 67 & 28 & 32 &  52 &  79 &  26 &  17 &  50 &  13 & 142 &   30 &  268 & 133 &   8 & 23 & 23 & 28 & 14 & 145 &  8 &   33 & 35 & 14 &  73 & 33 & 29 &  60 & 114 & 59 & 275 &  21 & 255 &  55 & 175 & 271 & 118 & 23 & 42 & 17 & 32 & 38 & 76 & 18 & 22 & 29 & 19 & 12 & 24 & 185 & 18 & 33 & 51 & 13 & 21 & 16 & 27 & 34 & 20 & 15 & 47 & 10 & 10 & 35 & 192 & 25 & 62 & 63 & 57 & 30 &  21 & 30 & 72 & 60 & 57 & 20 & 81 & 34 &  67 & 14 & 50 & 45 & 14 & 65 &  45 & 69 & 18 & 32 & 27 & 19 & 21 & 227 & 37 & 20 & 22 & 20 & 433 & 356 & 24 & 32 & 28 & 256 & 41 & 22 &  5 & 15 & 13 & 34 &  46 &  10 &  96 & 13 & 24 &   5 &  39 &  57 &  13 &  22 & 11 &   10 & 121 & 32 & 49 & 14 & 16 & 26 &  8 & 60 & 272 &  5 &  76 & 17 & 65 & 22 & 33 & 86 & 110 &  95 &  20 &  86 & 39 & 21 & 32 &  8 &  28 & 15 & 19 & 50 & 29 & 39 &  7 & 19 & 16 & 11 & 28 & 18 &  40 &  30 &  82 &  43 &  12 &  16 & 22 &  23 &  25 &  17 &  27 & 15 & 21 & 103 &  17 & 20 & 45 & 22 & 56 & 26 & 56 &  93 &  87 &  50 & 20 & 20 & 68 & 23 & 55 &  63 &  48 & 35 & 45 &  33 & 39 & 28 & 39 & 46 & 19 & 45 & 44 & 35 & 48 &  23 &   35 &  19 & 207 &  82 &  36 &  21 & 183 &  32 &  14 &  73 &   18 &  24 &  14 &  6 & 12 & 15 &   7 &  17 &  19 &  24 &  86 &  22 & 1103 &   84 & 183 &   2 &  72 &  47 &  41 &   9 & 44 &  50 & 91 & 38 & 46 &  75 & 131 &   6 & 48 &  63 & 49 & 226 & 22 & 296 &  13 &  14 & 44 & 17 & 30 & 107 & 32 & 70 & 15 & 92 & 17 & 64 & 91 & 114 & 59 & 94 &  36 & 802 & 35 & 50 & 70 & 94 & 29 &  27 & 25 & 11 &  12 &  66 & 26 & 346 & 45 & 24 & 55 & 24 & 23 & 536 & 33\\\\\n",
       "\tAlcaligenes faecalis et rel. &  1 &   1 &   1 &   2 &  1 &  1 &  1 &  1 &  1 &   1 &   1 &  1 &   1 &  1 &   1 &   2 &   1 &  1 &  1 &  4 &  1 &   1 &   2 &   2 &   2 &   1 &  2 &  1 &  2 &  1 &  1 &  2 &    2 &  4 &  2 &  2 &   2 &   3 &  1 &   1 &   1 &   1 &   1 &  2 &  1 &  1 &  1 &  1 &  1 &   1 &  1 &  3 &  1 &  1 &  1 &  2 &   5 &  1 &   1 &  2 &  2 &  2 &  1 &  2 &  2 &   2 &   3 &   1 &   2 &   2 &   2 &  2 &   3 &  2 &  1 &  2 &  1 &  2 &   1 &  3 &   2 &  1 &  2 &  2 &  2 &   1 &  2 &   3 &  1 &   6 &  1 &  5 &  1 &   2 &  2 &  1 &  2 &   1 &   2 &  2 &   2 &  2 &  2 &   5 &   2 &   4 &  2 &  2 &  2 &  2 &  2 &   1 &  2 &  3 &  4 &   2 &  2 &   3 &  2 &   2 &   2 &  2 &  1 &  1 &  1 &  1 &   1 &  2 &   1 &  2 &  2 &  1 &  2 &   1 &  2 &   2 &   2 &   2 &  1 &   2 &  2 &   1 &  3 &  1 &  2 &   2 &  1 &   2 &  1 &  2 &  5 &  1 &   1 &  1 &  1 &  2 &  2 & 1 &  1 &  2 &   3 &  1 &  1 &   2 &  1 &   2 &  1 &   2 &  2 &   2 &  2 &  1 &  2 &  1 &  2 &   6 &  2 &   2 &   3 &   2 &   2 &   2 &   2 &   3 &  1 &  2 &  15 &   2 &   2 &  4 &  2 &  1 &   3 &  1 &   2 &  1 &  1 &  1 &   1 &   1 &  1 &  1 &  2 &  2 &  2 &  2 &   2 &  2 &  1 &  8 &  2 &   2 &   2 &   1 &   2 &   2 &  1 &  2 &   1 &  2 &  2 &   1 &  1 &   1 &  2 &  1 &  2 &  1 &  1 &   1 &  1 &  2 &   4 &  1 &  1 &  2 &   2 &  1 &  2 &   2 &   1 &   1 &  1 &  1 &  1 &   1 &  2 &   4 &   2 &  2 &   2 &  2 &  2 &   1 &  1 &   1 &   2 &   2 &  1 &   2 &   1 &   1 &   1 &  1 &   2 &  2 &  2 &   2 &   3 &   2 &   2 &  2 &  2 &   2 &  1 &  2 &  2 &  2 &  2 &  2 & 14 &  2 &  1 &   5 &  2 &   2 & 11 &  1 &   2 &   3 &  3 &   3 &  2 &   2 &  2 &  2 &  2 &  2 &  1 &  2 &  4 &  2 &  4 &   2 &   2 &   2 &  2 &  3 &  3 &   2 &  1 &   2 &   2 &   1 &  1 &  1 &  1 &  2 &  2 &  1 &  2 &   2 &  2 &   2 &  1 &   2 &  2 &  4 &  2 &   2 &   2 &  2 &  2 &   2 &   2 &   2 &  2 &   1 &   1 &   2 &  2 &   2 &  3 &  1 &  3 &  1 &   1 &   1 &  1 &   3 &  1 &  1 &  2 &   2 &   1 &    2 &  2 &   4 &   2 &  18 & 209 &   3 &   4 &   4 &    3 & 46 &   4 & 11 &   3 &  1 &   2 &   1 &   3 &  2 &   2 &  2 &   4 &   77 &   4 &    2 &   3 &   2 &   2 &   1 &  1 &   2 &    2 &   2 &  11 &   2 &   2 &  2 &   2 &   2 &   3 &   2 &   2 &   4 &   2 &   1 &   2 &   3 &   2 &   2 &   8 &   2 &   2 &   2 &   2 &   2 &   2 &  2 &    8 &  3 &   3 &   4 &   3 &   2 &   3 &   3 &   2 &  3 &   3 &   2 &  10 &  2 &  1 &   7 &   2 &   2 &  20 &   3 &   2 &   4 &  2 &   5 &   4 &   3 &   2 &   2 &   3 &  11 &   8 &  24 &   2 &   2 & 12 &   2 &   3 &   3 &   2 &   2 &   3 &   3 &   3 &  2 &  2 &   1 &   3 &   7 &   3 &  1 &   9 &   2 &  20 &   3 &  1 &   2 &   5 &  1 &   1 &   2 &   4 &   2 &   4 &   8 &   2 &    2 &  1 &   2 &   2 &   2 &   7 &   2 &   2 &   2 &   5 &   2 &   2 &   4 &   6 &   4 &  17 &   2 &   1 &   7 &   2 &   4 &   2 &   2 &   2 &   5 &   9 &   4 &  2 &  20 &  10 &  9 &  1 &  2 &   1 &   2 &   6 &   3 &   2 &  2 &   2 &   2 &   4 &   2 &   4 &   2 &   3 &   2 &   1 &   2 &    2 &   2 &   2 &   2 &   2 &   1 &   2 &   1 &   2 &   3 &   2 &   1 &   1 &   3 &   2 &   3 &  1 &   2 &   2 &   1 &   2 &   2 &   2 &    2 &  3 &   1 &   2 &   2 &   1 &   1 &   1 &   2 &   2 &   1 &   2 &   1 &   2 &   3 &  1 &   1 &   1 &   2 &   3 &   2 &    2 &   1 &   2 &   1 &   1 &   3 &   1 &   1 &   1 &  2 &   1 &   1 &   1 &  1 &   1 &   1 &   1 &   1 &   1 &   1 &   3 &   2 &   1 &   1 &   1 &   1 &   1 &  5 &  2 &   2 &   2 &   1 &  1 &   1 &   1 &   2 &  1 &   2 &   4 &   6 &   8 &  1 &   2 &   2 &   4 &   2 &   3 &   1 &   1 &   1 &   2 &   2 &   2 &   3 &   2 &   2 &   4 &   2 &   2 &   4 &   2 &  1 &   2 &   2 &   2 &   2 &   2 &   2 &   3 &   2 &   3 &  2 &   3 &   2 &   2 &    1 &   2 &   2 &   3 &   1 &   2 &   3 &   2 &   2 &   3 &   2 &    2 &   2 &   2 &  2 &   3 &   7 &   2 &  2 &   2 &   2 &  2 &  3 &   2 &   5 &   2 &   3 &   13 &   2 &   2 &   2 &   2 &   2 &   3 &   5 &   2 &  1 &   2 &   1 &   1 &   1 &   1 &   1 &   1 &   2 &   1 &   2 &   2 &   2 &   2 &   2 &   3 &   2 &  2 &  2 &   2 &   3 &   1 &   2 &  2 &  2 &   2 &   8 &   3 &   2 &   2 &   2 &   4 &  1 &  11 &   7 &  2 &  4 &  6 &  3 & 12 &  2 &   2 &  4 &  1 &  2 &   2 &  1 &  2 &  2 &  1 &  2 &   2 &  2 &  2 &  2 &    2 &   2 &   2 &   2 &   2 &   2 &   3 &   2 &   2 &   2 &   3 &    4 &  2 &   2 &   2 &  1 &   2 &  2 &   2 &  2 &   2 &   2 &  2 &   2 &  6 &  2 &  2 &  3 &  3 &  2 &   3 &   2 &  7 &  3 &  2 &   4 &  3 &   2 &   2 &  2 &  2 &   2 &   3 &  2 &  1 &  2 &   2 &  2 &  3 &  3 &   3 &   3 &   3 &  2 &   2 &   3 &  2 &  2 &  1 &  2 &   1 &   2 &   2 &   3 &  1 &  2 &   2 &   2 &   3 &   3 &   2 &   2 &   1 &  3 &   2 &   3 &   1 &   2 &  2 &  3 &   3 &  2 &   2 &   2 &   2 &  2 &   2 &   2 &   1 &   1 &   2 &   1 &   2 &   2 &  3 &  3 &   3 &  3 &   2 &   2 &   4 &  2 &  3 &  4 &  2 &  2 &  2 &  3 &  3 &   1 &   1 &   1 &   1 &   2 &   2 &  2 &   2 &   1 &   1 &  2 &   1 &  1 &   2 &  2 &   1 &  1 &    2 &   2 &  1 &   2 &  4 &   2 &   2 &  2 &  3 &  1 &  2 &  1 &   3 &   3 &   2 &   2 &   1 &   1 &   2 &    2 &    2 &   3 &   2 &  2 &  2 &  2 &  1 &   1 &  1 &    1 &  3 &  5 &  83 &  1 &  1 &   1 &   2 &  2 &   2 &   2 &   2 &   2 &   3 &   3 &   2 &  3 &  2 &  2 &  2 &  2 &  1 &  2 &  2 &  1 &  2 &  2 &  2 &   3 &  3 &  3 &  3 &  3 &  2 &  2 &  2 &  2 & 11 &  2 &  2 &  2 &  2 &  4 &   3 &  9 & 21 &  6 &  4 &  3 &   2 &  3 &  2 &  4 &  8 &  2 &  3 &  3 &   2 &  2 &  2 &  3 &  2 &  2 &   2 &  6 &  2 &  2 &  2 &  3 &  2 &   4 &  2 &  2 &  2 &  2 &   3 &   4 &  3 &  2 &  2 &   2 &  6 &  7 &  2 &  2 &  2 &  3 &   5 &   3 &   4 &  3 &  2 &   2 &   4 &   3 &   3 &   3 &  2 &    2 &   2 &  2 &  2 &  2 &  1 &  3 &  4 &  2 &   4 &  3 &   4 &  2 &  4 &  4 &  3 &  3 &   2 &   3 &   2 &   2 &  3 &  2 &  2 &  2 &   2 &  2 &  2 &  3 &  2 &  3 &  2 &  2 &  3 &  3 &  2 &  2 &   3 &   2 &   3 &   3 &   2 &   3 &  2 &   2 &   4 &   3 &   2 &  2 &  2 &   3 &   3 &  1 &  3 &  1 &  3 &  2 &  4 &   2 &   3 &   2 &  3 &  6 &  3 &  2 &  4 &   6 &   3 &  3 &  2 &   4 &  3 &  2 &  3 &  2 &  3 &  2 &  3 &  2 &  3 &   2 &    2 &   2 &   3 &   2 &   5 &   7 & 185 &   3 &   3 &   3 &    3 &  41 &   6 &  5 &  2 &  2 &   2 &   1 &   2 &   2 &   3 &   2 &   11 &   90 &   4 &   2 &   2 &   2 &   2 &   1 &  3 &   1 &  1 &  2 &  1 &   1 &   1 &   2 &  2 &   3 &  1 &   1 &  1 &   1 &   1 &   1 &  2 &  2 &  2 &   1 &  1 &  1 &  1 &  2 &  1 &  2 &  2 &   2 &  1 &  1 &   2 &   1 &  1 &  1 &  2 &  1 &  1 &   1 &  1 &  1 &   1 &   2 &  1 &   1 &  1 &  1 &  2 &  1 &  1 &   1 &  1\\\\\n",
       "\tAllistipes et rel. & 72 & 127 &  34 & 344 & 50 & 57 & 21 &  9 &  9 &  23 &  12 & 12 & 208 & 14 &  13 &  45 &  14 & 15 & 92 & 36 & 14 &   9 & 317 & 232 &  86 & 282 & 69 & 27 & 30 & 11 & 41 & 28 & 1086 & 85 & 94 & 37 & 422 & 411 & 25 & 110 &  58 & 444 & 147 & 21 & 20 & 75 & 64 & 46 & 14 &  21 & 10 & 19 & 11 & 54 & 57 & 10 & 117 & 11 & 124 & 24 & 47 & 19 & 25 & 75 & 23 & 276 & 328 & 111 &  77 & 159 & 134 & 84 & 124 & 54 & 57 & 27 & 63 & 92 & 211 & 91 &  81 & 28 & 97 & 77 & 35 &  21 & 70 & 176 & 27 & 100 & 42 & 29 & 55 & 178 & 53 & 39 & 17 &  45 & 370 & 89 & 140 & 68 & 36 & 147 & 189 & 202 & 86 & 50 & 96 & 23 & 31 & 120 & 69 & 54 & 32 & 127 & 42 & 102 & 49 &  34 &  78 & 66 &  8 & 15 & 83 & 14 &  87 & 55 & 154 & 27 & 18 & 23 & 23 & 138 & 74 & 211 & 403 & 183 & 76 & 258 & 47 & 203 & 45 & 11 & 37 & 249 & 67 & 216 & 16 & 69 & 52 & 19 & 103 & 37 & 21 & 31 & 37 & 9 & 41 & 73 & 203 & 90 & 43 & 183 & 17 & 105 & 41 & 134 & 14 & 144 & 16 & 81 & 46 & 21 & 48 & 289 & 23 & 203 & 183 & 172 & 170 & 143 & 170 & 178 & 65 & 40 & 139 &  30 & 117 & 31 & 69 & 88 & 133 & 13 & 164 & 59 & 38 & 25 &  89 & 143 & 29 & 23 & 78 & 91 & 14 & 50 & 161 & 39 & 32 & 59 & 76 & 119 & 557 & 236 & 421 & 228 & 41 & 48 & 680 & 90 & 66 &  34 & 28 & 540 & 24 & 71 & 92 & 21 & 18 & 198 & 12 & 41 & 149 & 14 & 73 & 81 & 328 & 42 & 23 & 139 & 135 & 187 & 32 & 16 & 38 & 230 & 58 & 283 & 132 & 16 & 148 & 94 & 49 & 142 & 12 & 209 & 240 & 180 & 85 & 117 & 120 & 197 & 183 & 23 & 223 & 36 & 40 & 167 & 167 & 230 & 119 & 31 & 29 & 147 & 12 & 41 & 55 & 95 & 52 & 55 & 22 & 15 & 11 & 151 & 13 & 110 & 34 &  9 & 123 & 224 & 14 & 111 & 12 & 120 & 22 & 29 & 17 & 45 & 18 & 70 & 66 & 55 & 31 & 309 & 119 & 177 & 19 & 19 & 57 & 196 & 28 & 145 & 126 & 104 & 15 & 31 & 10 & 11 & 13 &  9 & 14 &  22 & 12 &  29 & 33 &  11 & 12 & 26 & 15 &  14 &  13 & 20 & 22 & 127 &  12 &  16 & 48 & 284 & 132 & 137 & 74 & 170 & 90 & 29 & 85 & 63 &  60 & 117 & 22 & 179 & 38 & 27 & 49 & 829 & 140 & 1232 & 79 & 312 & 839 & 202 & 666 & 583 & 113 & 236 & 1364 & 61 & 156 & 27 & 178 & 55 & 363 & 269 & 458 & 76 & 226 & 14 & 536 & 1022 & 662 & 1051 & 174 & 175 & 212 & 338 & 61 & 328 & 1858 & 607 & 207 & 836 & 397 & 29 & 150 &  33 & 114 & 323 & 129 & 197 & 418 & 329 & 784 & 268 & 460 & 290 & 526 & 526 & 180 & 303 & 318 & 521 & 173 & 58 & 1064 & 98 & 251 & 164 & 196 & 138 & 124 & 366 & 366 & 51 & 541 & 216 & 721 & 50 & 72 & 212 & 108 & 237 & 392 & 206 & 137 & 228 & 61 & 374 & 316 &  32 & 255 & 237 & 428 & 346 & 250 & 240 & 109 & 174 & 45 & 404 & 223 & 641 & 262 & 250 & 446 & 615 & 618 & 84 & 68 & 165 & 237 & 168 & 325 & 21 & 191 & 356 & 455 & 438 & 91 & 275 & 813 & 72 & 236 & 722 & 857 & 454 & 483 & 171 & 560 & 1017 & 48 & 527 & 307 & 589 & 313 & 141 & 516 & 250 & 393 & 673 & 448 & 216 & 624 & 412 & 662 & 144 & 384 & 231 & 149 & 492 & 651 & 497 & 228 & 693 & 454 & 476 & 66 & 634 & 478 & 60 & 87 & 82 & 275 & 718 & 438 & 505 & 177 & 34 & 567 & 576 & 223 & 534 & 170 & 230 & 322 & 147 & 447 & 519 & 1136 & 220 & 128 & 362 & 182 & 843 & 226 & 214 & 914 & 258 & 114 & 337 & 699 & 185 & 109 & 240 & 47 & 534 & 201 & 334 & 577 & 472 & 186 & 1013 & 87 & 367 & 747 & 502 & 206 & 444 & 202 & 734 & 395 & 904 & 764 & 448 & 442 & 746 & 47 & 442 & 402 & 439 & 242 & 261 & 1171 & 269 & 444 & 765 & 217 & 734 & 548 & 455 &  85 & 75 & 130 & 223 & 433 & 69 & 722 & 195 & 615 & 282 & 336 & 389 & 282 & 169 & 494 & 458 & 258 & 345 & 198 & 34 & 89 & 199 & 138 & 330 & 82 & 380 & 336 & 579 & 43 & 356 & 156 & 348 & 722 & 99 & 360 & 297 & 105 & 555 & 161 & 302 & 181 & 137 & 275 & 642 &  65 & 530 & 129 & 171 & 380 & 125 & 259 & 185 & 344 & 94 & 584 &  98 & 291 & 391 & 105 & 172 & 199 & 307 & 316 & 61 & 380 & 172 & 244 & 1205 & 152 & 438 & 237 & 198 & 257 & 250 & 497 & 158 & 525 & 433 & 1073 & 695 & 793 & 39 & 250 & 273 & 195 & 56 & 364 & 273 & 38 & 38 & 567 & 170 & 951 & 292 & 1321 & 282 & 171 & 296 & 104 & 298 & 276 & 744 & 412 & 54 & 208 & 181 & 343 & 929 & 181 & 124 & 147 & 743 & 297 & 792 & 639 & 260 & 128 & 600 & 832 & 561 & 29 & 94 & 595 & 100 & 184 & 696 & 74 & 11 &  42 & 140 & 312 & 623 & 272 & 158 & 224 & 50 & 114 &  75 & 63 & 68 & 74 & 36 & 60 & 18 &  96 & 70 & 45 & 49 & 105 & 18 & 17 & 52 & 50 & 47 & 112 & 49 & 26 & 14 &  209 & 219 &  50 & 504 & 725 & 328 &  52 &  40 & 877 & 527 & 747 & 1620 & 37 &  85 & 111 & 16 &  99 & 15 &  37 & 75 & 710 & 108 & 19 & 194 & 17 & 20 & 23 & 19 & 69 & 92 &  18 & 286 & 19 & 94 & 90 & 118 & 45 & 210 & 154 & 63 & 21 & 101 & 131 & 57 & 24 & 74 & 105 & 48 & 70 & 64 &  89 &  36 & 119 & 77 & 144 &  65 & 51 & 36 & 69 & 48 & 166 & 124 & 134 & 220 & 12 & 81 & 104 & 185 &  82 & 494 & 274 & 186 & 246 & 39 & 105 & 113 & 155 & 100 & 68 & 65 & 139 & 47 & 352 & 134 & 196 & 14 &  51 & 100 & 223 & 115 & 180 & 184 & 151 & 107 & 45 & 40 & 122 & 36 & 272 & 107 & 124 & 80 & 46 & 50 & 30 & 61 & 76 & 26 & 60 & 101 &  74 & 554 & 289 & 155 & 315 & 39 & 250 & 255 & 143 & 83 & 225 & 54 & 425 & 67 & 176 & 84 & 1044 & 685 & 44 & 381 & 39 &  33 & 154 & 93 & 96 & 91 & 57 & 32 & 545 & 424 & 155 & 111 & 522 & 125 & 131 & 1354 & 1222 & 575 & 210 & 64 & 68 & 20 & 84 & 119 & 69 & 1345 & 78 & 18 & 469 & 93 & 19 & 168 & 162 & 18 & 127 & 376 & 565 & 122 & 161 & 493 &  26 & 18 & 18 & 32 & 20 & 65 & 30 & 12 & 11 & 25 & 87 & 22 & 12 & 257 & 64 & 32 & 64 & 15 & 23 & 37 & 76 & 87 & 18 & 12 & 11 & 18 & 56 & 75 & 369 & 27 & 48 & 64 & 33 & 29 & 301 & 22 & 98 & 30 & 23 & 22 & 73 & 49 & 148 & 82 & 41 & 26 & 52 & 23 & 174 & 38 & 22 & 12 & 15 & 14 & 21 & 110 & 54 & 98 & 12 & 13 & 326 &  49 & 29 & 28 & 66 & 134 & 27 & 64 & 10 & 11 & 38 & 69 & 401 & 104 & 203 & 23 & 41 & 337 & 779 & 812 & 115 & 557 & 63 & 1036 & 171 & 32 & 42 & 74 & 18 & 12 & 40 & 88 &  44 & 67 & 115 & 61 & 20 & 15 & 28 & 55 & 833 & 441 & 499 & 288 & 45 & 58 & 49 & 37 & 100 & 51 & 60 & 23 & 48 & 60 & 39 & 57 & 36 & 25 & 39 & 26 & 277 & 277 & 584 & 367 & 107 & 232 & 41 & 164 & 124 & 144 & 143 & 71 & 80 & 110 & 116 & 99 & 46 & 49 & 56 & 33 & 50 & 148 & 258 & 211 & 60 & 89 & 93 & 90 & 79 & 145 & 104 & 63 & 76 & 115 & 96 & 87 & 26 & 22 & 24 & 30 & 60 & 61 & 85 & 357 & 1027 & 162 & 884 & 463 & 436 & 183 & 349 & 755 & 169 & 191 & 1925 & 115 & 126 & 34 & 43 & 69 & 116 & 514 & 329 & 241 & 251 & 543 &  597 & 1051 & 863 & 217 & 335 & 175 & 328 & 292 & 59 & 387 & 37 & 63 & 19 & 371 & 139 & 112 & 15 & 370 & 43 &  15 & 53 &  20 & 108 & 516 & 43 & 24 & 19 &  70 & 26 & 14 & 59 & 87 & 22 & 75 & 84 &  17 & 26 & 25 & 113 & 218 & 10 & 10 & 23 & 65 & 30 & 172 & 93 & 26 & 108 & 106 & 29 & 568 & 25 & 17 & 37 & 69 & 60 & 134 & 28\\\\\n",
       "\\end{tabular}\n"
      ],
      "text/markdown": [
       "\n",
       "A matrix: 6 × 1151 of type dbl\n",
       "\n",
       "| <!--/--> | Sample-1 | Sample-2 | Sample-3 | Sample-4 | Sample-5 | Sample-6 | Sample-7 | Sample-8 | Sample-9 | Sample-10 | ⋯ | Sample-1162 | Sample-1163 | Sample-1165 | Sample-1166 | Sample-1167 | Sample-1168 | Sample-1169 | Sample-1170 | Sample-1171 | Sample-1172 |\n",
       "|---|---|---|---|---|---|---|---|---|---|---|---|---|---|---|---|---|---|---|---|---|---|\n",
       "| Actinomycetaceae |  0 |   0 |   0 |   0 |  0 |  0 |  0 |  0 |  0 |   0 | ⋯ |   0 |  0 |   0 |  0 |  0 |  0 |  0 |  1 |   0 |  0 |\n",
       "| Aerococcus |  0 |   0 |   0 |   0 |  0 |  0 |  0 |  0 |  0 |   0 | ⋯ |   0 |  0 |   0 |  0 |  0 |  0 |  0 |  0 |   0 |  0 |\n",
       "| Aeromonas |  0 |   0 |   0 |   0 |  0 |  0 |  0 |  0 |  0 |   0 | ⋯ |   0 |  0 |   0 |  0 |  0 |  0 |  0 |  0 |   0 |  0 |\n",
       "| Akkermansia | 21 |  36 | 475 |  61 | 34 | 14 | 27 | 21 | 78 | 169 | ⋯ |  66 | 26 | 346 | 45 | 24 | 55 | 24 | 23 | 536 | 33 |\n",
       "| Alcaligenes faecalis et rel. |  1 |   1 |   1 |   2 |  1 |  1 |  1 |  1 |  1 |   1 | ⋯ |   2 |  1 |   1 |  1 |  1 |  2 |  1 |  1 |   1 |  1 |\n",
       "| Allistipes et rel. | 72 | 127 |  34 | 344 | 50 | 57 | 21 |  9 |  9 |  23 | ⋯ | 106 | 29 | 568 | 25 | 17 | 37 | 69 | 60 | 134 | 28 |\n",
       "\n"
      ],
      "text/plain": [
       "                             Sample-1 Sample-2 Sample-3 Sample-4 Sample-5\n",
       "Actinomycetaceae              0         0        0        0       0      \n",
       "Aerococcus                    0         0        0        0       0      \n",
       "Aeromonas                     0         0        0        0       0      \n",
       "Akkermansia                  21        36      475       61      34      \n",
       "Alcaligenes faecalis et rel.  1         1        1        2       1      \n",
       "Allistipes et rel.           72       127       34      344      50      \n",
       "                             Sample-6 Sample-7 Sample-8 Sample-9 Sample-10 ⋯\n",
       "Actinomycetaceae              0        0        0        0         0       ⋯\n",
       "Aerococcus                    0        0        0        0         0       ⋯\n",
       "Aeromonas                     0        0        0        0         0       ⋯\n",
       "Akkermansia                  14       27       21       78       169       ⋯\n",
       "Alcaligenes faecalis et rel.  1        1        1        1         1       ⋯\n",
       "Allistipes et rel.           57       21        9        9        23       ⋯\n",
       "                             Sample-1162 Sample-1163 Sample-1165 Sample-1166\n",
       "Actinomycetaceae               0          0            0          0         \n",
       "Aerococcus                     0          0            0          0         \n",
       "Aeromonas                      0          0            0          0         \n",
       "Akkermansia                   66         26          346         45         \n",
       "Alcaligenes faecalis et rel.   2          1            1          1         \n",
       "Allistipes et rel.           106         29          568         25         \n",
       "                             Sample-1167 Sample-1168 Sample-1169 Sample-1170\n",
       "Actinomycetaceae              0           0           0           1         \n",
       "Aerococcus                    0           0           0           0         \n",
       "Aeromonas                     0           0           0           0         \n",
       "Akkermansia                  24          55          24          23         \n",
       "Alcaligenes faecalis et rel.  1           2           1           1         \n",
       "Allistipes et rel.           17          37          69          60         \n",
       "                             Sample-1171 Sample-1172\n",
       "Actinomycetaceae               0          0         \n",
       "Aerococcus                     0          0         \n",
       "Aeromonas                      0          0         \n",
       "Akkermansia                  536         33         \n",
       "Alcaligenes faecalis et rel.   1          1         \n",
       "Allistipes et rel.           134         28         "
      ]
     },
     "metadata": {},
     "output_type": "display_data"
    },
    {
     "data": {
      "text/html": [
       "<table>\n",
       "<caption>A matrix: 6 × 1151 of type dbl</caption>\n",
       "<thead>\n",
       "\t<tr><th></th><th scope=col>Sample-1</th><th scope=col>Sample-2</th><th scope=col>Sample-3</th><th scope=col>Sample-4</th><th scope=col>Sample-5</th><th scope=col>Sample-6</th><th scope=col>Sample-7</th><th scope=col>Sample-8</th><th scope=col>Sample-9</th><th scope=col>Sample-10</th><th scope=col>⋯</th><th scope=col>Sample-1162</th><th scope=col>Sample-1163</th><th scope=col>Sample-1165</th><th scope=col>Sample-1166</th><th scope=col>Sample-1167</th><th scope=col>Sample-1168</th><th scope=col>Sample-1169</th><th scope=col>Sample-1170</th><th scope=col>Sample-1171</th><th scope=col>Sample-1172</th></tr>\n",
       "</thead>\n",
       "<tbody>\n",
       "\t<tr><th scope=row>Actinomycetaceae</th><td>0.0000000000</td><td>0.000000e+00</td><td>0.0000000000</td><td>0.0000000000</td><td>0.000000e+00</td><td>0.0000000000</td><td>0.0000000000</td><td>0.0000000000</td><td>0.0000000000</td><td>0.0000000000</td><td>⋯</td><td>0.0000000000</td><td>0.000000e+00</td><td>0.000000e+00</td><td>0.000000e+00</td><td>0.0000000000</td><td>0.0000000000</td><td>0.0000000000</td><td>6.428388e-05</td><td>0.000000e+00</td><td>0.0000000000</td></tr>\n",
       "\t<tr><th scope=row>Aerococcus</th><td>0.0000000000</td><td>0.000000e+00</td><td>0.0000000000</td><td>0.0000000000</td><td>0.000000e+00</td><td>0.0000000000</td><td>0.0000000000</td><td>0.0000000000</td><td>0.0000000000</td><td>0.0000000000</td><td>⋯</td><td>0.0000000000</td><td>0.000000e+00</td><td>0.000000e+00</td><td>0.000000e+00</td><td>0.0000000000</td><td>0.0000000000</td><td>0.0000000000</td><td>0.000000e+00</td><td>0.000000e+00</td><td>0.0000000000</td></tr>\n",
       "\t<tr><th scope=row>Aeromonas</th><td>0.0000000000</td><td>0.000000e+00</td><td>0.0000000000</td><td>0.0000000000</td><td>0.000000e+00</td><td>0.0000000000</td><td>0.0000000000</td><td>0.0000000000</td><td>0.0000000000</td><td>0.0000000000</td><td>⋯</td><td>0.0000000000</td><td>0.000000e+00</td><td>0.000000e+00</td><td>0.000000e+00</td><td>0.0000000000</td><td>0.0000000000</td><td>0.0000000000</td><td>0.000000e+00</td><td>0.000000e+00</td><td>0.0000000000</td></tr>\n",
       "\t<tr><th scope=row>Akkermansia</th><td>0.0027657053</td><td>3.547497e-03</td><td>0.0666105736</td><td>0.0056195302</td><td>2.833333e-03</td><td>0.0017690169</td><td>0.0045569620</td><td>0.0024126838</td><td>0.0112327189</td><td>0.0179921218</td><td>⋯</td><td>0.0042509339</td><td>1.474843e-03</td><td>2.375232e-02</td><td>3.348713e-03</td><td>0.0024785707</td><td>0.0041309899</td><td>0.0017858472</td><td>1.478529e-03</td><td>5.325914e-02</td><td>0.0036925143</td></tr>\n",
       "\t<tr><th scope=row>Alcaligenes faecalis et rel.</th><td>0.0001317003</td><td>9.854158e-05</td><td>0.0001402328</td><td>0.0001842469</td><td>8.333333e-05</td><td>0.0001263584</td><td>0.0001687764</td><td>0.0001148897</td><td>0.0001440092</td><td>0.0001064623</td><td>⋯</td><td>0.0001288162</td><td>5.672471e-05</td><td>6.864831e-05</td><td>7.441584e-05</td><td>0.0001032738</td><td>0.0001502178</td><td>0.0000744103</td><td>6.428388e-05</td><td>9.936407e-05</td><td>0.0001118944</td></tr>\n",
       "\t<tr><th scope=row>Allistipes et rel.</th><td>0.0094824180</td><td>1.251478e-02</td><td>0.0047679147</td><td>0.0316904652</td><td>4.166667e-03</td><td>0.0072024261</td><td>0.0035443038</td><td>0.0010340074</td><td>0.0012960829</td><td>0.0024486320</td><td>⋯</td><td>0.0068272575</td><td>1.645017e-03</td><td>3.899224e-02</td><td>1.860396e-03</td><td>0.0017556542</td><td>0.0027790296</td><td>0.0051343106</td><td>3.857033e-03</td><td>1.331479e-02</td><td>0.0031330424</td></tr>\n",
       "</tbody>\n",
       "</table>\n"
      ],
      "text/latex": [
       "A matrix: 6 × 1151 of type dbl\n",
       "\\begin{tabular}{r|lllllllllllllllllllllllllllllllllllllllllllllllllllllllllllllllllllllllllllllllllllllllllllllllllllllllllllllllllllllllllllllllllllllllllllllllllllllllllllllllllllllllllllllllllllllllllllllllllllllllllllllllllllllllllllllllllllllllllllllllllllllllllllllllllllllllllllllllllllllllllllllllllllllllllllllllllllllllllllllllllllllllllllllllllllllllllllllllllllllllllllllllllllllllllllllllllllllllllllllllllllllllllllllllllllllllllllllllllllllllllllllllllllllllllllllllllllllllllllllllllllllllllllllllllllllllllllllllllllllllllllllllllllllllllllllllllllllllllllllllllllllllllllllllllllllllllllllllllllllllllllllllllllllllllllllllllllllllllllllllllllllllllllllllllllllllllllllllllllllllllllllllllllllllllllllllllllllllllllllllllllllllllllllllllllllllllllllllllllllllllllllllllllllllllllllllllllllllllllllllllllllllllllllllllllllllllllllllllllllllllllllllllllllllllllllllllllllllllllllllllllllllllllllllllllllllllllllllllllllllllllllllllllllllllllllllllllllllllllllllllllllllllllllllllllllllllllllllllllllllllllllllllllllllllllllllllllllllllllllllllllllllllllllllllllllllllllllllllllllllllllllllllllllllllllllllllllllllllllllllllllllllllllllllllllllllllllllll}\n",
       "  & Sample-1 & Sample-2 & Sample-3 & Sample-4 & Sample-5 & Sample-6 & Sample-7 & Sample-8 & Sample-9 & Sample-10 & Sample-11 & Sample-12 & Sample-13 & Sample-14 & Sample-15 & Sample-16 & Sample-17 & Sample-18 & Sample-19 & Sample-20 & Sample-21 & Sample-22 & Sample-23 & Sample-24 & Sample-25 & Sample-26 & Sample-27 & Sample-28 & Sample-29 & Sample-30 & Sample-31 & Sample-32 & Sample-33 & Sample-34 & Sample-35 & Sample-36 & Sample-37 & Sample-38 & Sample-39 & Sample-40 & Sample-41 & Sample-42 & Sample-43 & Sample-44 & Sample-45 & Sample-46 & Sample-47 & Sample-48 & Sample-49 & Sample-50 & Sample-51 & Sample-52 & Sample-53 & Sample-54 & Sample-55 & Sample-56 & Sample-57 & Sample-58 & Sample-59 & Sample-60 & Sample-61 & Sample-62 & Sample-63 & Sample-64 & Sample-65 & Sample-66 & Sample-67 & Sample-68 & Sample-69 & Sample-70 & Sample-71 & Sample-72 & Sample-73 & Sample-74 & Sample-75 & Sample-76 & Sample-77 & Sample-78 & Sample-79 & Sample-80 & Sample-81 & Sample-82 & Sample-83 & Sample-84 & Sample-85 & Sample-86 & Sample-87 & Sample-88 & Sample-89 & Sample-90 & Sample-91 & Sample-92 & Sample-93 & Sample-94 & Sample-95 & Sample-96 & Sample-97 & Sample-98 & Sample-99 & Sample-100 & Sample-101 & Sample-102 & Sample-103 & Sample-104 & Sample-105 & Sample-106 & Sample-107 & Sample-108 & Sample-109 & Sample-110 & Sample-111 & Sample-112 & Sample-113 & Sample-114 & Sample-115 & Sample-116 & Sample-117 & Sample-118 & Sample-119 & Sample-120 & Sample-121 & Sample-122 & Sample-123 & Sample-124 & Sample-125 & Sample-126 & Sample-127 & Sample-128 & Sample-129 & Sample-130 & Sample-131 & Sample-132 & Sample-133 & Sample-134 & Sample-135 & Sample-136 & Sample-137 & Sample-138 & Sample-139 & Sample-140 & Sample-141 & Sample-142 & Sample-143 & Sample-144 & Sample-145 & Sample-146 & Sample-147 & Sample-148 & Sample-149 & Sample-150 & Sample-151 & Sample-152 & Sample-153 & Sample-154 & Sample-155 & Sample-156 & Sample-157 & Sample-158 & Sample-159 & Sample-160 & Sample-161 & Sample-162 & Sample-163 & Sample-164 & Sample-165 & Sample-166 & Sample-167 & Sample-168 & Sample-169 & Sample-170 & Sample-171 & Sample-172 & Sample-173 & Sample-174 & Sample-175 & Sample-176 & Sample-177 & Sample-178 & Sample-179 & Sample-180 & Sample-181 & Sample-182 & Sample-183 & Sample-184 & Sample-185 & Sample-186 & Sample-187 & Sample-188 & Sample-189 & Sample-190 & Sample-191 & Sample-192 & Sample-193 & Sample-194 & Sample-195 & Sample-196 & Sample-197 & Sample-198 & Sample-199 & Sample-200 & Sample-201 & Sample-202 & Sample-203 & Sample-204 & Sample-205 & Sample-206 & Sample-207 & Sample-208 & Sample-209 & Sample-210 & Sample-211 & Sample-212 & Sample-213 & Sample-214 & Sample-215 & Sample-216 & Sample-217 & Sample-218 & Sample-219 & Sample-220 & Sample-221 & Sample-222 & Sample-223 & Sample-224 & Sample-225 & Sample-226 & Sample-227 & Sample-228 & Sample-229 & Sample-230 & Sample-231 & Sample-232 & Sample-233 & Sample-234 & Sample-235 & Sample-236 & Sample-237 & Sample-238 & Sample-239 & Sample-240 & Sample-241 & Sample-242 & Sample-243 & Sample-244 & Sample-245 & Sample-246 & Sample-247 & Sample-248 & Sample-249 & Sample-250 & Sample-251 & Sample-252 & Sample-253 & Sample-254 & Sample-255 & Sample-256 & Sample-257 & Sample-258 & Sample-259 & Sample-260 & Sample-261 & Sample-262 & Sample-263 & Sample-264 & Sample-265 & Sample-266 & Sample-267 & Sample-268 & Sample-269 & Sample-270 & Sample-271 & Sample-272 & Sample-273 & Sample-274 & Sample-275 & Sample-276 & Sample-277 & Sample-278 & Sample-279 & Sample-280 & Sample-281 & Sample-282 & Sample-283 & Sample-284 & Sample-285 & Sample-286 & Sample-287 & Sample-288 & Sample-289 & Sample-290 & Sample-291 & Sample-292 & Sample-293 & Sample-294 & Sample-295 & Sample-296 & Sample-297 & Sample-298 & Sample-299 & Sample-300 & Sample-301 & Sample-302 & Sample-303 & Sample-304 & Sample-305 & Sample-306 & Sample-307 & Sample-308 & Sample-309 & Sample-310 & Sample-311 & Sample-312 & Sample-313 & Sample-314 & Sample-315 & Sample-316 & Sample-317 & Sample-318 & Sample-319 & Sample-320 & Sample-321 & Sample-322 & Sample-323 & Sample-324 & Sample-325 & Sample-326 & Sample-327 & Sample-328 & Sample-329 & Sample-330 & Sample-331 & Sample-332 & Sample-333 & Sample-334 & Sample-335 & Sample-336 & Sample-337 & Sample-338 & Sample-339 & Sample-340 & Sample-341 & Sample-342 & Sample-343 & Sample-344 & Sample-345 & Sample-346 & Sample-347 & Sample-348 & Sample-349 & Sample-350 & Sample-351 & Sample-352 & Sample-353 & Sample-354 & Sample-355 & Sample-356 & Sample-357 & Sample-358 & Sample-359 & Sample-360 & Sample-361 & Sample-362 & Sample-363 & Sample-364 & Sample-365 & Sample-366 & Sample-367 & Sample-368 & Sample-369 & Sample-370 & Sample-371 & Sample-372 & Sample-373 & Sample-374 & Sample-375 & Sample-376 & Sample-377 & Sample-378 & Sample-379 & Sample-380 & Sample-381 & Sample-382 & Sample-383 & Sample-384 & Sample-385 & Sample-386 & Sample-387 & Sample-388 & Sample-389 & Sample-390 & Sample-391 & Sample-392 & Sample-393 & Sample-394 & Sample-395 & Sample-396 & Sample-397 & Sample-398 & Sample-399 & Sample-400 & Sample-401 & Sample-402 & Sample-403 & Sample-404 & Sample-405 & Sample-406 & Sample-407 & Sample-408 & Sample-409 & Sample-410 & Sample-411 & Sample-412 & Sample-413 & Sample-414 & Sample-415 & Sample-416 & Sample-417 & Sample-418 & Sample-419 & Sample-420 & Sample-421 & Sample-422 & Sample-423 & Sample-424 & Sample-425 & Sample-426 & Sample-427 & Sample-428 & Sample-429 & Sample-430 & Sample-431 & Sample-432 & Sample-433 & Sample-434 & Sample-435 & Sample-436 & Sample-437 & Sample-438 & Sample-439 & Sample-440 & Sample-441 & Sample-442 & Sample-443 & Sample-444 & Sample-445 & Sample-446 & Sample-447 & Sample-448 & Sample-449 & Sample-450 & Sample-451 & Sample-452 & Sample-453 & Sample-454 & Sample-455 & Sample-456 & Sample-457 & Sample-458 & Sample-459 & Sample-460 & Sample-461 & Sample-462 & Sample-463 & Sample-464 & Sample-465 & Sample-466 & Sample-467 & Sample-468 & Sample-469 & Sample-470 & Sample-471 & Sample-472 & Sample-473 & Sample-474 & Sample-475 & Sample-476 & Sample-477 & Sample-478 & Sample-479 & Sample-480 & Sample-481 & Sample-482 & Sample-483 & Sample-484 & Sample-485 & Sample-486 & Sample-487 & Sample-488 & Sample-489 & Sample-490 & Sample-491 & Sample-492 & Sample-493 & Sample-494 & Sample-495 & Sample-496 & Sample-497 & Sample-498 & Sample-499 & Sample-500 & Sample-501 & Sample-502 & Sample-503 & Sample-504 & Sample-505 & Sample-506 & Sample-507 & Sample-508 & Sample-509 & Sample-510 & Sample-511 & Sample-512 & Sample-513 & Sample-514 & Sample-515 & Sample-516 & Sample-517 & Sample-518 & Sample-519 & Sample-520 & Sample-521 & Sample-522 & Sample-523 & Sample-524 & Sample-525 & Sample-526 & Sample-527 & Sample-528 & Sample-529 & Sample-530 & Sample-531 & Sample-532 & Sample-533 & Sample-534 & Sample-535 & Sample-536 & Sample-537 & Sample-538 & Sample-539 & Sample-540 & Sample-541 & Sample-542 & Sample-543 & Sample-544 & Sample-545 & Sample-546 & Sample-547 & Sample-548 & Sample-549 & Sample-550 & Sample-551 & Sample-552 & Sample-553 & Sample-554 & Sample-555 & Sample-556 & Sample-557 & Sample-558 & Sample-559 & Sample-560 & Sample-561 & Sample-562 & Sample-563 & Sample-564 & Sample-565 & Sample-566 & Sample-567 & Sample-568 & Sample-569 & Sample-570 & Sample-571 & Sample-572 & Sample-573 & Sample-574 & Sample-575 & Sample-576 & Sample-577 & Sample-578 & Sample-579 & Sample-580 & Sample-581 & Sample-582 & Sample-583 & Sample-584 & Sample-585 & Sample-586 & Sample-587 & Sample-588 & Sample-589 & Sample-590 & Sample-591 & Sample-592 & Sample-593 & Sample-594 & Sample-595 & Sample-596 & Sample-597 & Sample-598 & Sample-599 & Sample-600 & Sample-601 & Sample-602 & Sample-603 & Sample-604 & Sample-605 & Sample-606 & Sample-607 & Sample-608 & Sample-609 & Sample-610 & Sample-611 & Sample-612 & Sample-613 & Sample-614 & Sample-615 & Sample-616 & Sample-617 & Sample-618 & Sample-619 & Sample-620 & Sample-621 & Sample-622 & Sample-623 & Sample-624 & Sample-625 & Sample-626 & Sample-627 & Sample-628 & Sample-629 & Sample-630 & Sample-631 & Sample-632 & Sample-633 & Sample-634 & Sample-635 & Sample-636 & Sample-637 & Sample-638 & Sample-639 & Sample-640 & Sample-641 & Sample-642 & Sample-643 & Sample-644 & Sample-645 & Sample-646 & Sample-647 & Sample-648 & Sample-649 & Sample-650 & Sample-651 & Sample-652 & Sample-653 & Sample-654 & Sample-655 & Sample-656 & Sample-657 & Sample-658 & Sample-659 & Sample-660 & Sample-661 & Sample-662 & Sample-663 & Sample-664 & Sample-665 & Sample-666 & Sample-667 & Sample-668 & Sample-669 & Sample-670 & Sample-671 & Sample-672 & Sample-673 & Sample-674 & Sample-675 & Sample-676 & Sample-677 & Sample-678 & Sample-679 & Sample-680 & Sample-681 & Sample-682 & Sample-683 & Sample-684 & Sample-685 & Sample-686 & Sample-687 & Sample-688 & Sample-689 & Sample-690 & Sample-691 & Sample-692 & Sample-693 & Sample-694 & Sample-695 & Sample-696 & Sample-697 & Sample-698 & Sample-699 & Sample-700 & Sample-701 & Sample-702 & Sample-703 & Sample-704 & Sample-705 & Sample-706 & Sample-707 & Sample-708 & Sample-709 & Sample-710 & Sample-711 & Sample-712 & Sample-713 & Sample-714 & Sample-715 & Sample-716 & Sample-717 & Sample-718 & Sample-719 & Sample-720 & Sample-721 & Sample-722 & Sample-723 & Sample-724 & Sample-725 & Sample-726 & Sample-727 & Sample-728 & Sample-729 & Sample-730 & Sample-731 & Sample-732 & Sample-733 & Sample-734 & Sample-735 & Sample-736 & Sample-737 & Sample-738 & Sample-739 & Sample-740 & Sample-741 & Sample-742 & Sample-743 & Sample-744 & Sample-745 & Sample-746 & Sample-747 & Sample-748 & Sample-749 & Sample-750 & Sample-751 & Sample-752 & Sample-753 & Sample-754 & Sample-755 & Sample-756 & Sample-757 & Sample-758 & Sample-759 & Sample-760 & Sample-761 & Sample-762 & Sample-763 & Sample-764 & Sample-765 & Sample-766 & Sample-767 & Sample-768 & Sample-769 & Sample-770 & Sample-771 & Sample-772 & Sample-773 & Sample-774 & Sample-775 & Sample-776 & Sample-777 & Sample-778 & Sample-779 & Sample-780 & Sample-781 & Sample-782 & Sample-783 & Sample-784 & Sample-785 & Sample-786 & Sample-787 & Sample-788 & Sample-789 & Sample-790 & Sample-791 & Sample-792 & Sample-793 & Sample-794 & Sample-795 & Sample-796 & Sample-797 & Sample-798 & Sample-799 & Sample-800 & Sample-801 & Sample-802 & Sample-803 & Sample-804 & Sample-805 & Sample-806 & Sample-807 & Sample-808 & Sample-809 & Sample-810 & Sample-811 & Sample-812 & Sample-813 & Sample-814 & Sample-815 & Sample-816 & Sample-817 & Sample-818 & Sample-819 & Sample-820 & Sample-821 & Sample-822 & Sample-823 & Sample-824 & Sample-825 & Sample-826 & Sample-827 & Sample-828 & Sample-829 & Sample-830 & Sample-831 & Sample-832 & Sample-833 & Sample-834 & Sample-835 & Sample-836 & Sample-837 & Sample-838 & Sample-839 & Sample-840 & Sample-841 & Sample-842 & Sample-843 & Sample-844 & Sample-845 & Sample-846 & Sample-847 & Sample-848 & Sample-849 & Sample-850 & Sample-851 & Sample-852 & Sample-853 & Sample-854 & Sample-855 & Sample-856 & Sample-857 & Sample-858 & Sample-859 & Sample-860 & Sample-861 & Sample-862 & Sample-863 & Sample-864 & Sample-865 & Sample-866 & Sample-867 & Sample-868 & Sample-869 & Sample-870 & Sample-871 & Sample-872 & Sample-873 & Sample-874 & Sample-875 & Sample-876 & Sample-877 & Sample-878 & Sample-879 & Sample-880 & Sample-881 & Sample-882 & Sample-883 & Sample-884 & Sample-885 & Sample-886 & Sample-887 & Sample-888 & Sample-889 & Sample-890 & Sample-891 & Sample-892 & Sample-893 & Sample-894 & Sample-895 & Sample-896 & Sample-897 & Sample-898 & Sample-899 & Sample-900 & Sample-901 & Sample-902 & Sample-903 & Sample-904 & Sample-905 & Sample-906 & Sample-907 & Sample-908 & Sample-909 & Sample-910 & Sample-911 & Sample-912 & Sample-913 & Sample-914 & Sample-915 & Sample-916 & Sample-917 & Sample-918 & Sample-919 & Sample-920 & Sample-921 & Sample-922 & Sample-923 & Sample-924 & Sample-925 & Sample-926 & Sample-927 & Sample-928 & Sample-929 & Sample-930 & Sample-931 & Sample-932 & Sample-933 & Sample-934 & Sample-935 & Sample-936 & Sample-937 & Sample-938 & Sample-939 & Sample-940 & Sample-941 & Sample-942 & Sample-943 & Sample-944 & Sample-945 & Sample-946 & Sample-947 & Sample-948 & Sample-949 & Sample-950 & Sample-951 & Sample-952 & Sample-953 & Sample-954 & Sample-955 & Sample-956 & Sample-957 & Sample-958 & Sample-959 & Sample-960 & Sample-961 & Sample-962 & Sample-963 & Sample-964 & Sample-965 & Sample-966 & Sample-967 & Sample-968 & Sample-969 & Sample-970 & Sample-971 & Sample-972 & Sample-973 & Sample-974 & Sample-975 & Sample-976 & Sample-977 & Sample-978 & Sample-979 & Sample-980 & Sample-981 & Sample-982 & Sample-983 & Sample-984 & Sample-985 & Sample-986 & Sample-987 & Sample-988 & Sample-989 & Sample-990 & Sample-991 & Sample-992 & Sample-993 & Sample-994 & Sample-995 & Sample-996 & Sample-997 & Sample-998 & Sample-999 & Sample-1000 & Sample-1001 & Sample-1002 & Sample-1003 & Sample-1004 & Sample-1005 & Sample-1006 & Sample-1007 & Sample-1008 & Sample-1009 & Sample-1011 & Sample-1012 & Sample-1014 & Sample-1015 & Sample-1016 & Sample-1019 & Sample-1020 & Sample-1021 & Sample-1022 & Sample-1024 & Sample-1025 & Sample-1026 & Sample-1027 & Sample-1028 & Sample-1030 & Sample-1031 & Sample-1032 & Sample-1034 & Sample-1035 & Sample-1036 & Sample-1037 & Sample-1038 & Sample-1040 & Sample-1041 & Sample-1042 & Sample-1043 & Sample-1045 & Sample-1046 & Sample-1047 & Sample-1048 & Sample-1050 & Sample-1051 & Sample-1052 & Sample-1053 & Sample-1055 & Sample-1056 & Sample-1057 & Sample-1058 & Sample-1060 & Sample-1061 & Sample-1062 & Sample-1064 & Sample-1065 & Sample-1066 & Sample-1067 & Sample-1069 & Sample-1070 & Sample-1071 & Sample-1072 & Sample-1073 & Sample-1075 & Sample-1076 & Sample-1077 & Sample-1078 & Sample-1080 & Sample-1081 & Sample-1082 & Sample-1083 & Sample-1085 & Sample-1086 & Sample-1087 & Sample-1088 & Sample-1089 & Sample-1090 & Sample-1091 & Sample-1092 & Sample-1093 & Sample-1094 & Sample-1095 & Sample-1096 & Sample-1097 & Sample-1098 & Sample-1099 & Sample-1100 & Sample-1101 & Sample-1102 & Sample-1103 & Sample-1104 & Sample-1105 & Sample-1106 & Sample-1107 & Sample-1108 & Sample-1109 & Sample-1110 & Sample-1111 & Sample-1112 & Sample-1113 & Sample-1114 & Sample-1115 & Sample-1116 & Sample-1117 & Sample-1118 & Sample-1119 & Sample-1120 & Sample-1122 & Sample-1123 & Sample-1124 & Sample-1125 & Sample-1126 & Sample-1127 & Sample-1128 & Sample-1129 & Sample-1130 & Sample-1131 & Sample-1132 & Sample-1133 & Sample-1134 & Sample-1135 & Sample-1136 & Sample-1137 & Sample-1138 & Sample-1139 & Sample-1140 & Sample-1141 & Sample-1142 & Sample-1143 & Sample-1144 & Sample-1145 & Sample-1146 & Sample-1147 & Sample-1148 & Sample-1149 & Sample-1150 & Sample-1151 & Sample-1152 & Sample-1153 & Sample-1154 & Sample-1155 & Sample-1157 & Sample-1158 & Sample-1159 & Sample-1161 & Sample-1162 & Sample-1163 & Sample-1165 & Sample-1166 & Sample-1167 & Sample-1168 & Sample-1169 & Sample-1170 & Sample-1171 & Sample-1172\\\\\n",
       "\\hline\n",
       "\tActinomycetaceae & 0.0000000000 & 0.000000e+00 & 0.0000000000 & 0.0000000000 & 0.000000e+00 & 0.0000000000 & 0.0000000000 & 0.0000000000 & 0.0000000000 & 0.0000000000 & 0.0000000000 & 0.000000e+00 & 0.0000000000 & 0.000000000 & 0.0000000000 & 0.0000000000 & 0.0000000000 & 0.0000000000 & 0.0000000000 & 0.0000000000 & 0.0000000000 & 0.0000000000 & 0.000000e+00 & 0.0000000000 & 0.000000e+00 & 0.0000000000 & 0.000136110 & 1.378360e-04 & 0.0000000000 & 0.0001549187 & 0.0002428658 & 5.763024e-05 & 0.0001363884 & 0.0001050641 & 0.0000000000 & 0.000000000 & 0.0001141422 & 6.983728e-05 & 0.000000e+00 & 0.0000000000 & 0.0000000000 & 0.0000000000 & 0.000000e+00 & 0.0000000000 & 0.000000e+00 & 0.0000000000 & 0.0000000000 & 0.000000e+00 & 0.000000e+00 & 0.0000000000 & 0.0000000000 & 0.0000000000 & 0.0002044572 & 0.0000000000 & 0.0000000000 & 7.563724e-05 & 0.000000000 & 0.0000000000 & 0.0000000000 & 0.0000000000 & 0.0001280328 & 0.0000000000 & 0.000000e+00 & 0.000000000 & 0.0000000000 & 0.0000000000 & 9.207255e-05 & 0.0000000000 & 0.0001946661 & 0.0001170275 & 6.956522e-05 & 0.0000000000 & 0.0000000000 & 0.0000000000 & 0.0000000000 & 7.707723e-05 & 7.621951e-05 & 0.0001094331 & 0.000000e+00 & 0.0000000000 & 9.429514e-05 & 0.0001093972 & 0.0000000000 & 8.574123e-05 & 0.0000000000 & 0.0000000000 & 0.0000000000 & 7.957349e-05 & 0.000000e+00 & 0.000000000 & 0.0000000000 & 0.0000000000 & 0.000000000 & 0.0001088258 & 0.0000000000 & 0.0000000000 & 0.000108885 & 0.000000e+00 & 0.000059891 & 8.366101e-05 & 6.609385e-05 & 0.0000000000 & 9.010633e-05 & 5.310674e-05 & 6.718173e-05 & 0.0000000000 & 9.475978e-05 & 6.730381e-05 & 9.442871e-05 & 8.450942e-05 & 0.0000000000 & 0.0000000000 & 0.0000000000 & 0.0000000000 & 0.0000000000 & 0.000000000 & 9.276438e-05 & 0.0001017501 & 0.0000000000 & 0.0000000000 & 0.0000000000 & 0.000000e+00 & 0.0000000000 & 0.0000000000 & 0.000000e+00 & 0.000000e+00 & 0.000000e+00 & 0.000000000 & 0.000000e+00 & 0.0000000000 & 0.0000000000 & 0.0000000000 & 0.0000000000 & 0.0000000000 & 0.0000000000 & 3.849263e-05 & 0.0000000000 & 0.0000000000 & 0.000000e+00 & 0.0000000000 & 0.0000000000 & 0.0000000000 & 0.000170503 & 0.0000000000 & 0.0000000000 & 0.0000000000 & 0.000000e+00 & 0.000000e+00 & 0.000000e+00 & 0.0000000000 & 0.0000000000 & 0.000000e+00 & 0.000000e+00 & 0.0000000000 & 0.0000000000 & 5.677624e-05 & 0.0000000000 & 0.0000000000 & 0.0000000000 & 0.0000000000 & 0.0000000000 & 0.000000e+00 & 0.0000000000 & 0.000000e+00 & 0.0000000000 & 0.0000000000 & 0.000000e+00 & 0.000000000 & 6.265664e-05 & 0.0000000000 & 0.0000000000 & 0.0000000000 & 0.000000000 & 0.0000000000 & 8.409722e-05 & 0.0000000000 & 0.0000000000 & 0.000000e+00 & 4.598335e-05 & 6.624271e-05 & 0.0000000000 & 0.0001296344 & 0.0000000000 & 0.0000000000 & 9.004142e-05 & 0.000000000 & 6.725402e-05 & 6.859652e-05 & 0.0000000000 & 4.174668e-05 & 0.0000000000 & 0.0000000000 & 0.0000000000 & 0.0000000000 & 0.0000000000 & 0.0000000000 & 0.0000000000 & 0.000000e+00 & 0.000000e+00 & 0.000000000 & 0.000000e+00 & 0.000000e+00 & 0.0000000000 & 0.000000000 & 0.0000000000 & 0.0000000000 & 0.0000000000 & 0.0001258495 & 0.000000e+00 & 0.0000000000 & 0.0000000000 & 0.0000000000 & 0.0000000000 & 0.000000e+00 & 0.0000000000 & 8.308408e-05 & 0.0000000000 & 0.0000000000 & 0.000000e+00 & 0.0000000000 & 0.0000000000 & 8.487523e-05 & 0.0000000000 & 0.0000000000 & 0.0000000000 & 0.000000000 & 0.0000000000 & 0.0000000000 & 0.000000000 & 0.000000e+00 & 0.0000000000 & 0.0001830831 & 6.882312e-05 & 0.0000000000 & 0.0000000000 & 0.0000000000 & 0.0000000000 & 0.0000000000 & 0.0000000000 & 0.0000000000 & 0.000000e+00 & 0.0000000000 & 0.0000000000 & 0.0000000000 & 0.0000000000 & 0.000000e+00 & 0.0001384275 & 0.0001909126 & 9.607071e-05 & 5.577556e-05 & 0.0000000000 & 0.0000994629 & 0.0001365001 & 0.0000000000 & 0.0000000000 & 0.0000831117 & 6.390185e-05 & 0.0000000000 & 0.000000e+00 & 0.0001155802 & 0.0000000000 & 0.000000e+00 & 0.000000e+00 & 0.0000000000 & 0.0001060670 & 0.000120540 & 0.0001229559 & 0.0000935979 & 0.0001544521 & 8.181298e-05 & 0.0000000000 & 7.780285e-05 & 8.476731e-05 & 6.462036e-05 & 0.0000000000 & 0.0000000000 & 0.000159566 & 0.0000000000 & 0.0001020304 & 5.782018e-05 & 0.0000000000 & 0.000000000 & 0.0000000000 & 0.0000350988 & 5.480954e-05 & 0.0000000000 & 8.032774e-05 & 0.0000000000 & 8.793528e-05 & 3.852377e-05 & 0.0000000000 & 0.0000000000 & 0.0000000000 & 5.896226e-05 & 0.0001393146 & 0.0001023332 & 0.0000000000 & 0.0000000000 & 0.0000000000 & 0.0000760572 & 5.849321e-05 & 0.0000000000 & 8.440956e-05 & 3.894081e-05 & 8.619947e-05 & 8.294625e-05 & 0.0000000000 & 0.0001005733 & 3.771166e-05 & 0.0001044768 & 0.000000000 & 0.000000000 & 0.0000000000 & 0.0000000000 & 0.000000e+00 & 0.000000e+00 & 0.0000000000 & 0.0000000000 & 0.0001339226 & 0.000128866 & 8.729812e-05 & 0.0001293326 & 9.910803e-05 & 0.000000000 & 9.451796e-05 & 5.857545e-05 & 0.0001105828 & 0.0002396166 & 0.0001010816 & 7.342683e-05 & 6.715917e-05 & 8.674532e-05 & 0.0001425314 & 6.831068e-05 & 8.256275e-05 & 9.876543e-05 & 0.0000000000 & 0.0000000000 & 0.000000e+00 & 0.0000000000 & 0.0000000000 & 0.0000000000 & 0.0000000000 & 0.0000000000 & 0.0000000000 & 0.0000000000 & 0.0000000000 & 0.000000e+00 & 0.0000000000 & 0.0000000000 & 0.000000e+00 & 0.000000e+00 & 0.0000000000 & 0.0000000000 & 0.000000e+00 & 0.0000000000 & 0.0000000000 & 0.0000000000 & 0.0000000000 & 0.000000000 & 0.000000000 & 0.0000000000 & 6.405329e-05 & 5.612302e-05 & 0.0000000000 & 0.000050888 & 0.00000000 & 0.0000000000 & 7.593591e-05 & 0.0000000000 & 0.0000000000 & 0.0000000000 & 0.0000000000 & 0.000000000 & 0.000000e+00 & 0.0000000000 & 0.0000000000 & 0.000000000 & 0.0000000000 & 0.000000000 & 0.0000000000 & 4.951721e-05 & 0.0000000000 & 0.000000e+00 & 0.000000e+00 & 8.862106e-05 & 0.0000000000 & 9.420631e-05 & 0.000000000 & 0.0000000000 & 0.0000000000 & 0.000000000 & 0.0000744879 & 7.804573e-05 & 0.0000000000 & 0.0000000000 & 0.000000000 & 0.0000000000 & 4.797083e-05 & 0.000000e+00 & 0.0000000000 & 0.0000000000 & 0.0000000000 & 0.0000000000 & 7.205649e-05 & 0.0000000000 & 0.0000000000 & 0.0000000000 & 0.000000e+00 & 0.0000000000 & 0.0000000000 & 9.563887e-05 & 0.000000000 & 0.0002021427 & 6.420958e-05 & 8.993615e-05 & 0.0002023063 & 0.0001823487 & 0.0001428367 & 0.0000000000 & 0.0000000000 & 6.676459e-05 & 0.0001314406 & 0.0000000000 & 0.0000800064 & 8.729812e-05 & 0.000000e+00 & 0.0000000000 & 0.0000000000 & 0.00000000 & 0.000000000 & 0.0001171097 & 0.0000000000 & 0.0000000000 & 7.755545e-05 & 0.0000000000 & 0.0000000000 & 7.238509e-05 & 0.0000000000 & 0.0000000000 & 7.462687e-05 & 0.0000000000 & 0.000000000 & 0.00000000 & 0.0001375138 & 0.0000000000 & 0.000000000 & 0.000000e+00 & 7.095218e-05 & 9.535616e-05 & 0.0000000000 & 9.800078e-05 & 0.0001054074 & 0.000000000 & 0.0000000000 & 0.0001578283 & 0.0000000000 & 0.0000000000 & 0.0000000000 & 0.000000000 & 0.0000000000 & 0.000000e+00 & 0.0001661958 & 0.0000000000 & 0.000000000 & 0.0000000000 & 0.000000e+00 & 0.0000000000 & 0.0000000000 & 0.0000000000 & 0.0000000000 & 0.0000 & 0.000000000 & 0.0000000000 & 0.0000000000 & 0.000000000 & 0.0000000000 & 0.0000000000 & 0.000000e+00 & 0.0000000000 & 0.0000000000 & 0.0000000000 & 0.0000000000 & 0.0000000000 & 0.0000000000 & 0.0000000000 & 0.0000000000 & 0.0000000000 & 0.0000000000 & 0.0000000000 & 0.0000000000 & 0.0000000000 & 0.000000000 & 0.0000000000 & 0.0000000000 & 0.0000000000 & 0.0000000000 & 0.0000000000 & 0.0000000000 & 0.0000000000 & 0.0000000000 & 0.0000000000 & 0.0000000000 & 0.0000000000 & 0.0000000000 & 0.000000000 & 0.0000000000 & 0.0000000000 & 0.000000e+00 & 0.0000000000 & 0.000000e+00 & 0.000000000 & 0.0000000000 & 0.0000000000 & 0.0000000000 & 0.0000000000 & 0.0000000000 & 0.0000000000 & 0.0000000000 & 0.0000000000 & 0.0000000000 & 0.000000e+00 & 0.0000000000 & 0.0000000000 & 0.000000e+00 & 0.0000000000 & 0.0000000000 & 0.000000e+00 & 0.0000000000 & 0.0000000000 & 0.0000000000 & 0.000000e+00 & 0.0000000000 & 0.000000e+00 & 0.0000000000 & 0.0000000000 & 0.0000000000 & 0.000000e+00 & 0.000000000 & 0.0000000000 & 0.0000000000 & 0.0000000000 & 0.0000000000 & 0.0000000000 & 0.0000000000 & 0.000000e+00 & 0.0000000000 & 0.000000000 & 0.000000e+00 & 0.0000000000 & 0.0000000000 & 0.000000e+00 & 0.0000000000 & 0.0000000000 & 0.0000000000 & 0.000000e+00 & 0.000000e+00 & 0.000000000 & 0.0000000000 & 0.000000e+00 & 0.0000000000 & 0.000000e+00 & 0.000000e+00 & 0.0000000000 & 0.0000000000 & 0.000000e+00 & 0.000000e+00 & 0.0000000000 & 0.0000000000 & 0.0000000000 & 0.000000000 & 0.000000e+00 & 0.0000000000 & 0.000000e+00 & 0.000000e+00 & 0.0000000000 & 0.000000e+00 & 0.000000e+00 & 0.000000e+00 & 0.0000000000 & 0.000000 & 0.000000e+00 & 0.0000000000 & 0.000000e+00 & 0.000000e+00 & 0.000000e+00 & 0.000000e+00 & 0.000000e+00 & 0.000000e+00 & 0.000000e+00 & 0.0000000000 & 0.0000000000 & 0.0000000000 & 0.000000e+00 & 0.000000e+00 & 0.000000e+00 & 0.0000000000 & 0.0000000000 & 0.000000e+00 & 0.0000000000 & 0.000000000 & 0.0000000000 & 0.000000e+00 & 0.000000e+00 & 0.000000e+00 & 0.0000000000 & 0.000000e+00 & 0.0000000000 & 0.0000000000 & 3.967467e-05 & 3.777006e-05 & 0.000000e+00 & 0.0000000000 & 0.0000000000 & 0.0000000000 & 0.0000000000 & 0.000000000 & 0.000000e+00 & 0.0000000000 & 0.000000000 & 0.0000000000 & 0.000000000 & 0.000000e+00 & 0.0000000000 & 0.000000000 & 0.0000000000 & 6.565988e-05 & 0.0000000000 & 0.0000000000 & 0.0000000000 & 0.0000000000 & 0.0000000000 & 0.0000000000 & 0.0000000000 & 0.0000000000 & 0.0000000000 & 0.0000000000 & 0.0000000000 & 0.0000000000 & 0.000000e+00 & 0.0000000000 & 0.000000e+00 & 0.0000000000 & 0.000000e+00 & 0.0000000000 & 0.000000e+00 & 0.0000000000 & 0.000000000 & 0.0000000000 & 0.0000000000 & 0.0000000000 & 0.0000000000 & 0.000000e+00 & 0.000000e+00 & 0.0000000000 & 0.0000000000 & 0.000000e+00 & 0.0000000000 & 0.0000000000 & 0.0000000000 & 0.0000000000 & 0.0000000000 & 0.000000e+00 & 0.0000000000 & 0.0000000000 & 0.0000000000 & 0.0000000000 & 0.0000000000 & 0.000000e+00 & 0.0000000000 & 0.0000000000 & 8.054772e-05 & 0.0000000000 & 0.0000000000 & 0.0000000000 & 0.000000e+00 & 0.000000000 & 0.0000000000 & 0.0000000000 & 0.0000000000 & 0.0000000000 & 0.000000e+00 & 0.000000000 & 0.000000e+00 & 0.000000e+00 & 0.000000e+00 & 0.000000e+00 & 0.0000000000 & 0.000000e+00 & 0.0000000000 & 0.000000e+00 & 0.0000000000 & 0.0000000000 & 0.0000000000 & 0.0000000000 & 0.000000000 & 6.196939e-05 & 0.0000000000 & 0.0000000000 & 4.903163e-05 & 0.000000e+00 & 9.292817e-05 & 0.0000000000 & 0.0000000000 & 0.000000000 & 0.0000000000 & 0.0000000000 & 0.0001144689 & 0.0000000000 & 0.0000000000 & 0.0001575796 & 7.494005e-05 & 0.0001301406 & 0.0000000000 & 0.000000000 & 0.000000000 & 4.742483e-05 & 0.0000000000 & 0.0000000000 & 0.0000000000 & 0.0000000000 & 0.0000000000 & 7.550019e-05 & 7.549449e-05 & 0.0000000000 & 0.0000000000 & 6.434592e-05 & 0.000000e+00 & 0.0000000000 & 0.0000000000 & 0.000000e+00 & 0.0000000000 & 0.0000000000 & 0.000000e+00 & 0.0000000000 & 0.0000000000 & 0.0000000000 & 0.0000000000 & 0.0000000000 & 0.0000000000 & 0.0000000000 & 0.0000000000 & 0.0000000000 & 0.0000000000 & 0.0000000000 & 0.0000000000 & 0.00000000 & 0.0000000000 & 0.0003703704 & 0.0000000000 & 0.0000000000 & 0.0000000000 & 0.0000000000 & 0.0000000000 & 6.080136e-05 & 6.262133e-05 & 5.411548e-05 & 0.0001023646 & 8.517162e-05 & 0.000000000 & 0.0000000000 & 0.0000000000 & 0.0000000000 & 0.0000000000 & 0.0002611648 & 0.0001068148 & 0.0001044386 & 0.0000000000 & 0.000000000 & 8.306338e-05 & 7.137249e-05 & 6.873325e-05 & 0.0002402114 & 0.0000000000 & 0.0000000000 & 0.0001575051 & 0.0001348254 & 9.700262e-05 & 9.632055e-05 & 0.000139237 & 0.0000000000 & 0.0001277792 & 8.835483e-05 & 0.0000000000 & 0.0001790190 & 0.0001219066 & 6.354048e-05 & 7.173087e-05 & 0.0000000000 & 0.0001979806 & 6.965729e-05 & 0.0000929368 & 0.0001495663 & 8.847992e-05 & 0.000000e+00 & 0.0000917768 & 0.0000000000 & 0.0000000000 & 0.0001017191 & 8.043758e-05 & 0.0000000000 & 0.0000888494 & 0.0001166861 & 0.0000645828 & 5.478852e-05 & 8.695652e-05 & 5.750762e-05 & 0.0000000000 & 0.000000e+00 & 0.0001365188 & 9.073587e-05 & 0.0000735781 & 0.000000e+00 & 0.000000e+00 & 0.000000000 & 0.0001163467 & 6.122199e-05 & 8.582954e-05 & 0.0000000000 & 0.000000000 & 0.0000000000 & 0.0000000000 & 0.0000000000 & 6.145526e-05 & 0.000000e+00 & 0.000000e+00 & 8.243344e-05 & 0.000000e+00 & 9.632983e-05 & 0.0001447178 & 8.566044e-05 & 0.0001155535 & 0.0001002707 & 0.0001335648 & 0.0001423792 & 0.0000000000 & 0.00014041 & 0.0000000000 & 0.0001259446 & 0.0002135839 & 0.0001558603 & 0.0001815541 & 0.0000000000 & 6.069803e-05 & 0.0001402918 & 0.0000000000 & 0.000000e+00 & 0.000000e+00 & 0.000000e+00 & 0.0000000000 & 0.0000000000 & 0.0000000000 & 0.0000000000 & 0.000000e+00 & 0.0000000000 & 0.0000000000 & 0.0000000000 & 0.000000e+00 & 0.0000000000 & 0.0000000000 & 0.000000e+00 & 0.0000000000 & 0.0000000000 & 0.0000000000 & 0.0000000000 & 0.0000000000 & 0.000000000 & 0.0001157809 & 6.206554e-05 & 0.0000000000 & 6.113217e-05 & 0.000000e+00 & 0.0000000000 & 0.000000e+00 & 8.682063e-05 & 6.923769e-05 & 0.0000000000 & 0.000000000 & 0.0000000000 & 0.0000000000 & 0.0000000000 & 0.0000000000 & 0.0000000000 & 0.0000000000 & 0.0000000000 & 0.0000000000 & 0.0000000000 & 0.0001191185 & 0.0000000000 & 0.000000e+00 & 0.0000000000 & 0.0000000000 & 0.0000000000 & 0.0000000000 & 7.273785e-05 & 0.000000e+00 & 0.000000000 & 0.000000e+00 & 8.263097e-05 & 0.0000000000 & 0.0000000000 & 0.0000000000 & 0.0000000000 & 0.000000000 & 8.552857e-05 & 8.217602e-05 & 0.0001822490 & 0.0001062361 & 0.0001576044 & 0.0001247505 & 0.0000000000 & 0.0001366680 & 0.0000000000 & 0.0002437241 & 0.0003124024 & 0.000000000 & 0.0001317176 & 0.0001912412 & 0.0001387347 & 0.0001187931 & 0.0001754078 & 0.0000673446 & 6.652475e-05 & 0.0001360359 & 0.0001818182 & 0.000000000 & 0.0000000000 & 8.184646e-05 & 0.0000802375 & 0.000178731 & 0.0000000000 & 0.0000000000 & 0.0000000000 & 0.000099167 & 0.0000766401 & 0.0003195399 & 0.0009631592 & 7.911392e-05 & 0.0003472825 & 0.0002569373 & 0.0003172589 & 0.0003783579 & 0.0000000000 & 0.0000000000 & 0.0001774623 & 0.0000000000 & 0.0000000000 & 0.000000000 & 0.0000000000 & 0.0000000000 & 0.0003311258 & 0.0001037990 & 0.0000000000 & 8.272667e-05 & 4.636284e-05 & 7.123522e-05 & 0.0001483459 & 0.0001384466 & 0.000198059 & 0.0001153137 & 0.0004053506 & 0.0002485398 & 0.0000000000 & 0.0000000000 & 0.0001710279 & 0.000000000 & 5.977286e-05 & 0.0001120825 & 0.0001439885 & 9.944312e-05 & 0.0000000000 & 9.322271e-05 & 0.0001073768 & 0.0001549907 & 0.000000000 & 0.0000000000 & 0.0000000000 & 0.0000000000 & 0.0000000000 & 0.0000000000 & 0.0001762736 & 0.0001488095 & 0.0001039501 & 0.0000000000 & 0.0000592382 & 6.943962e-05 & 0.0001036269 & 0.0001050641 & 9.973073e-05 & 0.0000000000 & 5.758378e-05 & 0.0000000000 & 7.266386e-05 & 0.0000000000 & 0.0000000000 & 0.0000000000 & 0.0001463486 & 0.0000000000 & 0.0000000000 & 0.0002615747 & 0.0001074691 & 0.0001172470 & 0.0001960592 & 0.0001206127 & 0.0001940617 & 0.000000000 & 4.488935e-05 & 0.0000000000 & 0.0001360729 & 0.0001188354 & 8.566044e-05 & 0.0000000000 & 0.0001288992 & 0.0000000000 & 0.0001060670 & 0.0000000000 & 0.0000000000 & 0.0001768972 & 8.495455e-05 & 0.0000718494 & 7.464358e-05 & 9.210648e-05 & 0.0001335648 & 7.739938e-05 & 0.0000444247 & 5.545697e-05 & 0.0001788056 & 9.546539e-05 & 0.0010607829 & 0.0007414897 & 0.0000000000 & 0.0001038961 & 0.000108190 & 0.0000876117 & 0.00014041 & 0.0001182452 & 8.851908e-05 & 0.0001833181 & 0.0000000000 & 0.0001255493 & 0.0001032631 & 0.0000000000 & 0.0001259446 & 0.0000000000 & 6.946857e-05 & 0.0001437401 & 0.0002135839 & 0.00000000 & 6.080876e-05 & 0.0000000000 & 7.578054e-05 & 2.531432e-04 & 8.605111e-05 & 0.000116198 & 0.0001141944 & 1.605394e-04 & 0.0001154734 & 0.0001619958 & 0.0000000000 & 0.0000000000 & 0.0001067350 & 0.0000000000 & 6.069803e-05 & 0.0000740302 & 7.167431e-05 & 5.453752e-05 & 0.0001402918 & 0.0001200192 & 0.0001188919 & 0.0000000000 & 0.0000000000 & 0.0000000000 & 6.900835e-05 & 0.0000000000 & 0.0000000000 & 0.0002088991 & 0.000000000 & 4.352368e-05 & 0.0000667334 & 5.677624e-05 & 0.0000829669 & 5.986948e-05 & 0.000000000 & 0.0000000000 & 0.0000000000 & 0.0000000000 & 0.0000000000 & 0.0000000000 & 0.0000000000 & 0.0000000000 & 4.589472e-05 & 0.0000000000 & 0.0000000000 & 0.000000000 & 6.144016e-05 & 0.0000000000 & 0.0000000000 & 4.951721e-05 & 0.0000000000 & 0.00000000 & 0.0000494927 & 0.0000000000 & 0.000000e+00 & 0.0000000000 & 0.000000e+00 & 0.000000e+00 & 0.000000e+00 & 0.0001213298 & 0.0000000000 & 9.296272e-05 & 0.000000e+00 & 0.0000000000 & 0.0000000000 & 0.000000000 & 0.0000000000 & 0.000000e+00 & 9.383504e-05 & 0.0001284192 & 0.0000000000 & 0.0000000000 & 0.0000000000 & 0.0000000000 & 0.0000000000 & 0.0000000000 & 0.0000000000 & 5.945303e-05 & 0.0000000000 & 0.0001981375 & 0.000000000 & 0.0000000000 & 0.0000000000 & 0.000000e+00 & 0.000000e+00 & 0.0000000000 & 0.0000000000 & 0.0000000000 & 0.0000000000 & 0.000000e+00 & 0.000000e+00 & 0.0000000000 & 0.0000000000 & 0.0000000000 & 0.000000e+00 & 0.000000e+00 & 0.000000e+00 & 0.0000000000 & 0.0000000000 & 0.0000000000 & 6.428388e-05 & 0.000000e+00 & 0.0000000000\\\\\n",
       "\tAerococcus & 0.0000000000 & 0.000000e+00 & 0.0000000000 & 0.0000000000 & 0.000000e+00 & 0.0000000000 & 0.0000000000 & 0.0000000000 & 0.0000000000 & 0.0000000000 & 0.0000000000 & 0.000000e+00 & 0.0000000000 & 0.000000000 & 0.0000000000 & 0.0000000000 & 0.0000000000 & 0.0000000000 & 0.0000000000 & 0.0000000000 & 0.0000000000 & 0.0000000000 & 0.000000e+00 & 0.0000000000 & 0.000000e+00 & 0.0000000000 & 0.000000000 & 0.000000e+00 & 0.0000000000 & 0.0000000000 & 0.0000000000 & 0.000000e+00 & 0.0000000000 & 0.0000000000 & 0.0000000000 & 0.000000000 & 0.0000000000 & 0.000000e+00 & 0.000000e+00 & 0.0000000000 & 0.0000000000 & 0.0000000000 & 0.000000e+00 & 0.0000000000 & 0.000000e+00 & 0.0000000000 & 0.0000000000 & 0.000000e+00 & 0.000000e+00 & 0.0000000000 & 0.0000000000 & 0.0000000000 & 0.0000000000 & 0.0000000000 & 0.0000000000 & 0.000000e+00 & 0.000000000 & 0.0000000000 & 0.0000000000 & 0.0000000000 & 0.0000000000 & 0.0000000000 & 0.000000e+00 & 0.000000000 & 0.0000000000 & 0.0000000000 & 0.000000e+00 & 0.0000000000 & 0.0000000000 & 0.0000000000 & 0.000000e+00 & 0.0000000000 & 0.0000000000 & 0.0000000000 & 0.0000000000 & 0.000000e+00 & 0.000000e+00 & 0.0000000000 & 0.000000e+00 & 0.0000000000 & 0.000000e+00 & 0.0000000000 & 0.0000000000 & 0.000000e+00 & 0.0000000000 & 0.0000000000 & 0.0000000000 & 0.000000e+00 & 0.000000e+00 & 0.000000000 & 0.0000000000 & 0.0000000000 & 0.000000000 & 0.0000000000 & 0.0000000000 & 0.0000000000 & 0.000000000 & 0.000000e+00 & 0.000000000 & 0.000000e+00 & 0.000000e+00 & 0.0000000000 & 0.000000e+00 & 0.000000e+00 & 0.000000e+00 & 0.0000000000 & 0.000000e+00 & 0.000000e+00 & 0.000000e+00 & 0.000000e+00 & 0.0000000000 & 0.0000000000 & 0.0000000000 & 0.0000000000 & 0.0000000000 & 0.000000000 & 0.000000e+00 & 0.0000000000 & 0.0000000000 & 0.0000000000 & 0.0000000000 & 0.000000e+00 & 0.0000000000 & 0.0000000000 & 0.000000e+00 & 0.000000e+00 & 0.000000e+00 & 0.000000000 & 0.000000e+00 & 0.0000000000 & 0.0000000000 & 0.0000000000 & 0.0000000000 & 0.0000000000 & 0.0000000000 & 0.000000e+00 & 0.0000000000 & 0.0000000000 & 0.000000e+00 & 0.0000000000 & 0.0000000000 & 0.0000000000 & 0.000000000 & 0.0000000000 & 0.0000000000 & 0.0000000000 & 0.000000e+00 & 0.000000e+00 & 0.000000e+00 & 0.0000000000 & 0.0000000000 & 0.000000e+00 & 0.000000e+00 & 0.0000000000 & 0.0000000000 & 0.000000e+00 & 0.0000000000 & 0.0000000000 & 0.0000000000 & 0.0000000000 & 0.0000000000 & 0.000000e+00 & 0.0000000000 & 0.000000e+00 & 0.0000000000 & 0.0000000000 & 0.000000e+00 & 0.000000000 & 0.000000e+00 & 0.0000000000 & 0.0000000000 & 0.0000000000 & 0.000000000 & 0.0000000000 & 0.000000e+00 & 0.0000000000 & 0.0000000000 & 0.000000e+00 & 0.000000e+00 & 0.000000e+00 & 0.0000000000 & 0.0000000000 & 0.0000000000 & 0.0000000000 & 0.000000e+00 & 0.000000000 & 0.000000e+00 & 0.000000e+00 & 0.0000000000 & 0.000000e+00 & 0.0000000000 & 0.0000000000 & 0.0000000000 & 0.0000000000 & 0.0000000000 & 0.0000000000 & 0.0000000000 & 0.000000e+00 & 0.000000e+00 & 0.000000000 & 0.000000e+00 & 0.000000e+00 & 0.0000000000 & 0.000000000 & 0.0000000000 & 0.0000000000 & 0.0000000000 & 0.0000000000 & 0.000000e+00 & 0.0000000000 & 0.0000000000 & 0.0000000000 & 0.0000000000 & 0.000000e+00 & 0.0000000000 & 0.000000e+00 & 0.0000000000 & 0.0000000000 & 0.000000e+00 & 0.0000000000 & 0.0000000000 & 0.000000e+00 & 0.0000000000 & 0.0000000000 & 0.0000000000 & 0.000000000 & 0.0000000000 & 0.0000000000 & 0.000000000 & 0.000000e+00 & 0.0000000000 & 0.0000000000 & 0.000000e+00 & 0.0000000000 & 0.0000000000 & 0.0000000000 & 0.0000000000 & 0.0000000000 & 0.0000000000 & 0.0000000000 & 0.000000e+00 & 0.0000000000 & 0.0000000000 & 0.0000000000 & 0.0000000000 & 0.000000e+00 & 0.0000000000 & 0.0000000000 & 0.000000e+00 & 0.000000e+00 & 0.0000000000 & 0.0000000000 & 0.0000000000 & 0.0000000000 & 0.0000000000 & 0.0000000000 & 0.000000e+00 & 0.0000000000 & 0.000000e+00 & 0.0000000000 & 0.0000000000 & 0.000000e+00 & 0.000000e+00 & 0.0000000000 & 0.0000000000 & 0.000000000 & 0.0000000000 & 0.0000000000 & 0.0000000000 & 0.000000e+00 & 0.0000000000 & 0.000000e+00 & 0.000000e+00 & 0.000000e+00 & 0.0000000000 & 0.0000000000 & 0.000000000 & 0.0000000000 & 0.0000000000 & 0.000000e+00 & 0.0000000000 & 0.000000000 & 0.0000000000 & 0.0000000000 & 0.000000e+00 & 0.0000000000 & 0.000000e+00 & 0.0000000000 & 0.000000e+00 & 0.000000e+00 & 0.0000000000 & 0.0000000000 & 0.0000000000 & 0.000000e+00 & 0.0000000000 & 0.0000000000 & 0.0000000000 & 0.0000000000 & 0.0000000000 & 0.0000000000 & 0.000000e+00 & 0.0000000000 & 0.000000e+00 & 0.000000e+00 & 0.000000e+00 & 0.000000e+00 & 0.0000000000 & 0.0000000000 & 0.000000e+00 & 0.0000000000 & 0.000000000 & 0.000000000 & 0.0000000000 & 0.0000000000 & 0.000000e+00 & 0.000000e+00 & 0.0000000000 & 0.0000000000 & 0.0000000000 & 0.000000000 & 0.000000e+00 & 0.0000000000 & 0.000000e+00 & 0.000000000 & 0.000000e+00 & 0.000000e+00 & 0.0000000000 & 0.0000000000 & 0.0000000000 & 0.000000e+00 & 0.000000e+00 & 0.000000e+00 & 0.0000000000 & 0.000000e+00 & 0.000000e+00 & 0.000000e+00 & 0.0000000000 & 0.0000000000 & 0.000000e+00 & 0.0000000000 & 0.0000000000 & 0.0000000000 & 0.0000000000 & 0.0000000000 & 0.0000000000 & 0.0000000000 & 0.0000000000 & 0.000000e+00 & 0.0000000000 & 0.0000000000 & 0.000000e+00 & 0.000000e+00 & 0.0000000000 & 0.0000000000 & 0.000000e+00 & 0.0000000000 & 0.0000000000 & 0.0000000000 & 0.0000000000 & 0.000000000 & 0.000000000 & 0.0000000000 & 0.000000e+00 & 0.000000e+00 & 0.0000000000 & 0.000000000 & 0.00000000 & 0.0000000000 & 0.000000e+00 & 0.0000000000 & 0.0000000000 & 0.0000000000 & 0.0000000000 & 0.000000000 & 0.000000e+00 & 0.0000000000 & 0.0000000000 & 0.000000000 & 0.0000000000 & 0.000000000 & 0.0000000000 & 0.000000e+00 & 0.0000000000 & 0.000000e+00 & 0.000000e+00 & 0.000000e+00 & 0.0000000000 & 0.000000e+00 & 0.000000000 & 0.0000000000 & 0.0000000000 & 0.000000000 & 0.0000000000 & 0.000000e+00 & 0.0000000000 & 0.0000000000 & 0.000000000 & 0.0000000000 & 0.000000e+00 & 0.000000e+00 & 0.0000000000 & 0.0000000000 & 0.0000000000 & 0.0000000000 & 0.000000e+00 & 0.0000000000 & 0.0000000000 & 0.0000000000 & 0.000000e+00 & 0.0000000000 & 0.0000000000 & 0.000000e+00 & 0.000000000 & 0.0000000000 & 0.000000e+00 & 0.000000e+00 & 0.0000000000 & 0.0000000000 & 0.0000000000 & 0.0000000000 & 0.0000000000 & 0.000000e+00 & 0.0000000000 & 0.0000000000 & 0.0000000000 & 0.000000e+00 & 0.000000e+00 & 0.0000000000 & 0.0000000000 & 0.00000000 & 0.000000000 & 0.0000000000 & 0.0000000000 & 0.0000000000 & 0.000000e+00 & 0.0000000000 & 0.0000000000 & 0.000000e+00 & 0.0000000000 & 0.0000000000 & 0.000000e+00 & 0.0000000000 & 0.000000000 & 0.00000000 & 0.0000000000 & 0.0000000000 & 0.000000000 & 0.000000e+00 & 0.000000e+00 & 0.000000e+00 & 0.0000000000 & 0.000000e+00 & 0.0000000000 & 0.000000000 & 0.0000000000 & 0.0000000000 & 0.0000000000 & 0.0000000000 & 0.0000000000 & 0.000000000 & 0.0000000000 & 0.000000e+00 & 0.0000000000 & 0.0000000000 & 0.000000000 & 0.0000000000 & 0.000000e+00 & 0.0000000000 & 0.0000000000 & 0.0000000000 & 0.0000000000 & 0.0000 & 0.000000000 & 0.0000000000 & 0.0000000000 & 0.000000000 & 0.0000000000 & 0.0000000000 & 0.000000e+00 & 0.0000000000 & 0.0000000000 & 0.0000000000 & 0.0000000000 & 0.0000000000 & 0.0000000000 & 0.0000000000 & 0.0000000000 & 0.0000000000 & 0.0000000000 & 0.0000000000 & 0.0000000000 & 0.0000000000 & 0.000000000 & 0.0000000000 & 0.0000000000 & 0.0000000000 & 0.0000000000 & 0.0000000000 & 0.0000000000 & 0.0000000000 & 0.0000000000 & 0.0000000000 & 0.0000000000 & 0.0000000000 & 0.0000000000 & 0.000000000 & 0.0000000000 & 0.0000000000 & 0.000000e+00 & 0.0000000000 & 0.000000e+00 & 0.000000000 & 0.0000000000 & 0.0000000000 & 0.0000000000 & 0.0000000000 & 0.0000000000 & 0.0000000000 & 0.0000000000 & 0.0000000000 & 0.0000000000 & 0.000000e+00 & 0.0000000000 & 0.0000000000 & 0.000000e+00 & 0.0000000000 & 0.0000000000 & 0.000000e+00 & 0.0000000000 & 0.0000000000 & 0.0000000000 & 0.000000e+00 & 0.0000000000 & 0.000000e+00 & 0.0000000000 & 0.0000000000 & 0.0000000000 & 0.000000e+00 & 0.000000000 & 0.0000000000 & 0.0000000000 & 0.0000000000 & 0.0000000000 & 0.0000000000 & 0.0000000000 & 0.000000e+00 & 0.0000000000 & 0.000000000 & 0.000000e+00 & 0.0000000000 & 0.0000000000 & 0.000000e+00 & 0.0000000000 & 0.0000000000 & 0.0000000000 & 0.000000e+00 & 0.000000e+00 & 0.000000000 & 0.0000000000 & 0.000000e+00 & 0.0000000000 & 0.000000e+00 & 0.000000e+00 & 0.0000000000 & 0.0000000000 & 0.000000e+00 & 0.000000e+00 & 0.0000000000 & 0.0000000000 & 0.0000000000 & 0.000000000 & 0.000000e+00 & 0.0000000000 & 0.000000e+00 & 0.000000e+00 & 0.0000000000 & 0.000000e+00 & 0.000000e+00 & 0.000000e+00 & 0.0000000000 & 0.000000 & 0.000000e+00 & 0.0000000000 & 0.000000e+00 & 0.000000e+00 & 0.000000e+00 & 0.000000e+00 & 0.000000e+00 & 0.000000e+00 & 0.000000e+00 & 0.0000000000 & 0.0000000000 & 0.0000000000 & 0.000000e+00 & 0.000000e+00 & 0.000000e+00 & 0.0000000000 & 0.0000000000 & 0.000000e+00 & 0.0000000000 & 0.000000000 & 0.0000000000 & 0.000000e+00 & 0.000000e+00 & 0.000000e+00 & 0.0000000000 & 0.000000e+00 & 0.0000000000 & 0.0000000000 & 0.000000e+00 & 0.000000e+00 & 0.000000e+00 & 0.0000000000 & 0.0000000000 & 0.0000000000 & 0.0000000000 & 0.000000000 & 0.000000e+00 & 0.0000000000 & 0.000000000 & 0.0000000000 & 0.000000000 & 0.000000e+00 & 0.0000000000 & 0.000000000 & 0.0000000000 & 0.000000e+00 & 0.0000000000 & 0.0000000000 & 0.0000000000 & 0.0000000000 & 0.0000000000 & 0.0000000000 & 0.0000000000 & 0.0000000000 & 0.0000000000 & 0.0000000000 & 0.0000000000 & 0.0000000000 & 0.000000e+00 & 0.0000000000 & 0.000000e+00 & 0.0000000000 & 0.000000e+00 & 0.0000000000 & 0.000000e+00 & 0.0000000000 & 0.000000000 & 0.0000000000 & 0.0000000000 & 0.0000000000 & 0.0000000000 & 0.000000e+00 & 0.000000e+00 & 0.0000000000 & 0.0000000000 & 0.000000e+00 & 0.0000000000 & 0.0000000000 & 0.0000000000 & 0.0000000000 & 0.0000000000 & 0.000000e+00 & 0.0000000000 & 0.0000000000 & 0.0000000000 & 0.0000000000 & 0.0000000000 & 0.000000e+00 & 0.0000000000 & 0.0000000000 & 0.000000e+00 & 0.0000000000 & 0.0000000000 & 0.0000000000 & 0.000000e+00 & 0.000000000 & 0.0000000000 & 0.0000000000 & 0.0000000000 & 0.0000000000 & 0.000000e+00 & 0.000000000 & 0.000000e+00 & 0.000000e+00 & 0.000000e+00 & 0.000000e+00 & 0.0000000000 & 0.000000e+00 & 0.0000000000 & 0.000000e+00 & 0.0000000000 & 0.0000000000 & 0.0000000000 & 0.0000000000 & 0.000000000 & 0.000000e+00 & 0.0000000000 & 0.0000000000 & 0.000000e+00 & 0.000000e+00 & 0.000000e+00 & 0.0000000000 & 0.0000000000 & 0.000000000 & 0.0000000000 & 0.0000000000 & 0.0000000000 & 0.0000000000 & 0.0000000000 & 0.0000000000 & 0.000000e+00 & 0.0000000000 & 0.0000000000 & 0.000000000 & 0.000000000 & 0.000000e+00 & 0.0000000000 & 0.0000000000 & 0.0000000000 & 0.0000000000 & 0.0000000000 & 0.000000e+00 & 0.000000e+00 & 0.0000000000 & 0.0000000000 & 0.000000e+00 & 0.000000e+00 & 0.0000000000 & 0.0000000000 & 0.000000e+00 & 0.0000000000 & 0.0000000000 & 0.000000e+00 & 0.0000000000 & 0.0000000000 & 0.0000000000 & 0.0000000000 & 0.0000000000 & 0.0000000000 & 0.0000000000 & 0.0000000000 & 0.0000000000 & 0.0000000000 & 0.0000000000 & 0.0000000000 & 0.00000000 & 0.0000000000 & 0.0000000000 & 0.0000000000 & 0.0000000000 & 0.0000000000 & 0.0000000000 & 0.0000000000 & 0.000000e+00 & 0.000000e+00 & 0.000000e+00 & 0.0000000000 & 0.000000e+00 & 0.000000000 & 0.0000000000 & 0.0000000000 & 0.0000000000 & 0.0000000000 & 0.0000000000 & 0.0000000000 & 0.0000000000 & 0.0000000000 & 0.000000000 & 0.000000e+00 & 0.000000e+00 & 0.000000e+00 & 0.0000000000 & 0.0000000000 & 0.0000000000 & 0.0000000000 & 0.0000000000 & 0.000000e+00 & 0.000000e+00 & 0.000000000 & 0.0000000000 & 0.0000000000 & 0.000000e+00 & 0.0000000000 & 0.0000000000 & 0.0000000000 & 0.000000e+00 & 0.000000e+00 & 0.0000000000 & 0.0000000000 & 0.000000e+00 & 0.0000000000 & 0.0000000000 & 0.000000e+00 & 0.000000e+00 & 0.0000000000 & 0.0000000000 & 0.0000000000 & 0.0000000000 & 0.000000e+00 & 0.0000000000 & 0.0000000000 & 0.0000000000 & 0.0000000000 & 0.000000e+00 & 0.000000e+00 & 0.000000e+00 & 0.0000000000 & 0.000000e+00 & 0.0000000000 & 0.000000e+00 & 0.0000000000 & 0.000000e+00 & 0.000000e+00 & 0.000000000 & 0.0000000000 & 0.000000e+00 & 0.000000e+00 & 0.0000000000 & 0.000000000 & 0.0000000000 & 0.0000000000 & 0.0000000000 & 0.000000e+00 & 0.000000e+00 & 0.000000e+00 & 0.000000e+00 & 0.000000e+00 & 0.000000e+00 & 0.0000000000 & 0.000000e+00 & 0.0000000000 & 0.0000000000 & 0.0000000000 & 0.0000000000 & 0.0000000000 & 0.00000000 & 0.0000000000 & 0.0000000000 & 0.0000000000 & 0.0000000000 & 0.0000000000 & 0.0000000000 & 0.000000e+00 & 0.0000000000 & 0.0000000000 & 0.000000e+00 & 0.000000e+00 & 0.000000e+00 & 0.0000000000 & 0.0000000000 & 0.0000000000 & 0.0000000000 & 0.000000e+00 & 0.0000000000 & 0.0000000000 & 0.0000000000 & 0.000000e+00 & 0.0000000000 & 0.0000000000 & 0.000000e+00 & 0.0000000000 & 0.0000000000 & 0.0000000000 & 0.0000000000 & 0.0000000000 & 0.000000000 & 0.0000000000 & 0.000000e+00 & 0.0000000000 & 0.000000e+00 & 0.000000e+00 & 0.0000000000 & 0.000000e+00 & 0.000000e+00 & 0.000000e+00 & 0.0000000000 & 0.000000000 & 0.0000000000 & 0.0000000000 & 0.0000000000 & 0.0000000000 & 0.0000000000 & 0.0000000000 & 0.0000000000 & 0.0000000000 & 0.0000000000 & 0.0000000000 & 0.0000000000 & 0.000000e+00 & 0.0000000000 & 0.0000000000 & 0.0000000000 & 0.0002597403 & 0.000000e+00 & 0.000000e+00 & 0.000000000 & 0.000000e+00 & 0.000000e+00 & 0.0000000000 & 0.0000000000 & 0.0000000000 & 0.0000000000 & 0.000000000 & 0.000000e+00 & 0.000000e+00 & 0.0000000000 & 0.0000000000 & 0.0000000000 & 0.0000000000 & 0.0000000000 & 0.0000000000 & 0.0000000000 & 0.0000000000 & 0.0000000000 & 0.000000000 & 0.0000000000 & 0.0000000000 & 0.0000000000 & 0.0000000000 & 0.0000000000 & 0.0000000000 & 0.000000e+00 & 0.0000000000 & 0.0000000000 & 0.000000000 & 0.0000000000 & 0.000000e+00 & 0.0000000000 & 0.000000000 & 0.0000000000 & 0.0000000000 & 0.0000000000 & 0.000000000 & 0.0000000000 & 0.0001597699 & 0.0000000000 & 0.000000e+00 & 0.0000000000 & 0.0000000000 & 0.0000000000 & 0.0000000000 & 0.0000000000 & 0.0000000000 & 0.0000000000 & 0.0000000000 & 0.0000000000 & 0.000000000 & 0.0000000000 & 0.0000000000 & 0.0000000000 & 0.0000000000 & 0.0000000000 & 0.000000e+00 & 0.000000e+00 & 0.000000e+00 & 0.0000000000 & 0.0000000000 & 0.000000000 & 0.0000000000 & 0.0000000000 & 0.0000000000 & 0.0000000000 & 0.0000000000 & 0.0000000000 & 0.000000000 & 0.000000e+00 & 0.0000000000 & 0.0000000000 & 0.000000e+00 & 0.0000000000 & 0.000000e+00 & 0.0000000000 & 0.0000000000 & 0.000000000 & 0.0000000000 & 0.0000000000 & 0.0000000000 & 0.0000000000 & 0.0000000000 & 0.0000000000 & 0.0000000000 & 0.0000000000 & 0.0000000000 & 0.0000000000 & 0.000000e+00 & 0.0000000000 & 0.0000000000 & 0.000000e+00 & 0.0000000000 & 0.000000e+00 & 0.0000000000 & 0.000000e+00 & 0.0000000000 & 0.0000000000 & 0.0001799856 & 0.0000000000 & 0.0000000000 & 0.0000000000 & 0.0000000000 & 0.0000000000 & 0.0000000000 & 0.0000000000 & 0.0000000000 & 0.0000000000 & 0.000000000 & 0.000000e+00 & 0.0000000000 & 0.0000000000 & 0.0000000000 & 0.000000e+00 & 0.0000000000 & 0.0000000000 & 0.0000000000 & 0.0000000000 & 0.0000000000 & 0.0000000000 & 0.0000000000 & 0.000000e+00 & 0.0000000000 & 0.000000e+00 & 0.000000e+00 & 0.0000000000 & 0.000000e+00 & 0.0000000000 & 0.000000e+00 & 0.0000000000 & 0.000000e+00 & 0.0000000000 & 0.0000000000 & 0.0000000000 & 0.0000000000 & 0.000000000 & 0.0000000000 & 0.00000000 & 0.0000000000 & 0.000000e+00 & 0.0000000000 & 0.0000000000 & 0.0000000000 & 0.0000000000 & 0.0000000000 & 0.0000000000 & 0.0000000000 & 0.000000e+00 & 0.0000000000 & 0.0000000000 & 0.00000000 & 0.000000e+00 & 0.0000000000 & 0.000000e+00 & 8.438106e-05 & 0.000000e+00 & 0.000000000 & 0.0000000000 & 8.026971e-05 & 0.0000000000 & 0.0000000000 & 0.0000000000 & 0.0000000000 & 0.0000000000 & 0.0000000000 & 0.000000e+00 & 0.0000000000 & 0.000000e+00 & 0.000000e+00 & 0.0000000000 & 0.0000000000 & 0.0000000000 & 0.0000000000 & 0.0000000000 & 0.0000000000 & 0.000000e+00 & 0.0000000000 & 0.0000000000 & 0.0000000000 & 0.000000000 & 0.000000e+00 & 0.0000000000 & 0.000000e+00 & 0.0000000000 & 0.000000e+00 & 0.000000000 & 0.0000000000 & 0.0000000000 & 0.0000000000 & 0.0000000000 & 0.0000000000 & 0.0000000000 & 0.0000000000 & 0.000000e+00 & 0.0000000000 & 0.0000000000 & 0.000000000 & 0.000000e+00 & 0.0000000000 & 0.0000000000 & 0.000000e+00 & 0.0000000000 & 0.00000000 & 0.0000000000 & 0.0000000000 & 0.000000e+00 & 0.0000000000 & 0.000000e+00 & 0.000000e+00 & 0.000000e+00 & 0.0000000000 & 0.0000000000 & 0.000000e+00 & 0.000000e+00 & 0.0000000000 & 0.0000000000 & 0.000000000 & 0.0000000000 & 0.000000e+00 & 0.000000e+00 & 0.0000000000 & 0.0000000000 & 0.0000000000 & 0.0000000000 & 0.0000000000 & 0.0000000000 & 0.0000000000 & 0.0000000000 & 0.000000e+00 & 0.0000000000 & 0.0000000000 & 0.000000000 & 0.0000000000 & 0.0000000000 & 0.000000e+00 & 0.000000e+00 & 0.0000000000 & 0.0000000000 & 0.0000000000 & 0.0000000000 & 0.000000e+00 & 0.000000e+00 & 0.0000000000 & 0.0000000000 & 0.0000000000 & 0.000000e+00 & 0.000000e+00 & 0.000000e+00 & 0.0000000000 & 0.0000000000 & 0.0000000000 & 0.000000e+00 & 0.000000e+00 & 0.0000000000\\\\\n",
       "\tAeromonas & 0.0000000000 & 0.000000e+00 & 0.0000000000 & 0.0000000000 & 0.000000e+00 & 0.0000000000 & 0.0000000000 & 0.0000000000 & 0.0000000000 & 0.0000000000 & 0.0000000000 & 0.000000e+00 & 0.0000000000 & 0.000000000 & 0.0000000000 & 0.0000000000 & 0.0000000000 & 0.0000000000 & 0.0000000000 & 0.0000000000 & 0.0000000000 & 0.0000000000 & 0.000000e+00 & 0.0000000000 & 0.000000e+00 & 0.0000000000 & 0.000000000 & 0.000000e+00 & 0.0000000000 & 0.0000000000 & 0.0000000000 & 0.000000e+00 & 0.0000000000 & 0.0000000000 & 0.0000000000 & 0.000000000 & 0.0000000000 & 0.000000e+00 & 0.000000e+00 & 0.0000000000 & 0.0000000000 & 0.0000000000 & 0.000000e+00 & 0.0000000000 & 0.000000e+00 & 0.0000000000 & 0.0000000000 & 0.000000e+00 & 0.000000e+00 & 0.0000000000 & 0.0000000000 & 0.0000000000 & 0.0000000000 & 0.0000000000 & 0.0000000000 & 0.000000e+00 & 0.000000000 & 0.0000000000 & 0.0000000000 & 0.0000000000 & 0.0000000000 & 0.0000000000 & 0.000000e+00 & 0.000000000 & 0.0000000000 & 0.0000000000 & 0.000000e+00 & 0.0000000000 & 0.0000000000 & 0.0000000000 & 0.000000e+00 & 0.0000000000 & 0.0000000000 & 0.0000000000 & 0.0000000000 & 0.000000e+00 & 0.000000e+00 & 0.0000000000 & 0.000000e+00 & 0.0000000000 & 0.000000e+00 & 0.0000000000 & 0.0000000000 & 0.000000e+00 & 0.0000000000 & 0.0000000000 & 0.0000000000 & 0.000000e+00 & 0.000000e+00 & 0.000000000 & 0.0000000000 & 0.0000000000 & 0.000000000 & 0.0000000000 & 0.0000000000 & 0.0000000000 & 0.000000000 & 0.000000e+00 & 0.000000000 & 0.000000e+00 & 0.000000e+00 & 0.0000000000 & 0.000000e+00 & 0.000000e+00 & 0.000000e+00 & 0.0000000000 & 0.000000e+00 & 0.000000e+00 & 0.000000e+00 & 0.000000e+00 & 0.0000000000 & 0.0000000000 & 0.0000000000 & 0.0000000000 & 0.0000000000 & 0.000000000 & 0.000000e+00 & 0.0000000000 & 0.0000000000 & 0.0000000000 & 0.0000000000 & 0.000000e+00 & 0.0000000000 & 0.0000000000 & 0.000000e+00 & 0.000000e+00 & 0.000000e+00 & 0.000000000 & 0.000000e+00 & 0.0000000000 & 0.0000000000 & 0.0000000000 & 0.0000000000 & 0.0000000000 & 0.0000000000 & 0.000000e+00 & 0.0000000000 & 0.0000000000 & 0.000000e+00 & 0.0000000000 & 0.0000000000 & 0.0000000000 & 0.000000000 & 0.0000000000 & 0.0000000000 & 0.0000000000 & 0.000000e+00 & 0.000000e+00 & 0.000000e+00 & 0.0000000000 & 0.0000000000 & 0.000000e+00 & 0.000000e+00 & 0.0000000000 & 0.0000000000 & 0.000000e+00 & 0.0000000000 & 0.0000000000 & 0.0000000000 & 0.0000000000 & 0.0000000000 & 0.000000e+00 & 0.0000000000 & 0.000000e+00 & 0.0000000000 & 0.0000000000 & 0.000000e+00 & 0.000000000 & 0.000000e+00 & 0.0000000000 & 0.0000000000 & 0.0000000000 & 0.000000000 & 0.0000000000 & 0.000000e+00 & 0.0000000000 & 0.0000000000 & 0.000000e+00 & 0.000000e+00 & 0.000000e+00 & 0.0000000000 & 0.0000000000 & 0.0000000000 & 0.0000000000 & 0.000000e+00 & 0.000000000 & 0.000000e+00 & 0.000000e+00 & 0.0000000000 & 0.000000e+00 & 0.0000000000 & 0.0000000000 & 0.0000000000 & 0.0000000000 & 0.0000000000 & 0.0000000000 & 0.0000000000 & 0.000000e+00 & 0.000000e+00 & 0.000000000 & 0.000000e+00 & 0.000000e+00 & 0.0000000000 & 0.000000000 & 0.0000000000 & 0.0000000000 & 0.0000000000 & 0.0000000000 & 0.000000e+00 & 0.0000000000 & 0.0000000000 & 0.0000000000 & 0.0000000000 & 0.000000e+00 & 0.0000000000 & 0.000000e+00 & 0.0000000000 & 0.0000000000 & 0.000000e+00 & 0.0000000000 & 0.0000000000 & 0.000000e+00 & 0.0000000000 & 0.0000000000 & 0.0000000000 & 0.000000000 & 0.0000000000 & 0.0000000000 & 0.000000000 & 0.000000e+00 & 0.0000000000 & 0.0000000000 & 0.000000e+00 & 0.0000000000 & 0.0000000000 & 0.0000000000 & 0.0000000000 & 0.0000000000 & 0.0000000000 & 0.0000000000 & 0.000000e+00 & 0.0000000000 & 0.0000000000 & 0.0000000000 & 0.0000000000 & 0.000000e+00 & 0.0000000000 & 0.0000000000 & 0.000000e+00 & 0.000000e+00 & 0.0000000000 & 0.0000000000 & 0.0000000000 & 0.0000000000 & 0.0000000000 & 0.0000000000 & 0.000000e+00 & 0.0000000000 & 0.000000e+00 & 0.0000000000 & 0.0000000000 & 0.000000e+00 & 0.000000e+00 & 0.0000000000 & 0.0000000000 & 0.000000000 & 0.0000000000 & 0.0000000000 & 0.0000000000 & 0.000000e+00 & 0.0000000000 & 0.000000e+00 & 0.000000e+00 & 0.000000e+00 & 0.0000000000 & 0.0000000000 & 0.000000000 & 0.0000000000 & 0.0000000000 & 0.000000e+00 & 0.0000000000 & 0.000000000 & 0.0000000000 & 0.0000000000 & 0.000000e+00 & 0.0000000000 & 0.000000e+00 & 0.0000000000 & 0.000000e+00 & 0.000000e+00 & 0.0000000000 & 0.0000000000 & 0.0000000000 & 0.000000e+00 & 0.0000000000 & 0.0000000000 & 0.0000000000 & 0.0000000000 & 0.0000000000 & 0.0000000000 & 0.000000e+00 & 0.0000000000 & 0.000000e+00 & 0.000000e+00 & 0.000000e+00 & 0.000000e+00 & 0.0000000000 & 0.0000000000 & 0.000000e+00 & 0.0000000000 & 0.000000000 & 0.000000000 & 0.0000000000 & 0.0000000000 & 0.000000e+00 & 0.000000e+00 & 0.0000000000 & 0.0000000000 & 0.0000000000 & 0.000000000 & 0.000000e+00 & 0.0000000000 & 0.000000e+00 & 0.000000000 & 0.000000e+00 & 0.000000e+00 & 0.0000000000 & 0.0000000000 & 0.0000000000 & 0.000000e+00 & 0.000000e+00 & 0.000000e+00 & 0.0000000000 & 0.000000e+00 & 0.000000e+00 & 0.000000e+00 & 0.0000000000 & 0.0000000000 & 0.000000e+00 & 0.0000000000 & 0.0000000000 & 0.0000000000 & 0.0000000000 & 0.0000000000 & 0.0000000000 & 0.0000000000 & 0.0000000000 & 0.000000e+00 & 0.0000000000 & 0.0000000000 & 0.000000e+00 & 0.000000e+00 & 0.0000000000 & 0.0000000000 & 0.000000e+00 & 0.0000000000 & 0.0000000000 & 0.0000000000 & 0.0000000000 & 0.000000000 & 0.000000000 & 0.0000000000 & 0.000000e+00 & 0.000000e+00 & 0.0000000000 & 0.000000000 & 0.00000000 & 0.0000000000 & 0.000000e+00 & 0.0000000000 & 0.0000000000 & 0.0000000000 & 0.0000000000 & 0.000000000 & 0.000000e+00 & 0.0000000000 & 0.0000000000 & 0.000000000 & 0.0000000000 & 0.000000000 & 0.0000000000 & 0.000000e+00 & 0.0000000000 & 0.000000e+00 & 0.000000e+00 & 0.000000e+00 & 0.0000000000 & 0.000000e+00 & 0.000000000 & 0.0000000000 & 0.0000000000 & 0.000000000 & 0.0000000000 & 0.000000e+00 & 0.0000000000 & 0.0000000000 & 0.000000000 & 0.0000000000 & 0.000000e+00 & 0.000000e+00 & 0.0000000000 & 0.0000000000 & 0.0000000000 & 0.0000000000 & 0.000000e+00 & 0.0000000000 & 0.0000000000 & 0.0000000000 & 0.000000e+00 & 0.0000000000 & 0.0000000000 & 0.000000e+00 & 0.000000000 & 0.0000000000 & 0.000000e+00 & 0.000000e+00 & 0.0000000000 & 0.0000000000 & 0.0000000000 & 0.0000000000 & 0.0000000000 & 0.000000e+00 & 0.0000000000 & 0.0000000000 & 0.0000000000 & 0.000000e+00 & 0.000000e+00 & 0.0000000000 & 0.0000000000 & 0.00000000 & 0.000000000 & 0.0000000000 & 0.0000000000 & 0.0000000000 & 0.000000e+00 & 0.0000000000 & 0.0000000000 & 0.000000e+00 & 0.0000000000 & 0.0000000000 & 0.000000e+00 & 0.0000000000 & 0.000000000 & 0.00000000 & 0.0000000000 & 0.0000000000 & 0.000000000 & 0.000000e+00 & 0.000000e+00 & 0.000000e+00 & 0.0000000000 & 0.000000e+00 & 0.0000000000 & 0.000000000 & 0.0000000000 & 0.0000000000 & 0.0000000000 & 0.0000000000 & 0.0000000000 & 0.000000000 & 0.0000000000 & 0.000000e+00 & 0.0000000000 & 0.0000000000 & 0.000000000 & 0.0000000000 & 0.000000e+00 & 0.0000000000 & 0.0000000000 & 0.0000000000 & 0.0000000000 & 0.0000 & 0.000000000 & 0.0000000000 & 0.0000000000 & 0.000000000 & 0.0000000000 & 0.0000000000 & 0.000000e+00 & 0.0000000000 & 0.0000000000 & 0.0000000000 & 0.0000000000 & 0.0000000000 & 0.0000000000 & 0.0000000000 & 0.0000000000 & 0.0000000000 & 0.0000000000 & 0.0000000000 & 0.0000000000 & 0.0000000000 & 0.000000000 & 0.0000000000 & 0.0000000000 & 0.0000000000 & 0.0000000000 & 0.0000000000 & 0.0000000000 & 0.0000000000 & 0.0000000000 & 0.0000000000 & 0.0000000000 & 0.0000000000 & 0.0000000000 & 0.000000000 & 0.0000000000 & 0.0000000000 & 0.000000e+00 & 0.0000000000 & 0.000000e+00 & 0.000000000 & 0.0000000000 & 0.0000000000 & 0.0000000000 & 0.0000000000 & 0.0000000000 & 0.0000000000 & 0.0000000000 & 0.0000000000 & 0.0000000000 & 0.000000e+00 & 0.0000000000 & 0.0000000000 & 0.000000e+00 & 0.0000000000 & 0.0000000000 & 0.000000e+00 & 0.0000000000 & 0.0000000000 & 0.0000000000 & 0.000000e+00 & 0.0000000000 & 0.000000e+00 & 0.0000000000 & 0.0000000000 & 0.0000000000 & 0.000000e+00 & 0.000000000 & 0.0000000000 & 0.0000000000 & 0.0000000000 & 0.0000000000 & 0.0000000000 & 0.0000000000 & 0.000000e+00 & 0.0000000000 & 0.000000000 & 0.000000e+00 & 0.0000000000 & 0.0000000000 & 0.000000e+00 & 0.0000000000 & 0.0000000000 & 0.0000000000 & 0.000000e+00 & 0.000000e+00 & 0.000000000 & 0.0000000000 & 0.000000e+00 & 0.0000000000 & 0.000000e+00 & 0.000000e+00 & 0.0000000000 & 0.0000000000 & 0.000000e+00 & 0.000000e+00 & 0.0000000000 & 0.0000000000 & 0.0000000000 & 0.000000000 & 0.000000e+00 & 0.0000000000 & 0.000000e+00 & 0.000000e+00 & 0.0000000000 & 0.000000e+00 & 0.000000e+00 & 0.000000e+00 & 0.0000000000 & 0.000000 & 0.000000e+00 & 0.0000000000 & 0.000000e+00 & 0.000000e+00 & 0.000000e+00 & 0.000000e+00 & 0.000000e+00 & 0.000000e+00 & 0.000000e+00 & 0.0000000000 & 0.0000000000 & 0.0000000000 & 0.000000e+00 & 0.000000e+00 & 0.000000e+00 & 0.0000000000 & 0.0000000000 & 0.000000e+00 & 0.0000000000 & 0.000000000 & 0.0000000000 & 0.000000e+00 & 0.000000e+00 & 0.000000e+00 & 0.0000000000 & 0.000000e+00 & 0.0000000000 & 0.0000000000 & 0.000000e+00 & 0.000000e+00 & 0.000000e+00 & 0.0000000000 & 0.0000000000 & 0.0000000000 & 0.0000000000 & 0.000000000 & 0.000000e+00 & 0.0000000000 & 0.000000000 & 0.0000000000 & 0.000000000 & 0.000000e+00 & 0.0000000000 & 0.000000000 & 0.0000000000 & 0.000000e+00 & 0.0000000000 & 0.0000000000 & 0.0000000000 & 0.0000000000 & 0.0000000000 & 0.0000000000 & 0.0000000000 & 0.0000000000 & 0.0000000000 & 0.0000000000 & 0.0000000000 & 0.0000000000 & 0.000000e+00 & 0.0000000000 & 0.000000e+00 & 0.0000000000 & 0.000000e+00 & 0.0000000000 & 0.000000e+00 & 0.0000000000 & 0.000000000 & 0.0000000000 & 0.0000000000 & 0.0000000000 & 0.0000000000 & 0.000000e+00 & 0.000000e+00 & 0.0000000000 & 0.0000000000 & 0.000000e+00 & 0.0000000000 & 0.0000000000 & 0.0000000000 & 0.0000000000 & 0.0000000000 & 0.000000e+00 & 0.0000000000 & 0.0000000000 & 0.0000000000 & 0.0000000000 & 0.0000000000 & 0.000000e+00 & 0.0000000000 & 0.0000000000 & 0.000000e+00 & 0.0000000000 & 0.0000000000 & 0.0000000000 & 0.000000e+00 & 0.000000000 & 0.0000000000 & 0.0000000000 & 0.0000000000 & 0.0000000000 & 0.000000e+00 & 0.000000000 & 0.000000e+00 & 0.000000e+00 & 0.000000e+00 & 0.000000e+00 & 0.0000000000 & 0.000000e+00 & 0.0000000000 & 0.000000e+00 & 0.0000000000 & 0.0000000000 & 0.0000000000 & 0.0000000000 & 0.000000000 & 0.000000e+00 & 0.0000000000 & 0.0000000000 & 0.000000e+00 & 0.000000e+00 & 0.000000e+00 & 0.0000000000 & 0.0000000000 & 0.000000000 & 0.0000000000 & 0.0000000000 & 0.0000000000 & 0.0000000000 & 0.0000000000 & 0.0000000000 & 0.000000e+00 & 0.0000000000 & 0.0000000000 & 0.000000000 & 0.000000000 & 0.000000e+00 & 0.0000000000 & 0.0000000000 & 0.0000000000 & 0.0000000000 & 0.0000000000 & 0.000000e+00 & 0.000000e+00 & 0.0000000000 & 0.0000000000 & 0.000000e+00 & 0.000000e+00 & 0.0000000000 & 0.0000000000 & 0.000000e+00 & 0.0000000000 & 0.0000000000 & 0.000000e+00 & 0.0000000000 & 0.0000000000 & 0.0000000000 & 0.0000000000 & 0.0000000000 & 0.0000000000 & 0.0000000000 & 0.0000000000 & 0.0000000000 & 0.0000000000 & 0.0000000000 & 0.0000000000 & 0.00000000 & 0.0000000000 & 0.0000000000 & 0.0000000000 & 0.0000000000 & 0.0000000000 & 0.0000000000 & 0.0000000000 & 0.000000e+00 & 0.000000e+00 & 0.000000e+00 & 0.0000000000 & 0.000000e+00 & 0.000000000 & 0.0000000000 & 0.0000000000 & 0.0000000000 & 0.0000000000 & 0.0000000000 & 0.0000000000 & 0.0000000000 & 0.0000000000 & 0.000000000 & 0.000000e+00 & 0.000000e+00 & 0.000000e+00 & 0.0000000000 & 0.0000000000 & 0.0000000000 & 0.0000000000 & 0.0000000000 & 0.000000e+00 & 0.000000e+00 & 0.000000000 & 0.0000000000 & 0.0000000000 & 0.000000e+00 & 0.0000000000 & 0.0000000000 & 0.0000000000 & 0.000000e+00 & 0.000000e+00 & 0.0000000000 & 0.0000000000 & 0.000000e+00 & 0.0000000000 & 0.0000000000 & 0.000000e+00 & 0.000000e+00 & 0.0000000000 & 0.0000000000 & 0.0000000000 & 0.0000000000 & 0.000000e+00 & 0.0000000000 & 0.0000000000 & 0.0000000000 & 0.0000000000 & 0.000000e+00 & 0.000000e+00 & 0.000000e+00 & 0.0000000000 & 0.000000e+00 & 0.0000000000 & 0.000000e+00 & 0.0000000000 & 0.000000e+00 & 0.000000e+00 & 0.000000000 & 0.0000000000 & 0.000000e+00 & 0.000000e+00 & 0.0000000000 & 0.000000000 & 0.0000000000 & 0.0000000000 & 0.0000000000 & 0.000000e+00 & 0.000000e+00 & 0.000000e+00 & 0.000000e+00 & 0.000000e+00 & 0.000000e+00 & 0.0000000000 & 0.000000e+00 & 0.0000000000 & 0.0000000000 & 0.0000000000 & 0.0000000000 & 0.0000000000 & 0.00000000 & 0.0000000000 & 0.0000000000 & 0.0000000000 & 0.0000000000 & 0.0000000000 & 0.0000000000 & 0.000000e+00 & 0.0000000000 & 0.0000000000 & 0.000000e+00 & 0.000000e+00 & 0.000000e+00 & 0.0000000000 & 0.0000000000 & 0.0000000000 & 0.0000000000 & 0.000000e+00 & 0.0000000000 & 0.0000000000 & 0.0000000000 & 0.000000e+00 & 0.0000000000 & 0.0000000000 & 0.000000e+00 & 0.0000000000 & 0.0000000000 & 0.0000000000 & 0.0000000000 & 0.0000000000 & 0.000000000 & 0.0000000000 & 0.000000e+00 & 0.0000000000 & 0.000000e+00 & 0.000000e+00 & 0.0000000000 & 0.000000e+00 & 0.000000e+00 & 0.000000e+00 & 0.0000000000 & 0.000000000 & 0.0000000000 & 0.0000000000 & 0.0000000000 & 0.0000000000 & 0.0000000000 & 0.0000000000 & 0.0000000000 & 0.0000000000 & 0.0000000000 & 0.0000000000 & 0.0000000000 & 0.000000e+00 & 0.0000000000 & 0.0000000000 & 0.0000000000 & 0.0000000000 & 0.000000e+00 & 0.000000e+00 & 0.000000000 & 0.000000e+00 & 0.000000e+00 & 0.0000000000 & 0.0000000000 & 0.0000000000 & 0.0000000000 & 0.000000000 & 0.000000e+00 & 0.000000e+00 & 0.0000000000 & 0.0000000000 & 0.0000000000 & 0.0000000000 & 0.0000000000 & 0.0000000000 & 0.0000000000 & 0.0000000000 & 0.0000000000 & 0.000000000 & 0.0000000000 & 0.0000000000 & 0.0000000000 & 0.0000000000 & 0.0000000000 & 0.0000000000 & 0.000000e+00 & 0.0000000000 & 0.0000000000 & 0.000000000 & 0.0000000000 & 0.000000e+00 & 0.0000000000 & 0.000000000 & 0.0000000000 & 0.0000000000 & 0.0000000000 & 0.000000000 & 0.0000000000 & 0.0000000000 & 0.0000000000 & 0.000000e+00 & 0.0000000000 & 0.0000000000 & 0.0000000000 & 0.0000000000 & 0.0000000000 & 0.0000000000 & 0.0000000000 & 0.0000000000 & 0.0000000000 & 0.000000000 & 0.0000000000 & 0.0000000000 & 0.0000000000 & 0.0000000000 & 0.0000000000 & 0.000000e+00 & 0.000000e+00 & 0.000000e+00 & 0.0000000000 & 0.0000000000 & 0.000000000 & 0.0000000000 & 0.0000000000 & 0.0000000000 & 0.0000000000 & 0.0000000000 & 0.0000000000 & 0.000000000 & 0.000000e+00 & 0.0000000000 & 0.0000000000 & 0.000000e+00 & 0.0000000000 & 0.000000e+00 & 0.0000000000 & 0.0000000000 & 0.000000000 & 0.0000000000 & 0.0000000000 & 0.0000000000 & 0.0000000000 & 0.0000000000 & 0.0000000000 & 0.0000000000 & 0.0000000000 & 0.0000000000 & 0.0000000000 & 0.000000e+00 & 0.0000000000 & 0.0000000000 & 0.000000e+00 & 0.0000000000 & 0.000000e+00 & 0.0000000000 & 0.000000e+00 & 0.0000000000 & 0.0000000000 & 0.0000000000 & 0.0000000000 & 0.0000000000 & 0.0000000000 & 0.0000000000 & 0.0000000000 & 0.0000000000 & 0.0000000000 & 0.0000000000 & 0.0000000000 & 0.000000000 & 0.000000e+00 & 0.0000000000 & 0.0000000000 & 0.0000000000 & 0.000000e+00 & 0.0000000000 & 0.0000000000 & 0.0000000000 & 0.0000000000 & 0.0000000000 & 0.0000000000 & 0.0000000000 & 0.000000e+00 & 0.0000000000 & 0.000000e+00 & 0.000000e+00 & 0.0000000000 & 0.000000e+00 & 0.0000000000 & 0.000000e+00 & 0.0000000000 & 0.000000e+00 & 0.0000000000 & 0.0000000000 & 0.0000000000 & 0.0000000000 & 0.000000000 & 0.0000000000 & 0.00000000 & 0.0000000000 & 0.000000e+00 & 0.0000000000 & 0.0000000000 & 0.0000000000 & 0.0000000000 & 0.0000000000 & 0.0000000000 & 0.0000000000 & 0.000000e+00 & 0.0000000000 & 0.0000000000 & 0.00000000 & 0.000000e+00 & 0.0000000000 & 0.000000e+00 & 8.438106e-05 & 0.000000e+00 & 0.000000000 & 0.0000000000 & 8.026971e-05 & 0.0000000000 & 0.0000000000 & 0.0000000000 & 0.0000000000 & 0.0000000000 & 0.0000000000 & 0.000000e+00 & 0.0000000000 & 0.000000e+00 & 0.000000e+00 & 0.0000000000 & 0.0000000000 & 0.0000000000 & 0.0000000000 & 0.0000000000 & 0.0000000000 & 0.000000e+00 & 0.0000000000 & 0.0000000000 & 0.0000000000 & 0.000000000 & 0.000000e+00 & 0.0000000000 & 0.000000e+00 & 0.0000000000 & 0.000000e+00 & 0.000000000 & 0.0000000000 & 0.0000000000 & 0.0000000000 & 0.0000000000 & 0.0000000000 & 0.0000000000 & 0.0000000000 & 0.000000e+00 & 0.0000000000 & 0.0000000000 & 0.000000000 & 0.000000e+00 & 0.0000000000 & 0.0000000000 & 0.000000e+00 & 0.0000000000 & 0.00000000 & 0.0000000000 & 0.0000000000 & 0.000000e+00 & 0.0000000000 & 0.000000e+00 & 0.000000e+00 & 0.000000e+00 & 0.0000000000 & 0.0000000000 & 0.000000e+00 & 0.000000e+00 & 0.0000000000 & 0.0000000000 & 0.000000000 & 0.0000000000 & 0.000000e+00 & 0.000000e+00 & 0.0000000000 & 0.0000000000 & 0.0000000000 & 0.0000000000 & 0.0000000000 & 0.0000000000 & 0.0000000000 & 0.0000000000 & 0.000000e+00 & 0.0000000000 & 0.0000000000 & 0.000000000 & 0.0000000000 & 0.0000000000 & 0.000000e+00 & 0.000000e+00 & 0.0000000000 & 0.0000000000 & 0.0000000000 & 0.0000000000 & 0.000000e+00 & 0.000000e+00 & 0.0000000000 & 0.0000000000 & 0.0000000000 & 0.000000e+00 & 0.000000e+00 & 0.000000e+00 & 0.0000000000 & 0.0000000000 & 0.0000000000 & 0.000000e+00 & 0.000000e+00 & 0.0000000000\\\\\n",
       "\tAkkermansia & 0.0027657053 & 3.547497e-03 & 0.0666105736 & 0.0056195302 & 2.833333e-03 & 0.0017690169 & 0.0045569620 & 0.0024126838 & 0.0112327189 & 0.0179921218 & 0.0631305852 & 2.800867e-03 & 0.0030584504 & 0.004320146 & 0.0186671645 & 0.0153070749 & 0.0138393340 & 0.0061961614 & 0.0116207951 & 0.0052951144 & 0.0064072140 & 0.0387761963 & 1.346633e-03 & 0.0121203163 & 9.340204e-03 & 0.0216222272 & 0.001633320 & 5.513439e-04 & 0.0025153106 & 0.0051123160 & 0.0106860959 & 2.650991e-03 & 0.0077741408 & 0.0055683967 & 0.0017541936 & 0.002900713 & 0.0045656888 & 1.257071e-03 & 2.853769e-03 & 0.0017955624 & 0.0970730397 & 0.0046153846 & 5.022137e-03 & 0.0028186028 & 1.668653e-03 & 0.0044147157 & 0.0040399240 & 3.458032e-03 & 5.823945e-03 & 0.0287476723 & 0.0052242055 & 0.0025870544 & 0.0055203435 & 0.0028492928 & 0.0026540843 & 4.008774e-03 & 0.002748714 & 0.0053380783 & 0.0014058107 & 0.0023601197 & 0.0021765572 & 0.0023477240 & 2.534794e-03 & 0.003238261 & 0.0035720509 & 0.0049757433 & 1.473161e-03 & 0.0160520607 & 0.0194666148 & 0.0085430076 & 3.826087e-03 & 0.0030805340 & 0.0167477039 & 0.0074837851 & 0.0029804483 & 2.928935e-03 & 4.115854e-03 & 0.0055810900 & 5.760182e-03 & 0.0046067785 & 5.365394e-02 & 0.0101739416 & 0.0020443704 & 1.629083e-03 & 0.0020609611 & 0.0172864072 & 0.0099077554 & 5.649718e-03 & 7.237854e-04 & 0.005495407 & 0.0028635062 & 0.0058053815 & 0.005228758 & 0.0143650016 & 0.0049759930 & 0.0065181966 & 0.006641986 & 1.641447e-02 & 0.004312152 & 4.183050e-03 & 6.278916e-03 & 0.0016636419 & 3.694359e-03 & 3.929899e-03 & 3.587504e-02 & 0.0040931756 & 9.191699e-03 & 2.759456e-03 & 3.116147e-03 & 6.760754e-03 & 0.0040734824 & 0.0102552670 & 0.0041529844 & 0.0046408019 & 0.0041944709 & 0.005184332 & 2.504638e-03 & 0.0030525031 & 0.0027062490 & 0.0098337460 & 0.0137480905 & 2.119869e-03 & 0.0048326261 & 0.0031080031 & 3.357251e-03 & 3.848818e-03 & 2.163284e-02 & 0.005663554 & 3.151650e-03 & 0.0024734982 & 0.0022017339 & 0.0035901118 & 0.0011980463 & 0.0079790401 & 0.0044788057 & 3.579814e-03 & 0.0047716428 & 0.0153337100 & 5.730659e-03 & 0.0237090909 & 0.0015332198 & 0.0302327441 & 0.008354646 & 0.0058139535 & 0.0062660944 & 0.0054803905 & 1.843392e-03 & 3.774590e-03 & 8.970030e-04 & 0.0029945394 & 0.0124836696 & 1.220422e-03 & 1.301660e-03 & 0.0022292994 & 0.0019182529 & 1.760064e-03 & 0.0018478078 & 0.0015789474 & 0.0015343699 & 0.0033484812 & 0.0055736671 & 4.600797e-03 & 0.0024912075 & 3.878567e-03 & 0.0028307821 & 0.0021130221 & 1.943463e-03 & 0.009837050 & 5.889724e-03 & 0.0019082149 & 0.0031132230 & 0.0018535089 & 0.003068238 & 0.0067846608 & 2.691111e-03 & 0.0063015027 & 0.0022155862 & 3.106624e-03 & 4.598335e-03 & 2.980922e-03 & 0.0030695771 & 0.0103707545 & 0.0028883473 & 0.0083212459 & 3.601657e-03 & 0.004289544 & 8.541260e-03 & 6.859652e-03 & 0.0053108690 & 7.096936e-04 & 0.0009812580 & 0.0027954257 & 0.0005875441 & 0.0016944366 & 0.0041438624 & 0.0021374046 & 0.0037204976 & 4.090378e-03 & 2.153339e-02 & 0.001494024 & 2.031144e-03 & 2.592017e-03 & 0.0032786885 & 0.002234043 & 0.0022215170 & 0.0021887825 & 0.0079100749 & 0.0054115278 & 2.912056e-03 & 0.0032461145 & 0.0038246847 & 0.0025608195 & 0.0040156892 & 5.946482e-04 & 0.0085463322 & 4.403456e-03 & 0.0062036617 & 0.0085269665 & 7.418608e-03 & 0.0073782982 & 0.0040913740 & 1.391954e-02 & 0.0063458488 & 0.0006326445 & 0.0040945849 & 0.007845774 & 0.0057879940 & 0.0018325087 & 0.002321981 & 1.772002e-03 & 0.0126283886 & 0.0062248261 & 2.821748e-03 & 0.0026436782 & 0.0016315432 & 0.0035080479 & 0.0033866995 & 0.0019790224 & 0.0127285037 & 0.0017897092 & 1.681143e-03 & 0.0036224384 & 0.0030343008 & 0.0086814293 & 0.0035807000 & 7.285580e-03 & 0.0015227021 & 0.0089728904 & 4.611394e-03 & 4.462045e-04 & 0.0010702055 & 0.0061666998 & 0.0034125034 & 0.0021494371 & 0.0049433574 & 0.0019115691 & 1.853154e-03 & 0.0017676954 & 8.509418e-03 & 0.0026583449 & 0.0052658228 & 2.121438e-03 & 3.047108e-03 & 0.0030402432 & 0.0048790836 & 0.003013500 & 0.0041804992 & 0.0021527518 & 0.0026256854 & 1.963511e-03 & 0.0018948964 & 3.423325e-03 & 3.560227e-03 & 2.197092e-03 & 0.0018018018 & 0.0030814380 & 0.003510452 & 0.0081967213 & 0.0041832466 & 9.829430e-04 & 0.0009981851 & 0.004358029 & 0.0004479618 & 0.0175845004 & 4.932858e-04 & 0.0027504214 & 2.409832e-03 & 0.0041777440 & 1.846641e-03 & 3.235997e-03 & 0.0007052186 & 0.0021574973 & 0.0005205622 & 9.080189e-03 & 0.0123989969 & 0.0015349980 & 0.0012717253 & 0.0014662757 & 0.0040022870 & 0.0028141162 & 1.111371e-03 & 0.0020886170 & 1.350553e-03 & 1.440810e-03 & 2.068787e-03 & 3.069011e-03 & 0.0013064576 & 0.0015085990 & 8.673681e-04 & 0.0160371938 & 0.004501432 & 0.006844465 & 0.0036567528 & 0.0090108752 & 7.907177e-03 & 8.568647e-03 & 0.0016301126 & 0.0021072348 & 0.0029462970 & 0.002319588 & 3.404627e-03 & 0.0090532850 & 9.316155e-03 & 0.010820425 & 5.765595e-03 & 1.042643e-02 & 0.0039809798 & 0.0062300319 & 0.0019205499 & 9.765768e-03 & 1.316320e-02 & 1.474670e-03 & 0.0032782212 & 3.620466e-03 & 9.824967e-03 & 1.066667e-02 & 0.0017086052 & 0.0027990877 & 2.488225e-03 & 0.0025938655 & 0.0023348441 & 0.0023606779 & 0.0020065212 & 0.0013597514 & 0.0101136482 & 0.0013683010 & 0.0221386196 & 8.671952e-04 & 0.0037432414 & 0.0029276986 & 1.030397e-03 & 9.679873e-04 & 0.0002016942 & 0.0043580580 & 6.216199e-04 & 0.0034023892 & 0.0014432618 & 0.0206830514 & 0.0012665242 & 0.001090771 & 0.008291010 & 0.0008155276 & 1.921599e-04 & 4.433719e-03 & 0.0005052546 & 0.001170424 & 0.00415110 & 0.0004708985 & 8.352950e-04 & 0.0028089888 & 0.0038715770 & 0.0040014551 & 0.0170871926 & 0.001195338 & 5.932362e-03 & 0.0042924398 & 0.0056388792 & 0.010660814 & 0.0058487977 & 0.001155362 & 0.0126235444 & 2.327309e-03 & 0.0006910253 & 1.194304e-03 & 1.156324e-03 & 2.658632e-03 & 0.0007559722 & 1.978333e-03 & 0.003627570 & 0.0113758140 & 0.0056953014 & 0.002594142 & 0.0020111732 & 1.311168e-02 & 0.0030260708 & 0.0032161235 & 0.003746398 & 0.0034849277 & 2.158688e-03 & 2.741493e-03 & 0.0054351473 & 0.0014241633 & 0.0021922029 & 0.0076497117 & 3.098429e-03 & 0.0028314215 & 0.0022745735 & 0.0042744026 & 3.750502e-03 & 0.0095474047 & 0.0098459226 & 6.694721e-04 & 0.025349498 & 0.0167778452 & 5.136766e-04 & 2.788021e-03 & 0.0016184503 & 0.0007293946 & 0.0039994287 & 0.0035997120 & 0.0009824561 & 4.406463e-03 & 0.0022344900 & 0.0051095872 & 0.0021601728 & 4.975993e-03 & 4.388275e-04 & 0.0058349718 & 0.0044470065 & 0.03798717 & 0.041825534 & 0.0012882071 & 0.0018017004 & 0.0015178050 & 6.204436e-04 & 0.0047955086 & 0.0050318189 & 8.179515e-03 & 0.0163653663 & 0.0040588534 & 2.462687e-03 & 0.0030263373 & 0.010666667 & 0.01571130 & 0.0004125413 & 0.0082187687 & 0.001387696 & 1.845852e-03 & 1.206187e-03 & 8.582054e-03 & 0.0021593090 & 1.862015e-03 & 0.0022135554 & 0.005985995 & 0.0108126092 & 0.0011047980 & 0.0029970030 & 0.0008600917 & 0.0038265306 & 0.004582082 & 0.0029257314 & 1.525424e-03 & 0.0136280538 & 0.0111454047 & 0.014949015 & 0.0026932826 & 1.470768e-03 & 0.0006762572 & 0.0043402215 & 0.0030761659 & 0.0036952314 & 0.0162 & 0.002682234 & 0.0010174574 & 0.0166399715 & 0.003391330 & 0.0008450887 & 0.0027466239 & 9.013069e-04 & 0.0056440666 & 0.0013302697 & 0.0032084552 & 0.0107405314 & 0.0041382668 & 0.0055375703 & 0.0005993766 & 0.0035935029 & 0.0050403226 & 0.0020390025 & 0.0093729373 & 0.0114829980 & 0.0083849452 & 0.007176873 & 0.0012836103 & 0.0017341952 & 0.0020136159 & 0.0239875042 & 0.0035746202 & 0.0056302424 & 0.0071439202 & 0.0022179975 & 0.0140312614 & 0.0213389388 & 0.0059089329 & 0.0017631197 & 0.003061900 & 0.0055871039 & 0.0004137850 & 7.266893e-03 & 0.0020843139 & 9.632983e-04 & 0.002624113 & 0.0055214724 & 0.0010599458 & 0.0032818124 & 0.0003590235 & 0.0030045953 & 0.0047942817 & 0.0104435191 & 0.0008977812 & 0.0299787842 & 1.226188e-03 & 0.0093750000 & 0.0005009462 & 5.226250e-03 & 0.0070619316 & 0.0051582952 & 2.262343e-03 & 0.0010518319 & 0.0059011556 & 0.0009323006 & 3.637720e-03 & 0.0009549795 & 1.723681e-03 & 0.0016282225 & 0.0034843206 & 0.0018266694 & 1.311353e-03 & 0.001492023 & 0.0053528666 & 0.0003753049 & 0.0020462296 & 0.0011444028 & 0.0006215470 & 0.0018461930 & 6.417570e-04 & 0.0078774939 & 0.001902648 & 1.747306e-03 & 0.0015421281 & 0.0047889853 & 1.442782e-03 & 0.0017807174 & 0.0013924154 & 0.0261739800 & 2.179562e-03 & 2.737048e-03 & 0.015631848 & 0.0060116697 & 8.244023e-04 & 0.0016557388 & 3.969435e-04 & 8.196368e-04 & 0.0053259480 & 0.0004011768 & 1.377097e-02 & 7.660878e-04 & 0.0012249898 & 0.0025029640 & 0.0141889713 & 0.007910598 & 2.332815e-03 & 0.0040160643 & 6.452942e-03 & 2.413230e-03 & 0.0019600157 & 1.443883e-03 & 2.651297e-03 & 7.118980e-03 & 0.0009514748 & 0.001000 & 3.095104e-03 & 0.0023075879 & 9.843400e-04 & 8.223274e-03 & 3.602305e-03 & 1.395882e-03 & 7.369197e-04 & 4.867872e-03 & 1.496726e-03 & 0.0014266532 & 0.0014591693 & 0.0013677012 & 1.174891e-03 & 1.428316e-03 & 1.496110e-03 & 0.0067513100 & 0.0014697569 & 6.961849e-04 & 0.0023866348 & 0.011386640 & 0.0013306720 & 2.118644e-03 & 7.500469e-04 & 2.013230e-03 & 0.0018426138 & 5.659018e-04 & 0.0037075405 & 0.0026468435 & 1.467963e-03 & 5.325578e-03 & 9.291953e-04 & 0.0031274433 & 0.0008089888 & 0.0034709755 & 0.0049461096 & 0.002423339 & 4.746084e-04 & 0.0009083569 & 0.005332180 & 0.0031083481 & 0.003887195 & 5.363075e-03 & 0.0033342225 & 0.001727613 & 0.0042784909 & 9.848982e-04 & 0.0015436636 & 0.0056920312 & 0.0014904981 & 0.0035403050 & 0.0007038005 & 0.0010937927 & 0.0176056338 & 0.0006100454 & 0.0056968864 & 0.0040179084 & 0.0011572735 & 0.0055506976 & 1.281672e-03 & 0.0115478225 & 1.097171e-03 & 0.0020786001 & 5.342399e-04 & 0.0007485030 & 1.193412e-02 & 0.0017664559 & 0.008012821 & 0.0352931475 & 0.0019964508 & 0.0016307513 & 0.0043478261 & 2.545672e-03 & 4.577802e-04 & 0.0013746260 & 0.0030421721 & 7.276905e-03 & 0.0037676136 & 0.0010232997 & 0.0036260220 & 0.0009733037 & 0.0016223776 & 1.411765e-03 & 0.0016916896 & 0.0062402496 & 0.0021621622 & 0.0005511464 & 0.0006754475 & 5.835240e-03 & 0.0132234244 & 0.0034083163 & 4.188482e-03 & 0.0043964096 & 0.0025349460 & 0.0083822297 & 6.337709e-04 & 0.001043686 & 0.0068716094 & 0.0021315764 & 0.0119106393 & 0.0026686298 & 2.571875e-03 & 0.001053186 & 7.409237e-04 & 1.400953e-03 & 2.435597e-03 & 8.499788e-04 & 0.0028072990 & 1.090862e-03 & 0.0010988301 & 3.897686e-03 & 0.0071728348 & 0.0063193111 & 0.0019230769 & 0.0169554985 & 0.004315167 & 2.540745e-03 & 0.0019958795 & 0.0039896085 & 3.873498e-03 & 6.711409e-03 & 4.646408e-04 & 0.0020814749 & 0.0004539952 & 0.001629549 & 0.0056471651 & 0.0117692831 & 0.0042353480 & 0.0043448673 & 0.0112843821 & 0.0007878979 & 1.798561e-03 & 0.0042946382 & 0.0005520287 & 0.034192673 & 0.030644153 & 4.600209e-03 & 0.0020551578 & 0.0023009076 & 0.0023197036 & 0.0013385089 & 0.0005600045 & 1.932805e-02 & 1.358901e-03 & 0.0007223942 & 0.0012103746 & 7.335435e-03 & 8.869180e-03 & 0.0008102907 & 0.0018095238 & 6.109855e-04 & 0.0017764417 & 0.0106397872 & 1.362027e-03 & 0.0022216612 & 0.0022549252 & 0.0815952326 & 0.0060878524 & 0.0858194864 & 0.0019540791 & 0.0024484299 & 0.0068301226 & 0.0128441256 & 0.0436373616 & 0.0055177356 & 0.0021015467 & 0.01290600 & 0.0045508982 & 0.0048148148 & 0.0220701619 & 0.0079290312 & 0.0020422056 & 0.0678688525 & 0.0046751461 & 9.059403e-03 & 5.635920e-03 & 6.872666e-03 & 0.0219060293 & 1.192403e-03 & 0.002931430 & 0.0023794744 & 0.0061254153 & 0.0206391478 & 0.0073510108 & 0.0054844607 & 0.0085451827 & 0.0107571802 & 0.0015776188 & 0.002077706 & 3.073345e-03 & 5.638427e-03 & 3.574129e-03 & 0.0021619025 & 0.0025582521 & 0.0083906696 & 0.0086627815 & 0.0036402858 & 1.319236e-02 & 7.705644e-03 & 0.002088555 & 0.0037201063 & 0.0025555840 & 1.228132e-02 & 0.0080249666 & 0.0012531328 & 0.0028038522 & 9.531071e-03 & 8.751166e-03 & 0.0177263969 & 0.0023757672 & 5.293954e-03 & 0.0109665428 & 0.0037391564 & 1.592638e-03 & 2.668392e-03 & 0.0048641703 & 0.0012230376 & 0.0012656893 & 0.0044756383 & 1.769627e-03 & 0.0016296598 & 0.0073745002 & 0.0040840140 & 0.0035520537 & 1.188911e-02 & 2.086957e-03 & 4.888148e-03 & 0.0208900331 & 1.189601e-02 & 0.0051877133 & 1.052536e-02 & 0.0083143257 & 3.433321e-03 & 2.486834e-03 & 0.003345342 & 0.0020942408 & 1.004041e-02 & 3.604841e-03 & 0.0046107656 & 0.002590476 & 0.0158489294 & 0.0040911748 & 0.0123504940 & 2.765487e-03 & 1.713129e-03 & 1.945886e-03 & 2.637870e-03 & 9.467153e-03 & 6.454099e-03 & 0.0060781476 & 3.340757e-03 & 0.0034666050 & 0.0019051439 & 0.0010685188 & 0.0024204456 & 0.0016875264 & 0.00351025 & 0.0026057824 & 0.0056675063 & 0.0059803503 & 0.0028054863 & 0.0096223675 & 0.0059288538 & 2.367223e-03 & 0.0061728395 & 0.0058857190 & 1.831346e-02 & 6.473347e-03 & 6.569686e-03 & 0.0066505066 & 0.0044859360 & 0.0003533034 & 0.0059292379 & 1.463727e-03 & 0.0041257806 & 0.0036043252 & 0.0025090955 & 3.686728e-03 & 0.0045218395 & 0.0008979885 & 1.971803e-03 & 0.0047021944 & 0.0038011158 & 0.0276566962 & 0.0032725573 & 0.0199560775 & 0.002955618 & 0.0838254023 & 4.654916e-03 & 0.0021940760 & 2.200758e-03 & 6.012204e-03 & 0.0029956136 & 2.408007e-03 & 4.514673e-03 & 5.469778e-03 & 0.0035149385 & 0.002445339 & 0.0059559261 & 0.0015524242 & 0.0117181053 & 0.0027467497 & 0.0141178950 & 0.0119776657 & 0.0012982798 & 0.0023462205 & 0.0029608651 & 0.0033353186 & 0.0017521902 & 9.343988e-03 & 0.0015564202 & 0.0023551242 & 0.0030099759 & 0.0018181818 & 5.309863e-03 & 2.147040e-03 & 0.003986254 & 3.277435e-03 & 9.419931e-03 & 0.0077744103 & 0.0343921961 & 0.0014928556 & 0.0237452277 & 0.006490441 & 1.496750e-02 & 2.226970e-02 & 0.0215053763 & 0.0024434293 & 0.0066193853 & 0.0021207585 & 0.0048142019 & 0.0051933853 & 0.0093757710 & 0.0043870339 & 0.0068728522 & 0.002946256 & 0.0025026344 & 0.0022948939 & 0.0033296337 & 0.0219767166 & 0.0031573408 & 0.0022223719 & 3.392762e-03 & 0.0017684669 & 0.0038181818 & 0.002078192 & 0.0049668874 & 2.782780e-03 & 0.0016047501 & 0.002680965 & 0.0102957284 & 0.0014549687 & 0.0011478421 & 0.003470845 & 0.0147148988 & 0.0039942483 & 0.0074644835 & 4.984177e-03 & 0.0098975517 & 0.0077081192 & 0.0066624365 & 0.0113507378 & 0.0042357924 & 0.0056491856 & 0.0101153505 & 0.0051163981 & 0.0082091821 & 0.003278689 & 0.0073072309 & 0.0057589469 & 0.0165562914 & 0.0046709570 & 0.0052631579 & 5.377234e-03 & 2.086328e-03 & 4.915230e-03 & 0.0026702270 & 0.0044302921 & 0.005347594 & 0.0021909594 & 0.0085123632 & 0.0282092705 & 0.0045690294 & 0.0021117094 & 0.0037626133 & 0.003540450 & 2.588165e-02 & 0.0399013674 & 0.0034557235 & 3.182180e-03 & 0.0028588932 & 2.386501e-02 & 0.0044024482 & 0.0034097954 & 0.002620545 & 0.0031479538 & 0.0015972478 & 0.0029863856 & 0.0030051610 & 0.0015436863 & 0.0169222634 & 0.0019345238 & 0.0024948025 & 0.0006357279 & 0.0023102897 & 3.958058e-03 & 0.0013471503 & 0.0023114100 & 1.097038e-03 & 0.0011161960 & 6.967638e-03 & 0.0031394094 & 3.560529e-03 & 0.0012127512 & 0.0028338647 & 0.0046796256 & 0.0011707888 & 0.0056888215 & 0.0281136951 & 0.0013078734 & 0.0081676518 & 0.0019931997 & 0.0063719243 & 0.0026534797 & 0.0064040365 & 0.008584548 & 4.937828e-03 & 0.0044642857 & 0.0027214587 & 0.0051099228 & 3.340757e-03 & 0.0037708745 & 0.0041247744 & 0.0014598540 & 0.0029698770 & 0.0028979907 & 0.0034722222 & 0.0088448611 & 2.463682e-03 & 0.0028021267 & 5.225050e-04 & 1.750023e-03 & 0.0010685188 & 8.513932e-04 & 0.0012438916 & 9.982254e-04 & 0.0023840744 & 1.431981e-03 & 0.0043492097 & 0.0028985507 & 0.0016875264 & 0.0016623377 & 0.002380180 & 0.0020150692 & 0.00351025 & 0.0020101691 & 2.390015e-03 & 0.0027497709 & 0.0026057824 & 0.0129315756 & 0.0017554729 & 0.0020966558 & 0.0056675063 & 0.0026974007 & 3.890240e-03 & 0.0037372431 & 0.0059803503 & 0.00911586 & 5.290362e-03 & 0.0040594301 & 1.515611e-03 & 1.687621e-03 & 5.851476e-03 & 0.002672554 & 0.0062806897 & 5.056991e-03 & 0.0055427252 & 0.0056698526 & 0.0059288538 & 0.0037555480 & 0.0041626641 & 0.0034619189 & 2.367223e-03 & 0.0034053894 & 1.361812e-03 & 2.454188e-03 & 0.0061728395 & 0.0042006721 & 0.0057068125 & 0.0018706791 & 0.0036314588 & 0.0011546642 & 1.428473e-02 & 0.0065442937 & 0.0032840722 & 0.0043868811 & 0.008761431 & 1.392758e-03 & 0.0009342676 & 4.144666e-03 & 0.0014934041 & 1.436868e-03 & 0.002887789 & 0.0005780904 & 0.0012772751 & 0.0028158438 & 0.0004863137 & 0.0042006425 & 0.0042063316 & 0.0018957346 & 3.946946e-03 & 0.0066405071 & 0.0677684935 & 0.006714092 & 1.124355e-02 & 0.0001148831 & 0.0061433447 & 2.327309e-03 & 0.0047741034 & 0.00089982 & 0.0021776788 & 0.0075120192 & 5.756943e-03 & 0.0034824047 & 4.251386e-03 & 6.011060e-03 & 9.156997e-03 & 0.0007279786 & 0.0057817393 & 5.856651e-03 & 4.521964e-03 & 0.0304213218 & 0.0035409625 & 0.068312947 & 0.0017342583 & 1.196172e-03 & 4.128742e-03 & 0.0021831257 & 0.0031719180 & 0.0247799907 & 0.0046216060 & 0.0141843972 & 0.0015508685 & 0.0074445703 & 0.0028300316 & 3.804994e-03 & 0.0058554791 & 0.0225876758 & 0.006136884 & 0.0308500164 & 0.0028039567 & 8.012788e-02 & 3.177774e-03 & 0.0050942435 & 0.0055235540 & 0.0115266708 & 0.0026404443 & 2.292410e-03 & 1.742282e-03 & 0.0005998146 & 0.0020356234 & 0.0042509339 & 1.474843e-03 & 2.375232e-02 & 3.348713e-03 & 0.0024785707 & 0.0041309899 & 0.0017858472 & 1.478529e-03 & 5.325914e-02 & 0.0036925143\\\\\n",
       "\tAlcaligenes faecalis et rel. & 0.0001317003 & 9.854158e-05 & 0.0001402328 & 0.0001842469 & 8.333333e-05 & 0.0001263584 & 0.0001687764 & 0.0001148897 & 0.0001440092 & 0.0001064623 & 0.0001441338 & 9.035056e-05 & 0.0001132759 & 0.000113688 & 0.0001866716 & 0.0001866716 & 0.0001081198 & 0.0001511259 & 0.0001223242 & 0.0002824061 & 0.0001186521 & 0.0001120699 & 9.975062e-05 & 0.0001478087 & 9.202172e-05 & 0.0001120323 & 0.000272220 & 6.891799e-05 & 0.0002187227 & 0.0001549187 & 0.0001214329 & 1.152605e-04 & 0.0002727769 & 0.0004202564 & 0.0002192742 & 0.000165755 & 0.0002282844 & 2.095118e-04 & 9.840583e-05 & 0.0001282545 & 0.0001342642 & 0.0001183432 & 6.608075e-05 & 0.0004026575 & 5.959476e-05 & 0.0001337793 & 0.0001188213 & 7.859164e-05 & 9.547451e-05 & 0.0001163873 & 0.0002176752 & 0.0001552233 & 0.0002044572 & 0.0001017605 & 0.0001474491 & 1.512745e-04 & 0.000443341 & 0.0002224199 & 0.0001562012 & 0.0001151278 & 0.0001280328 & 0.0001304291 & 4.782629e-05 & 0.000249097 & 0.0001742464 & 0.0001243936 & 2.762177e-04 & 0.0001446132 & 0.0001297774 & 0.0002340550 & 1.391304e-04 & 0.0001466921 & 0.0003241491 & 0.0001663063 & 0.0001192179 & 1.541545e-04 & 7.621951e-05 & 0.0002188663 & 8.112932e-05 & 0.0004935834 & 1.885903e-04 & 0.0001093972 & 0.0001514348 & 1.714825e-04 & 0.0002169433 & 0.0001243626 & 0.0002277645 & 2.387205e-04 & 4.523659e-05 & 0.000492126 & 0.0001060558 & 0.0004607446 & 0.000130719 & 0.0002176515 & 0.0001745962 & 0.0001086366 & 0.000217770 & 8.549201e-05 & 0.000119782 & 1.673220e-04 & 1.321877e-04 & 0.0001512402 & 1.802127e-04 & 2.655337e-04 & 1.343635e-04 & 0.0002976855 & 1.895196e-04 & 1.346076e-04 & 1.888574e-04 & 1.690188e-04 & 0.0001597444 & 0.0001114703 & 0.0001931621 & 0.0005568962 & 0.0003813155 & 0.000164582 & 1.855288e-04 & 0.0003052503 & 0.0001640151 & 0.0001414927 & 0.0001388696 & 9.635768e-05 & 0.0001178689 & 0.0001295001 & 6.582845e-05 & 7.697637e-05 & 6.697475e-05 & 0.000153069 & 6.179706e-05 & 0.0001766784 & 0.0001376084 & 0.0001025746 & 0.0000921574 & 0.0001190902 & 0.0001066382 & 7.698526e-05 & 0.0001136105 & 0.0001614075 & 7.346999e-05 & 0.0001454545 & 0.0001703578 & 0.0000799808 & 0.000511509 & 0.0001453488 & 0.0001716738 & 0.0001712622 & 8.014747e-05 & 8.881389e-05 & 5.276488e-05 & 0.0003522987 & 0.0007257947 & 6.780121e-05 & 8.135373e-05 & 0.0001061571 & 0.0001475579 & 1.135525e-04 & 0.0003359651 & 0.0005263158 & 0.0001022913 & 0.0001594515 & 0.0001577453 & 5.610728e-05 & 0.0001465416 & 9.576709e-05 & 0.0001048438 & 0.0000982801 & 8.833922e-05 & 0.000150184 & 1.253133e-04 & 0.0001908215 & 0.0003277077 & 0.0000639141 & 0.000245459 & 0.0001474926 & 1.681944e-04 & 0.0007270965 & 0.0001926597 & 7.396723e-05 & 1.379501e-04 & 1.324854e-04 & 0.0001364256 & 0.0002592689 & 0.0001805217 & 0.0002290251 & 9.004142e-05 & 0.000119154 & 1.008810e-03 & 1.371930e-04 & 0.0001831334 & 1.669867e-04 & 0.0001962516 & 0.0001270648 & 0.0001602393 & 0.0002824061 & 0.0001563722 & 0.0001017812 & 0.0001162656 & 9.738995e-05 & 8.682817e-05 & 0.000062251 & 8.463101e-05 & 8.640055e-05 & 0.0001490313 & 0.000212766 & 0.0001586798 & 0.0001367989 & 0.0002081599 & 0.0002516990 & 9.706853e-05 & 0.0007869368 & 0.0002067397 & 0.0001829157 & 0.0001867762 & 6.607202e-05 & 0.0001582654 & 1.661682e-04 & 0.0001513088 & 0.0004263483 & 4.725228e-05 & 0.0001603978 & 0.0002272986 & 8.487523e-05 & 0.0002644104 & 0.0001054407 & 0.0002047292 & 0.000224165 & 0.0003307425 & 0.0001832509 & 0.000128999 & 6.562972e-05 & 0.0001683785 & 0.0003661662 & 2.752925e-04 & 0.0001149425 & 0.0001359619 & 0.0002063558 & 0.0001539409 & 0.0001979022 & 0.0002708192 & 0.0001278364 & 9.339684e-05 & 0.0001034982 & 0.0001319261 & 0.0001258178 & 0.0000895175 & 7.213446e-05 & 0.0001384275 & 0.0007636502 & 1.921414e-04 & 1.115511e-04 & 0.0002140411 & 0.0001989258 & 0.0002730003 & 0.0001023541 & 0.0001029866 & 0.0000831117 & 1.278037e-04 & 0.0001473079 & 9.561144e-05 & 0.0002311604 & 0.0001012658 & 5.733616e-05 & 6.094217e-05 & 0.0000800064 & 0.0002121341 & 0.000241080 & 0.0002459117 & 0.0001871958 & 0.0002316781 & 1.636260e-04 & 0.0002526529 & 1.556057e-04 & 1.695346e-04 & 1.292407e-04 & 0.0003003003 & 0.0002934703 & 0.000319132 & 0.0003642987 & 0.0002040608 & 1.156404e-04 & 0.0012704174 & 0.000670466 & 0.0001493206 & 0.0001754940 & 1.096191e-04 & 0.0001774465 & 8.836051e-04 & 0.0003797949 & 1.758706e-04 & 1.155713e-04 & 0.0003022366 & 0.0001797914 & 0.0003470415 & 1.179245e-04 & 0.0002786291 & 0.0002046664 & 0.0004239084 & 0.0002665956 & 0.0002858776 & 0.0001521144 & 2.339729e-04 & 0.0002983739 & 3.376382e-04 & 7.788162e-05 & 1.723989e-04 & 1.658925e-04 & 0.0003732736 & 0.0003017198 & 1.131350e-04 & 0.0001044768 & 0.000136407 & 0.000236016 & 0.0002437835 & 0.0001035733 & 8.594757e-05 & 9.737098e-05 & 0.0001481921 & 0.0001560915 & 0.0002678452 & 0.000128866 & 1.745962e-04 & 0.0001293326 & 1.982161e-04 & 0.000148225 & 9.451796e-05 & 1.171509e-04 & 0.0002211655 & 0.0003194888 & 0.0002021631 & 1.468537e-04 & 1.343183e-04 & 1.734906e-04 & 0.0001425314 & 1.366214e-04 & 1.651255e-04 & 1.975309e-04 & 0.0003106555 & 0.0001036699 & 8.886519e-05 & 0.0001296933 & 0.0001373438 & 0.0001686198 & 0.0003762227 & 0.0001942502 & 0.0003127932 & 0.0002280502 & 0.0001446969 & 6.194252e-05 & 0.0001386386 & 0.0003818737 & 8.586639e-05 & 6.914195e-05 & 0.0004033885 & 0.0001743223 & 6.216199e-05 & 0.0001512173 & 0.0001804077 & 0.0002553463 & 0.0001583155 & 0.000853647 & 0.009072362 & 0.0001631055 & 2.562132e-04 & 2.244921e-04 & 0.0003031528 & 0.002340848 & 0.00166044 & 0.0010359766 & 2.278077e-04 & 0.0002340824 & 0.0001888574 & 0.0003637686 & 0.0004790802 & 0.000199223 & 9.342302e-05 & 0.0001384658 & 0.0002325311 & 0.006035902 & 0.0002888295 & 0.000135925 & 0.0002935708 & 9.903441e-05 & 0.0001727563 & 9.186955e-05 & 5.506305e-05 & 1.772421e-04 & 0.0001511944 & 1.884126e-04 & 0.000831318 & 0.0001648669 & 0.0001898434 & 0.000167364 & 0.0001489758 & 1.560915e-04 & 0.0002327747 & 0.0002144082 & 0.000192123 & 0.0003484928 & 9.594167e-05 & 8.063216e-05 & 0.0001342012 & 0.0001424163 & 0.0001184975 & 0.0001141748 & 5.764519e-04 & 0.0001452011 & 0.0001624695 & 0.0001401443 & 8.929767e-05 & 0.0001208532 & 0.0001503194 & 1.912777e-04 & 0.000464064 & 0.0006064281 & 1.926287e-04 & 3.597446e-04 & 0.0006069189 & 0.0003646973 & 0.0004285102 & 0.0003599712 & 0.0002807018 & 2.002938e-04 & 0.0003943218 & 0.0002689256 & 0.0008000640 & 1.745962e-04 & 8.776549e-05 & 0.0004439652 & 0.0001647039 & 0.00024667 & 0.001155402 & 0.0003513292 & 0.0001126063 & 0.0002335085 & 1.551109e-04 & 0.0001949394 & 0.0005919787 & 2.171553e-04 & 0.0003805899 & 0.0002029427 & 2.238806e-04 & 0.0008997219 & 0.000688172 & 0.00294587 & 0.0002750275 & 0.0002988643 & 0.000792969 & 7.534092e-05 & 2.128565e-04 & 2.860685e-04 & 0.0002399232 & 1.960016e-04 & 0.0003162222 & 0.000169415 & 0.0002495217 & 0.0003156566 & 0.0003330003 & 0.0002866972 & 0.0004783163 & 0.001106020 & 0.0001125281 & 8.474576e-05 & 0.0014957620 & 0.0003429355 & 0.001980002 & 0.0004752852 & 6.128202e-05 & 0.0001229559 & 0.0003238971 & 0.0001230466 & 0.0000879817 & 0.0002 & 0.000315557 & 0.0001071008 & 0.0003559352 & 0.001179593 & 0.0001300137 & 0.0001525902 & 6.437906e-05 & 0.0001428878 & 0.0001209336 & 0.0001887327 & 0.0006595063 & 0.0002434275 & 0.0001703868 & 0.0001198753 & 0.0003593503 & 0.0001440092 & 0.0001045642 & 0.0005280528 & 0.0002670465 & 0.0003811339 & 0.001140251 & 0.0001351169 & 0.0001576541 & 0.0006712053 & 0.0002231396 & 0.0004468275 & 0.0002298058 & 0.0001488317 & 0.0002112379 & 0.0003635042 & 0.0005732849 & 0.0006951686 & 0.0002074258 & 0.001655081 & 0.0009159187 & 0.0005320092 & 9.437524e-05 & 0.0001344719 & 9.632983e-05 & 0.000141844 & 0.0007361963 & 0.0003533153 & 0.0002117298 & 0.0001196745 & 0.0001767409 & 0.0001743375 & 0.0002643929 & 0.0002565089 & 0.0003689697 & 8.758485e-05 & 0.0003024194 & 0.0001113214 & 6.615507e-05 & 0.0001016105 & 0.0001289574 & 8.871934e-05 & 0.0001168702 & 0.0001229407 & 0.0001434309 & 9.327488e-05 & 0.0001364256 & 6.629541e-05 & 0.0001809136 & 0.0003371923 & 0.0002029633 & 9.366804e-05 & 0.000114771 & 0.0004225947 & 0.0001251016 & 0.0002273588 & 0.0001040366 & 0.0001381215 & 0.0001273237 & 7.130633e-05 & 0.0001472429 & 0.000158554 & 8.320506e-05 & 0.0001401935 & 0.0002993116 & 7.593591e-05 & 0.0001271941 & 0.0001638136 & 0.0001539646 & 8.382932e-05 & 9.775171e-05 & 0.000146092 & 0.0001178759 & 6.870019e-05 & 0.0001324591 & 9.923588e-05 & 8.627755e-05 & 0.0003195569 & 0.0000668628 & 6.684939e-05 & 5.107252e-05 & 0.0001020825 & 0.0001976024 & 0.0001074922 & 0.000125565 & 9.720062e-05 & 0.0001708964 & 6.864831e-05 & 7.097736e-05 & 0.0002352019 & 5.553396e-05 & 5.763689e-05 & 6.190417e-05 & 0.0001729954 & 0.000125 & 9.379103e-05 & 0.0001357405 & 8.948546e-05 & 8.306338e-05 & 6.549646e-05 & 4.985293e-05 & 8.187996e-05 & 6.954103e-05 & 9.354537e-05 & 0.0002517623 & 0.0001042264 & 0.0001052078 & 8.392078e-05 & 4.463489e-05 & 7.480551e-05 & 0.0001007658 & 0.0002826456 & 9.282465e-05 & 0.0001704739 & 0.000168691 & 0.0001330672 & 7.305669e-05 & 9.375586e-05 & 7.190106e-05 & 0.0000898836 & 5.144562e-05 & 0.0001090453 & 0.0002252633 & 2.380480e-04 & 3.021604e-04 & 9.291953e-05 & 0.0001202863 & 0.0001797753 & 0.0004787552 & 0.0001476451 & 0.000279616 & 5.273427e-05 & 0.0001009285 & 0.000144113 & 0.0001480166 & 0.000152439 & 9.492169e-05 & 0.0002000533 & 0.000191957 & 0.0001555815 & 2.626395e-04 & 0.0001470156 & 0.0001198322 & 0.0004968327 & 0.0002723312 & 0.0001005429 & 0.0001822988 & 0.0001467136 & 0.0001355656 & 0.0001964444 & 0.0002295948 & 0.0002314547 & 0.0001140554 & 9.859016e-05 & 0.0001553519 & 9.540619e-05 & 0.0001450186 & 9.713453e-05 & 0.0001360915 & 9.862906e-05 & 0.0001859427 & 0.000168691 & 0.0002473819 & 0.0001109139 & 0.0002329645 & 0.0002103787 & 9.983029e-05 & 8.323276e-05 & 0.0002425811 & 0.0000760543 & 9.574876e-05 & 0.0001507045 & 0.0001574307 & 0.0001421969 & 0.0001390434 & 0.0003916084 & 9.411765e-05 & 0.0001409741 & 0.0001835368 & 0.0001441441 & 0.0001102293 & 0.0001688619 & 7.627765e-05 & 0.0002862213 & 0.0001514807 & 2.416432e-04 & 0.0007937962 & 0.0001448541 & 0.0001862718 & 9.053871e-05 & 0.000149098 & 0.0001808318 & 0.0002906695 & 0.0003085658 & 0.0001840434 & 9.185267e-05 & 0.000175531 & 8.232485e-05 & 7.004763e-05 & 9.367681e-05 & 5.312367e-05 & 0.0001002607 & 6.416838e-05 & 0.0001292741 & 8.120179e-05 & 0.0001526135 & 0.0001239081 & 0.0001672241 & 0.0001069748 & 0.000159821 & 1.859082e-04 & 0.0001287664 & 0.0001855632 & 9.806325e-05 & 9.131169e-05 & 2.787845e-04 & 0.0002973536 & 0.0003026634 & 0.000362122 & 0.0004517732 & 0.0001945336 & 0.0009157509 & 0.0001570434 & 0.0001567275 & 0.0003151592 & 1.498801e-04 & 0.0005205622 & 0.0001380072 & 0.001492537 & 0.001094434 & 9.484966e-05 & 0.0002651816 & 0.0003834846 & 0.0001038673 & 0.0005354036 & 0.0001120009 & 1.510004e-04 & 3.019780e-04 & 0.0001031992 & 0.0001152738 & 1.286918e-04 & 9.640413e-05 & 0.0001012863 & 0.0000952381 & 6.109855e-05 & 0.0001366494 & 0.0001399972 & 9.080178e-05 & 0.0001009846 & 0.0002373606 & 0.0001528001 & 0.0001873185 & 0.0001888218 & 0.0001954079 & 0.0001224215 & 0.0001751313 & 0.0001454052 & 0.0001829659 & 0.0001433178 & 0.0001681237 & 0.00021510 & 0.0003193613 & 0.0007407407 & 0.0001927525 & 0.0001570105 & 0.0001134559 & 0.0001639344 & 0.0001375043 & 1.216027e-04 & 1.252427e-04 & 1.082310e-04 & 0.0002047292 & 1.703432e-04 & 0.000254907 & 0.0006207325 & 0.0002076412 & 0.0004438526 & 0.0002625361 & 0.0007834944 & 0.0002136296 & 0.0003133159 & 0.0002103492 & 0.001454394 & 2.491901e-04 & 1.427450e-04 & 2.749330e-04 & 0.0007206342 & 0.0001382839 & 0.0001678134 & 0.0003150102 & 0.0002696508 & 1.940052e-04 & 2.889617e-04 & 0.000278474 & 0.0001771479 & 0.0002555584 & 1.767097e-04 & 0.0002229157 & 0.0005370569 & 0.0003657199 & 1.906214e-04 & 2.151926e-04 & 0.0003853565 & 0.0003959612 & 1.393146e-04 & 0.0002788104 & 0.0002991325 & 1.769598e-04 & 8.086035e-05 & 0.0001835536 & 0.0001111852 & 0.0002109482 & 0.0002034381 & 2.413127e-04 & 0.0002037075 & 0.0001776988 & 0.0002333722 & 0.0001291656 & 1.643655e-04 & 2.608696e-04 & 1.150152e-04 & 0.0001471129 & 6.683152e-05 & 0.0004095563 & 1.814717e-04 & 0.0002207343 & 9.035056e-05 & 9.752292e-05 & 0.000171556 & 0.0003490401 & 1.836660e-04 & 1.716591e-04 & 0.0001072271 & 0.000152381 & 0.0001686056 & 0.0003896357 & 0.0001300052 & 1.229105e-04 & 7.786949e-05 & 9.266123e-05 & 1.648669e-04 & 6.396725e-05 & 1.926597e-04 & 0.0002894356 & 2.569813e-04 & 0.0003466605 & 0.0003008122 & 0.0002003473 & 0.0001423792 & 0.0002812544 & 0.00056164 & 0.0002481697 & 0.0003778338 & 0.0004271679 & 0.0003117207 & 0.0003631082 & 0.0002635046 & 1.820941e-04 & 0.0004208754 & 0.0000817461 & 8.517888e-05 & 6.605456e-05 & 9.385265e-05 & 0.0001243085 & 0.0001212415 & 0.0001009438 & 0.0001944012 & 9.148294e-05 & 0.0001115076 & 0.0002002403 & 0.0001254548 & 9.964129e-05 & 0.0001924187 & 0.0001197318 & 9.859016e-05 & 0.0001567398 & 0.0001226166 & 0.0001503081 & 0.0002337541 & 0.0001909672 & 0.000190685 & 0.0002315619 & 1.241311e-04 & 0.0001994615 & 1.833965e-04 & 8.973439e-05 & 0.0002139724 & 7.525021e-05 & 2.604619e-04 & 2.077131e-04 & 0.0002703799 & 0.000287687 & 0.0001191185 & 0.0001194172 & 0.0001650437 & 0.0001831166 & 0.0001053574 & 0.0002701729 & 0.0003245699 & 0.0002040192 & 0.0002574665 & 0.0002382370 & 0.0001251564 & 6.444129e-05 & 0.0001945525 & 0.0000713674 & 0.0002579979 & 0.0006493506 & 6.037242e-03 & 6.506181e-05 & 0.000137457 & 5.462391e-05 & 1.652619e-04 & 0.0002635393 & 0.0002501251 & 0.0001421767 & 0.0001862371 & 0.000236016 & 2.565857e-04 & 2.465281e-04 & 0.0003644979 & 0.0003187082 & 0.0003152088 & 0.0002495010 & 0.0003008876 & 0.0002733361 & 0.0001233654 & 0.0004874482 & 0.0006248047 & 0.000101595 & 0.0002634352 & 0.0003824823 & 0.0002774695 & 0.0003563792 & 0.0005262235 & 0.0002020338 & 1.995742e-04 & 0.0004081077 & 0.0003636364 & 0.000259774 & 0.0003679176 & 1.636929e-04 & 0.0008826125 & 0.000357462 & 0.0004381161 & 0.0002909937 & 0.0002295684 & 0.000396668 & 0.0002299203 & 0.0014379294 & 0.0025282928 & 4.746835e-04 & 0.0006945650 & 0.0007708119 & 0.0006345178 & 0.0011350738 & 0.0001176609 & 0.0003766124 & 0.0014196983 & 0.0005116398 & 0.0003040438 & 0.000289296 & 0.0002181263 & 0.0008227067 & 0.0006622517 & 0.0003113971 & 0.0007518797 & 1.654533e-04 & 9.272567e-05 & 4.274113e-04 & 0.0002966919 & 0.0002768933 & 0.000396118 & 0.0003459410 & 0.0008107013 & 0.0004970797 & 0.0002469746 & 0.0002111709 & 0.0003420558 & 0.000354045 & 1.793186e-04 & 0.0004483300 & 0.0004319654 & 1.988862e-04 & 0.0002042067 & 1.864454e-04 & 0.0006442607 & 0.0010849349 & 0.001048218 & 0.0004197272 & 0.0002457304 & 0.0002635046 & 0.0003266479 & 0.0004631059 & 0.0007050943 & 0.0004464286 & 0.0002079002 & 0.0002542912 & 0.0002369528 & 2.083189e-04 & 0.0003108808 & 0.0003151923 & 1.994615e-04 & 0.0002232392 & 1.151676e-04 & 0.0001962131 & 1.453277e-04 & 0.0001732502 & 0.0001771165 & 0.0005399568 & 0.0005853944 & 0.0001896274 & 0.0004134367 & 0.0007847240 & 0.0004298764 & 0.0002344941 & 0.0003921184 & 0.0004824509 & 0.0005821851 & 0.000299461 & 8.977870e-05 & 0.0001409774 & 0.0002721459 & 0.0001188354 & 2.569813e-04 & 0.0003591309 & 0.0002577984 & 0.0003649635 & 0.0002121341 & 0.0003863988 & 0.0003654971 & 0.0005306917 & 1.699091e-04 & 0.0002155482 & 1.492872e-04 & 1.842130e-04 & 0.0002003473 & 2.321981e-04 & 0.0000888494 & 1.109139e-04 & 0.0001788056 & 9.546539e-05 & 0.0001591174 & 0.0002022245 & 0.0002812544 & 0.0003116883 & 0.000216380 & 0.0001752234 & 0.00056164 & 0.0003547357 & 1.770382e-04 & 0.0003666361 & 0.0002481697 & 0.0003766478 & 0.0003097893 & 0.0001048328 & 0.0003778338 & 0.0001226091 & 2.084057e-04 & 0.0002874802 & 0.0004271679 & 0.00019604 & 1.824263e-04 & 0.0001623772 & 2.273416e-04 & 5.062864e-04 & 2.581533e-04 & 0.000232396 & 0.0004567774 & 4.816182e-04 & 0.0003464203 & 0.0004859874 & 0.0002635046 & 0.0004552179 & 0.0003202049 & 0.0002472799 & 1.820941e-04 & 0.0001480604 & 2.150229e-04 & 1.090750e-04 & 0.0004208754 & 0.0002400384 & 0.0003566758 & 0.0001626678 & 0.0002075119 & 0.0001215436 & 2.070251e-04 & 0.0001596169 & 0.0004561211 & 0.0014622937 & 0.008857184 & 1.305710e-04 & 0.0002002002 & 1.703287e-04 & 0.0002489007 & 2.454649e-03 & 0.001237624 & 0.0004817420 & 0.0002128792 & 0.0003754458 & 0.0001389468 & 0.0002470966 & 0.0004427718 & 0.0001579779 & 1.376842e-04 & 0.0006036825 & 0.0006758417 & 0.007193670 & 2.457606e-04 & 0.0001148831 & 0.0001706485 & 9.903441e-05 & 0.0002328831 & 0.00009998 & 0.0001484781 & 0.0001502404 & 6.326311e-05 & 0.0001832845 & 9.242144e-05 & 8.014747e-05 & 6.990074e-05 & 0.0002426595 & 0.0002409058 & 2.788882e-04 & 9.228498e-05 & 0.0001346076 & 0.0001609528 & 0.000230787 & 0.0001334045 & 8.544087e-05 & 1.876701e-04 & 0.0002568383 & 0.0002114612 & 0.0002315887 & 0.0001444252 & 0.0002026342 & 0.0001033912 & 0.0001618385 & 0.0001664724 & 1.189061e-04 & 0.0001286918 & 0.0003962750 & 0.000104015 & 0.0003281917 & 0.0001557754 & 9.991008e-05 & 9.079354e-05 & 0.0001018849 & 0.0001578158 & 0.0001226242 & 0.0000910498 & 8.490406e-05 & 6.969127e-05 & 0.0000545286 & 0.0001696353 & 0.0001288162 & 5.672471e-05 & 6.864831e-05 & 7.441584e-05 & 0.0001032738 & 0.0001502178 & 0.0000744103 & 6.428388e-05 & 9.936407e-05 & 0.0001118944\\\\\n",
       "\tAllistipes et rel. & 0.0094824180 & 1.251478e-02 & 0.0047679147 & 0.0316904652 & 4.166667e-03 & 0.0072024261 & 0.0035443038 & 0.0010340074 & 0.0012960829 & 0.0024486320 & 0.0017296051 & 1.084207e-03 & 0.0235613956 & 0.001591633 & 0.0024267314 & 0.0042001120 & 0.0015136772 & 0.0022668883 & 0.0112538226 & 0.0025416549 & 0.0016611296 & 0.0010086294 & 1.581047e-02 & 0.0171458133 & 3.956934e-03 & 0.0315930988 & 0.009391588 & 1.860786e-03 & 0.0032808399 & 0.0017041053 & 0.0049787492 & 1.613647e-03 & 0.1481178396 & 0.0089304476 & 0.0103058875 & 0.003066468 & 0.0481680173 & 2.870312e-02 & 2.460146e-03 & 0.0141079903 & 0.0077873255 & 0.0525443787 & 9.713870e-03 & 0.0042279042 & 1.191895e-03 & 0.0100334448 & 0.0076045627 & 3.615215e-03 & 1.336643e-03 & 0.0024441341 & 0.0021767523 & 0.0009830807 & 0.0022490288 & 0.0054950646 & 0.0084046004 & 7.563724e-04 & 0.010374180 & 0.0024466192 & 0.0193689472 & 0.0013815335 & 0.0030087702 & 0.0012390766 & 1.195657e-03 & 0.009341138 & 0.0020038334 & 0.0171663142 & 3.019980e-02 & 0.0160520607 & 0.0049964311 & 0.0186073727 & 9.321739e-03 & 0.0061610679 & 0.0133981632 & 0.0044902711 & 0.0067954220 & 2.081085e-03 & 4.801829e-03 & 0.0100678485 & 1.711829e-02 & 0.0149720303 & 7.637907e-03 & 0.0030631222 & 0.0073445900 & 6.602075e-03 & 0.0037965072 & 0.0026116155 & 0.0079717572 & 1.400493e-02 & 1.221388e-03 & 0.008202100 & 0.0044543430 & 0.0026723185 & 0.007189542 & 0.0193709870 & 0.0046268005 & 0.0042368278 & 0.001851045 & 3.847140e-03 & 0.022159669 & 7.445829e-03 & 9.253139e-03 & 0.0051421658 & 3.243828e-03 & 7.806691e-03 & 1.269735e-02 & 0.0150331175 & 8.149341e-03 & 3.365190e-03 & 9.065156e-03 & 1.943717e-03 & 0.0024760383 & 0.0133764352 & 0.0066640912 & 0.0100241322 & 0.0030505243 & 0.010450955 & 3.896104e-03 & 0.0103785104 & 0.0040183697 & 0.0024053767 & 0.0054159145 & 3.179803e-03 & 0.0009429514 & 0.0019425019 & 5.463761e-03 & 1.077669e-03 & 5.826803e-03 & 0.004209398 & 9.516747e-03 & 0.0023851590 & 0.0012384753 & 0.0023592163 & 0.0010598102 & 0.0164344409 & 0.0039456145 & 8.121945e-03 & 0.0228925244 & 0.0147687838 & 5.583719e-03 & 0.0187636364 & 0.0040034072 & 0.0162361033 & 0.007672634 & 0.0015988372 & 0.0031759657 & 0.0213221442 & 5.369881e-03 & 9.591900e-03 & 8.442381e-04 & 0.0121543069 & 0.0075482654 & 1.288223e-03 & 8.379434e-03 & 0.0039278132 & 0.0030987162 & 1.760064e-03 & 0.0062153536 & 0.0047368421 & 0.0041939444 & 0.0058199793 & 0.0106740982 & 5.049655e-03 & 0.0063012896 & 8.762689e-03 & 0.0017823443 & 0.0051597052 & 3.621908e-03 & 0.010062326 & 8.771930e-04 & 0.0137391470 & 0.0026216615 & 0.0051770421 & 0.005645557 & 0.0030973451 & 4.036666e-03 & 0.0350218129 & 0.0022155862 & 7.507674e-03 & 8.414954e-03 & 1.139375e-02 & 0.0115961801 & 0.0185377236 & 0.0153443452 & 0.0135888236 & 5.852692e-03 & 0.002383080 & 9.348309e-03 & 2.057895e-03 & 0.0107133046 & 1.294147e-03 & 0.0067706800 & 0.0111817027 & 0.0071039419 & 0.0036712793 & 0.0128225176 & 0.0060050891 & 0.0044180909 & 2.434749e-03 & 7.727707e-03 & 0.008901892 & 2.454299e-03 & 1.987213e-03 & 0.0058122206 & 0.009680851 & 0.0011107585 & 0.0034199726 & 0.0167568693 & 0.0049081299 & 3.106193e-03 & 0.0058036593 & 0.0078561092 & 0.0108834827 & 0.0520171834 & 1.559300e-02 & 0.0333148690 & 1.894317e-02 & 0.0062036617 & 0.0102323598 & 3.213155e-02 & 0.0072179004 & 0.0075008524 & 2.885758e-03 & 0.0074034902 & 0.0569380008 & 0.0024567509 & 0.015915714 & 0.0152141558 & 0.0038482683 & 0.002321981 & 1.299468e-02 & 0.0020205422 & 0.0075064079 & 1.025465e-02 & 0.0016091954 & 0.0099252209 & 0.0083574082 & 0.0252463054 & 0.0083118939 & 0.0031144211 & 0.0088846277 & 1.260857e-02 & 0.0193541710 & 0.0042216359 & 0.0020130851 & 0.0034016650 & 1.659093e-02 & 0.0040143965 & 0.0540282551 & 1.268133e-02 & 8.924089e-04 & 0.0158390411 & 0.0093495126 & 0.0066885067 & 0.0145342886 & 0.0012358393 & 0.0173703457 & 1.533644e-02 & 0.0132577153 & 8.126972e-03 & 0.0135228849 & 0.0121518987 & 1.129522e-02 & 1.115242e-02 & 0.0018401472 & 0.0236529487 & 0.004339441 & 0.0049182344 & 0.0156308499 & 0.0128967488 & 1.881698e-02 & 0.0150328449 & 2.411888e-03 & 2.458252e-03 & 9.499192e-03 & 0.0036036036 & 0.0060161409 & 0.008776129 & 0.0173041894 & 0.0053055811 & 3.180110e-03 & 0.0019963702 & 0.005028495 & 0.0016425265 & 0.0052999193 & 7.125240e-04 & 0.0097595599 & 2.731143e-03 & 0.0034181542 & 1.081604e-02 & 8.629324e-03 & 0.0014104372 & 0.0066522834 & 0.0020822488 & 7.075472e-03 & 0.0030649206 & 0.0029676627 & 0.0036032217 & 0.0059984004 & 0.0051457976 & 0.0053240037 & 3.860552e-03 & 0.0082052812 & 2.616696e-03 & 1.203271e-02 & 1.025774e-02 & 1.468149e-02 & 0.0035460993 & 0.0019108921 & 2.149564e-03 & 0.0102387296 & 0.003819397 & 0.017111164 & 0.0153583618 & 0.0107716209 & 1.289214e-03 & 3.018500e-03 & 0.0014819206 & 0.0008585031 & 0.0017409937 & 0.001159794 & 1.222174e-03 & 0.0014226591 & 1.189296e-03 & 0.002149263 & 3.119093e-03 & 6.443299e-04 & 0.0013269933 & 0.0020766773 & 0.0015162236 & 1.027976e-03 & 8.730692e-04 & 1.734906e-03 & 0.0015678449 & 8.675456e-03 & 9.907530e-04 & 1.580247e-03 & 0.0074557316 & 0.0294422559 & 1.173021e-02 & 0.0088839894 & 0.0050817195 & 0.0143326870 & 0.0112866817 & 0.0056332556 & 0.0088624752 & 0.0143671608 & 0.0086818116 & 7.247275e-03 & 0.0030500485 & 0.0227851324 & 3.262923e-03 & 1.866833e-03 & 0.0098830173 & 0.0722566025 & 8.702679e-03 & 0.0931498563 & 0.0071261050 & 0.0199170124 & 0.0664133618 & 0.009579816 & 0.028910014 & 0.0316968412 & 7.238022e-03 & 1.324503e-02 & 0.1378334681 & 0.003104168 & 0.06475716 & 0.0025428518 & 1.351659e-02 & 0.0128745318 & 0.0342776204 & 0.0978537650 & 0.0731395720 & 0.007570475 & 1.055680e-02 & 0.0009692606 & 0.0311591675 & 0.080112879 & 0.0478012853 & 0.071428571 & 0.0170271064 & 8.665511e-03 & 0.0183121707 & 3.105191e-02 & 3.358846e-03 & 2.906771e-02 & 0.1404596311 & 5.718323e-02 & 0.015643894 & 0.0689143517 & 0.0376839108 & 0.002426778 & 0.0111731844 & 2.575509e-03 & 0.0088454376 & 0.0346269297 & 0.012391931 & 0.0171632689 & 2.005181e-02 & 2.652798e-02 & 0.0526068577 & 0.0127225255 & 0.0272544140 & 0.0165553462 & 3.790171e-02 & 0.0381878902 & 0.0146222583 & 0.0212318688 & 1.419833e-02 & 0.0314822648 & 0.0130026306 & 5.547054e-03 & 0.061720517 & 0.0198099859 & 1.611660e-02 & 1.474953e-02 & 0.0396520332 & 0.0251641138 & 0.0177117555 & 0.0439164867 & 0.0513684211 & 3.404994e-03 & 0.0711093586 & 0.0290439693 & 0.0576846148 & 4.364906e-03 & 6.319115e-03 & 0.0134458045 & 0.0088940130 & 0.02923039 & 0.022645869 & 0.0241246048 & 0.0077135296 & 0.0133099825 & 4.730883e-03 & 0.0145814652 & 0.0467663164 & 2.316323e-03 & 0.0485252141 & 0.0240487062 & 3.194030e-02 & 0.0283003435 & 0.021505376 & 0.02945870 & 0.0149889989 & 0.0260011955 & 0.002973634 & 1.521887e-02 & 1.582234e-02 & 6.112330e-02 & 0.0314299424 & 2.450020e-02 & 0.0470117002 & 0.034730066 & 0.0514014805 & 0.0132575758 & 0.0113220113 & 0.0473050459 & 0.0377869898 & 0.026544478 & 0.0121905476 & 1.779661e-03 & 0.0317433937 & 0.0610425240 & 0.045045045 & 0.0693916350 & 5.576664e-03 & 0.0169064306 & 0.0526656734 & 0.0088593577 & 0.0207636812 & 0.0722 & 0.067608078 & 0.0243118775 & 0.0429791778 & 0.025213801 & 0.0364038224 & 0.0775921263 & 3.090195e-03 & 0.0376509252 & 0.0185633087 & 0.0555817684 & 0.0294893537 & 0.0171616358 & 0.0439597887 & 0.0149844162 & 0.0282449332 & 0.0484591014 & 0.0234223872 & 0.0285148515 & 0.0277728325 & 0.0392567889 & 0.044402710 & 0.0097284151 & 0.0605391770 & 0.0221497747 & 0.0166238982 & 0.0549597855 & 0.0748017925 & 0.0369846703 & 0.0240811153 & 0.0503816794 & 0.0289190394 & 0.0827250608 & 0.0068450529 & 0.052466071 & 0.0437809123 & 0.0035467281 & 8.210646e-03 & 0.0055133463 & 2.649070e-02 & 0.050921986 & 0.0537423313 & 0.0594747380 & 0.0187380902 & 0.0020344663 & 0.0501060445 & 0.0502092050 & 0.0147399035 & 0.0684878800 & 0.0156812102 & 1.007226e-02 & 0.0324596774 & 0.0081821218 & 2.957132e-02 & 0.0263679317 & 0.0732477916 & 9.759127e-03 & 0.0074796938 & 0.0222522744 & 0.0130522088 & 7.863072e-02 & 0.0154160982 & 1.418722e-02 & 0.0826775215 & 0.0289985388 & 0.0115689060 & 3.156613e-02 & 0.080224951 & 0.0260600085 & 0.0068180397 & 0.0181887078 & 0.0048897212 & 0.0368784530 & 0.0127960275 & 2.381631e-02 & 0.0424795701 & 0.037418741 & 7.738070e-03 & 0.0710079910 & 0.0086800359 & 2.786848e-02 & 0.0475069957 & 0.0411172086 & 0.0317167052 & 3.722022e-02 & 1.974585e-02 & 0.053615778 & 0.0232804856 & 6.210497e-02 & 0.0505993774 & 4.445768e-02 & 1.906734e-02 & 0.0794631444 & 0.0031425515 & 2.954743e-02 & 2.053115e-02 & 0.0224071049 & 0.0159399289 & 0.0140277330 & 0.073518332 & 2.614697e-02 & 0.0379389900 & 5.251596e-02 & 1.540209e-02 & 0.0575460604 & 3.043261e-02 & 2.622478e-02 & 5.261855e-03 & 0.0064873281 & 0.016250 & 2.091540e-02 & 0.0587756210 & 6.174497e-03 & 5.997176e-02 & 1.277181e-02 & 3.065955e-02 & 2.309015e-02 & 2.336579e-02 & 3.638915e-02 & 0.0236656596 & 0.0088071291 & 0.0519726460 & 3.843572e-02 & 1.151580e-02 & 2.580790e-02 & 0.0199516324 & 0.0019219898 & 4.130697e-03 & 0.0169621548 & 0.011639676 & 0.0439121756 & 5.990649e-03 & 3.562723e-02 & 2.415876e-02 & 0.0260213024 & 2.212162e-03 & 0.0194100649 & 0.0087852678 & 1.380678e-02 & 2.726998e-02 & 9.199034e-03 & 0.0216515306 & 0.0266966292 & 0.0125673250 & 0.0409715045 & 0.015006058 & 1.592575e-02 & 0.0182680662 & 0.019743479 & 0.0203522795 & 0.048932927 & 3.084955e-03 & 0.0353427581 & 0.012381227 & 0.0133022170 & 2.495076e-02 & 0.0091884740 & 0.0155182744 & 0.0229785120 & 0.0468409586 & 0.0094510356 & 0.0532312460 & 0.0071889671 & 0.0197248017 & 0.0384048718 & 0.0120537252 & 0.0199051036 & 0.0075656769 & 1.513359e-02 & 0.0163637305 & 2.909889e-03 & 0.0183690240 & 8.353570e-03 & 0.0166031573 & 1.188480e-01 & 0.0141316475 & 0.036943320 & 0.0195431681 & 0.0219609583 & 0.0299359348 & 0.0175315568 & 2.480783e-02 & 6.575388e-03 & 0.0424516859 & 0.0164657566 & 5.136921e-02 & 0.0523698290 & 0.0624212846 & 0.0027728404 & 0.0115869485 & 0.0152727273 & 9.176471e-03 & 0.0039472757 & 0.0334036891 & 0.0196756757 & 0.0020943563 & 0.0021389170 & 2.162471e-02 & 0.0097315244 & 0.0720290843 & 2.351994e-02 & 0.0806619039 & 0.0204244224 & 0.0159262364 & 1.339973e-02 & 0.007753094 & 0.0269439421 & 0.0267415948 & 0.0459145890 & 0.0379129475 & 4.960044e-03 & 0.018255222 & 1.490080e-02 & 2.402634e-02 & 8.702576e-02 & 9.615385e-03 & 0.0124323240 & 9.432752e-03 & 0.0480253377 & 2.411693e-02 & 0.0604349485 & 0.0395886252 & 0.0217391304 & 0.0068463843 & 0.047946300 & 5.155853e-02 & 0.0361189802 & 0.0026906662 & 4.608973e-03 & 2.716523e-02 & 9.292817e-03 & 0.0547130538 & 0.1053268765 & 0.013398515 & 0.0024847527 & 0.0040852057 & 0.0160256410 & 0.0163325132 & 0.0488206253 & 0.0428616451 & 1.184053e-02 & 0.0291514836 & 0.0069003588 & 0.015468114 & 0.011726079 & 2.987764e-03 & 0.0045080880 & 0.0047296434 & 0.0012464079 & 0.0026770178 & 0.0010080081 & 7.248018e-03 & 5.284614e-03 & 0.0046439628 & 0.0028242075 & 6.756322e-03 & 1.735274e-03 & 0.0008609339 & 0.0024761905 & 3.054928e-03 & 0.0032112599 & 0.0078398432 & 2.224644e-03 & 0.0013127998 & 0.0016615239 & 0.0159676064 & 0.0205113796 & 0.0047205438 & 0.0492427943 & 0.0443777927 & 0.0287215412 & 0.0025203567 & 0.0036593175 & 0.0628448585 & 0.0443006052 & 0.05355991 & 0.1293413174 & 0.0137037037 & 0.0081919815 & 0.0087140838 & 0.0018152939 & 0.0081147541 & 0.0010312822 & 2.249650e-03 & 4.696600e-03 & 3.842199e-02 & 0.0110553793 & 1.618261e-03 & 0.024725975 & 0.0017587420 & 0.0020764120 & 0.0051043054 & 0.0016627286 & 0.0180203709 & 0.0098269601 & 0.0018798956 & 0.0300799327 & 0.003947642 & 7.807957e-03 & 6.423524e-03 & 8.110523e-03 & 0.0108095124 & 0.0145198092 & 0.0129216311 & 0.0099228225 & 0.0028313334 & 9.797265e-03 & 1.261799e-02 & 0.007936508 & 0.0042515500 & 0.0094556606 & 9.277257e-03 & 0.0053499777 & 0.0125313283 & 0.0078020236 & 5.655102e-03 & 2.582311e-03 & 0.0152858060 & 0.0152445060 & 1.003065e-02 & 0.0060408922 & 0.0076278792 & 3.185277e-03 & 5.579364e-03 & 0.0044052863 & 0.0184567489 & 0.0130787892 & 0.0136303530 & 1.769627e-02 & 0.0024444897 & 0.0071968014 & 0.0121353559 & 0.0119478171 & 4.492658e-03 & 4.295652e-02 & 1.575709e-02 & 0.0136815006 & 1.644055e-02 & 0.0053242321 & 9.527266e-03 & 0.0083143257 & 1.400434e-02 & 4.876146e-03 & 0.005832904 & 0.0075625364 & 8.509857e-03 & 4.033988e-03 & 0.0188719708 & 0.010209524 & 0.0165233519 & 0.0027274498 & 0.0033151326 & 6.145526e-03 & 1.736490e-02 & 1.065604e-02 & 1.483802e-02 & 1.176997e-02 & 1.454580e-02 & 0.0154848046 & 3.854720e-03 & 0.0046221401 & 0.0122330292 & 0.0024041672 & 0.0193635652 & 0.0150471101 & 0.01741084 & 0.0099267899 & 0.0057934509 & 0.0053395985 & 0.0046758105 & 0.0110748003 & 0.0100131752 & 1.578149e-03 & 0.0084175084 & 0.0082563558 & 6.303237e-03 & 3.659423e-02 & 2.712342e-02 & 0.0096339114 & 0.0190955383 & 0.0019684046 & 0.0243001555 & 2.332815e-02 & 0.0159455843 & 0.0083099720 & 0.0282273240 & 5.380630e-03 & 0.0408889744 & 0.0040110153 & 1.735187e-02 & 0.0131661442 & 0.0640058856 & 0.0514805351 & 0.0102851800 & 0.0363792610 & 0.001859179 & 0.0038207711 & 9.558093e-03 & 0.0092749576 & 5.868688e-03 & 8.165829e-03 & 0.0060982133 & 2.408007e-03 & 4.731724e-02 & 2.935678e-02 & 0.0209544410 & 0.015966628 & 0.0621798690 & 0.0149271555 & 0.0108103647 & 0.1239699689 & 0.0643733867 & 0.0517831412 & 0.0340798442 & 0.0065286137 & 0.0087538620 & 0.0023823705 & 0.0105131414 & 7.668514e-03 & 0.0134241245 & 0.0959891522 & 0.0067079463 & 0.0023376623 & 3.411405e-02 & 6.050748e-03 & 0.002611684 & 9.176818e-03 & 1.338622e-02 & 0.0023718540 & 0.0158829415 & 0.0267292244 & 0.0526119750 & 0.014396979 & 1.377010e-02 & 4.051278e-02 & 0.0047384728 & 0.0019122490 & 0.0028368794 & 0.0039920160 & 0.0030088762 & 0.0088834222 & 0.0037009623 & 0.0029246893 & 0.0034364261 & 0.002539876 & 0.0114594310 & 0.0042073054 & 0.0016648169 & 0.0305298171 & 0.0112261007 & 0.0021550273 & 4.257584e-03 & 0.0020405387 & 0.0041818182 & 0.004805819 & 0.0139808683 & 7.120642e-03 & 0.0014442751 & 0.002144772 & 0.0024096386 & 0.0026189437 & 0.0064279155 & 0.007437525 & 0.0282801962 & 0.0043137881 & 0.0057789550 & 5.063291e-03 & 0.0057301615 & 0.0074511819 & 0.0954949239 & 0.0083238744 & 0.0057653842 & 0.0028245928 & 0.0040816327 & 0.0056280379 & 0.0073983987 & 0.004725169 & 0.0161413458 & 0.0337309749 & 0.0135761589 & 0.0026987752 & 0.0195488722 & 1.902713e-03 & 8.067133e-03 & 2.706938e-03 & 0.0032636107 & 0.0016613595 & 0.002970885 & 0.0016143911 & 0.0085123632 & 0.0136696906 & 0.0066683132 & 0.0103473762 & 0.0020523345 & 0.002301292 & 1.948595e-02 & 0.0054920421 & 0.0041756659 & 2.784407e-03 & 0.0067388197 & 1.249184e-02 & 0.0028991732 & 0.0099194048 & 0.005241090 & 0.0023084995 & 0.0046688782 & 0.0060606061 & 0.0261971647 & 0.0160543378 & 0.0357835360 & 0.0034226190 & 0.0042619543 & 0.0428480610 & 0.0461465553 & 5.638497e-02 & 0.0119170984 & 0.0585206976 & 6.283036e-03 & 0.1156379060 & 9.846827e-03 & 0.0031394094 & 3.051882e-03 & 0.0064102564 & 0.0031880978 & 0.0021598272 & 0.0058539441 & 0.0083436048 & 0.0045478036 & 0.0175255035 & 0.0123589468 & 0.0071520694 & 0.0019605921 & 0.0018091907 & 0.0054337279 & 0.005490118 & 3.739283e-02 & 0.0207236842 & 0.0679003946 & 0.0171122995 & 3.854720e-03 & 0.0104147962 & 0.0063160608 & 0.0067518248 & 0.0106067034 & 0.0098531685 & 0.0109649123 & 0.0040686361 & 4.077818e-03 & 0.0043109642 & 2.911099e-03 & 5.250069e-03 & 0.0024041672 & 1.934985e-03 & 0.0017325633 & 1.441881e-03 & 0.0165097151 & 1.322196e-02 & 0.0309748594 & 0.0247387934 & 0.0150471101 & 0.0241038961 & 0.004435789 & 0.0143683196 & 0.01741084 & 0.0170273147 & 1.265823e-02 & 0.0130155820 & 0.0099267899 & 0.0138104206 & 0.0119785213 & 0.0103784464 & 0.0057934509 & 0.0060078470 & 3.890240e-03 & 0.0047434239 & 0.0053395985 & 0.01450696 & 1.568866e-02 & 0.0171307948 & 4.546832e-03 & 7.509915e-03 & 8.002754e-03 & 0.010457820 & 0.0090213543 & 1.163911e-02 & 0.0120092379 & 0.0102057347 & 0.0100131752 & 0.0130875156 & 0.0102465578 & 0.0107566766 & 1.578149e-03 & 0.0016286645 & 1.720183e-03 & 1.636126e-03 & 0.0084175084 & 0.0073211714 & 0.0101058138 & 0.0290361936 & 0.1065573770 & 0.0098450319 & 6.100338e-02 & 0.0369513168 & 0.0397737639 & 0.0382285356 & 0.016708958 & 3.286038e-02 & 0.0112779446 & 1.084426e-02 & 0.1597112752 & 6.884991e-03 & 0.025990099 & 0.0032758455 & 0.0045769026 & 0.0129528815 & 0.0080589134 & 0.1270076600 & 0.0728359531 & 0.0190363349 & 1.151957e-02 & 0.1638997887 & 0.0366797739 & 0.084006075 & 5.302286e-02 & 0.0124648170 & 0.0285836177 & 8.665511e-03 & 0.0381928272 & 0.02919416 & 0.0029200693 & 0.0581430288 & 2.340735e-03 & 0.0057734604 & 1.756007e-03 & 2.973471e-02 & 9.716203e-03 & 0.0135889347 & 0.0018067935 & 3.439621e-02 & 3.968254e-03 & 0.0020191143 & 0.0085305006 & 0.004615740 & 0.0144076841 & 4.408749e-02 & 4.034907e-03 & 0.0030820598 & 0.0020088814 & 0.0162112089 & 0.0037550549 & 0.0028368794 & 0.0061000827 & 0.0070399741 & 0.0036623939 & 4.458977e-03 & 0.0054050576 & 0.0033683376 & 0.002704389 & 0.0082047916 & 0.0088013085 & 2.178040e-02 & 9.079354e-04 & 0.0010188487 & 0.0018148820 & 0.0079705702 & 0.0027314941 & 1.460350e-02 & 6.481288e-03 & 0.0014177436 & 0.0183206107 & 0.0068272575 & 1.645017e-03 & 3.899224e-02 & 1.860396e-03 & 0.0017556542 & 0.0027790296 & 0.0051343106 & 3.857033e-03 & 1.331479e-02 & 0.0031330424\\\\\n",
       "\\end{tabular}\n"
      ],
      "text/markdown": [
       "\n",
       "A matrix: 6 × 1151 of type dbl\n",
       "\n",
       "| <!--/--> | Sample-1 | Sample-2 | Sample-3 | Sample-4 | Sample-5 | Sample-6 | Sample-7 | Sample-8 | Sample-9 | Sample-10 | ⋯ | Sample-1162 | Sample-1163 | Sample-1165 | Sample-1166 | Sample-1167 | Sample-1168 | Sample-1169 | Sample-1170 | Sample-1171 | Sample-1172 |\n",
       "|---|---|---|---|---|---|---|---|---|---|---|---|---|---|---|---|---|---|---|---|---|---|\n",
       "| Actinomycetaceae | 0.0000000000 | 0.000000e+00 | 0.0000000000 | 0.0000000000 | 0.000000e+00 | 0.0000000000 | 0.0000000000 | 0.0000000000 | 0.0000000000 | 0.0000000000 | ⋯ | 0.0000000000 | 0.000000e+00 | 0.000000e+00 | 0.000000e+00 | 0.0000000000 | 0.0000000000 | 0.0000000000 | 6.428388e-05 | 0.000000e+00 | 0.0000000000 |\n",
       "| Aerococcus | 0.0000000000 | 0.000000e+00 | 0.0000000000 | 0.0000000000 | 0.000000e+00 | 0.0000000000 | 0.0000000000 | 0.0000000000 | 0.0000000000 | 0.0000000000 | ⋯ | 0.0000000000 | 0.000000e+00 | 0.000000e+00 | 0.000000e+00 | 0.0000000000 | 0.0000000000 | 0.0000000000 | 0.000000e+00 | 0.000000e+00 | 0.0000000000 |\n",
       "| Aeromonas | 0.0000000000 | 0.000000e+00 | 0.0000000000 | 0.0000000000 | 0.000000e+00 | 0.0000000000 | 0.0000000000 | 0.0000000000 | 0.0000000000 | 0.0000000000 | ⋯ | 0.0000000000 | 0.000000e+00 | 0.000000e+00 | 0.000000e+00 | 0.0000000000 | 0.0000000000 | 0.0000000000 | 0.000000e+00 | 0.000000e+00 | 0.0000000000 |\n",
       "| Akkermansia | 0.0027657053 | 3.547497e-03 | 0.0666105736 | 0.0056195302 | 2.833333e-03 | 0.0017690169 | 0.0045569620 | 0.0024126838 | 0.0112327189 | 0.0179921218 | ⋯ | 0.0042509339 | 1.474843e-03 | 2.375232e-02 | 3.348713e-03 | 0.0024785707 | 0.0041309899 | 0.0017858472 | 1.478529e-03 | 5.325914e-02 | 0.0036925143 |\n",
       "| Alcaligenes faecalis et rel. | 0.0001317003 | 9.854158e-05 | 0.0001402328 | 0.0001842469 | 8.333333e-05 | 0.0001263584 | 0.0001687764 | 0.0001148897 | 0.0001440092 | 0.0001064623 | ⋯ | 0.0001288162 | 5.672471e-05 | 6.864831e-05 | 7.441584e-05 | 0.0001032738 | 0.0001502178 | 0.0000744103 | 6.428388e-05 | 9.936407e-05 | 0.0001118944 |\n",
       "| Allistipes et rel. | 0.0094824180 | 1.251478e-02 | 0.0047679147 | 0.0316904652 | 4.166667e-03 | 0.0072024261 | 0.0035443038 | 0.0010340074 | 0.0012960829 | 0.0024486320 | ⋯ | 0.0068272575 | 1.645017e-03 | 3.899224e-02 | 1.860396e-03 | 0.0017556542 | 0.0027790296 | 0.0051343106 | 3.857033e-03 | 1.331479e-02 | 0.0031330424 |\n",
       "\n"
      ],
      "text/plain": [
       "                             Sample-1     Sample-2     Sample-3    \n",
       "Actinomycetaceae             0.0000000000 0.000000e+00 0.0000000000\n",
       "Aerococcus                   0.0000000000 0.000000e+00 0.0000000000\n",
       "Aeromonas                    0.0000000000 0.000000e+00 0.0000000000\n",
       "Akkermansia                  0.0027657053 3.547497e-03 0.0666105736\n",
       "Alcaligenes faecalis et rel. 0.0001317003 9.854158e-05 0.0001402328\n",
       "Allistipes et rel.           0.0094824180 1.251478e-02 0.0047679147\n",
       "                             Sample-4     Sample-5     Sample-6    \n",
       "Actinomycetaceae             0.0000000000 0.000000e+00 0.0000000000\n",
       "Aerococcus                   0.0000000000 0.000000e+00 0.0000000000\n",
       "Aeromonas                    0.0000000000 0.000000e+00 0.0000000000\n",
       "Akkermansia                  0.0056195302 2.833333e-03 0.0017690169\n",
       "Alcaligenes faecalis et rel. 0.0001842469 8.333333e-05 0.0001263584\n",
       "Allistipes et rel.           0.0316904652 4.166667e-03 0.0072024261\n",
       "                             Sample-7     Sample-8     Sample-9    \n",
       "Actinomycetaceae             0.0000000000 0.0000000000 0.0000000000\n",
       "Aerococcus                   0.0000000000 0.0000000000 0.0000000000\n",
       "Aeromonas                    0.0000000000 0.0000000000 0.0000000000\n",
       "Akkermansia                  0.0045569620 0.0024126838 0.0112327189\n",
       "Alcaligenes faecalis et rel. 0.0001687764 0.0001148897 0.0001440092\n",
       "Allistipes et rel.           0.0035443038 0.0010340074 0.0012960829\n",
       "                             Sample-10    ⋯ Sample-1162  Sample-1163 \n",
       "Actinomycetaceae             0.0000000000 ⋯ 0.0000000000 0.000000e+00\n",
       "Aerococcus                   0.0000000000 ⋯ 0.0000000000 0.000000e+00\n",
       "Aeromonas                    0.0000000000 ⋯ 0.0000000000 0.000000e+00\n",
       "Akkermansia                  0.0179921218 ⋯ 0.0042509339 1.474843e-03\n",
       "Alcaligenes faecalis et rel. 0.0001064623 ⋯ 0.0001288162 5.672471e-05\n",
       "Allistipes et rel.           0.0024486320 ⋯ 0.0068272575 1.645017e-03\n",
       "                             Sample-1165  Sample-1166  Sample-1167 \n",
       "Actinomycetaceae             0.000000e+00 0.000000e+00 0.0000000000\n",
       "Aerococcus                   0.000000e+00 0.000000e+00 0.0000000000\n",
       "Aeromonas                    0.000000e+00 0.000000e+00 0.0000000000\n",
       "Akkermansia                  2.375232e-02 3.348713e-03 0.0024785707\n",
       "Alcaligenes faecalis et rel. 6.864831e-05 7.441584e-05 0.0001032738\n",
       "Allistipes et rel.           3.899224e-02 1.860396e-03 0.0017556542\n",
       "                             Sample-1168  Sample-1169  Sample-1170 \n",
       "Actinomycetaceae             0.0000000000 0.0000000000 6.428388e-05\n",
       "Aerococcus                   0.0000000000 0.0000000000 0.000000e+00\n",
       "Aeromonas                    0.0000000000 0.0000000000 0.000000e+00\n",
       "Akkermansia                  0.0041309899 0.0017858472 1.478529e-03\n",
       "Alcaligenes faecalis et rel. 0.0001502178 0.0000744103 6.428388e-05\n",
       "Allistipes et rel.           0.0027790296 0.0051343106 3.857033e-03\n",
       "                             Sample-1171  Sample-1172 \n",
       "Actinomycetaceae             0.000000e+00 0.0000000000\n",
       "Aerococcus                   0.000000e+00 0.0000000000\n",
       "Aeromonas                    0.000000e+00 0.0000000000\n",
       "Akkermansia                  5.325914e-02 0.0036925143\n",
       "Alcaligenes faecalis et rel. 9.936407e-05 0.0001118944\n",
       "Allistipes et rel.           1.331479e-02 0.0031330424"
      ]
     },
     "metadata": {},
     "output_type": "display_data"
    }
   ],
   "source": [
    "# Abundances for taxonomic groups (‘OTU table’) as a TaxaxSamples matrix\n",
    "# Absolute abundances\n",
    "otu.absolute <- abundances(pseq)\n",
    "# Relative abundances\n",
    "otu.relative <- abundances(pseq, \"compositional\")\n",
    "\n",
    "head(otu.absolute)\n",
    "head(otu.relative)"
   ]
  },
  {
   "cell_type": "markdown",
   "metadata": {},
   "source": [
    "#### Sample operations"
   ]
  },
  {
   "cell_type": "code",
   "execution_count": 58,
   "metadata": {},
   "outputs": [
    {
     "data": {
      "text/html": [
       "<ol class=list-inline>\n",
       "\t<li>'Sample-1'</li>\n",
       "\t<li>'Sample-2'</li>\n",
       "\t<li>'Sample-3'</li>\n",
       "\t<li>'Sample-4'</li>\n",
       "\t<li>'Sample-5'</li>\n",
       "\t<li>'Sample-6'</li>\n",
       "</ol>\n"
      ],
      "text/latex": [
       "\\begin{enumerate*}\n",
       "\\item 'Sample-1'\n",
       "\\item 'Sample-2'\n",
       "\\item 'Sample-3'\n",
       "\\item 'Sample-4'\n",
       "\\item 'Sample-5'\n",
       "\\item 'Sample-6'\n",
       "\\end{enumerate*}\n"
      ],
      "text/markdown": [
       "1. 'Sample-1'\n",
       "2. 'Sample-2'\n",
       "3. 'Sample-3'\n",
       "4. 'Sample-4'\n",
       "5. 'Sample-5'\n",
       "6. 'Sample-6'\n",
       "\n",
       "\n"
      ],
      "text/plain": [
       "[1] \"Sample-1\" \"Sample-2\" \"Sample-3\" \"Sample-4\" \"Sample-5\" \"Sample-6\""
      ]
     },
     "metadata": {},
     "output_type": "display_data"
    }
   ],
   "source": [
    "# Sample names and variables\n",
    "sn <- sample_names(pseq)\n",
    "\n",
    "head(sn)"
   ]
  },
  {
   "cell_type": "code",
   "execution_count": 59,
   "metadata": {},
   "outputs": [
    {
     "data": {
      "text/html": [
       "<dl class=dl-horizontal>\n",
       "\t<dt>Sample-1</dt>\n",
       "\t\t<dd>21</dd>\n",
       "\t<dt>Sample-2</dt>\n",
       "\t\t<dd>36</dd>\n",
       "\t<dt>Sample-3</dt>\n",
       "\t\t<dd>475</dd>\n",
       "\t<dt>Sample-4</dt>\n",
       "\t\t<dd>61</dd>\n",
       "\t<dt>Sample-5</dt>\n",
       "\t\t<dd>34</dd>\n",
       "\t<dt>Sample-6</dt>\n",
       "\t\t<dd>14</dd>\n",
       "</dl>\n"
      ],
      "text/latex": [
       "\\begin{description*}\n",
       "\\item[Sample-1] 21\n",
       "\\item[Sample-2] 36\n",
       "\\item[Sample-3] 475\n",
       "\\item[Sample-4] 61\n",
       "\\item[Sample-5] 34\n",
       "\\item[Sample-6] 14\n",
       "\\end{description*}\n"
      ],
      "text/markdown": [
       "Sample-1\n",
       ":   21Sample-2\n",
       ":   36Sample-3\n",
       ":   475Sample-4\n",
       ":   61Sample-5\n",
       ":   34Sample-6\n",
       ":   14\n",
       "\n"
      ],
      "text/plain": [
       "Sample-1 Sample-2 Sample-3 Sample-4 Sample-5 Sample-6 \n",
       "      21       36      475       61       34       14 "
      ]
     },
     "metadata": {},
     "output_type": "display_data"
    }
   ],
   "source": [
    "# Abundance of a given species in each sample\n",
    "as <- abundances(pseq)[\"Akkermansia\",]\n",
    "\n",
    "head(as)"
   ]
  },
  {
   "cell_type": "code",
   "execution_count": 24,
   "metadata": {},
   "outputs": [
    {
     "data": {
      "text/plain": [
       "phyloseq-class experiment-level object\n",
       "otu_table()   OTU Table:         [ 130 taxa and 44 samples ]\n",
       "sample_data() Sample Data:       [ 44 samples by 10 sample variables ]\n",
       "tax_table()   Taxonomy Table:    [ 130 taxa by 3 taxonomic ranks ]"
      ]
     },
     "metadata": {},
     "output_type": "display_data"
    }
   ],
   "source": [
    "# Select a subset by metadata fields\n",
    "pseq.subset <- subset_samples(pseq, nationality == \"US\")\n",
    "\n",
    "pseq.subset"
   ]
  },
  {
   "cell_type": "code",
   "execution_count": 43,
   "metadata": {},
   "outputs": [
    {
     "data": {
      "text/plain": [
       "phyloseq-class experiment-level object\n",
       "otu_table()   OTU Table:         [ 130 taxa and 24 samples ]\n",
       "sample_data() Sample Data:       [ 24 samples by 10 sample variables ]\n",
       "tax_table()   Taxonomy Table:    [ 130 taxa by 3 taxonomic ranks ]"
      ]
     },
     "metadata": {},
     "output_type": "display_data"
    }
   ],
   "source": [
    "# Select a subset by providing sample names\n",
    "s <- rownames(subset(meta(pseq), nationality == \"US\" & sex == \"female\"))\n",
    "pseq.subset2 <- prune_samples(s, pseq)\n",
    "\n",
    "pseq.subset2"
   ]
  },
  {
   "cell_type": "markdown",
   "metadata": {},
   "source": [
    "#### Data transformations"
   ]
  },
  {
   "cell_type": "code",
   "execution_count": 47,
   "metadata": {},
   "outputs": [
    {
     "name": "stderr",
     "output_type": "stream",
     "text": [
      "Warning message in transform(x, \"log10\"):\n",
      "“OTU table contains zeroes. Using log10(1 + x) transform.”\n"
     ]
    }
   ],
   "source": [
    "# Relative abundances\n",
    "pseq.compositional <- microbiome::transform(pseq, \"compositional\")\n",
    "\n",
    "# Z\n",
    "pseq.compositional <- microbiome::transform(pseq, \"Z\")"
   ]
  },
  {
   "cell_type": "markdown",
   "metadata": {},
   "source": [
    "#### Variable operations"
   ]
  },
  {
   "cell_type": "code",
   "execution_count": 60,
   "metadata": {},
   "outputs": [
    {
     "data": {
      "text/html": [
       "<ol class=list-inline>\n",
       "\t<li>'age'</li>\n",
       "\t<li>'sex'</li>\n",
       "\t<li>'nationality'</li>\n",
       "\t<li>'DNA_extraction_method'</li>\n",
       "\t<li>'project'</li>\n",
       "\t<li>'diversity'</li>\n",
       "\t<li>'bmi_group'</li>\n",
       "\t<li>'subject'</li>\n",
       "\t<li>'time'</li>\n",
       "\t<li>'sample'</li>\n",
       "</ol>\n"
      ],
      "text/latex": [
       "\\begin{enumerate*}\n",
       "\\item 'age'\n",
       "\\item 'sex'\n",
       "\\item 'nationality'\n",
       "\\item 'DNA\\_extraction\\_method'\n",
       "\\item 'project'\n",
       "\\item 'diversity'\n",
       "\\item 'bmi\\_group'\n",
       "\\item 'subject'\n",
       "\\item 'time'\n",
       "\\item 'sample'\n",
       "\\end{enumerate*}\n"
      ],
      "text/markdown": [
       "1. 'age'\n",
       "2. 'sex'\n",
       "3. 'nationality'\n",
       "4. 'DNA_extraction_method'\n",
       "5. 'project'\n",
       "6. 'diversity'\n",
       "7. 'bmi_group'\n",
       "8. 'subject'\n",
       "9. 'time'\n",
       "10. 'sample'\n",
       "\n",
       "\n"
      ],
      "text/plain": [
       " [1] \"age\"                   \"sex\"                   \"nationality\"          \n",
       " [4] \"DNA_extraction_method\" \"project\"               \"diversity\"            \n",
       " [7] \"bmi_group\"             \"subject\"               \"time\"                 \n",
       "[10] \"sample\"               "
      ]
     },
     "metadata": {},
     "output_type": "display_data"
    }
   ],
   "source": [
    "# Sample variable names\n",
    "sv <- sample_variables(pseq)\n",
    "\n",
    "sv"
   ]
  },
  {
   "cell_type": "code",
   "execution_count": 62,
   "metadata": {},
   "outputs": [
    {
     "data": {
      "text/html": [
       "<ol class=list-inline>\n",
       "\t<li>28</li>\n",
       "\t<li>24</li>\n",
       "\t<li>52</li>\n",
       "\t<li>22</li>\n",
       "\t<li>25</li>\n",
       "\t<li>42</li>\n",
       "</ol>\n"
      ],
      "text/latex": [
       "\\begin{enumerate*}\n",
       "\\item 28\n",
       "\\item 24\n",
       "\\item 52\n",
       "\\item 22\n",
       "\\item 25\n",
       "\\item 42\n",
       "\\end{enumerate*}\n"
      ],
      "text/markdown": [
       "1. 28\n",
       "2. 24\n",
       "3. 52\n",
       "4. 22\n",
       "5. 25\n",
       "6. 42\n",
       "\n",
       "\n"
      ],
      "text/plain": [
       "[1] 28 24 52 22 25 42"
      ]
     },
     "metadata": {},
     "output_type": "display_data"
    }
   ],
   "source": [
    "# Pick values for a given variable\n",
    "gv <- get_variable(pseq, sample_variables(pseq)[1])\n",
    "\n",
    "head(gv)"
   ]
  },
  {
   "cell_type": "code",
   "execution_count": 46,
   "metadata": {},
   "outputs": [
    {
     "name": "stderr",
     "output_type": "stream",
     "text": [
      "Observed richness\n",
      "\n",
      "Other forms of richness\n",
      "\n",
      "Diversity\n",
      "\n",
      "Evenness\n",
      "\n",
      "Dominance\n",
      "\n",
      "Rarity\n",
      "\n"
     ]
    }
   ],
   "source": [
    "# Assign new fields to metadata\n",
    "div <- microbiome::alpha(pseq, index = \"shannon\")\n",
    "sample_data(pseq)$diversity <- div"
   ]
  },
  {
   "cell_type": "markdown",
   "metadata": {},
   "source": [
    "#### Taxa operations"
   ]
  },
  {
   "cell_type": "code",
   "execution_count": 49,
   "metadata": {},
   "outputs": [
    {
     "data": {
      "text/html": [
       "130"
      ],
      "text/latex": [
       "130"
      ],
      "text/markdown": [
       "130"
      ],
      "text/plain": [
       "[1] 130"
      ]
     },
     "metadata": {},
     "output_type": "display_data"
    }
   ],
   "source": [
    "# Number of taxa\n",
    "n <- ntaxa(pseq)\n",
    "\n",
    "n"
   ]
  },
  {
   "cell_type": "code",
   "execution_count": 50,
   "metadata": {},
   "outputs": [
    {
     "data": {
      "text/html": [
       "<ol class=list-inline>\n",
       "\t<li>'Prevotella melaninogenica et rel.'</li>\n",
       "\t<li>'Oscillospira guillermondii et rel.'</li>\n",
       "\t<li>'Faecalibacterium prausnitzii et rel.'</li>\n",
       "\t<li>'Bacteroides vulgatus et rel.'</li>\n",
       "\t<li>'Ruminococcus obeum et rel.'</li>\n",
       "\t<li>'Subdoligranulum variable at rel.'</li>\n",
       "\t<li>'Sporobacter termitidis et rel.'</li>\n",
       "\t<li>'Clostridium cellulosi et rel.'</li>\n",
       "\t<li>'Coprococcus eutactus et rel.'</li>\n",
       "\t<li>'Clostridium symbiosum et rel.'</li>\n",
       "</ol>\n"
      ],
      "text/latex": [
       "\\begin{enumerate*}\n",
       "\\item 'Prevotella melaninogenica et rel.'\n",
       "\\item 'Oscillospira guillermondii et rel.'\n",
       "\\item 'Faecalibacterium prausnitzii et rel.'\n",
       "\\item 'Bacteroides vulgatus et rel.'\n",
       "\\item 'Ruminococcus obeum et rel.'\n",
       "\\item 'Subdoligranulum variable at rel.'\n",
       "\\item 'Sporobacter termitidis et rel.'\n",
       "\\item 'Clostridium cellulosi et rel.'\n",
       "\\item 'Coprococcus eutactus et rel.'\n",
       "\\item 'Clostridium symbiosum et rel.'\n",
       "\\end{enumerate*}\n"
      ],
      "text/markdown": [
       "1. 'Prevotella melaninogenica et rel.'\n",
       "2. 'Oscillospira guillermondii et rel.'\n",
       "3. 'Faecalibacterium prausnitzii et rel.'\n",
       "4. 'Bacteroides vulgatus et rel.'\n",
       "5. 'Ruminococcus obeum et rel.'\n",
       "6. 'Subdoligranulum variable at rel.'\n",
       "7. 'Sporobacter termitidis et rel.'\n",
       "8. 'Clostridium cellulosi et rel.'\n",
       "9. 'Coprococcus eutactus et rel.'\n",
       "10. 'Clostridium symbiosum et rel.'\n",
       "\n",
       "\n"
      ],
      "text/plain": [
       " [1] \"Prevotella melaninogenica et rel.\"   \n",
       " [2] \"Oscillospira guillermondii et rel.\"  \n",
       " [3] \"Faecalibacterium prausnitzii et rel.\"\n",
       " [4] \"Bacteroides vulgatus et rel.\"        \n",
       " [5] \"Ruminococcus obeum et rel.\"          \n",
       " [6] \"Subdoligranulum variable at rel.\"    \n",
       " [7] \"Sporobacter termitidis et rel.\"      \n",
       " [8] \"Clostridium cellulosi et rel.\"       \n",
       " [9] \"Coprococcus eutactus et rel.\"        \n",
       "[10] \"Clostridium symbiosum et rel.\"       "
      ]
     },
     "metadata": {},
     "output_type": "display_data"
    }
   ],
   "source": [
    "# Most abundant taxa\n",
    "topx <- top_taxa(pseq, n = 10)\n",
    "\n",
    "topx"
   ]
  },
  {
   "cell_type": "code",
   "execution_count": 51,
   "metadata": {},
   "outputs": [
    {
     "data": {
      "text/html": [
       "<ol class=list-inline>\n",
       "\t<li>'Phylum'</li>\n",
       "\t<li>'Family'</li>\n",
       "\t<li>'Genus'</li>\n",
       "</ol>\n"
      ],
      "text/latex": [
       "\\begin{enumerate*}\n",
       "\\item 'Phylum'\n",
       "\\item 'Family'\n",
       "\\item 'Genus'\n",
       "\\end{enumerate*}\n"
      ],
      "text/markdown": [
       "1. 'Phylum'\n",
       "2. 'Family'\n",
       "3. 'Genus'\n",
       "\n",
       "\n"
      ],
      "text/plain": [
       "[1] \"Phylum\" \"Family\" \"Genus\" "
      ]
     },
     "metadata": {},
     "output_type": "display_data"
    },
    {
     "data": {
      "text/html": [
       "<ol class=list-inline>\n",
       "\t<li>'Actinomycetaceae'</li>\n",
       "\t<li>'Aerococcus'</li>\n",
       "\t<li>'Aeromonas'</li>\n",
       "\t<li>'Akkermansia'</li>\n",
       "\t<li>'Alcaligenes faecalis et rel.'</li>\n",
       "\t<li>'Allistipes et rel.'</li>\n",
       "\t<li>'Anaerobiospirillum'</li>\n",
       "\t<li>'Anaerofustis'</li>\n",
       "\t<li>'Anaerostipes caccae et rel.'</li>\n",
       "\t<li>'Anaerotruncus colihominis et rel.'</li>\n",
       "\t<li>'Anaerovorax odorimutans et rel.'</li>\n",
       "\t<li>'Aneurinibacillus'</li>\n",
       "\t<li>'Aquabacterium'</li>\n",
       "\t<li>'Asteroleplasma et rel.'</li>\n",
       "\t<li>'Atopobium'</li>\n",
       "\t<li>'Bacillus'</li>\n",
       "\t<li>'Bacteroides fragilis et rel.'</li>\n",
       "\t<li>'Bacteroides intestinalis et rel.'</li>\n",
       "\t<li>'Bacteroides ovatus et rel.'</li>\n",
       "\t<li>'Bacteroides plebeius et rel.'</li>\n",
       "\t<li>'Bacteroides splachnicus et rel.'</li>\n",
       "\t<li>'Bacteroides stercoris et rel.'</li>\n",
       "\t<li>'Bacteroides uniformis et rel.'</li>\n",
       "\t<li>'Bacteroides vulgatus et rel.'</li>\n",
       "\t<li>'Bifidobacterium'</li>\n",
       "\t<li>'Bilophila et rel.'</li>\n",
       "\t<li>'Brachyspira'</li>\n",
       "\t<li>'Bryantella formatexigens et rel.'</li>\n",
       "\t<li>'Bulleidia moorei et rel.'</li>\n",
       "\t<li>'Burkholderia'</li>\n",
       "\t<li>'Butyrivibrio crossotus et rel.'</li>\n",
       "\t<li>'Campylobacter'</li>\n",
       "\t<li>'Catenibacterium mitsuokai et rel.'</li>\n",
       "\t<li>'Clostridium (sensu stricto)'</li>\n",
       "\t<li>'Clostridium cellulosi et rel.'</li>\n",
       "\t<li>'Clostridium colinum et rel.'</li>\n",
       "\t<li>'Clostridium difficile et rel.'</li>\n",
       "\t<li>'Clostridium felsineum et rel.'</li>\n",
       "\t<li>'Clostridium leptum et rel.'</li>\n",
       "\t<li>'Clostridium nexile et rel.'</li>\n",
       "\t<li>'Clostridium orbiscindens et rel.'</li>\n",
       "\t<li>'Clostridium ramosum et rel.'</li>\n",
       "\t<li>'Clostridium sphenoides et rel.'</li>\n",
       "\t<li>'Clostridium stercorarium et rel.'</li>\n",
       "\t<li>'Clostridium symbiosum et rel.'</li>\n",
       "\t<li>'Clostridium thermocellum et rel.'</li>\n",
       "\t<li>'Collinsella'</li>\n",
       "\t<li>'Coprobacillus catenaformis et rel.'</li>\n",
       "\t<li>'Coprococcus eutactus et rel.'</li>\n",
       "\t<li>'Corynebacterium'</li>\n",
       "\t<li>'Desulfovibrio et rel.'</li>\n",
       "\t<li>'Dialister'</li>\n",
       "\t<li>'Dorea formicigenerans et rel.'</li>\n",
       "\t<li>'Eggerthella lenta et rel.'</li>\n",
       "\t<li>'Enterobacter aerogenes et rel.'</li>\n",
       "\t<li>'Enterococcus'</li>\n",
       "\t<li>'Escherichia coli et rel.'</li>\n",
       "\t<li>'Eubacterium biforme et rel.'</li>\n",
       "\t<li>'Eubacterium cylindroides et rel.'</li>\n",
       "\t<li>'Eubacterium hallii et rel.'</li>\n",
       "\t<li>'Eubacterium limosum et rel.'</li>\n",
       "\t<li>'Eubacterium rectale et rel.'</li>\n",
       "\t<li>'Eubacterium siraeum et rel.'</li>\n",
       "\t<li>'Eubacterium ventriosum et rel.'</li>\n",
       "\t<li>'Faecalibacterium prausnitzii et rel.'</li>\n",
       "\t<li>'Fusobacteria'</li>\n",
       "\t<li>'Gemella'</li>\n",
       "\t<li>'Granulicatella'</li>\n",
       "\t<li>'Haemophilus'</li>\n",
       "\t<li>'Helicobacter'</li>\n",
       "\t<li>'Klebisiella pneumoniae et rel.'</li>\n",
       "\t<li>'Lachnobacillus bovis et rel.'</li>\n",
       "\t<li>'Lachnospira pectinoschiza et rel.'</li>\n",
       "\t<li>'Lactobacillus catenaformis et rel.'</li>\n",
       "\t<li>'Lactobacillus gasseri et rel.'</li>\n",
       "\t<li>'Lactobacillus plantarum et rel.'</li>\n",
       "\t<li>'Lactobacillus salivarius et rel.'</li>\n",
       "\t<li>'Lactococcus'</li>\n",
       "\t<li>'Leminorella'</li>\n",
       "\t<li>'Megamonas hypermegale et rel.'</li>\n",
       "\t<li>'Megasphaera elsdenii et rel.'</li>\n",
       "\t<li>'Methylobacterium'</li>\n",
       "\t<li>'Micrococcaceae'</li>\n",
       "\t<li>'Mitsuokella multiacida et rel.'</li>\n",
       "\t<li>'Moraxellaceae'</li>\n",
       "\t<li>'Novosphingobium'</li>\n",
       "\t<li>'Oceanospirillum'</li>\n",
       "\t<li>'Oscillospira guillermondii et rel.'</li>\n",
       "\t<li>'Outgrouping clostridium cluster XIVa'</li>\n",
       "\t<li>'Oxalobacter formigenes et rel.'</li>\n",
       "\t<li>'Papillibacter cinnamivorans et rel.'</li>\n",
       "\t<li>'Parabacteroides distasonis et rel.'</li>\n",
       "\t<li>'Peptococcus niger et rel.'</li>\n",
       "\t<li>'Peptostreptococcus anaerobius et rel.'</li>\n",
       "\t<li>'Peptostreptococcus micros et rel.'</li>\n",
       "\t<li>'Phascolarctobacterium faecium et rel.'</li>\n",
       "\t<li>'Prevotella melaninogenica et rel.'</li>\n",
       "\t<li>'Prevotella oralis et rel.'</li>\n",
       "\t<li>'Prevotella ruminicola et rel.'</li>\n",
       "\t<li>'Prevotella tannerae et rel.'</li>\n",
       "\t<li>'Propionibacterium'</li>\n",
       "\t<li>'Proteus et rel.'</li>\n",
       "\t<li>'Pseudomonas'</li>\n",
       "\t<li>'Roseburia intestinalis et rel.'</li>\n",
       "\t<li>'Ruminococcus bromii et rel.'</li>\n",
       "\t<li>'Ruminococcus callidus et rel.'</li>\n",
       "\t<li>'Ruminococcus gnavus et rel.'</li>\n",
       "\t<li>'Ruminococcus lactaris et rel.'</li>\n",
       "\t<li>'Ruminococcus obeum et rel.'</li>\n",
       "\t<li>'Serratia'</li>\n",
       "\t<li>'Sporobacter termitidis et rel.'</li>\n",
       "\t<li>'Staphylococcus'</li>\n",
       "\t<li>'Streptococcus bovis et rel.'</li>\n",
       "\t<li>'Streptococcus intermedius et rel.'</li>\n",
       "\t<li>'Streptococcus mitis et rel.'</li>\n",
       "\t<li>'Subdoligranulum variable at rel.'</li>\n",
       "\t<li>'Sutterella wadsworthia et rel.'</li>\n",
       "\t<li>'Tannerella et rel.'</li>\n",
       "\t<li>'Uncultured Bacteroidetes'</li>\n",
       "\t<li>'Uncultured Chroococcales'</li>\n",
       "\t<li>'Uncultured Clostridiales I'</li>\n",
       "\t<li>'Uncultured Clostridiales II'</li>\n",
       "\t<li>'Uncultured Mollicutes'</li>\n",
       "\t<li>'Uncultured Selenomonadaceae'</li>\n",
       "\t<li>'Veillonella'</li>\n",
       "\t<li>'Vibrio'</li>\n",
       "\t<li>'Weissella et rel.'</li>\n",
       "\t<li>'Wissella et rel.'</li>\n",
       "\t<li>'Xanthomonadaceae'</li>\n",
       "\t<li>'Yersinia et rel.'</li>\n",
       "</ol>\n"
      ],
      "text/latex": [
       "\\begin{enumerate*}\n",
       "\\item 'Actinomycetaceae'\n",
       "\\item 'Aerococcus'\n",
       "\\item 'Aeromonas'\n",
       "\\item 'Akkermansia'\n",
       "\\item 'Alcaligenes faecalis et rel.'\n",
       "\\item 'Allistipes et rel.'\n",
       "\\item 'Anaerobiospirillum'\n",
       "\\item 'Anaerofustis'\n",
       "\\item 'Anaerostipes caccae et rel.'\n",
       "\\item 'Anaerotruncus colihominis et rel.'\n",
       "\\item 'Anaerovorax odorimutans et rel.'\n",
       "\\item 'Aneurinibacillus'\n",
       "\\item 'Aquabacterium'\n",
       "\\item 'Asteroleplasma et rel.'\n",
       "\\item 'Atopobium'\n",
       "\\item 'Bacillus'\n",
       "\\item 'Bacteroides fragilis et rel.'\n",
       "\\item 'Bacteroides intestinalis et rel.'\n",
       "\\item 'Bacteroides ovatus et rel.'\n",
       "\\item 'Bacteroides plebeius et rel.'\n",
       "\\item 'Bacteroides splachnicus et rel.'\n",
       "\\item 'Bacteroides stercoris et rel.'\n",
       "\\item 'Bacteroides uniformis et rel.'\n",
       "\\item 'Bacteroides vulgatus et rel.'\n",
       "\\item 'Bifidobacterium'\n",
       "\\item 'Bilophila et rel.'\n",
       "\\item 'Brachyspira'\n",
       "\\item 'Bryantella formatexigens et rel.'\n",
       "\\item 'Bulleidia moorei et rel.'\n",
       "\\item 'Burkholderia'\n",
       "\\item 'Butyrivibrio crossotus et rel.'\n",
       "\\item 'Campylobacter'\n",
       "\\item 'Catenibacterium mitsuokai et rel.'\n",
       "\\item 'Clostridium (sensu stricto)'\n",
       "\\item 'Clostridium cellulosi et rel.'\n",
       "\\item 'Clostridium colinum et rel.'\n",
       "\\item 'Clostridium difficile et rel.'\n",
       "\\item 'Clostridium felsineum et rel.'\n",
       "\\item 'Clostridium leptum et rel.'\n",
       "\\item 'Clostridium nexile et rel.'\n",
       "\\item 'Clostridium orbiscindens et rel.'\n",
       "\\item 'Clostridium ramosum et rel.'\n",
       "\\item 'Clostridium sphenoides et rel.'\n",
       "\\item 'Clostridium stercorarium et rel.'\n",
       "\\item 'Clostridium symbiosum et rel.'\n",
       "\\item 'Clostridium thermocellum et rel.'\n",
       "\\item 'Collinsella'\n",
       "\\item 'Coprobacillus catenaformis et rel.'\n",
       "\\item 'Coprococcus eutactus et rel.'\n",
       "\\item 'Corynebacterium'\n",
       "\\item 'Desulfovibrio et rel.'\n",
       "\\item 'Dialister'\n",
       "\\item 'Dorea formicigenerans et rel.'\n",
       "\\item 'Eggerthella lenta et rel.'\n",
       "\\item 'Enterobacter aerogenes et rel.'\n",
       "\\item 'Enterococcus'\n",
       "\\item 'Escherichia coli et rel.'\n",
       "\\item 'Eubacterium biforme et rel.'\n",
       "\\item 'Eubacterium cylindroides et rel.'\n",
       "\\item 'Eubacterium hallii et rel.'\n",
       "\\item 'Eubacterium limosum et rel.'\n",
       "\\item 'Eubacterium rectale et rel.'\n",
       "\\item 'Eubacterium siraeum et rel.'\n",
       "\\item 'Eubacterium ventriosum et rel.'\n",
       "\\item 'Faecalibacterium prausnitzii et rel.'\n",
       "\\item 'Fusobacteria'\n",
       "\\item 'Gemella'\n",
       "\\item 'Granulicatella'\n",
       "\\item 'Haemophilus'\n",
       "\\item 'Helicobacter'\n",
       "\\item 'Klebisiella pneumoniae et rel.'\n",
       "\\item 'Lachnobacillus bovis et rel.'\n",
       "\\item 'Lachnospira pectinoschiza et rel.'\n",
       "\\item 'Lactobacillus catenaformis et rel.'\n",
       "\\item 'Lactobacillus gasseri et rel.'\n",
       "\\item 'Lactobacillus plantarum et rel.'\n",
       "\\item 'Lactobacillus salivarius et rel.'\n",
       "\\item 'Lactococcus'\n",
       "\\item 'Leminorella'\n",
       "\\item 'Megamonas hypermegale et rel.'\n",
       "\\item 'Megasphaera elsdenii et rel.'\n",
       "\\item 'Methylobacterium'\n",
       "\\item 'Micrococcaceae'\n",
       "\\item 'Mitsuokella multiacida et rel.'\n",
       "\\item 'Moraxellaceae'\n",
       "\\item 'Novosphingobium'\n",
       "\\item 'Oceanospirillum'\n",
       "\\item 'Oscillospira guillermondii et rel.'\n",
       "\\item 'Outgrouping clostridium cluster XIVa'\n",
       "\\item 'Oxalobacter formigenes et rel.'\n",
       "\\item 'Papillibacter cinnamivorans et rel.'\n",
       "\\item 'Parabacteroides distasonis et rel.'\n",
       "\\item 'Peptococcus niger et rel.'\n",
       "\\item 'Peptostreptococcus anaerobius et rel.'\n",
       "\\item 'Peptostreptococcus micros et rel.'\n",
       "\\item 'Phascolarctobacterium faecium et rel.'\n",
       "\\item 'Prevotella melaninogenica et rel.'\n",
       "\\item 'Prevotella oralis et rel.'\n",
       "\\item 'Prevotella ruminicola et rel.'\n",
       "\\item 'Prevotella tannerae et rel.'\n",
       "\\item 'Propionibacterium'\n",
       "\\item 'Proteus et rel.'\n",
       "\\item 'Pseudomonas'\n",
       "\\item 'Roseburia intestinalis et rel.'\n",
       "\\item 'Ruminococcus bromii et rel.'\n",
       "\\item 'Ruminococcus callidus et rel.'\n",
       "\\item 'Ruminococcus gnavus et rel.'\n",
       "\\item 'Ruminococcus lactaris et rel.'\n",
       "\\item 'Ruminococcus obeum et rel.'\n",
       "\\item 'Serratia'\n",
       "\\item 'Sporobacter termitidis et rel.'\n",
       "\\item 'Staphylococcus'\n",
       "\\item 'Streptococcus bovis et rel.'\n",
       "\\item 'Streptococcus intermedius et rel.'\n",
       "\\item 'Streptococcus mitis et rel.'\n",
       "\\item 'Subdoligranulum variable at rel.'\n",
       "\\item 'Sutterella wadsworthia et rel.'\n",
       "\\item 'Tannerella et rel.'\n",
       "\\item 'Uncultured Bacteroidetes'\n",
       "\\item 'Uncultured Chroococcales'\n",
       "\\item 'Uncultured Clostridiales I'\n",
       "\\item 'Uncultured Clostridiales II'\n",
       "\\item 'Uncultured Mollicutes'\n",
       "\\item 'Uncultured Selenomonadaceae'\n",
       "\\item 'Veillonella'\n",
       "\\item 'Vibrio'\n",
       "\\item 'Weissella et rel.'\n",
       "\\item 'Wissella et rel.'\n",
       "\\item 'Xanthomonadaceae'\n",
       "\\item 'Yersinia et rel.'\n",
       "\\end{enumerate*}\n"
      ],
      "text/markdown": [
       "1. 'Actinomycetaceae'\n",
       "2. 'Aerococcus'\n",
       "3. 'Aeromonas'\n",
       "4. 'Akkermansia'\n",
       "5. 'Alcaligenes faecalis et rel.'\n",
       "6. 'Allistipes et rel.'\n",
       "7. 'Anaerobiospirillum'\n",
       "8. 'Anaerofustis'\n",
       "9. 'Anaerostipes caccae et rel.'\n",
       "10. 'Anaerotruncus colihominis et rel.'\n",
       "11. 'Anaerovorax odorimutans et rel.'\n",
       "12. 'Aneurinibacillus'\n",
       "13. 'Aquabacterium'\n",
       "14. 'Asteroleplasma et rel.'\n",
       "15. 'Atopobium'\n",
       "16. 'Bacillus'\n",
       "17. 'Bacteroides fragilis et rel.'\n",
       "18. 'Bacteroides intestinalis et rel.'\n",
       "19. 'Bacteroides ovatus et rel.'\n",
       "20. 'Bacteroides plebeius et rel.'\n",
       "21. 'Bacteroides splachnicus et rel.'\n",
       "22. 'Bacteroides stercoris et rel.'\n",
       "23. 'Bacteroides uniformis et rel.'\n",
       "24. 'Bacteroides vulgatus et rel.'\n",
       "25. 'Bifidobacterium'\n",
       "26. 'Bilophila et rel.'\n",
       "27. 'Brachyspira'\n",
       "28. 'Bryantella formatexigens et rel.'\n",
       "29. 'Bulleidia moorei et rel.'\n",
       "30. 'Burkholderia'\n",
       "31. 'Butyrivibrio crossotus et rel.'\n",
       "32. 'Campylobacter'\n",
       "33. 'Catenibacterium mitsuokai et rel.'\n",
       "34. 'Clostridium (sensu stricto)'\n",
       "35. 'Clostridium cellulosi et rel.'\n",
       "36. 'Clostridium colinum et rel.'\n",
       "37. 'Clostridium difficile et rel.'\n",
       "38. 'Clostridium felsineum et rel.'\n",
       "39. 'Clostridium leptum et rel.'\n",
       "40. 'Clostridium nexile et rel.'\n",
       "41. 'Clostridium orbiscindens et rel.'\n",
       "42. 'Clostridium ramosum et rel.'\n",
       "43. 'Clostridium sphenoides et rel.'\n",
       "44. 'Clostridium stercorarium et rel.'\n",
       "45. 'Clostridium symbiosum et rel.'\n",
       "46. 'Clostridium thermocellum et rel.'\n",
       "47. 'Collinsella'\n",
       "48. 'Coprobacillus catenaformis et rel.'\n",
       "49. 'Coprococcus eutactus et rel.'\n",
       "50. 'Corynebacterium'\n",
       "51. 'Desulfovibrio et rel.'\n",
       "52. 'Dialister'\n",
       "53. 'Dorea formicigenerans et rel.'\n",
       "54. 'Eggerthella lenta et rel.'\n",
       "55. 'Enterobacter aerogenes et rel.'\n",
       "56. 'Enterococcus'\n",
       "57. 'Escherichia coli et rel.'\n",
       "58. 'Eubacterium biforme et rel.'\n",
       "59. 'Eubacterium cylindroides et rel.'\n",
       "60. 'Eubacterium hallii et rel.'\n",
       "61. 'Eubacterium limosum et rel.'\n",
       "62. 'Eubacterium rectale et rel.'\n",
       "63. 'Eubacterium siraeum et rel.'\n",
       "64. 'Eubacterium ventriosum et rel.'\n",
       "65. 'Faecalibacterium prausnitzii et rel.'\n",
       "66. 'Fusobacteria'\n",
       "67. 'Gemella'\n",
       "68. 'Granulicatella'\n",
       "69. 'Haemophilus'\n",
       "70. 'Helicobacter'\n",
       "71. 'Klebisiella pneumoniae et rel.'\n",
       "72. 'Lachnobacillus bovis et rel.'\n",
       "73. 'Lachnospira pectinoschiza et rel.'\n",
       "74. 'Lactobacillus catenaformis et rel.'\n",
       "75. 'Lactobacillus gasseri et rel.'\n",
       "76. 'Lactobacillus plantarum et rel.'\n",
       "77. 'Lactobacillus salivarius et rel.'\n",
       "78. 'Lactococcus'\n",
       "79. 'Leminorella'\n",
       "80. 'Megamonas hypermegale et rel.'\n",
       "81. 'Megasphaera elsdenii et rel.'\n",
       "82. 'Methylobacterium'\n",
       "83. 'Micrococcaceae'\n",
       "84. 'Mitsuokella multiacida et rel.'\n",
       "85. 'Moraxellaceae'\n",
       "86. 'Novosphingobium'\n",
       "87. 'Oceanospirillum'\n",
       "88. 'Oscillospira guillermondii et rel.'\n",
       "89. 'Outgrouping clostridium cluster XIVa'\n",
       "90. 'Oxalobacter formigenes et rel.'\n",
       "91. 'Papillibacter cinnamivorans et rel.'\n",
       "92. 'Parabacteroides distasonis et rel.'\n",
       "93. 'Peptococcus niger et rel.'\n",
       "94. 'Peptostreptococcus anaerobius et rel.'\n",
       "95. 'Peptostreptococcus micros et rel.'\n",
       "96. 'Phascolarctobacterium faecium et rel.'\n",
       "97. 'Prevotella melaninogenica et rel.'\n",
       "98. 'Prevotella oralis et rel.'\n",
       "99. 'Prevotella ruminicola et rel.'\n",
       "100. 'Prevotella tannerae et rel.'\n",
       "101. 'Propionibacterium'\n",
       "102. 'Proteus et rel.'\n",
       "103. 'Pseudomonas'\n",
       "104. 'Roseburia intestinalis et rel.'\n",
       "105. 'Ruminococcus bromii et rel.'\n",
       "106. 'Ruminococcus callidus et rel.'\n",
       "107. 'Ruminococcus gnavus et rel.'\n",
       "108. 'Ruminococcus lactaris et rel.'\n",
       "109. 'Ruminococcus obeum et rel.'\n",
       "110. 'Serratia'\n",
       "111. 'Sporobacter termitidis et rel.'\n",
       "112. 'Staphylococcus'\n",
       "113. 'Streptococcus bovis et rel.'\n",
       "114. 'Streptococcus intermedius et rel.'\n",
       "115. 'Streptococcus mitis et rel.'\n",
       "116. 'Subdoligranulum variable at rel.'\n",
       "117. 'Sutterella wadsworthia et rel.'\n",
       "118. 'Tannerella et rel.'\n",
       "119. 'Uncultured Bacteroidetes'\n",
       "120. 'Uncultured Chroococcales'\n",
       "121. 'Uncultured Clostridiales I'\n",
       "122. 'Uncultured Clostridiales II'\n",
       "123. 'Uncultured Mollicutes'\n",
       "124. 'Uncultured Selenomonadaceae'\n",
       "125. 'Veillonella'\n",
       "126. 'Vibrio'\n",
       "127. 'Weissella et rel.'\n",
       "128. 'Wissella et rel.'\n",
       "129. 'Xanthomonadaceae'\n",
       "130. 'Yersinia et rel.'\n",
       "\n",
       "\n"
      ],
      "text/plain": [
       "  [1] \"Actinomycetaceae\"                     \n",
       "  [2] \"Aerococcus\"                           \n",
       "  [3] \"Aeromonas\"                            \n",
       "  [4] \"Akkermansia\"                          \n",
       "  [5] \"Alcaligenes faecalis et rel.\"         \n",
       "  [6] \"Allistipes et rel.\"                   \n",
       "  [7] \"Anaerobiospirillum\"                   \n",
       "  [8] \"Anaerofustis\"                         \n",
       "  [9] \"Anaerostipes caccae et rel.\"          \n",
       " [10] \"Anaerotruncus colihominis et rel.\"    \n",
       " [11] \"Anaerovorax odorimutans et rel.\"      \n",
       " [12] \"Aneurinibacillus\"                     \n",
       " [13] \"Aquabacterium\"                        \n",
       " [14] \"Asteroleplasma et rel.\"               \n",
       " [15] \"Atopobium\"                            \n",
       " [16] \"Bacillus\"                             \n",
       " [17] \"Bacteroides fragilis et rel.\"         \n",
       " [18] \"Bacteroides intestinalis et rel.\"     \n",
       " [19] \"Bacteroides ovatus et rel.\"           \n",
       " [20] \"Bacteroides plebeius et rel.\"         \n",
       " [21] \"Bacteroides splachnicus et rel.\"      \n",
       " [22] \"Bacteroides stercoris et rel.\"        \n",
       " [23] \"Bacteroides uniformis et rel.\"        \n",
       " [24] \"Bacteroides vulgatus et rel.\"         \n",
       " [25] \"Bifidobacterium\"                      \n",
       " [26] \"Bilophila et rel.\"                    \n",
       " [27] \"Brachyspira\"                          \n",
       " [28] \"Bryantella formatexigens et rel.\"     \n",
       " [29] \"Bulleidia moorei et rel.\"             \n",
       " [30] \"Burkholderia\"                         \n",
       " [31] \"Butyrivibrio crossotus et rel.\"       \n",
       " [32] \"Campylobacter\"                        \n",
       " [33] \"Catenibacterium mitsuokai et rel.\"    \n",
       " [34] \"Clostridium (sensu stricto)\"          \n",
       " [35] \"Clostridium cellulosi et rel.\"        \n",
       " [36] \"Clostridium colinum et rel.\"          \n",
       " [37] \"Clostridium difficile et rel.\"        \n",
       " [38] \"Clostridium felsineum et rel.\"        \n",
       " [39] \"Clostridium leptum et rel.\"           \n",
       " [40] \"Clostridium nexile et rel.\"           \n",
       " [41] \"Clostridium orbiscindens et rel.\"     \n",
       " [42] \"Clostridium ramosum et rel.\"          \n",
       " [43] \"Clostridium sphenoides et rel.\"       \n",
       " [44] \"Clostridium stercorarium et rel.\"     \n",
       " [45] \"Clostridium symbiosum et rel.\"        \n",
       " [46] \"Clostridium thermocellum et rel.\"     \n",
       " [47] \"Collinsella\"                          \n",
       " [48] \"Coprobacillus catenaformis et rel.\"   \n",
       " [49] \"Coprococcus eutactus et rel.\"         \n",
       " [50] \"Corynebacterium\"                      \n",
       " [51] \"Desulfovibrio et rel.\"                \n",
       " [52] \"Dialister\"                            \n",
       " [53] \"Dorea formicigenerans et rel.\"        \n",
       " [54] \"Eggerthella lenta et rel.\"            \n",
       " [55] \"Enterobacter aerogenes et rel.\"       \n",
       " [56] \"Enterococcus\"                         \n",
       " [57] \"Escherichia coli et rel.\"             \n",
       " [58] \"Eubacterium biforme et rel.\"          \n",
       " [59] \"Eubacterium cylindroides et rel.\"     \n",
       " [60] \"Eubacterium hallii et rel.\"           \n",
       " [61] \"Eubacterium limosum et rel.\"          \n",
       " [62] \"Eubacterium rectale et rel.\"          \n",
       " [63] \"Eubacterium siraeum et rel.\"          \n",
       " [64] \"Eubacterium ventriosum et rel.\"       \n",
       " [65] \"Faecalibacterium prausnitzii et rel.\" \n",
       " [66] \"Fusobacteria\"                         \n",
       " [67] \"Gemella\"                              \n",
       " [68] \"Granulicatella\"                       \n",
       " [69] \"Haemophilus\"                          \n",
       " [70] \"Helicobacter\"                         \n",
       " [71] \"Klebisiella pneumoniae et rel.\"       \n",
       " [72] \"Lachnobacillus bovis et rel.\"         \n",
       " [73] \"Lachnospira pectinoschiza et rel.\"    \n",
       " [74] \"Lactobacillus catenaformis et rel.\"   \n",
       " [75] \"Lactobacillus gasseri et rel.\"        \n",
       " [76] \"Lactobacillus plantarum et rel.\"      \n",
       " [77] \"Lactobacillus salivarius et rel.\"     \n",
       " [78] \"Lactococcus\"                          \n",
       " [79] \"Leminorella\"                          \n",
       " [80] \"Megamonas hypermegale et rel.\"        \n",
       " [81] \"Megasphaera elsdenii et rel.\"         \n",
       " [82] \"Methylobacterium\"                     \n",
       " [83] \"Micrococcaceae\"                       \n",
       " [84] \"Mitsuokella multiacida et rel.\"       \n",
       " [85] \"Moraxellaceae\"                        \n",
       " [86] \"Novosphingobium\"                      \n",
       " [87] \"Oceanospirillum\"                      \n",
       " [88] \"Oscillospira guillermondii et rel.\"   \n",
       " [89] \"Outgrouping clostridium cluster XIVa\" \n",
       " [90] \"Oxalobacter formigenes et rel.\"       \n",
       " [91] \"Papillibacter cinnamivorans et rel.\"  \n",
       " [92] \"Parabacteroides distasonis et rel.\"   \n",
       " [93] \"Peptococcus niger et rel.\"            \n",
       " [94] \"Peptostreptococcus anaerobius et rel.\"\n",
       " [95] \"Peptostreptococcus micros et rel.\"    \n",
       " [96] \"Phascolarctobacterium faecium et rel.\"\n",
       " [97] \"Prevotella melaninogenica et rel.\"    \n",
       " [98] \"Prevotella oralis et rel.\"            \n",
       " [99] \"Prevotella ruminicola et rel.\"        \n",
       "[100] \"Prevotella tannerae et rel.\"          \n",
       "[101] \"Propionibacterium\"                    \n",
       "[102] \"Proteus et rel.\"                      \n",
       "[103] \"Pseudomonas\"                          \n",
       "[104] \"Roseburia intestinalis et rel.\"       \n",
       "[105] \"Ruminococcus bromii et rel.\"          \n",
       "[106] \"Ruminococcus callidus et rel.\"        \n",
       "[107] \"Ruminococcus gnavus et rel.\"          \n",
       "[108] \"Ruminococcus lactaris et rel.\"        \n",
       "[109] \"Ruminococcus obeum et rel.\"           \n",
       "[110] \"Serratia\"                             \n",
       "[111] \"Sporobacter termitidis et rel.\"       \n",
       "[112] \"Staphylococcus\"                       \n",
       "[113] \"Streptococcus bovis et rel.\"          \n",
       "[114] \"Streptococcus intermedius et rel.\"    \n",
       "[115] \"Streptococcus mitis et rel.\"          \n",
       "[116] \"Subdoligranulum variable at rel.\"     \n",
       "[117] \"Sutterella wadsworthia et rel.\"       \n",
       "[118] \"Tannerella et rel.\"                   \n",
       "[119] \"Uncultured Bacteroidetes\"             \n",
       "[120] \"Uncultured Chroococcales\"             \n",
       "[121] \"Uncultured Clostridiales I\"           \n",
       "[122] \"Uncultured Clostridiales II\"          \n",
       "[123] \"Uncultured Mollicutes\"                \n",
       "[124] \"Uncultured Selenomonadaceae\"          \n",
       "[125] \"Veillonella\"                          \n",
       "[126] \"Vibrio\"                               \n",
       "[127] \"Weissella et rel.\"                    \n",
       "[128] \"Wissella et rel.\"                     \n",
       "[129] \"Xanthomonadaceae\"                     \n",
       "[130] \"Yersinia et rel.\"                     "
      ]
     },
     "metadata": {},
     "output_type": "display_data"
    }
   ],
   "source": [
    "# Names\n",
    "# Taxonomic levels\n",
    "ranks <- rank_names(pseq)  \n",
    "# Taxa names at the analysed level\n",
    "taxa  <- taxa(pseq)       \n",
    "\n",
    "ranks\n",
    "taxa"
   ]
  },
  {
   "cell_type": "code",
   "execution_count": 52,
   "metadata": {},
   "outputs": [
    {
     "data": {
      "text/plain": [
       "phyloseq-class experiment-level object\n",
       "otu_table()   OTU Table:         [ 16 taxa and 1151 samples ]\n",
       "sample_data() Sample Data:       [ 1151 samples by 10 sample variables ]\n",
       "tax_table()   Taxonomy Table:    [ 16 taxa by 3 taxonomic ranks ]"
      ]
     },
     "metadata": {},
     "output_type": "display_data"
    }
   ],
   "source": [
    "# Subset taxa\n",
    "pseq.bac <- subset_taxa(pseq, Phylum == \"Bacteroidetes\")\n",
    "\n",
    "pseq.bac"
   ]
  },
  {
   "cell_type": "code",
   "execution_count": 53,
   "metadata": {},
   "outputs": [
    {
     "data": {
      "text/plain": [
       "phyloseq-class experiment-level object\n",
       "otu_table()   OTU Table:         [ 16 taxa and 1151 samples ]\n",
       "sample_data() Sample Data:       [ 1151 samples by 10 sample variables ]\n",
       "tax_table()   Taxonomy Table:    [ 16 taxa by 3 taxonomic ranks ]"
      ]
     },
     "metadata": {},
     "output_type": "display_data"
    },
    {
     "data": {
      "text/plain": [
       "phyloseq-class experiment-level object\n",
       "otu_table()   OTU Table:         [ 130 taxa and 1151 samples ]\n",
       "sample_data() Sample Data:       [ 1151 samples by 10 sample variables ]\n",
       "tax_table()   Taxonomy Table:    [ 130 taxa by 3 taxonomic ranks ]"
      ]
     },
     "metadata": {},
     "output_type": "display_data"
    }
   ],
   "source": [
    "# Prune (select) taxa\n",
    "# List of Genera in the Bacteroideted Phylum\n",
    "taxa <- map_levels(NULL, \"Phylum\", \"Genus\", pseq)$Bacteroidetes\n",
    "# With given taxon names\n",
    "ex2 <- prune_taxa(taxa, pseq)\n",
    "# Taxa with positive sum across samples\n",
    "ex3 <- prune_taxa(taxa_sums(pseq) > 0, pseq)\n",
    "\n",
    "ex2\n",
    "ex3"
   ]
  },
  {
   "cell_type": "code",
   "execution_count": 54,
   "metadata": {},
   "outputs": [
    {
     "data": {
      "text/plain": [
       "phyloseq-class experiment-level object\n",
       "otu_table()   OTU Table:         [ 130 taxa and 1151 samples ]\n",
       "sample_data() Sample Data:       [ 1151 samples by 10 sample variables ]\n",
       "tax_table()   Taxonomy Table:    [ 130 taxa by 3 taxonomic ranks ]"
      ]
     },
     "metadata": {},
     "output_type": "display_data"
    }
   ],
   "source": [
    "# Filter by user-specified function values (here variance)\n",
    "f <- filter_taxa(pseq, function(x) var(x) > 1e-05, TRUE)\n",
    "\n",
    "f                 "
   ]
  },
  {
   "cell_type": "markdown",
   "metadata": {},
   "source": [
    "#### Metadata"
   ]
  },
  {
   "cell_type": "code",
   "execution_count": 55,
   "metadata": {},
   "outputs": [
    {
     "name": "stderr",
     "output_type": "stream",
     "text": [
      "Warning message:\n",
      "“Factor `Groups` contains implicit NA, consider using `forcats::fct_explicit_na`”\n",
      "Warning message:\n",
      "“Factor `Factor` contains implicit NA, consider using `forcats::fct_explicit_na`”\n",
      "Warning message:\n",
      "“Factor `Groups` contains implicit NA, consider using `forcats::fct_explicit_na`”\n"
     ]
    },
    {
     "data": {
      "image/png": "[encoded data removed]",
      "text/plain": [
       "plot without title"
      ]
     },
     "metadata": {
      "image/png": {
       "height": 420,
       "width": 420
      },
      "text/plain": {
       "height": 420,
       "width": 420
      }
     },
     "output_type": "display_data"
    }
   ],
   "source": [
    "p <- plot_frequencies(sample_data(pseq), \"bmi_group\", \"sex\")\n",
    "\n",
    "print(p)"
   ]
  }
 ],
 "metadata": {
  "kernelspec": {
   "display_name": "R",
   "language": "R",
   "name": "ir"
  },
  "language_info": {
   "codemirror_mode": "r",
   "file_extension": ".r",
   "mimetype": "text/x-r-source",
   "name": "R",
   "pygments_lexer": "r",
   "version": "3.6.1"
  }
 },
 "nbformat": 4,
 "nbformat_minor": 2
}
