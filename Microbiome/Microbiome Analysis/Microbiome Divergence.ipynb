{
 "cells": [
  {
   "cell_type": "markdown",
   "metadata": {},
   "source": [
    "#### Prepare"
   ]
  },
  {
   "cell_type": "code",
   "execution_count": null,
   "metadata": {},
   "outputs": [],
   "source": [
    "# Import packages\n",
    "library(\"microbiome\")\n",
    "library(\"dplyr\")"
   ]
  },
  {
   "cell_type": "code",
   "execution_count": 2,
   "metadata": {},
   "outputs": [
    {
     "data": {
      "text/html": [
       "<table>\n",
       "<caption>A otu_table: 6 × 44 of type dbl</caption>\n",
       "<thead>\n",
       "\t<tr><th></th><th scope=col>sample-1</th><th scope=col>sample-2</th><th scope=col>sample-3</th><th scope=col>sample-4</th><th scope=col>sample-5</th><th scope=col>sample-6</th><th scope=col>sample-7</th><th scope=col>sample-8</th><th scope=col>sample-9</th><th scope=col>sample-10</th><th scope=col>⋯</th><th scope=col>sample-35</th><th scope=col>sample-36</th><th scope=col>sample-37</th><th scope=col>sample-38</th><th scope=col>sample-39</th><th scope=col>sample-40</th><th scope=col>sample-41</th><th scope=col>sample-42</th><th scope=col>sample-43</th><th scope=col>sample-44</th></tr>\n",
       "</thead>\n",
       "<tbody>\n",
       "\t<tr><th scope=row>Actinomycetaceae</th><td>  0</td><td>  2</td><td>  9</td><td>  4</td><td>  0</td><td>  3</td><td> 10</td><td> 24</td><td>  9</td><td> 19</td><td>⋯</td><td>  0</td><td>  0</td><td>  1</td><td>  0</td><td>  12</td><td>  10</td><td>  0</td><td>  5</td><td>  0</td><td>  5</td></tr>\n",
       "\t<tr><th scope=row>Aerococcus</th><td>  6</td><td>  6</td><td>  2</td><td>  0</td><td> 13</td><td>  0</td><td> 13</td><td> 21</td><td>  9</td><td>  0</td><td>⋯</td><td>  5</td><td> 26</td><td> 10</td><td> 24</td><td>   0</td><td>   0</td><td>  3</td><td>  3</td><td>  4</td><td>  2</td></tr>\n",
       "\t<tr><th scope=row>Aeromonas</th><td>  0</td><td> 16</td><td> 11</td><td> 18</td><td>  0</td><td>  0</td><td>  7</td><td>  0</td><td> 10</td><td> 11</td><td>⋯</td><td> 13</td><td> 25</td><td>  0</td><td>  1</td><td>   0</td><td>   0</td><td> 17</td><td> 13</td><td>  5</td><td> 10</td></tr>\n",
       "\t<tr><th scope=row>Akkermansia</th><td>224</td><td>186</td><td>224</td><td>179</td><td>241</td><td>416</td><td>357</td><td>276</td><td>804</td><td>334</td><td>⋯</td><td>142</td><td>229</td><td>225</td><td>250</td><td>1474</td><td>2414</td><td>245</td><td>341</td><td>708</td><td>343</td></tr>\n",
       "\t<tr><th scope=row>Alcaligenes faecalis et rel.</th><td>  0</td><td>  0</td><td> 12</td><td>  0</td><td>  0</td><td>  0</td><td>  0</td><td>  0</td><td>  0</td><td>  0</td><td>⋯</td><td>  0</td><td>  0</td><td>  0</td><td>  0</td><td>   0</td><td>   0</td><td>  0</td><td>  0</td><td>  0</td><td>  0</td></tr>\n",
       "\t<tr><th scope=row>Allistipes et rel.</th><td>169</td><td>107</td><td>194</td><td>216</td><td>277</td><td>312</td><td> 99</td><td>123</td><td> 44</td><td> 86</td><td>⋯</td><td>182</td><td> 47</td><td>309</td><td> 97</td><td> 301</td><td> 258</td><td> 66</td><td> 69</td><td>181</td><td>182</td></tr>\n",
       "</tbody>\n",
       "</table>\n"
      ],
      "text/latex": [
       "A otu_table: 6 × 44 of type dbl\n",
       "\\begin{tabular}{r|llllllllllllllllllllllllllllllllllllllllllll}\n",
       "  & sample-1 & sample-2 & sample-3 & sample-4 & sample-5 & sample-6 & sample-7 & sample-8 & sample-9 & sample-10 & sample-11 & sample-12 & sample-13 & sample-14 & sample-15 & sample-16 & sample-17 & sample-18 & sample-19 & sample-20 & sample-21 & sample-22 & sample-23 & sample-24 & sample-25 & sample-26 & sample-27 & sample-28 & sample-29 & sample-30 & sample-31 & sample-32 & sample-33 & sample-34 & sample-35 & sample-36 & sample-37 & sample-38 & sample-39 & sample-40 & sample-41 & sample-42 & sample-43 & sample-44\\\\\n",
       "\\hline\n",
       "\tActinomycetaceae &   0 &   2 &   9 &   4 &   0 &   3 &  10 &  24 &   9 &  19 &   0 &   0 &   5 &   5 &   4 &   9 &    9 &   8 &  14 &   6 &   0 &    5 &   5 &   1 &   0 &   0 &    5 &    3 &   0 &   0 &   0 &   0 &   0 &   3 &   0 &   0 &   1 &   0 &   12 &   10 &   0 &   5 &   0 &   5\\\\\n",
       "\tAerococcus &   6 &   6 &   2 &   0 &  13 &   0 &  13 &  21 &   9 &   0 &   6 &   0 &  12 &  17 &   0 &   2 &    0 &   8 &  20 &  13 &   0 &    0 &   9 &   0 &  11 &   7 &    0 &    0 &   0 &   0 &   0 &   4 &   0 &   6 &   5 &  26 &  10 &  24 &    0 &    0 &   3 &   3 &   4 &   2\\\\\n",
       "\tAeromonas &   0 &  16 &  11 &  18 &   0 &   0 &   7 &   0 &  10 &  11 &   7 &   8 &  12 &   6 &   4 &   0 &    2 &   0 &  34 &  31 &   1 &    5 &   0 &  13 &   2 &   4 &    0 &    0 &   1 &   1 &   1 &   0 &   0 &   0 &  13 &  25 &   0 &   1 &    0 &    0 &  17 &  13 &   5 &  10\\\\\n",
       "\tAkkermansia & 224 & 186 & 224 & 179 & 241 & 416 & 357 & 276 & 804 & 334 & 714 & 650 & 223 & 272 & 110 & 141 & 1243 & 156 & 314 & 571 & 553 & 1451 & 220 & 137 & 206 & 143 & 2870 & 2567 & 212 & 287 & 445 & 411 & 125 & 115 & 142 & 229 & 225 & 250 & 1474 & 2414 & 245 & 341 & 708 & 343\\\\\n",
       "\tAlcaligenes faecalis et rel. &   0 &   0 &  12 &   0 &   0 &   0 &   0 &   0 &   0 &   0 &   0 &   7 &   0 &   0 &   0 &   0 &    0 &   0 &   0 &   0 &   0 &    3 &   3 &   0 &   0 &   0 &   10 &    3 &   0 &   0 &   0 &   0 &   0 &   0 &   0 &   0 &   0 &   0 &    0 &    0 &   0 &   0 &   0 &   0\\\\\n",
       "\tAllistipes et rel. & 169 & 107 & 194 & 216 & 277 & 312 &  99 & 123 &  44 &  86 & 189 & 151 & 228 & 348 & 125 & 171 &  457 & 288 & 248 & 365 & 157 &  267 & 345 & 276 & 213 & 196 &  588 &  533 & 272 & 439 & 231 & 230 &  89 &  27 & 182 &  47 & 309 &  97 &  301 &  258 &  66 &  69 & 181 & 182\\\\\n",
       "\\end{tabular}\n"
      ],
      "text/markdown": [
       "\n",
       "A otu_table: 6 × 44 of type dbl\n",
       "\n",
       "| <!--/--> | sample-1 | sample-2 | sample-3 | sample-4 | sample-5 | sample-6 | sample-7 | sample-8 | sample-9 | sample-10 | ⋯ | sample-35 | sample-36 | sample-37 | sample-38 | sample-39 | sample-40 | sample-41 | sample-42 | sample-43 | sample-44 |\n",
       "|---|---|---|---|---|---|---|---|---|---|---|---|---|---|---|---|---|---|---|---|---|---|\n",
       "| Actinomycetaceae |   0 |   2 |   9 |   4 |   0 |   3 |  10 |  24 |   9 |  19 | ⋯ |   0 |   0 |   1 |   0 |   12 |   10 |   0 |   5 |   0 |   5 |\n",
       "| Aerococcus |   6 |   6 |   2 |   0 |  13 |   0 |  13 |  21 |   9 |   0 | ⋯ |   5 |  26 |  10 |  24 |    0 |    0 |   3 |   3 |   4 |   2 |\n",
       "| Aeromonas |   0 |  16 |  11 |  18 |   0 |   0 |   7 |   0 |  10 |  11 | ⋯ |  13 |  25 |   0 |   1 |    0 |    0 |  17 |  13 |   5 |  10 |\n",
       "| Akkermansia | 224 | 186 | 224 | 179 | 241 | 416 | 357 | 276 | 804 | 334 | ⋯ | 142 | 229 | 225 | 250 | 1474 | 2414 | 245 | 341 | 708 | 343 |\n",
       "| Alcaligenes faecalis et rel. |   0 |   0 |  12 |   0 |   0 |   0 |   0 |   0 |   0 |   0 | ⋯ |   0 |   0 |   0 |   0 |    0 |    0 |   0 |   0 |   0 |   0 |\n",
       "| Allistipes et rel. | 169 | 107 | 194 | 216 | 277 | 312 |  99 | 123 |  44 |  86 | ⋯ | 182 |  47 | 309 |  97 |  301 |  258 |  66 |  69 | 181 | 182 |\n",
       "\n"
      ],
      "text/plain": [
       "                             sample-1 sample-2 sample-3 sample-4 sample-5\n",
       "Actinomycetaceae               0        2        9        4        0     \n",
       "Aerococcus                     6        6        2        0       13     \n",
       "Aeromonas                      0       16       11       18        0     \n",
       "Akkermansia                  224      186      224      179      241     \n",
       "Alcaligenes faecalis et rel.   0        0       12        0        0     \n",
       "Allistipes et rel.           169      107      194      216      277     \n",
       "                             sample-6 sample-7 sample-8 sample-9 sample-10 ⋯\n",
       "Actinomycetaceae               3       10       24        9       19       ⋯\n",
       "Aerococcus                     0       13       21        9        0       ⋯\n",
       "Aeromonas                      0        7        0       10       11       ⋯\n",
       "Akkermansia                  416      357      276      804      334       ⋯\n",
       "Alcaligenes faecalis et rel.   0        0        0        0        0       ⋯\n",
       "Allistipes et rel.           312       99      123       44       86       ⋯\n",
       "                             sample-35 sample-36 sample-37 sample-38 sample-39\n",
       "Actinomycetaceae               0         0         1         0         12     \n",
       "Aerococcus                     5        26        10        24          0     \n",
       "Aeromonas                     13        25         0         1          0     \n",
       "Akkermansia                  142       229       225       250       1474     \n",
       "Alcaligenes faecalis et rel.   0         0         0         0          0     \n",
       "Allistipes et rel.           182        47       309        97        301     \n",
       "                             sample-40 sample-41 sample-42 sample-43 sample-44\n",
       "Actinomycetaceae               10        0         5         0         5      \n",
       "Aerococcus                      0        3         3         4         2      \n",
       "Aeromonas                       0       17        13         5        10      \n",
       "Akkermansia                  2414      245       341       708       343      \n",
       "Alcaligenes faecalis et rel.    0        0         0         0         0      \n",
       "Allistipes et rel.            258       66        69       181       182      "
      ]
     },
     "metadata": {},
     "output_type": "display_data"
    },
    {
     "data": {
      "text/html": [
       "<table>\n",
       "<caption>A sample_data: 6 × 5</caption>\n",
       "<thead>\n",
       "\t<tr><th></th><th scope=col>time</th><th scope=col>sex</th><th scope=col>subject</th><th scope=col>sample</th><th scope=col>group</th></tr>\n",
       "\t<tr><th></th><th scope=col>&lt;int&gt;</th><th scope=col>&lt;fct&gt;</th><th scope=col>&lt;fct&gt;</th><th scope=col>&lt;chr&gt;</th><th scope=col>&lt;fct&gt;</th></tr>\n",
       "</thead>\n",
       "<tbody>\n",
       "\t<tr><th scope=row>sample-1</th><td>1</td><td>female</td><td>S1</td><td>sample-1</td><td>Placebo</td></tr>\n",
       "\t<tr><th scope=row>sample-2</th><td>2</td><td>female</td><td>S1</td><td>sample-2</td><td>Placebo</td></tr>\n",
       "\t<tr><th scope=row>sample-3</th><td>1</td><td>female</td><td>S2</td><td>sample-3</td><td>Placebo</td></tr>\n",
       "\t<tr><th scope=row>sample-4</th><td>2</td><td>female</td><td>S2</td><td>sample-4</td><td>Placebo</td></tr>\n",
       "\t<tr><th scope=row>sample-5</th><td>1</td><td>female</td><td>S3</td><td>sample-5</td><td>LGG    </td></tr>\n",
       "\t<tr><th scope=row>sample-6</th><td>2</td><td>female</td><td>S3</td><td>sample-6</td><td>LGG    </td></tr>\n",
       "</tbody>\n",
       "</table>\n"
      ],
      "text/latex": [
       "A sample_data: 6 × 5\n",
       "\\begin{tabular}{r|lllll}\n",
       "  & time & sex & subject & sample & group\\\\\n",
       "  & <int> & <fct> & <fct> & <chr> & <fct>\\\\\n",
       "\\hline\n",
       "\tsample-1 & 1 & female & S1 & sample-1 & Placebo\\\\\n",
       "\tsample-2 & 2 & female & S1 & sample-2 & Placebo\\\\\n",
       "\tsample-3 & 1 & female & S2 & sample-3 & Placebo\\\\\n",
       "\tsample-4 & 2 & female & S2 & sample-4 & Placebo\\\\\n",
       "\tsample-5 & 1 & female & S3 & sample-5 & LGG    \\\\\n",
       "\tsample-6 & 2 & female & S3 & sample-6 & LGG    \\\\\n",
       "\\end{tabular}\n"
      ],
      "text/markdown": [
       "\n",
       "A sample_data: 6 × 5\n",
       "\n",
       "| <!--/--> | time &lt;int&gt; | sex &lt;fct&gt; | subject &lt;fct&gt; | sample &lt;chr&gt; | group &lt;fct&gt; |\n",
       "|---|---|---|---|---|---|\n",
       "| sample-1 | 1 | female | S1 | sample-1 | Placebo |\n",
       "| sample-2 | 2 | female | S1 | sample-2 | Placebo |\n",
       "| sample-3 | 1 | female | S2 | sample-3 | Placebo |\n",
       "| sample-4 | 2 | female | S2 | sample-4 | Placebo |\n",
       "| sample-5 | 1 | female | S3 | sample-5 | LGG     |\n",
       "| sample-6 | 2 | female | S3 | sample-6 | LGG     |\n",
       "\n"
      ],
      "text/plain": [
       "         time sex    subject sample   group  \n",
       "sample-1 1    female S1      sample-1 Placebo\n",
       "sample-2 2    female S1      sample-2 Placebo\n",
       "sample-3 1    female S2      sample-3 Placebo\n",
       "sample-4 2    female S2      sample-4 Placebo\n",
       "sample-5 1    female S3      sample-5 LGG    \n",
       "sample-6 2    female S3      sample-6 LGG    "
      ]
     },
     "metadata": {},
     "output_type": "display_data"
    },
    {
     "data": {
      "text/html": [
       "<table>\n",
       "<caption>A taxonomyTable: 6 × 3 of type chr</caption>\n",
       "<thead>\n",
       "\t<tr><th></th><th scope=col>Phylum</th><th scope=col>Family</th><th scope=col>Genus</th></tr>\n",
       "</thead>\n",
       "<tbody>\n",
       "\t<tr><th scope=row>Actinomycetaceae</th><td>Actinobacteria </td><td>Actinobacteria </td><td>Actinomycetaceae            </td></tr>\n",
       "\t<tr><th scope=row>Aerococcus</th><td>Firmicutes     </td><td>Bacilli        </td><td>Aerococcus                  </td></tr>\n",
       "\t<tr><th scope=row>Aeromonas</th><td>Proteobacteria </td><td>Proteobacteria </td><td>Aeromonas                   </td></tr>\n",
       "\t<tr><th scope=row>Akkermansia</th><td>Verrucomicrobia</td><td>Verrucomicrobia</td><td>Akkermansia                 </td></tr>\n",
       "\t<tr><th scope=row>Alcaligenes faecalis et rel.</th><td>Proteobacteria </td><td>Proteobacteria </td><td>Alcaligenes faecalis et rel.</td></tr>\n",
       "\t<tr><th scope=row>Allistipes et rel.</th><td>Bacteroidetes  </td><td>Bacteroidetes  </td><td>Allistipes et rel.          </td></tr>\n",
       "</tbody>\n",
       "</table>\n"
      ],
      "text/latex": [
       "A taxonomyTable: 6 × 3 of type chr\n",
       "\\begin{tabular}{r|lll}\n",
       "  & Phylum & Family & Genus\\\\\n",
       "\\hline\n",
       "\tActinomycetaceae & Actinobacteria  & Actinobacteria  & Actinomycetaceae            \\\\\n",
       "\tAerococcus & Firmicutes      & Bacilli         & Aerococcus                  \\\\\n",
       "\tAeromonas & Proteobacteria  & Proteobacteria  & Aeromonas                   \\\\\n",
       "\tAkkermansia & Verrucomicrobia & Verrucomicrobia & Akkermansia                 \\\\\n",
       "\tAlcaligenes faecalis et rel. & Proteobacteria  & Proteobacteria  & Alcaligenes faecalis et rel.\\\\\n",
       "\tAllistipes et rel. & Bacteroidetes   & Bacteroidetes   & Allistipes et rel.          \\\\\n",
       "\\end{tabular}\n"
      ],
      "text/markdown": [
       "\n",
       "A taxonomyTable: 6 × 3 of type chr\n",
       "\n",
       "| <!--/--> | Phylum | Family | Genus |\n",
       "|---|---|---|---|\n",
       "| Actinomycetaceae | Actinobacteria  | Actinobacteria  | Actinomycetaceae             |\n",
       "| Aerococcus | Firmicutes      | Bacilli         | Aerococcus                   |\n",
       "| Aeromonas | Proteobacteria  | Proteobacteria  | Aeromonas                    |\n",
       "| Akkermansia | Verrucomicrobia | Verrucomicrobia | Akkermansia                  |\n",
       "| Alcaligenes faecalis et rel. | Proteobacteria  | Proteobacteria  | Alcaligenes faecalis et rel. |\n",
       "| Allistipes et rel. | Bacteroidetes   | Bacteroidetes   | Allistipes et rel.           |\n",
       "\n"
      ],
      "text/plain": [
       "                             Phylum          Family         \n",
       "Actinomycetaceae             Actinobacteria  Actinobacteria \n",
       "Aerococcus                   Firmicutes      Bacilli        \n",
       "Aeromonas                    Proteobacteria  Proteobacteria \n",
       "Akkermansia                  Verrucomicrobia Verrucomicrobia\n",
       "Alcaligenes faecalis et rel. Proteobacteria  Proteobacteria \n",
       "Allistipes et rel.           Bacteroidetes   Bacteroidetes  \n",
       "                             Genus                       \n",
       "Actinomycetaceae             Actinomycetaceae            \n",
       "Aerococcus                   Aerococcus                  \n",
       "Aeromonas                    Aeromonas                   \n",
       "Akkermansia                  Akkermansia                 \n",
       "Alcaligenes faecalis et rel. Alcaligenes faecalis et rel.\n",
       "Allistipes et rel.           Allistipes et rel.          "
      ]
     },
     "metadata": {},
     "output_type": "display_data"
    }
   ],
   "source": [
    "# Import data \n",
    "data(peerj32)\n",
    "pseq <- peerj32$phyloseq\n",
    "\n",
    "head(otu_table(pseq))\n",
    "head(sample_data(pseq))\n",
    "head(tax_table(pseq))"
   ]
  },
  {
   "cell_type": "markdown",
   "metadata": {},
   "source": [
    "#### Intra-individual divergence"
   ]
  },
  {
   "cell_type": "code",
   "execution_count": 27,
   "metadata": {},
   "outputs": [
    {
     "data": {
      "image/png": "[encoded data removed]",
      "text/plain": [
       "plot without title"
      ]
     },
     "metadata": {
      "image/png": {
       "height": 420,
       "width": 420
      },
      "text/plain": {
       "height": 420,
       "width": 420
      }
     },
     "output_type": "display_data"
    }
   ],
   "source": [
    "betas <- list()\n",
    "groups <- as.character(unique(meta(pseq)$group))\n",
    "for (g in groups) {\n",
    "\n",
    "  df <- subset(meta(pseq), group == g)\n",
    "  beta <- c()\n",
    "\n",
    "  for (subj in df$subject) {\n",
    "    # Pick the samples for this subject\n",
    "    dfs <- subset(df, subject == subj)\n",
    "    # Check that the subject has two time points\n",
    "    if (nrow(dfs) == 2) {\n",
    "      s <- as.character(dfs$sample)\n",
    "      # Here with just two samples we can calculate the\n",
    "      # beta diversity directly\n",
    "      beta[[subj]] <- divergence(abundances(pseq)[, s[[1]]],\n",
    "                        abundances(pseq)[, s[[2]]],\n",
    "                method = \"bray\")\n",
    "    }\n",
    "  }\n",
    "  betas[[g]] <- beta\n",
    "}\n",
    "\n",
    "boxplot(betas)"
   ]
  },
  {
   "cell_type": "markdown",
   "metadata": {},
   "source": [
    "#### Inter-individual divergence (has not succeed)"
   ]
  },
  {
   "cell_type": "code",
   "execution_count": null,
   "metadata": {},
   "outputs": [],
   "source": []
  }
 ],
 "metadata": {
  "kernelspec": {
   "display_name": "R",
   "language": "R",
   "name": "ir"
  },
  "language_info": {
   "codemirror_mode": "r",
   "file_extension": ".r",
   "mimetype": "text/x-r-source",
   "name": "R",
   "pygments_lexer": "r",
   "version": "3.6.1"
  }
 },
 "nbformat": 4,
 "nbformat_minor": 2
}
