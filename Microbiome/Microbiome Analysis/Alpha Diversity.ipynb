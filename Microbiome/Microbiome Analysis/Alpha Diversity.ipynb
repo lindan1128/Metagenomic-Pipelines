{
 "cells": [
  {
   "cell_type": "markdown",
   "metadata": {},
   "source": [
    "#### Prepare"
   ]
  },
  {
   "cell_type": "code",
   "execution_count": null,
   "metadata": {},
   "outputs": [],
   "source": [
    "# Import packages\n",
    "library(\"microbiome\")\n",
    "library(\"knitr\")"
   ]
  },
  {
   "cell_type": "code",
   "execution_count": 2,
   "metadata": {},
   "outputs": [
    {
     "data": {
      "text/html": [
       "<table>\n",
       "<caption>A otu_table: 6 × 222 of type dbl</caption>\n",
       "<thead>\n",
       "\t<tr><th></th><th scope=col>Sample-1</th><th scope=col>Sample-2</th><th scope=col>Sample-3</th><th scope=col>Sample-4</th><th scope=col>Sample-5</th><th scope=col>Sample-6</th><th scope=col>Sample-7</th><th scope=col>Sample-8</th><th scope=col>Sample-9</th><th scope=col>Sample-10</th><th scope=col>⋯</th><th scope=col>Sample-213</th><th scope=col>Sample-214</th><th scope=col>Sample-215</th><th scope=col>Sample-216</th><th scope=col>Sample-217</th><th scope=col>Sample-218</th><th scope=col>Sample-219</th><th scope=col>Sample-220</th><th scope=col>Sample-221</th><th scope=col>Sample-222</th></tr>\n",
       "</thead>\n",
       "<tbody>\n",
       "\t<tr><th scope=row>Actinomycetaceae</th><td>  0</td><td> 1</td><td> 0</td><td>  1</td><td> 0</td><td> 0</td><td> 0</td><td> 0</td><td> 0</td><td>  0</td><td>⋯</td><td> 0</td><td> 0</td><td>  0</td><td>  0</td><td> 1</td><td>  0</td><td>  0</td><td> 0</td><td>  0</td><td> 0</td></tr>\n",
       "\t<tr><th scope=row>Aerococcus</th><td>  0</td><td> 0</td><td> 0</td><td>  0</td><td> 0</td><td> 0</td><td> 0</td><td> 0</td><td> 0</td><td>  0</td><td>⋯</td><td> 0</td><td> 0</td><td>  0</td><td>  0</td><td> 0</td><td>  0</td><td>  0</td><td> 0</td><td>  0</td><td> 0</td></tr>\n",
       "\t<tr><th scope=row>Aeromonas</th><td>  0</td><td> 0</td><td> 0</td><td>  0</td><td> 0</td><td> 0</td><td> 0</td><td> 0</td><td> 0</td><td>  0</td><td>⋯</td><td> 0</td><td> 0</td><td>  0</td><td>  0</td><td> 0</td><td>  0</td><td>  0</td><td> 0</td><td>  0</td><td> 0</td></tr>\n",
       "\t<tr><th scope=row>Akkermansia</th><td> 18</td><td>97</td><td>67</td><td>256</td><td>21</td><td>16</td><td>26</td><td>30</td><td>19</td><td>125</td><td>⋯</td><td>39</td><td>17</td><td>189</td><td> 64</td><td>31</td><td> 12</td><td> 15</td><td>22</td><td> 75</td><td>45</td></tr>\n",
       "\t<tr><th scope=row>Alcaligenes faecalis et rel.</th><td>  1</td><td> 2</td><td> 3</td><td>  2</td><td> 2</td><td> 2</td><td> 2</td><td> 2</td><td> 2</td><td>  7</td><td>⋯</td><td> 2</td><td> 2</td><td> 14</td><td>  9</td><td>11</td><td>  6</td><td>  5</td><td> 2</td><td>  2</td><td> 3</td></tr>\n",
       "\t<tr><th scope=row>Allistipes et rel.</th><td>336</td><td>63</td><td>36</td><td> 96</td><td>49</td><td>17</td><td>47</td><td>49</td><td>14</td><td> 31</td><td>⋯</td><td>72</td><td>37</td><td> 99</td><td>102</td><td>56</td><td>105</td><td>709</td><td>70</td><td>160</td><td>68</td></tr>\n",
       "</tbody>\n",
       "</table>\n"
      ],
      "text/latex": [
       "A otu_table: 6 × 222 of type dbl\n",
       "\\begin{tabular}{r|llllllllllllllllllllllllllllllllllllllllllllllllllllllllllllllllllllllllllllllllllllllllllllllllllllllllllllllllllllllllllllllllllllllllllllllllllllllllllllllllllllllllllllllllllllllllllllllllllllllllllllllllllllllllllllll}\n",
       "  & Sample-1 & Sample-2 & Sample-3 & Sample-4 & Sample-5 & Sample-6 & Sample-7 & Sample-8 & Sample-9 & Sample-10 & Sample-11 & Sample-12 & Sample-13 & Sample-14 & Sample-15 & Sample-16 & Sample-17 & Sample-18 & Sample-19 & Sample-20 & Sample-21 & Sample-22 & Sample-23 & Sample-24 & Sample-25 & Sample-26 & Sample-27 & Sample-28 & Sample-29 & Sample-30 & Sample-31 & Sample-32 & Sample-33 & Sample-34 & Sample-35 & Sample-36 & Sample-37 & Sample-38 & Sample-39 & Sample-40 & Sample-41 & Sample-42 & Sample-43 & Sample-44 & Sample-45 & Sample-46 & Sample-47 & Sample-48 & Sample-49 & Sample-50 & Sample-51 & Sample-52 & Sample-53 & Sample-54 & Sample-55 & Sample-56 & Sample-57 & Sample-58 & Sample-59 & Sample-60 & Sample-61 & Sample-62 & Sample-63 & Sample-64 & Sample-65 & Sample-66 & Sample-67 & Sample-68 & Sample-69 & Sample-70 & Sample-71 & Sample-72 & Sample-73 & Sample-74 & Sample-75 & Sample-76 & Sample-77 & Sample-78 & Sample-79 & Sample-80 & Sample-81 & Sample-82 & Sample-83 & Sample-84 & Sample-85 & Sample-86 & Sample-87 & Sample-88 & Sample-89 & Sample-90 & Sample-91 & Sample-92 & Sample-93 & Sample-94 & Sample-95 & Sample-96 & Sample-97 & Sample-98 & Sample-99 & Sample-100 & Sample-101 & Sample-102 & Sample-103 & Sample-104 & Sample-105 & Sample-106 & Sample-107 & Sample-108 & Sample-109 & Sample-110 & Sample-111 & Sample-112 & Sample-113 & Sample-114 & Sample-115 & Sample-116 & Sample-117 & Sample-118 & Sample-119 & Sample-120 & Sample-121 & Sample-122 & Sample-123 & Sample-124 & Sample-125 & Sample-126 & Sample-127 & Sample-128 & Sample-129 & Sample-130 & Sample-131 & Sample-132 & Sample-133 & Sample-134 & Sample-135 & Sample-136 & Sample-137 & Sample-138 & Sample-139 & Sample-140 & Sample-141 & Sample-142 & Sample-143 & Sample-144 & Sample-145 & Sample-146 & Sample-147 & Sample-148 & Sample-149 & Sample-150 & Sample-151 & Sample-152 & Sample-153 & Sample-154 & Sample-155 & Sample-156 & Sample-157 & Sample-158 & Sample-159 & Sample-160 & Sample-161 & Sample-162 & Sample-163 & Sample-164 & Sample-165 & Sample-166 & Sample-167 & Sample-168 & Sample-169 & Sample-170 & Sample-171 & Sample-172 & Sample-173 & Sample-174 & Sample-175 & Sample-176 & Sample-177 & Sample-178 & Sample-179 & Sample-180 & Sample-181 & Sample-182 & Sample-183 & Sample-184 & Sample-185 & Sample-186 & Sample-187 & Sample-188 & Sample-189 & Sample-190 & Sample-191 & Sample-192 & Sample-193 & Sample-194 & Sample-195 & Sample-196 & Sample-197 & Sample-198 & Sample-199 & Sample-200 & Sample-201 & Sample-202 & Sample-203 & Sample-204 & Sample-205 & Sample-206 & Sample-207 & Sample-208 & Sample-209 & Sample-210 & Sample-211 & Sample-212 & Sample-213 & Sample-214 & Sample-215 & Sample-216 & Sample-217 & Sample-218 & Sample-219 & Sample-220 & Sample-221 & Sample-222\\\\\n",
       "\\hline\n",
       "\tActinomycetaceae &   0 &  1 &  0 &   1 &  0 &  0 &  0 &  0 &  0 &   0 &  0 &  1 &  1 &   0 &  0 &  0 &  0 &   0 &  0 &  0 &  1 &   1 &  0 &   0 &  0 &   0 &  0 &  0 &  0 &  0 &  0 &   0 &   0 &   0 &   0 &   0 &   0 &   0 &   0 &   1 &   0 &  0 &   0 &   0 &    0 &   0 &   1 &   0 &   0 &  0 &  0 &  0 &  0 &  0 &  1 &  1 &  0 &  0 &  0 &  0 &  0 &  0 &  1 &  0 &  0 &  0 &  0 &   0 &   0 &   0 &   0 &   0 &   0 &  0 &   0 &  0 &  0 &  0 &  0 &  0 &  0 &   0 &   0 &   0 &  0 &  0 &   0 &  0 &  0 &  0 &  0 &  0 &  0 &  0 &  0 &  0 &  0 &  0 &  0 &   0 &  0 &  0 &  0 &  0 &  0 &  0 &  0 &   0 &   0 &   0 &   0 &   0 &   0 &   0 &   0 &   0 &   0 &   0 &    0 &   0 &   0 &   0 &   0 &   0 &   0 &   0 &   0 &   0 &   0 &    0 &   0 &   0 &   0 &   0 &  0 &   0 &   0 &   0 &   0 &    0 &   0 &   0 &   0 &   0 &   0 &   0 &   0 &   0 &   0 &    0 &    0 &   0 &   0 &   0 &    0 &   1 &   0 &   0 &   0 &    0 &   0 &   1 &   0 &  0 &   0 &   0 &    0 &  0 &   0 &   0 &   0 &   0 &   0 &   0 &  0 &   0 &   0 &   0 &   0 &   0 &   0 &  0 &   0 &   0 &  0 &   0 &  0 &    0 &  0 &  0 &    0 &   0 &   0 &    0 &   0 &  0 &   1 &  1 &   0 &   0 &   0 &   0 &   0 &  0 &   0 &  0 &  0 &  0 &  0 &  0 &   0 &  0 &  0 &  0 &   0 &   0 &  1 &   0 &   0 &  0 &   0 &  0\\\\\n",
       "\tAerococcus &   0 &  0 &  0 &   0 &  0 &  0 &  0 &  0 &  0 &   0 &  0 &  0 &  0 &   0 &  0 &  0 &  0 &   0 &  0 &  0 &  0 &   0 &  0 &   0 &  0 &   0 &  0 &  0 &  0 &  0 &  0 &   0 &   0 &   0 &   0 &   0 &   0 &   0 &   0 &   0 &   0 &  0 &   0 &   0 &    0 &   0 &   0 &   0 &   0 &  0 &  0 &  0 &  0 &  0 &  0 &  0 &  0 &  0 &  0 &  0 &  0 &  0 &  0 &  0 &  0 &  0 &  0 &   0 &   0 &   0 &   0 &   0 &   0 &  0 &   0 &  0 &  0 &  0 &  0 &  0 &  0 &   0 &   0 &   0 &  0 &  0 &   0 &  0 &  0 &  0 &  0 &  0 &  0 &  0 &  0 &  0 &  0 &  0 &  0 &   0 &  0 &  0 &  0 &  0 &  0 &  0 &  0 &   0 &   0 &   0 &   0 &   0 &   0 &   0 &   0 &   0 &   0 &   0 &    0 &   0 &   0 &   0 &   0 &   0 &   0 &   0 &   0 &   0 &   0 &    0 &   0 &   0 &   0 &   0 &  0 &   0 &   0 &   0 &   0 &    0 &   0 &   0 &   0 &   0 &   0 &   0 &   0 &   0 &   0 &    0 &    0 &   0 &   0 &   0 &    0 &   0 &   0 &   0 &   0 &    0 &   0 &   0 &   0 &  0 &   0 &   0 &    0 &  0 &   0 &   0 &   0 &   0 &   0 &   0 &  0 &   0 &   0 &   0 &   0 &   0 &   0 &  0 &   0 &   0 &  0 &   0 &  0 &    0 &  0 &  0 &    0 &   0 &   0 &    0 &   0 &  0 &   0 &  0 &   0 &   0 &   0 &   0 &   0 &  0 &   0 &  0 &  0 &  0 &  0 &  0 &   0 &  0 &  0 &  0 &   0 &   0 &  0 &   0 &   0 &  0 &   0 &  0\\\\\n",
       "\tAeromonas &   0 &  0 &  0 &   0 &  0 &  0 &  0 &  0 &  0 &   0 &  0 &  0 &  0 &   0 &  0 &  0 &  0 &   0 &  0 &  0 &  0 &   0 &  0 &   0 &  0 &   0 &  0 &  0 &  0 &  0 &  0 &   0 &   0 &   0 &   0 &   0 &   0 &   0 &   0 &   0 &   0 &  0 &   0 &   0 &    0 &   0 &   0 &   0 &   0 &  0 &  0 &  1 &  0 &  0 &  0 &  0 &  0 &  0 &  0 &  0 &  0 &  0 &  0 &  0 &  0 &  0 &  0 &   0 &   0 &   0 &   0 &   0 &   0 &  0 &   0 &  0 &  0 &  0 &  0 &  0 &  0 &   0 &   0 &   0 &  0 &  0 &   0 &  0 &  0 &  0 &  0 &  0 &  0 &  0 &  0 &  0 &  0 &  0 &  0 &   0 &  0 &  0 &  0 &  0 &  1 &  0 &  0 &   0 &   0 &   0 &   0 &   0 &   0 &   0 &   0 &   0 &   0 &   0 &    0 &   0 &   0 &   0 &   0 &   0 &   0 &   0 &   0 &   0 &   0 &    0 &   0 &   0 &   0 &   0 &  0 &   0 &   0 &   0 &   0 &    0 &   0 &   0 &   0 &   0 &   0 &   0 &   0 &   0 &   0 &    0 &    0 &   0 &   0 &   0 &    0 &   0 &   0 &   0 &   0 &    0 &   0 &   0 &   0 &  0 &   0 &   0 &    0 &  0 &   0 &   0 &   0 &   0 &   0 &   0 &  0 &   0 &   0 &   0 &   0 &   0 &   0 &  0 &   0 &   0 &  0 &   0 &  0 &    0 &  0 &  0 &    0 &   0 &   0 &    0 &   0 &  0 &   0 &  0 &   0 &   0 &   0 &   0 &   0 &  0 &   0 &  0 &  0 &  0 &  0 &  0 &   0 &  0 &  0 &  0 &   0 &   0 &  0 &   0 &   0 &  0 &   0 &  0\\\\\n",
       "\tAkkermansia &  18 & 97 & 67 & 256 & 21 & 16 & 26 & 30 & 19 & 125 & 25 & 36 & 29 & 487 &  7 & 18 & 47 & 252 & 31 & 30 & 18 & 114 & 38 & 152 & 44 & 196 & 36 & 10 &  7 & 92 & 10 & 200 & 399 &  34 & 774 &  14 &  41 &  16 &  41 & 362 & 787 & 12 &  98 &  34 &   31 &  60 &  43 &  54 & 103 &  9 & 11 & 44 & 68 & 75 & 29 &  3 & 37 & 48 & 11 & 43 &  9 &  7 & 25 & 30 & 44 & 51 & 35 &  43 &  27 & 116 &  15 &  88 &  24 & 11 & 231 & 23 & 41 & 24 & 38 & 33 & 30 &  10 & 146 & 388 & 61 & 93 &  15 & 24 &  6 & 51 & 65 & 31 & 15 &  4 &  7 & 52 & 93 & 53 & 12 & 974 & 19 & 44 & 11 &  3 & 55 & 45 & 12 &  22 &  52 & 139 &  47 &  61 &  21 &  95 &  38 &  47 &  23 &  30 & 1068 &  65 & 909 &  20 &  40 &  78 & 265 & 477 &  77 &  25 & 180 & 2506 & 509 &  59 &  37 &  74 & 11 & 101 & 208 &  21 &  38 & 2627 & 418 &  48 &  82 & 585 &  19 &  26 & 156 &  83 & 391 &   16 &   57 &  47 & 110 &  45 &   35 & 164 &  46 &  90 &   6 &   47 & 114 &  28 &  44 & 20 &  52 &  18 & 1214 &  5 & 174 &  27 & 102 &  24 & 132 &  37 & 69 &  20 & 159 &  29 &  38 &  34 &  17 & 33 & 146 &  65 & 93 &  11 &  9 &   18 & 30 & 15 &   19 &  14 &  36 &   24 &  38 & 11 &  35 &  7 &  57 &   6 & 182 &  13 &  65 &  4 &  67 &  6 & 21 & 16 & 14 & 25 &  60 & 44 & 39 & 17 & 189 &  64 & 31 &  12 &  15 & 22 &  75 & 45\\\\\n",
       "\tAlcaligenes faecalis et rel. &   1 &  2 &  3 &   2 &  2 &  2 &  2 &  2 &  2 &   7 &  4 &  4 &  2 &   2 &  1 &  2 &  3 &  11 &  4 & 12 &  4 &   2 &  2 &   2 &  2 &   7 &  6 &  2 &  1 &  1 &  1 &   2 &   2 &   1 &   2 &   1 &   2 &   1 &   1 &   2 &   2 &  1 &   2 &   2 &    2 &   3 &   3 &   2 &   2 &  2 &  3 &  2 &  1 &  3 &  3 &  3 & 11 &  2 & 13 &  6 &  2 &  2 &  9 &  2 &  2 &  2 &  2 &   3 &   3 &   2 &  15 & 129 &   5 &  1 &   8 & 22 &  2 &  2 &  1 &  3 &  4 &   2 &   7 &   7 & 20 &  2 &   2 &  3 &  1 &  4 &  5 & 23 &  2 &  2 &  2 &  4 & 13 & 13 &  5 &   3 &  2 &  2 &  2 &  1 & 33 &  2 &  2 &   2 &   2 &   2 &   2 &   2 &   2 &   3 &   2 &   2 &   2 &   2 &    2 &   2 &   2 &   2 &   2 &   2 &   3 &   2 &   2 &   2 &   3 &    2 &   1 &   2 &   2 &   1 &  2 &   3 &   2 &   1 &   1 &    2 &   1 &   2 &   2 &   1 &   3 &   2 &   2 &   2 &   6 &   16 &    4 &  28 & 187 &   1 &    2 &   5 &  64 &  23 &   2 &    2 &   4 &   2 &   2 & 32 &  36 &   5 &    4 &  2 &   3 &   2 &  33 &   5 &   3 &   2 & 19 &   4 &   2 &   2 & 100 &   5 &   3 &  2 &   1 &   3 & 35 &   4 &  1 &    2 &  2 &  1 &    1 &   2 &   2 &    1 &   2 &  2 &   2 &  2 &   2 &   1 &   2 &   1 &   2 &  2 &   2 &  1 & 32 &  3 &  8 & 58 &  62 &  3 &  2 &  2 &  14 &   9 & 11 &   6 &   5 &  2 &   2 &  3\\\\\n",
       "\tAllistipes et rel. & 336 & 63 & 36 &  96 & 49 & 17 & 47 & 49 & 14 &  31 & 26 & 52 & 20 &  14 & 31 & 52 & 46 & 114 & 68 & 60 & 70 & 105 & 52 & 112 & 26 &  75 & 74 & 18 & 45 & 18 & 50 & 737 & 183 & 142 & 112 & 372 & 369 & 112 & 907 &  28 & 564 & 57 & 276 & 183 & 1033 & 141 & 220 & 453 & 147 & 33 & 58 & 15 & 60 & 45 & 48 & 24 & 33 & 41 & 17 & 40 & 40 & 73 & 50 & 40 & 44 & 17 & 39 & 727 & 111 & 801 & 588 & 488 & 834 & 60 &  49 & 42 & 28 & 58 & 53 & 84 & 27 & 114 &  50 &  52 & 50 & 29 & 100 & 26 & 24 & 30 & 47 & 31 & 20 & 17 & 22 & 26 & 37 & 23 & 16 &  64 & 56 & 64 & 18 & 35 & 24 & 54 & 38 & 105 & 756 & 162 & 456 & 135 & 808 & 236 & 115 & 610 & 596 & 258 &  209 & 219 &  50 & 504 & 725 & 328 &  52 &  40 & 877 & 527 & 747 &  919 &  96 & 140 & 187 & 797 & 90 & 219 &  95 & 592 & 487 &  224 &  68 & 415 & 236 & 709 & 155 & 117 & 100 & 330 & 835 & 1229 & 1620 & 741 & 760 & 572 & 1043 & 451 & 180 & 327 & 210 & 1473 &  79 & 287 & 337 & 68 & 160 & 426 &  923 & 43 & 771 & 546 & 106 & 283 & 492 & 262 & 98 & 555 & 565 & 512 &  92 & 837 & 367 & 34 & 571 & 272 & 84 & 534 & 23 & 1438 & 59 & 65 & 1287 & 255 & 143 & 1241 & 177 & 46 & 225 & 41 & 193 & 135 & 312 & 184 & 381 & 69 & 197 & 32 & 37 & 41 & 30 & 34 & 644 & 38 & 72 & 37 &  99 & 102 & 56 & 105 & 709 & 70 & 160 & 68\\\\\n",
       "\\end{tabular}\n"
      ],
      "text/markdown": [
       "\n",
       "A otu_table: 6 × 222 of type dbl\n",
       "\n",
       "| <!--/--> | Sample-1 | Sample-2 | Sample-3 | Sample-4 | Sample-5 | Sample-6 | Sample-7 | Sample-8 | Sample-9 | Sample-10 | ⋯ | Sample-213 | Sample-214 | Sample-215 | Sample-216 | Sample-217 | Sample-218 | Sample-219 | Sample-220 | Sample-221 | Sample-222 |\n",
       "|---|---|---|---|---|---|---|---|---|---|---|---|---|---|---|---|---|---|---|---|---|---|\n",
       "| Actinomycetaceae |   0 |  1 |  0 |   1 |  0 |  0 |  0 |  0 |  0 |   0 | ⋯ |  0 |  0 |   0 |   0 |  1 |   0 |   0 |  0 |   0 |  0 |\n",
       "| Aerococcus |   0 |  0 |  0 |   0 |  0 |  0 |  0 |  0 |  0 |   0 | ⋯ |  0 |  0 |   0 |   0 |  0 |   0 |   0 |  0 |   0 |  0 |\n",
       "| Aeromonas |   0 |  0 |  0 |   0 |  0 |  0 |  0 |  0 |  0 |   0 | ⋯ |  0 |  0 |   0 |   0 |  0 |   0 |   0 |  0 |   0 |  0 |\n",
       "| Akkermansia |  18 | 97 | 67 | 256 | 21 | 16 | 26 | 30 | 19 | 125 | ⋯ | 39 | 17 | 189 |  64 | 31 |  12 |  15 | 22 |  75 | 45 |\n",
       "| Alcaligenes faecalis et rel. |   1 |  2 |  3 |   2 |  2 |  2 |  2 |  2 |  2 |   7 | ⋯ |  2 |  2 |  14 |   9 | 11 |   6 |   5 |  2 |   2 |  3 |\n",
       "| Allistipes et rel. | 336 | 63 | 36 |  96 | 49 | 17 | 47 | 49 | 14 |  31 | ⋯ | 72 | 37 |  99 | 102 | 56 | 105 | 709 | 70 | 160 | 68 |\n",
       "\n"
      ],
      "text/plain": [
       "                             Sample-1 Sample-2 Sample-3 Sample-4 Sample-5\n",
       "Actinomycetaceae               0       1        0         1       0      \n",
       "Aerococcus                     0       0        0         0       0      \n",
       "Aeromonas                      0       0        0         0       0      \n",
       "Akkermansia                   18      97       67       256      21      \n",
       "Alcaligenes faecalis et rel.   1       2        3         2       2      \n",
       "Allistipes et rel.           336      63       36        96      49      \n",
       "                             Sample-6 Sample-7 Sample-8 Sample-9 Sample-10 ⋯\n",
       "Actinomycetaceae              0        0        0        0         0       ⋯\n",
       "Aerococcus                    0        0        0        0         0       ⋯\n",
       "Aeromonas                     0        0        0        0         0       ⋯\n",
       "Akkermansia                  16       26       30       19       125       ⋯\n",
       "Alcaligenes faecalis et rel.  2        2        2        2         7       ⋯\n",
       "Allistipes et rel.           17       47       49       14        31       ⋯\n",
       "                             Sample-213 Sample-214 Sample-215 Sample-216\n",
       "Actinomycetaceae              0          0           0          0       \n",
       "Aerococcus                    0          0           0          0       \n",
       "Aeromonas                     0          0           0          0       \n",
       "Akkermansia                  39         17         189         64       \n",
       "Alcaligenes faecalis et rel.  2          2          14          9       \n",
       "Allistipes et rel.           72         37          99        102       \n",
       "                             Sample-217 Sample-218 Sample-219 Sample-220\n",
       "Actinomycetaceae              1           0          0         0        \n",
       "Aerococcus                    0           0          0         0        \n",
       "Aeromonas                     0           0          0         0        \n",
       "Akkermansia                  31          12         15        22        \n",
       "Alcaligenes faecalis et rel. 11           6          5         2        \n",
       "Allistipes et rel.           56         105        709        70        \n",
       "                             Sample-221 Sample-222\n",
       "Actinomycetaceae               0         0        \n",
       "Aerococcus                     0         0        \n",
       "Aeromonas                      0         0        \n",
       "Akkermansia                   75        45        \n",
       "Alcaligenes faecalis et rel.   2         3        \n",
       "Allistipes et rel.           160        68        "
      ]
     },
     "metadata": {},
     "output_type": "display_data"
    },
    {
     "data": {
      "text/html": [
       "<table>\n",
       "<caption>A sample_data: 6 × 8</caption>\n",
       "<thead>\n",
       "\t<tr><th></th><th scope=col>subject</th><th scope=col>sex</th><th scope=col>nationality</th><th scope=col>group</th><th scope=col>sample</th><th scope=col>timepoint</th><th scope=col>timepoint.within.group</th><th scope=col>bmi_group</th></tr>\n",
       "\t<tr><th></th><th scope=col>&lt;fct&gt;</th><th scope=col>&lt;fct&gt;</th><th scope=col>&lt;fct&gt;</th><th scope=col>&lt;fct&gt;</th><th scope=col>&lt;chr&gt;</th><th scope=col>&lt;int&gt;</th><th scope=col>&lt;int&gt;</th><th scope=col>&lt;fct&gt;</th></tr>\n",
       "</thead>\n",
       "<tbody>\n",
       "\t<tr><th scope=row>Sample-1</th><td>byn</td><td>male  </td><td>AAM</td><td>DI</td><td>Sample-1</td><td>4</td><td>1</td><td>obese     </td></tr>\n",
       "\t<tr><th scope=row>Sample-2</th><td>nms</td><td>male  </td><td>AFR</td><td>HE</td><td>Sample-2</td><td>2</td><td>1</td><td>lean      </td></tr>\n",
       "\t<tr><th scope=row>Sample-3</th><td>olt</td><td>male  </td><td>AFR</td><td>HE</td><td>Sample-3</td><td>2</td><td>1</td><td>overweight</td></tr>\n",
       "\t<tr><th scope=row>Sample-4</th><td>pku</td><td>female</td><td>AFR</td><td>HE</td><td>Sample-4</td><td>2</td><td>1</td><td>obese     </td></tr>\n",
       "\t<tr><th scope=row>Sample-5</th><td>qjy</td><td>female</td><td>AFR</td><td>HE</td><td>Sample-5</td><td>2</td><td>1</td><td>overweight</td></tr>\n",
       "\t<tr><th scope=row>Sample-6</th><td>riv</td><td>female</td><td>AFR</td><td>HE</td><td>Sample-6</td><td>2</td><td>1</td><td>obese     </td></tr>\n",
       "</tbody>\n",
       "</table>\n"
      ],
      "text/latex": [
       "A sample_data: 6 × 8\n",
       "\\begin{tabular}{r|llllllll}\n",
       "  & subject & sex & nationality & group & sample & timepoint & timepoint.within.group & bmi\\_group\\\\\n",
       "  & <fct> & <fct> & <fct> & <fct> & <chr> & <int> & <int> & <fct>\\\\\n",
       "\\hline\n",
       "\tSample-1 & byn & male   & AAM & DI & Sample-1 & 4 & 1 & obese     \\\\\n",
       "\tSample-2 & nms & male   & AFR & HE & Sample-2 & 2 & 1 & lean      \\\\\n",
       "\tSample-3 & olt & male   & AFR & HE & Sample-3 & 2 & 1 & overweight\\\\\n",
       "\tSample-4 & pku & female & AFR & HE & Sample-4 & 2 & 1 & obese     \\\\\n",
       "\tSample-5 & qjy & female & AFR & HE & Sample-5 & 2 & 1 & overweight\\\\\n",
       "\tSample-6 & riv & female & AFR & HE & Sample-6 & 2 & 1 & obese     \\\\\n",
       "\\end{tabular}\n"
      ],
      "text/markdown": [
       "\n",
       "A sample_data: 6 × 8\n",
       "\n",
       "| <!--/--> | subject &lt;fct&gt; | sex &lt;fct&gt; | nationality &lt;fct&gt; | group &lt;fct&gt; | sample &lt;chr&gt; | timepoint &lt;int&gt; | timepoint.within.group &lt;int&gt; | bmi_group &lt;fct&gt; |\n",
       "|---|---|---|---|---|---|---|---|---|\n",
       "| Sample-1 | byn | male   | AAM | DI | Sample-1 | 4 | 1 | obese      |\n",
       "| Sample-2 | nms | male   | AFR | HE | Sample-2 | 2 | 1 | lean       |\n",
       "| Sample-3 | olt | male   | AFR | HE | Sample-3 | 2 | 1 | overweight |\n",
       "| Sample-4 | pku | female | AFR | HE | Sample-4 | 2 | 1 | obese      |\n",
       "| Sample-5 | qjy | female | AFR | HE | Sample-5 | 2 | 1 | overweight |\n",
       "| Sample-6 | riv | female | AFR | HE | Sample-6 | 2 | 1 | obese      |\n",
       "\n"
      ],
      "text/plain": [
       "         subject sex    nationality group sample   timepoint\n",
       "Sample-1 byn     male   AAM         DI    Sample-1 4        \n",
       "Sample-2 nms     male   AFR         HE    Sample-2 2        \n",
       "Sample-3 olt     male   AFR         HE    Sample-3 2        \n",
       "Sample-4 pku     female AFR         HE    Sample-4 2        \n",
       "Sample-5 qjy     female AFR         HE    Sample-5 2        \n",
       "Sample-6 riv     female AFR         HE    Sample-6 2        \n",
       "         timepoint.within.group bmi_group \n",
       "Sample-1 1                      obese     \n",
       "Sample-2 1                      lean      \n",
       "Sample-3 1                      overweight\n",
       "Sample-4 1                      obese     \n",
       "Sample-5 1                      overweight\n",
       "Sample-6 1                      obese     "
      ]
     },
     "metadata": {},
     "output_type": "display_data"
    },
    {
     "data": {
      "text/html": [
       "<table>\n",
       "<caption>A taxonomyTable: 6 × 3 of type chr</caption>\n",
       "<thead>\n",
       "\t<tr><th></th><th scope=col>Phylum</th><th scope=col>Family</th><th scope=col>Genus</th></tr>\n",
       "</thead>\n",
       "<tbody>\n",
       "\t<tr><th scope=row>Actinomycetaceae</th><td>Actinobacteria </td><td>Actinobacteria </td><td>Actinomycetaceae            </td></tr>\n",
       "\t<tr><th scope=row>Aerococcus</th><td>Firmicutes     </td><td>Bacilli        </td><td>Aerococcus                  </td></tr>\n",
       "\t<tr><th scope=row>Aeromonas</th><td>Proteobacteria </td><td>Proteobacteria </td><td>Aeromonas                   </td></tr>\n",
       "\t<tr><th scope=row>Akkermansia</th><td>Verrucomicrobia</td><td>Verrucomicrobia</td><td>Akkermansia                 </td></tr>\n",
       "\t<tr><th scope=row>Alcaligenes faecalis et rel.</th><td>Proteobacteria </td><td>Proteobacteria </td><td>Alcaligenes faecalis et rel.</td></tr>\n",
       "\t<tr><th scope=row>Allistipes et rel.</th><td>Bacteroidetes  </td><td>Bacteroidetes  </td><td>Allistipes et rel.          </td></tr>\n",
       "</tbody>\n",
       "</table>\n"
      ],
      "text/latex": [
       "A taxonomyTable: 6 × 3 of type chr\n",
       "\\begin{tabular}{r|lll}\n",
       "  & Phylum & Family & Genus\\\\\n",
       "\\hline\n",
       "\tActinomycetaceae & Actinobacteria  & Actinobacteria  & Actinomycetaceae            \\\\\n",
       "\tAerococcus & Firmicutes      & Bacilli         & Aerococcus                  \\\\\n",
       "\tAeromonas & Proteobacteria  & Proteobacteria  & Aeromonas                   \\\\\n",
       "\tAkkermansia & Verrucomicrobia & Verrucomicrobia & Akkermansia                 \\\\\n",
       "\tAlcaligenes faecalis et rel. & Proteobacteria  & Proteobacteria  & Alcaligenes faecalis et rel.\\\\\n",
       "\tAllistipes et rel. & Bacteroidetes   & Bacteroidetes   & Allistipes et rel.          \\\\\n",
       "\\end{tabular}\n"
      ],
      "text/markdown": [
       "\n",
       "A taxonomyTable: 6 × 3 of type chr\n",
       "\n",
       "| <!--/--> | Phylum | Family | Genus |\n",
       "|---|---|---|---|\n",
       "| Actinomycetaceae | Actinobacteria  | Actinobacteria  | Actinomycetaceae             |\n",
       "| Aerococcus | Firmicutes      | Bacilli         | Aerococcus                   |\n",
       "| Aeromonas | Proteobacteria  | Proteobacteria  | Aeromonas                    |\n",
       "| Akkermansia | Verrucomicrobia | Verrucomicrobia | Akkermansia                  |\n",
       "| Alcaligenes faecalis et rel. | Proteobacteria  | Proteobacteria  | Alcaligenes faecalis et rel. |\n",
       "| Allistipes et rel. | Bacteroidetes   | Bacteroidetes   | Allistipes et rel.           |\n",
       "\n"
      ],
      "text/plain": [
       "                             Phylum          Family         \n",
       "Actinomycetaceae             Actinobacteria  Actinobacteria \n",
       "Aerococcus                   Firmicutes      Bacilli        \n",
       "Aeromonas                    Proteobacteria  Proteobacteria \n",
       "Akkermansia                  Verrucomicrobia Verrucomicrobia\n",
       "Alcaligenes faecalis et rel. Proteobacteria  Proteobacteria \n",
       "Allistipes et rel.           Bacteroidetes   Bacteroidetes  \n",
       "                             Genus                       \n",
       "Actinomycetaceae             Actinomycetaceae            \n",
       "Aerococcus                   Aerococcus                  \n",
       "Aeromonas                    Aeromonas                   \n",
       "Akkermansia                  Akkermansia                 \n",
       "Alcaligenes faecalis et rel. Alcaligenes faecalis et rel.\n",
       "Allistipes et rel.           Allistipes et rel.          "
      ]
     },
     "metadata": {},
     "output_type": "display_data"
    }
   ],
   "source": [
    "# Import data\n",
    "data(dietswap)\n",
    "pseq <- dietswap\n",
    "\n",
    "head(otu_table(pseq))\n",
    "head(sample_data(pseq))\n",
    "head(tax_table(pseq))"
   ]
  },
  {
   "cell_type": "markdown",
   "metadata": {},
   "source": [
    "#### Global indicators"
   ]
  },
  {
   "cell_type": "code",
   "execution_count": 5,
   "metadata": {},
   "outputs": [
    {
     "data": {
      "text/plain": [
       "\n",
       "\n",
       "|         | observed|    chao1| diversity_inverse_simpson| diversity_gini_simpson| diversity_shannon| diversity_fisher| diversity_coverage| evenness_camargo| evenness_pielou| evenness_simpson| evenness_evar| evenness_bulla| dominance_dbp| dominance_dmn| dominance_absolute| dominance_relative| dominance_simpson| dominance_core_abundance| dominance_gini| rarity_log_modulo_skewness| rarity_low_abundance| rarity_noncore_abundance| rarity_rare_abundance|\n",
       "|:--------|--------:|--------:|-------------------------:|----------------------:|-----------------:|----------------:|------------------:|----------------:|---------------:|----------------:|-------------:|--------------:|-------------:|-------------:|------------------:|------------------:|-----------------:|------------------------:|--------------:|--------------------------:|--------------------:|------------------------:|---------------------:|\n",
       "|Sample-1 |      104| 114.6667|                  7.561722|              0.8677550|          2.940698|         16.69360|                  4|        0.2014036|       0.6331719|        0.0727089|     0.1709714|      0.3298916|     0.3279347|     0.4297198|               2774|          0.3279347|         0.1322450|                0.9992907|      0.8625360|                   2.057691|            0.0289632|                0.0000000|             0.0000000|\n",
       "|Sample-2 |      110| 121.6364|                  8.102943|              0.8765881|          2.822472|         15.20257|                  3|        0.2261992|       0.6004646|        0.0736631|     0.1334372|      0.2755652|     0.2428626|     0.4656170|               5121|          0.2428626|         0.1234119|                0.9994309|      0.8843695|                   2.057552|            0.0299725|                0.0004268|             0.0004268|\n",
       "|Sample-3 |      103| 107.5000|                  4.291085|              0.7669587|          2.407963|         13.42077|                  2|        0.2109176|       0.5195476|        0.0416610|     0.1373098|      0.2541325|     0.4594744|     0.5603989|              13271|          0.4594744|         0.2330413|                0.9999654|      0.9083094|                   2.052324|            0.0339646|                0.0000000|             0.0000000|\n",
       "|Sample-4 |      105| 112.1429|                  7.930799|              0.8739093|          2.992482|         15.56061|                  4|        0.3422309|       0.6429969|        0.0755314|     0.1711334|      0.3176017|     0.3230653|     0.3957720|               4279|          0.3230653|         0.1260907|                0.9995470|      0.8569405|                   2.051175|            0.0348056|                0.0002265|             0.0002265|\n",
       "|Sample-5 |      103| 110.6818|                  3.170738|              0.6846160|          2.106022|         14.53671|                  1|        0.1407817|       0.4544002|        0.0307839|     0.1661081|      0.2310307|     0.5450144|     0.6317579|               9456|          0.5450144|         0.3153840|                0.9998847|      0.9212609|                   2.059634|            0.0441499|                0.0000000|             0.0000000|\n",
       "|Sample-6 |      105| 113.9091|                  2.953753|              0.6614476|          2.071136|         14.55619|                  1|        0.1709221|       0.4450266|        0.0281310|     0.1625409|      0.2308364|     0.5693811|     0.6430163|              11243|          0.5693811|         0.3385524|                0.9993923|      0.9192203|                   2.059421|            0.0375772|                0.0000506|             0.0000506|"
      ]
     },
     "metadata": {},
     "output_type": "display_data"
    }
   ],
   "source": [
    "tab <- alpha(pseq, index = \"all\")\n",
    "kable(head(tab))"
   ]
  },
  {
   "cell_type": "markdown",
   "metadata": {},
   "source": [
    "#### Alpha diversity"
   ]
  },
  {
   "cell_type": "code",
   "execution_count": 9,
   "metadata": {},
   "outputs": [
    {
     "name": "stderr",
     "output_type": "stream",
     "text": [
      "Observed richness\n",
      "\n",
      "Other forms of richness\n",
      "\n",
      "Diversity\n",
      "\n",
      "Evenness\n",
      "\n",
      "Dominance\n",
      "\n",
      "Rarity\n",
      "\n"
     ]
    },
    {
     "data": {
      "text/plain": [
       "\n",
       "\n",
       "|         | diversity_shannon|\n",
       "|:--------|-----------------:|\n",
       "|Sample-1 |          2.940698|\n",
       "|Sample-2 |          2.822472|\n",
       "|Sample-3 |          2.407963|\n",
       "|Sample-4 |          2.992482|\n",
       "|Sample-5 |          2.106022|\n",
       "|Sample-6 |          2.071136|"
      ]
     },
     "metadata": {},
     "output_type": "display_data"
    }
   ],
   "source": [
    "tab <- alpha(pseq, index = \"diversity_shannon\")\n",
    "kable(head(tab))"
   ]
  }
 ],
 "metadata": {
  "kernelspec": {
   "display_name": "R",
   "language": "R",
   "name": "ir"
  },
  "language_info": {
   "codemirror_mode": "r",
   "file_extension": ".r",
   "mimetype": "text/x-r-source",
   "name": "R",
   "pygments_lexer": "r",
   "version": "3.6.1"
  }
 },
 "nbformat": 4,
 "nbformat_minor": 2
}
