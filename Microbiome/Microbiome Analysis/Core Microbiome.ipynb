{
 "cells": [
  {
   "cell_type": "markdown",
   "metadata": {},
   "source": [
    "#### Prepare"
   ]
  },
  {
   "cell_type": "code",
   "execution_count": null,
   "metadata": {},
   "outputs": [],
   "source": [
    "# Import packages\n",
    "library(\"microbiome\")"
   ]
  },
  {
   "cell_type": "code",
   "execution_count": 2,
   "metadata": {},
   "outputs": [
    {
     "data": {
      "text/html": [
       "<table>\n",
       "<caption>A otu_table: 6 × 44 of type dbl</caption>\n",
       "<thead>\n",
       "\t<tr><th></th><th scope=col>sample-1</th><th scope=col>sample-2</th><th scope=col>sample-3</th><th scope=col>sample-4</th><th scope=col>sample-5</th><th scope=col>sample-6</th><th scope=col>sample-7</th><th scope=col>sample-8</th><th scope=col>sample-9</th><th scope=col>sample-10</th><th scope=col>⋯</th><th scope=col>sample-35</th><th scope=col>sample-36</th><th scope=col>sample-37</th><th scope=col>sample-38</th><th scope=col>sample-39</th><th scope=col>sample-40</th><th scope=col>sample-41</th><th scope=col>sample-42</th><th scope=col>sample-43</th><th scope=col>sample-44</th></tr>\n",
       "</thead>\n",
       "<tbody>\n",
       "\t<tr><th scope=row>Actinomycetaceae</th><td>0.0000000000</td><td>8.035033e-05</td><td>0.0003513703</td><td>0.0001551831</td><td>0.0000000000</td><td>0.0001333452</td><td>0.0004023173</td><td>0.0009081965</td><td>0.0003332716</td><td>0.0007715109</td><td>⋯</td><td>0.0000000000</td><td>0.0000000000</td><td>0.000029107</td><td>0.000000e+00</td><td>0.0004512126</td><td>0.000371927</td><td>0.0000000000</td><td>0.0001779993</td><td>0.0000000000</td><td>2.326555e-04</td></tr>\n",
       "\t<tr><th scope=row>Aerococcus</th><td>0.0002038182</td><td>2.410510e-04</td><td>0.0000780823</td><td>0.0000000000</td><td>0.0005289068</td><td>0.0000000000</td><td>0.0005230126</td><td>0.0007946719</td><td>0.0003332716</td><td>0.0000000000</td><td>⋯</td><td>0.0001734906</td><td>0.0009002147</td><td>0.000291070</td><td>9.289364e-04</td><td>0.0000000000</td><td>0.000000000</td><td>0.0001027257</td><td>0.0001067996</td><td>0.0001884126</td><td>9.306221e-05</td></tr>\n",
       "\t<tr><th scope=row>Aeromonas</th><td>0.0000000000</td><td>6.428026e-04</td><td>0.0004294526</td><td>0.0006983240</td><td>0.0000000000</td><td>0.0000000000</td><td>0.0002816221</td><td>0.0000000000</td><td>0.0003703018</td><td>0.0004466642</td><td>⋯</td><td>0.0004510756</td><td>0.0008655910</td><td>0.000000000</td><td>3.870568e-05</td><td>0.0000000000</td><td>0.000000000</td><td>0.0005821120</td><td>0.0004627981</td><td>0.0002355158</td><td>4.653111e-04</td></tr>\n",
       "\t<tr><th scope=row>Akkermansia</th><td>0.0076092126</td><td>7.472580e-03</td><td>0.0087452175</td><td>0.0069444444</td><td>0.0098051182</td><td>0.0184905325</td><td>0.0143627293</td><td>0.0104442594</td><td>0.0297722644</td><td>0.0135623503</td><td>⋯</td><td>0.0049271339</td><td>0.0079288138</td><td>0.006549074</td><td>9.676420e-03</td><td>0.0554239519</td><td>0.089783167</td><td>0.0083892617</td><td>0.0121395514</td><td>0.0333490344</td><td>1.596017e-02</td></tr>\n",
       "\t<tr><th scope=row>Alcaligenes faecalis et rel.</th><td>0.0000000000</td><td>0.000000e+00</td><td>0.0004684938</td><td>0.0000000000</td><td>0.0000000000</td><td>0.0000000000</td><td>0.0000000000</td><td>0.0000000000</td><td>0.0000000000</td><td>0.0000000000</td><td>⋯</td><td>0.0000000000</td><td>0.0000000000</td><td>0.000000000</td><td>0.000000e+00</td><td>0.0000000000</td><td>0.000000000</td><td>0.0000000000</td><td>0.0000000000</td><td>0.0000000000</td><td>0.000000e+00</td></tr>\n",
       "\t<tr><th scope=row>Allistipes et rel.</th><td>0.0057408791</td><td>4.298743e-03</td><td>0.0075739830</td><td>0.0083798883</td><td>0.0112697831</td><td>0.0138678994</td><td>0.0039829417</td><td>0.0046545069</td><td>0.0016293279</td><td>0.0034921022</td><td>⋯</td><td>0.0063150590</td><td>0.0016273111</td><td>0.008994062</td><td>3.754451e-03</td><td>0.0113179169</td><td>0.009595715</td><td>0.0022599644</td><td>0.0024563902</td><td>0.0085256712</td><td>8.468661e-03</td></tr>\n",
       "</tbody>\n",
       "</table>\n"
      ],
      "text/latex": [
       "A otu_table: 6 × 44 of type dbl\n",
       "\\begin{tabular}{r|llllllllllllllllllllllllllllllllllllllllllll}\n",
       "  & sample-1 & sample-2 & sample-3 & sample-4 & sample-5 & sample-6 & sample-7 & sample-8 & sample-9 & sample-10 & sample-11 & sample-12 & sample-13 & sample-14 & sample-15 & sample-16 & sample-17 & sample-18 & sample-19 & sample-20 & sample-21 & sample-22 & sample-23 & sample-24 & sample-25 & sample-26 & sample-27 & sample-28 & sample-29 & sample-30 & sample-31 & sample-32 & sample-33 & sample-34 & sample-35 & sample-36 & sample-37 & sample-38 & sample-39 & sample-40 & sample-41 & sample-42 & sample-43 & sample-44\\\\\n",
       "\\hline\n",
       "\tActinomycetaceae & 0.0000000000 & 8.035033e-05 & 0.0003513703 & 0.0001551831 & 0.0000000000 & 0.0001333452 & 0.0004023173 & 0.0009081965 & 0.0003332716 & 0.0007715109 & 0.0000000000 & 0.0000000000 & 0.0001912997 & 0.0001919238 & 0.0001361888 & 2.986759e-04 & 3.267025e-04 & 0.0003281917 & 0.0005952887 & 0.0002141175 & 0.0000000000 & 0.0002057444 & 0.0002029386 & 3.871467e-05 & 0.000000e+00 & 0.0000000000 & 0.0001359841 & 9.421815e-05 & 0.000000e+00 & 0.000000e+00 & 0.000000e+00 & 0.0000000000 & 0.000000000 & 8.813679e-05 & 0.0000000000 & 0.0000000000 & 0.000029107 & 0.000000e+00 & 0.0004512126 & 0.000371927 & 0.0000000000 & 0.0001779993 & 0.0000000000 & 2.326555e-04\\\\\n",
       "\tAerococcus & 0.0002038182 & 2.410510e-04 & 0.0000780823 & 0.0000000000 & 0.0005289068 & 0.0000000000 & 0.0005230126 & 0.0007946719 & 0.0003332716 & 0.0000000000 & 0.0002458613 & 0.0000000000 & 0.0004591193 & 0.0006525411 & 0.0000000000 & 6.637242e-05 & 0.000000e+00 & 0.0003281917 & 0.0008504125 & 0.0004639212 & 0.0000000000 & 0.0000000000 & 0.0003652894 & 0.000000e+00 & 4.437989e-04 & 0.0002730216 & 0.0000000000 & 0.000000e+00 & 0.000000e+00 & 0.000000e+00 & 0.000000e+00 & 0.0001508125 & 0.000000000 & 1.762736e-04 & 0.0001734906 & 0.0009002147 & 0.000291070 & 9.289364e-04 & 0.0000000000 & 0.000000000 & 0.0001027257 & 0.0001067996 & 0.0001884126 & 9.306221e-05\\\\\n",
       "\tAeromonas & 0.0000000000 & 6.428026e-04 & 0.0004294526 & 0.0006983240 & 0.0000000000 & 0.0000000000 & 0.0002816221 & 0.0000000000 & 0.0003703018 & 0.0004466642 & 0.0002868382 & 0.0003653969 & 0.0004591193 & 0.0002303086 & 0.0001361888 & 0.000000e+00 & 7.260055e-05 & 0.0000000000 & 0.0014457012 & 0.0011062736 & 0.0000406438 & 0.0002057444 & 0.0000000000 & 5.032907e-04 & 8.069071e-05 & 0.0001560123 & 0.0000000000 & 0.000000e+00 & 4.058771e-05 & 3.762652e-05 & 3.977092e-05 & 0.0000000000 & 0.000000000 & 0.000000e+00 & 0.0004510756 & 0.0008655910 & 0.000000000 & 3.870568e-05 & 0.0000000000 & 0.000000000 & 0.0005821120 & 0.0004627981 & 0.0002355158 & 4.653111e-04\\\\\n",
       "\tAkkermansia & 0.0076092126 & 7.472580e-03 & 0.0087452175 & 0.0069444444 & 0.0098051182 & 0.0184905325 & 0.0143627293 & 0.0104442594 & 0.0297722644 & 0.0135623503 & 0.0292574988 & 0.0296884991 & 0.0085319662 & 0.0104406571 & 0.0037451908 & 4.679255e-03 & 4.512124e-02 & 0.0063997374 & 0.0133514755 & 0.0203768468 & 0.0224760202 & 0.0597070200 & 0.0089292962 & 5.303910e-03 & 8.311143e-03 & 0.0055774406 & 0.0780548832 & 8.061933e-02 & 8.604595e-03 & 1.079881e-02 & 1.769806e-02 & 0.0154959846 & 0.005289438 & 3.378577e-03 & 0.0049271339 & 0.0079288138 & 0.006549074 & 9.676420e-03 & 0.0554239519 & 0.089783167 & 0.0083892617 & 0.0121395514 & 0.0333490344 & 1.596017e-02\\\\\n",
       "\tAlcaligenes faecalis et rel. & 0.0000000000 & 0.000000e+00 & 0.0004684938 & 0.0000000000 & 0.0000000000 & 0.0000000000 & 0.0000000000 & 0.0000000000 & 0.0000000000 & 0.0000000000 & 0.0000000000 & 0.0003197223 & 0.0000000000 & 0.0000000000 & 0.0000000000 & 0.000000e+00 & 0.000000e+00 & 0.0000000000 & 0.0000000000 & 0.0000000000 & 0.0000000000 & 0.0001234466 & 0.0001217631 & 0.000000e+00 & 0.000000e+00 & 0.0000000000 & 0.0002719682 & 9.421815e-05 & 0.000000e+00 & 0.000000e+00 & 0.000000e+00 & 0.0000000000 & 0.000000000 & 0.000000e+00 & 0.0000000000 & 0.0000000000 & 0.000000000 & 0.000000e+00 & 0.0000000000 & 0.000000000 & 0.0000000000 & 0.0000000000 & 0.0000000000 & 0.000000e+00\\\\\n",
       "\tAllistipes et rel. & 0.0057408791 & 4.298743e-03 & 0.0075739830 & 0.0083798883 & 0.0112697831 & 0.0138678994 & 0.0039829417 & 0.0046545069 & 0.0016293279 & 0.0034921022 & 0.0077446320 & 0.0068968667 & 0.0087232659 & 0.0133578996 & 0.0042558987 & 5.674842e-03 & 1.658923e-02 & 0.0118148999 & 0.0105451144 & 0.0130254800 & 0.0063810762 & 0.0109867501 & 0.0140027600 & 1.068525e-02 & 8.593561e-03 & 0.0076446039 & 0.0159917322 & 1.673942e-02 & 1.103986e-02 & 1.651804e-02 & 9.187082e-03 & 0.0086717189 & 0.003766080 & 7.932311e-04 & 0.0063150590 & 0.0016273111 & 0.008994062 & 3.754451e-03 & 0.0113179169 & 0.009595715 & 0.0022599644 & 0.0024563902 & 0.0085256712 & 8.468661e-03\\\\\n",
       "\\end{tabular}\n"
      ],
      "text/markdown": [
       "\n",
       "A otu_table: 6 × 44 of type dbl\n",
       "\n",
       "| <!--/--> | sample-1 | sample-2 | sample-3 | sample-4 | sample-5 | sample-6 | sample-7 | sample-8 | sample-9 | sample-10 | ⋯ | sample-35 | sample-36 | sample-37 | sample-38 | sample-39 | sample-40 | sample-41 | sample-42 | sample-43 | sample-44 |\n",
       "|---|---|---|---|---|---|---|---|---|---|---|---|---|---|---|---|---|---|---|---|---|---|\n",
       "| Actinomycetaceae | 0.0000000000 | 8.035033e-05 | 0.0003513703 | 0.0001551831 | 0.0000000000 | 0.0001333452 | 0.0004023173 | 0.0009081965 | 0.0003332716 | 0.0007715109 | ⋯ | 0.0000000000 | 0.0000000000 | 0.000029107 | 0.000000e+00 | 0.0004512126 | 0.000371927 | 0.0000000000 | 0.0001779993 | 0.0000000000 | 2.326555e-04 |\n",
       "| Aerococcus | 0.0002038182 | 2.410510e-04 | 0.0000780823 | 0.0000000000 | 0.0005289068 | 0.0000000000 | 0.0005230126 | 0.0007946719 | 0.0003332716 | 0.0000000000 | ⋯ | 0.0001734906 | 0.0009002147 | 0.000291070 | 9.289364e-04 | 0.0000000000 | 0.000000000 | 0.0001027257 | 0.0001067996 | 0.0001884126 | 9.306221e-05 |\n",
       "| Aeromonas | 0.0000000000 | 6.428026e-04 | 0.0004294526 | 0.0006983240 | 0.0000000000 | 0.0000000000 | 0.0002816221 | 0.0000000000 | 0.0003703018 | 0.0004466642 | ⋯ | 0.0004510756 | 0.0008655910 | 0.000000000 | 3.870568e-05 | 0.0000000000 | 0.000000000 | 0.0005821120 | 0.0004627981 | 0.0002355158 | 4.653111e-04 |\n",
       "| Akkermansia | 0.0076092126 | 7.472580e-03 | 0.0087452175 | 0.0069444444 | 0.0098051182 | 0.0184905325 | 0.0143627293 | 0.0104442594 | 0.0297722644 | 0.0135623503 | ⋯ | 0.0049271339 | 0.0079288138 | 0.006549074 | 9.676420e-03 | 0.0554239519 | 0.089783167 | 0.0083892617 | 0.0121395514 | 0.0333490344 | 1.596017e-02 |\n",
       "| Alcaligenes faecalis et rel. | 0.0000000000 | 0.000000e+00 | 0.0004684938 | 0.0000000000 | 0.0000000000 | 0.0000000000 | 0.0000000000 | 0.0000000000 | 0.0000000000 | 0.0000000000 | ⋯ | 0.0000000000 | 0.0000000000 | 0.000000000 | 0.000000e+00 | 0.0000000000 | 0.000000000 | 0.0000000000 | 0.0000000000 | 0.0000000000 | 0.000000e+00 |\n",
       "| Allistipes et rel. | 0.0057408791 | 4.298743e-03 | 0.0075739830 | 0.0083798883 | 0.0112697831 | 0.0138678994 | 0.0039829417 | 0.0046545069 | 0.0016293279 | 0.0034921022 | ⋯ | 0.0063150590 | 0.0016273111 | 0.008994062 | 3.754451e-03 | 0.0113179169 | 0.009595715 | 0.0022599644 | 0.0024563902 | 0.0085256712 | 8.468661e-03 |\n",
       "\n"
      ],
      "text/plain": [
       "                             sample-1     sample-2     sample-3    \n",
       "Actinomycetaceae             0.0000000000 8.035033e-05 0.0003513703\n",
       "Aerococcus                   0.0002038182 2.410510e-04 0.0000780823\n",
       "Aeromonas                    0.0000000000 6.428026e-04 0.0004294526\n",
       "Akkermansia                  0.0076092126 7.472580e-03 0.0087452175\n",
       "Alcaligenes faecalis et rel. 0.0000000000 0.000000e+00 0.0004684938\n",
       "Allistipes et rel.           0.0057408791 4.298743e-03 0.0075739830\n",
       "                             sample-4     sample-5     sample-6    \n",
       "Actinomycetaceae             0.0001551831 0.0000000000 0.0001333452\n",
       "Aerococcus                   0.0000000000 0.0005289068 0.0000000000\n",
       "Aeromonas                    0.0006983240 0.0000000000 0.0000000000\n",
       "Akkermansia                  0.0069444444 0.0098051182 0.0184905325\n",
       "Alcaligenes faecalis et rel. 0.0000000000 0.0000000000 0.0000000000\n",
       "Allistipes et rel.           0.0083798883 0.0112697831 0.0138678994\n",
       "                             sample-7     sample-8     sample-9    \n",
       "Actinomycetaceae             0.0004023173 0.0009081965 0.0003332716\n",
       "Aerococcus                   0.0005230126 0.0007946719 0.0003332716\n",
       "Aeromonas                    0.0002816221 0.0000000000 0.0003703018\n",
       "Akkermansia                  0.0143627293 0.0104442594 0.0297722644\n",
       "Alcaligenes faecalis et rel. 0.0000000000 0.0000000000 0.0000000000\n",
       "Allistipes et rel.           0.0039829417 0.0046545069 0.0016293279\n",
       "                             sample-10    ⋯ sample-35    sample-36   \n",
       "Actinomycetaceae             0.0007715109 ⋯ 0.0000000000 0.0000000000\n",
       "Aerococcus                   0.0000000000 ⋯ 0.0001734906 0.0009002147\n",
       "Aeromonas                    0.0004466642 ⋯ 0.0004510756 0.0008655910\n",
       "Akkermansia                  0.0135623503 ⋯ 0.0049271339 0.0079288138\n",
       "Alcaligenes faecalis et rel. 0.0000000000 ⋯ 0.0000000000 0.0000000000\n",
       "Allistipes et rel.           0.0034921022 ⋯ 0.0063150590 0.0016273111\n",
       "                             sample-37   sample-38    sample-39    sample-40  \n",
       "Actinomycetaceae             0.000029107 0.000000e+00 0.0004512126 0.000371927\n",
       "Aerococcus                   0.000291070 9.289364e-04 0.0000000000 0.000000000\n",
       "Aeromonas                    0.000000000 3.870568e-05 0.0000000000 0.000000000\n",
       "Akkermansia                  0.006549074 9.676420e-03 0.0554239519 0.089783167\n",
       "Alcaligenes faecalis et rel. 0.000000000 0.000000e+00 0.0000000000 0.000000000\n",
       "Allistipes et rel.           0.008994062 3.754451e-03 0.0113179169 0.009595715\n",
       "                             sample-41    sample-42    sample-43   \n",
       "Actinomycetaceae             0.0000000000 0.0001779993 0.0000000000\n",
       "Aerococcus                   0.0001027257 0.0001067996 0.0001884126\n",
       "Aeromonas                    0.0005821120 0.0004627981 0.0002355158\n",
       "Akkermansia                  0.0083892617 0.0121395514 0.0333490344\n",
       "Alcaligenes faecalis et rel. 0.0000000000 0.0000000000 0.0000000000\n",
       "Allistipes et rel.           0.0022599644 0.0024563902 0.0085256712\n",
       "                             sample-44   \n",
       "Actinomycetaceae             2.326555e-04\n",
       "Aerococcus                   9.306221e-05\n",
       "Aeromonas                    4.653111e-04\n",
       "Akkermansia                  1.596017e-02\n",
       "Alcaligenes faecalis et rel. 0.000000e+00\n",
       "Allistipes et rel.           8.468661e-03"
      ]
     },
     "metadata": {},
     "output_type": "display_data"
    },
    {
     "data": {
      "text/html": [
       "<table>\n",
       "<caption>A sample_data: 6 × 5</caption>\n",
       "<thead>\n",
       "\t<tr><th></th><th scope=col>time</th><th scope=col>sex</th><th scope=col>subject</th><th scope=col>sample</th><th scope=col>group</th></tr>\n",
       "\t<tr><th></th><th scope=col>&lt;int&gt;</th><th scope=col>&lt;fct&gt;</th><th scope=col>&lt;fct&gt;</th><th scope=col>&lt;chr&gt;</th><th scope=col>&lt;fct&gt;</th></tr>\n",
       "</thead>\n",
       "<tbody>\n",
       "\t<tr><th scope=row>sample-1</th><td>1</td><td>female</td><td>S1</td><td>sample-1</td><td>Placebo</td></tr>\n",
       "\t<tr><th scope=row>sample-2</th><td>2</td><td>female</td><td>S1</td><td>sample-2</td><td>Placebo</td></tr>\n",
       "\t<tr><th scope=row>sample-3</th><td>1</td><td>female</td><td>S2</td><td>sample-3</td><td>Placebo</td></tr>\n",
       "\t<tr><th scope=row>sample-4</th><td>2</td><td>female</td><td>S2</td><td>sample-4</td><td>Placebo</td></tr>\n",
       "\t<tr><th scope=row>sample-5</th><td>1</td><td>female</td><td>S3</td><td>sample-5</td><td>LGG    </td></tr>\n",
       "\t<tr><th scope=row>sample-6</th><td>2</td><td>female</td><td>S3</td><td>sample-6</td><td>LGG    </td></tr>\n",
       "</tbody>\n",
       "</table>\n"
      ],
      "text/latex": [
       "A sample_data: 6 × 5\n",
       "\\begin{tabular}{r|lllll}\n",
       "  & time & sex & subject & sample & group\\\\\n",
       "  & <int> & <fct> & <fct> & <chr> & <fct>\\\\\n",
       "\\hline\n",
       "\tsample-1 & 1 & female & S1 & sample-1 & Placebo\\\\\n",
       "\tsample-2 & 2 & female & S1 & sample-2 & Placebo\\\\\n",
       "\tsample-3 & 1 & female & S2 & sample-3 & Placebo\\\\\n",
       "\tsample-4 & 2 & female & S2 & sample-4 & Placebo\\\\\n",
       "\tsample-5 & 1 & female & S3 & sample-5 & LGG    \\\\\n",
       "\tsample-6 & 2 & female & S3 & sample-6 & LGG    \\\\\n",
       "\\end{tabular}\n"
      ],
      "text/markdown": [
       "\n",
       "A sample_data: 6 × 5\n",
       "\n",
       "| <!--/--> | time &lt;int&gt; | sex &lt;fct&gt; | subject &lt;fct&gt; | sample &lt;chr&gt; | group &lt;fct&gt; |\n",
       "|---|---|---|---|---|---|\n",
       "| sample-1 | 1 | female | S1 | sample-1 | Placebo |\n",
       "| sample-2 | 2 | female | S1 | sample-2 | Placebo |\n",
       "| sample-3 | 1 | female | S2 | sample-3 | Placebo |\n",
       "| sample-4 | 2 | female | S2 | sample-4 | Placebo |\n",
       "| sample-5 | 1 | female | S3 | sample-5 | LGG     |\n",
       "| sample-6 | 2 | female | S3 | sample-6 | LGG     |\n",
       "\n"
      ],
      "text/plain": [
       "         time sex    subject sample   group  \n",
       "sample-1 1    female S1      sample-1 Placebo\n",
       "sample-2 2    female S1      sample-2 Placebo\n",
       "sample-3 1    female S2      sample-3 Placebo\n",
       "sample-4 2    female S2      sample-4 Placebo\n",
       "sample-5 1    female S3      sample-5 LGG    \n",
       "sample-6 2    female S3      sample-6 LGG    "
      ]
     },
     "metadata": {},
     "output_type": "display_data"
    },
    {
     "data": {
      "text/html": [
       "<table>\n",
       "<caption>A taxonomyTable: 6 × 3 of type chr</caption>\n",
       "<thead>\n",
       "\t<tr><th></th><th scope=col>Phylum</th><th scope=col>Family</th><th scope=col>Genus</th></tr>\n",
       "</thead>\n",
       "<tbody>\n",
       "\t<tr><th scope=row>Actinomycetaceae</th><td>Actinobacteria </td><td>Actinobacteria </td><td>Actinomycetaceae            </td></tr>\n",
       "\t<tr><th scope=row>Aerococcus</th><td>Firmicutes     </td><td>Bacilli        </td><td>Aerococcus                  </td></tr>\n",
       "\t<tr><th scope=row>Aeromonas</th><td>Proteobacteria </td><td>Proteobacteria </td><td>Aeromonas                   </td></tr>\n",
       "\t<tr><th scope=row>Akkermansia</th><td>Verrucomicrobia</td><td>Verrucomicrobia</td><td>Akkermansia                 </td></tr>\n",
       "\t<tr><th scope=row>Alcaligenes faecalis et rel.</th><td>Proteobacteria </td><td>Proteobacteria </td><td>Alcaligenes faecalis et rel.</td></tr>\n",
       "\t<tr><th scope=row>Allistipes et rel.</th><td>Bacteroidetes  </td><td>Bacteroidetes  </td><td>Allistipes et rel.          </td></tr>\n",
       "</tbody>\n",
       "</table>\n"
      ],
      "text/latex": [
       "A taxonomyTable: 6 × 3 of type chr\n",
       "\\begin{tabular}{r|lll}\n",
       "  & Phylum & Family & Genus\\\\\n",
       "\\hline\n",
       "\tActinomycetaceae & Actinobacteria  & Actinobacteria  & Actinomycetaceae            \\\\\n",
       "\tAerococcus & Firmicutes      & Bacilli         & Aerococcus                  \\\\\n",
       "\tAeromonas & Proteobacteria  & Proteobacteria  & Aeromonas                   \\\\\n",
       "\tAkkermansia & Verrucomicrobia & Verrucomicrobia & Akkermansia                 \\\\\n",
       "\tAlcaligenes faecalis et rel. & Proteobacteria  & Proteobacteria  & Alcaligenes faecalis et rel.\\\\\n",
       "\tAllistipes et rel. & Bacteroidetes   & Bacteroidetes   & Allistipes et rel.          \\\\\n",
       "\\end{tabular}\n"
      ],
      "text/markdown": [
       "\n",
       "A taxonomyTable: 6 × 3 of type chr\n",
       "\n",
       "| <!--/--> | Phylum | Family | Genus |\n",
       "|---|---|---|---|\n",
       "| Actinomycetaceae | Actinobacteria  | Actinobacteria  | Actinomycetaceae             |\n",
       "| Aerococcus | Firmicutes      | Bacilli         | Aerococcus                   |\n",
       "| Aeromonas | Proteobacteria  | Proteobacteria  | Aeromonas                    |\n",
       "| Akkermansia | Verrucomicrobia | Verrucomicrobia | Akkermansia                  |\n",
       "| Alcaligenes faecalis et rel. | Proteobacteria  | Proteobacteria  | Alcaligenes faecalis et rel. |\n",
       "| Allistipes et rel. | Bacteroidetes   | Bacteroidetes   | Allistipes et rel.           |\n",
       "\n"
      ],
      "text/plain": [
       "                             Phylum          Family         \n",
       "Actinomycetaceae             Actinobacteria  Actinobacteria \n",
       "Aerococcus                   Firmicutes      Bacilli        \n",
       "Aeromonas                    Proteobacteria  Proteobacteria \n",
       "Akkermansia                  Verrucomicrobia Verrucomicrobia\n",
       "Alcaligenes faecalis et rel. Proteobacteria  Proteobacteria \n",
       "Allistipes et rel.           Bacteroidetes   Bacteroidetes  \n",
       "                             Genus                       \n",
       "Actinomycetaceae             Actinomycetaceae            \n",
       "Aerococcus                   Aerococcus                  \n",
       "Aeromonas                    Aeromonas                   \n",
       "Akkermansia                  Akkermansia                 \n",
       "Alcaligenes faecalis et rel. Alcaligenes faecalis et rel.\n",
       "Allistipes et rel.           Allistipes et rel.          "
      ]
     },
     "metadata": {},
     "output_type": "display_data"
    }
   ],
   "source": [
    "# Import data\n",
    "data(peerj32)\n",
    "# Rename the data\n",
    "pseq <- peerj32$phyloseq\n",
    "# Relative abundances\n",
    "pseq.rel <- microbiome::transform(pseq, \"compositional\")\n",
    "\n",
    "head(otu_table(pseq.rel))\n",
    "head(sample_data(pseq.rel))\n",
    "head(tax_table(pseq.rel))"
   ]
  },
  {
   "cell_type": "markdown",
   "metadata": {},
   "source": [
    "#### Prevalence of taxonomic groups"
   ]
  },
  {
   "cell_type": "code",
   "execution_count": 17,
   "metadata": {},
   "outputs": [
    {
     "data": {
      "text/html": [
       "<dl class=dl-horizontal>\n",
       "\t<dt>Uncultured Clostridiales II</dt>\n",
       "\t\t<dd>44</dd>\n",
       "\t<dt>Uncultured Bacteroidetes</dt>\n",
       "\t\t<dd>44</dd>\n",
       "\t<dt>Tannerella et rel.</dt>\n",
       "\t\t<dd>44</dd>\n",
       "\t<dt>Sutterella wadsworthia et rel.</dt>\n",
       "\t\t<dd>44</dd>\n",
       "\t<dt>Subdoligranulum variable at rel.</dt>\n",
       "\t\t<dd>44</dd>\n",
       "\t<dt>Streptococcus mitis et rel.</dt>\n",
       "\t\t<dd>44</dd>\n",
       "</dl>\n"
      ],
      "text/latex": [
       "\\begin{description*}\n",
       "\\item[Uncultured Clostridiales II] 44\n",
       "\\item[Uncultured Bacteroidetes] 44\n",
       "\\item[Tannerella et rel.] 44\n",
       "\\item[Sutterella wadsworthia et rel.] 44\n",
       "\\item[Subdoligranulum variable at rel.] 44\n",
       "\\item[Streptococcus mitis et rel.] 44\n",
       "\\end{description*}\n"
      ],
      "text/markdown": [
       "Uncultured Clostridiales II\n",
       ":   44Uncultured Bacteroidetes\n",
       ":   44Tannerella et rel.\n",
       ":   44Sutterella wadsworthia et rel.\n",
       ":   44Subdoligranulum variable at rel.\n",
       ":   44Streptococcus mitis et rel.\n",
       ":   44\n",
       "\n"
      ],
      "text/plain": [
       "     Uncultured Clostridiales II         Uncultured Bacteroidetes \n",
       "                              44                               44 \n",
       "              Tannerella et rel.   Sutterella wadsworthia et rel. \n",
       "                              44                               44 \n",
       "Subdoligranulum variable at rel.      Streptococcus mitis et rel. \n",
       "                              44                               44 "
      ]
     },
     "metadata": {},
     "output_type": "display_data"
    }
   ],
   "source": [
    "pseq.pre <- prevalence(pseq.rel, detection = 0, sort = TRUE, count = TRUE)\n",
    "\n",
    "head(pseq.pre)"
   ]
  },
  {
   "cell_type": "markdown",
   "metadata": {},
   "source": [
    "#### Core microbiota analysis"
   ]
  },
  {
   "cell_type": "code",
   "execution_count": 16,
   "metadata": {},
   "outputs": [
    {
     "data": {
      "text/plain": [
       "phyloseq-class experiment-level object\n",
       "otu_table()   OTU Table:         [ 103 taxa and 44 samples ]\n",
       "sample_data() Sample Data:       [ 44 samples by 5 sample variables ]\n",
       "tax_table()   Taxonomy Table:    [ 103 taxa by 3 taxonomic ranks ]"
      ]
     },
     "metadata": {},
     "output_type": "display_data"
    }
   ],
   "source": [
    "# Detection means prevalent (number of occurrences / frequency in all samples).\n",
    "# Prevalence means relative abundance.\n",
    "pseq.core <- core(pseq.rel, detection = 0, prevalence = .5)\n",
    "\n",
    "pseq.core"
   ]
  }
 ],
 "metadata": {
  "kernelspec": {
   "display_name": "R",
   "language": "R",
   "name": "ir"
  },
  "language_info": {
   "codemirror_mode": "r",
   "file_extension": ".r",
   "mimetype": "text/x-r-source",
   "name": "R",
   "pygments_lexer": "r",
   "version": "3.6.1"
  }
 },
 "nbformat": 4,
 "nbformat_minor": 2
}
