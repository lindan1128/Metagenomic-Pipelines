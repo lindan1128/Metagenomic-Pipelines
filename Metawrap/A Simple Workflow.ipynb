{
 "cells": [
  {
   "cell_type": "markdown",
   "metadata": {},
   "source": [
    "#### Prepare"
   ]
  },
  {
   "cell_type": "code",
   "execution_count": null,
   "metadata": {},
   "outputs": [],
   "source": [
    "# Create metawrap virtual env\n",
    "conda create -n metawrap python=2.7\n",
    "# Activate metawrap virtual env\n",
    "source activate metawrap\n",
    "# Set channels\n",
    "conda config --add channels defaults\n",
    "conda config --add channels conda-forge\n",
    "conda config --add channels bioconda\n",
    "conda config --add channels ursky\n",
    "conda install -c ursky metawrap-mg"
   ]
  },
  {
   "cell_type": "code",
   "execution_count": null,
   "metadata": {},
   "outputs": [],
   "source": [
    "# Set database\n",
    "# CheckM db\n",
    "mkdir checkm\n",
    "cd checkm\n",
    "wget https://data.ace.uq.edu.au/public/CheckM_databases/checkm_data_2015_01_16.tar.gz\n",
    "tar -xvf *.tar.gz\n",
    "rm *.gz\n",
    "\n",
    "# NCBI_nt v4 db\n",
    "mkdir NCBI_nt && cd NCBI_nt\n",
    "wget -c \"ftp://ftp.ncbi.nlm.nih.gov/blast/db/v4/nt*.tar.gz\"\n",
    "for a in nt*.tar.gz; do tar xzf $a; done\n",
    "\n",
    "# NCBI_tax db\n",
    "mkdir NCBI_tax && cd NCBI_tax\n",
    "wget ftp://ftp.ncbi.nlm.nih.gov/pub/taxonomy/taxdump.tar.gz\n",
    "tar -xvf taxdump.tar.gz\n",
    "\n",
    "# Set paths of db in the config file\n",
    "which config-metawrap"
   ]
  },
  {
   "cell_type": "code",
   "execution_count": null,
   "metadata": {},
   "outputs": [],
   "source": [
    "# Create working directory\n",
    "mkdir metawrap-work\n",
    "cd metawrap-work"
   ]
  },
  {
   "cell_type": "markdown",
   "metadata": {},
   "source": [
    "#### Assembly"
   ]
  },
  {
   "cell_type": "code",
   "execution_count": null,
   "metadata": {},
   "outputs": [],
   "source": [
    "# prepare reads\n",
    "cp /d5/lin/Bee_microbiome/Fq/AB1.nobee_qc_1.fastq ./\n",
    "cp /d5/lin/Bee_microbiome/Fq/AB1.nobee_qc_2.fastq ./"
   ]
  },
  {
   "cell_type": "code",
   "execution_count": null,
   "metadata": {},
   "outputs": [],
   "source": [
    "# assembly (use metahit)\n",
    "metawrap assembly -1 AB1.nobee_qc_1.fastq -2 AB1.nobee_qc_2.fastq --megahit -m 20 -t 20  -o AB1_ASSEMBLY\n",
    "# The contigs are saved in AB1_ASSEMBLY/final_assembly.fasta."
   ]
  },
  {
   "cell_type": "markdown",
   "metadata": {},
   "source": [
    "#### Binning"
   ]
  },
  {
   "cell_type": "code",
   "execution_count": null,
   "metadata": {},
   "outputs": [],
   "source": [
    "# binning using metabat2, maxbin2 and concoct\n",
    "metawrap binning -o INITIAL_BINNING -t 8 -a AB1_ASSEMBLY/final_assembly.fasta --metabat2 --maxbin2 --concoct AB1.nobee_qc_1.fastq AB1.nobee_qc_2.fastq"
   ]
  },
  {
   "cell_type": "markdown",
   "metadata": {},
   "source": [
    "#### Bin refinement"
   ]
  },
  {
   "cell_type": "code",
   "execution_count": null,
   "metadata": {},
   "outputs": [],
   "source": [
    "# bin refinement\n",
    "metawrap bin_refinement -o BIN_REFINEMENT -t 8 -A INITIAL_BINNING/metabat2_bins/ -B INITIAL_BINNING/maxbin2_bins/ -C INITIAL_BINNING/concoct_bins/ -c 50 -x 10"
   ]
  },
  {
   "cell_type": "markdown",
   "metadata": {},
   "source": [
    "#### Quantify bins"
   ]
  },
  {
   "cell_type": "code",
   "execution_count": null,
   "metadata": {},
   "outputs": [],
   "source": [
    "# Quantify bins using salmon\n",
    "metawrap quant_bins -b BIN_REFINEMENT/metawrap_50_10_bins -t 8 -o QUANT_BINS -a AB1_ASSEMBLY/final_assembly.fasta AB1.nobee_qc_1.fastq AB1.nobee_qc_2.fastq"
   ]
  },
  {
   "cell_type": "markdown",
   "metadata": {},
   "source": [
    "#### Reassembly"
   ]
  },
  {
   "cell_type": "code",
   "execution_count": null,
   "metadata": {},
   "outputs": [],
   "source": [
    "# reassembly\n",
    "metawrap reassemble_bins -o BIN_REASSEMBLY -1 AB1.nobee_qc_1.fastq -2 AB1.nobee_qc_2.fastq -t 8 -m 800 -c 50 -x 10 -b BIN_REFINEMENT/metawrap_50_10_bins"
   ]
  },
  {
   "cell_type": "markdown",
   "metadata": {},
   "source": [
    "#### Taxonomy profile"
   ]
  },
  {
   "cell_type": "code",
   "execution_count": null,
   "metadata": {},
   "outputs": [],
   "source": [
    "# bin taxonomy\n",
    "metawrap classify_bins -b BIN_REASSEMBLY/reassembled_bins -o BIN_CLASSIFICATION -t 8"
   ]
  },
  {
   "cell_type": "markdown",
   "metadata": {},
   "source": [
    "#### Functional annotation"
   ]
  },
  {
   "cell_type": "code",
   "execution_count": null,
   "metadata": {},
   "outputs": [],
   "source": [
    "# bin function\n",
    "metaWRAP annotate_bins -o FUNCT_ANNOT -t 8 -b BIN_REASSEMBLY/reassembled_bins/"
   ]
  }
 ],
 "metadata": {
  "kernelspec": {
   "display_name": "Python 3",
   "language": "python",
   "name": "python3"
  },
  "language_info": {
   "codemirror_mode": {
    "name": "ipython",
    "version": 3
   },
   "file_extension": ".py",
   "mimetype": "text/x-python",
   "name": "python",
   "nbconvert_exporter": "python",
   "pygments_lexer": "ipython3",
   "version": "3.7.4"
  }
 },
 "nbformat": 4,
 "nbformat_minor": 2
}
